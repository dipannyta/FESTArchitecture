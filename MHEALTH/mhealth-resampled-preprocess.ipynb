{
 "cells": [
  {
   "cell_type": "code",
   "execution_count": 1,
   "id": "408522a0",
   "metadata": {
    "execution": {
     "iopub.execute_input": "2024-08-27T08:48:36.776408Z",
     "iopub.status.busy": "2024-08-27T08:48:36.776006Z",
     "iopub.status.idle": "2024-08-27T08:48:38.777091Z",
     "shell.execute_reply": "2024-08-27T08:48:38.776180Z"
    },
    "papermill": {
     "duration": 2.0222,
     "end_time": "2024-08-27T08:48:38.779432",
     "exception": false,
     "start_time": "2024-08-27T08:48:36.757232",
     "status": "completed"
    },
    "tags": []
   },
   "outputs": [],
   "source": [
    "import numpy as np\n",
    "import pandas as pd\n",
    "import seaborn as sns\n",
    "import matplotlib.pyplot as plt\n",
    " \n",
    "%matplotlib inline\n",
    "     "
   ]
  },
  {
   "cell_type": "code",
   "execution_count": 2,
   "id": "1aa73b95",
   "metadata": {
    "execution": {
     "iopub.execute_input": "2024-08-27T08:48:38.812826Z",
     "iopub.status.busy": "2024-08-27T08:48:38.811869Z",
     "iopub.status.idle": "2024-08-27T08:48:39.938455Z",
     "shell.execute_reply": "2024-08-27T08:48:39.937432Z"
    },
    "papermill": {
     "duration": 1.14602,
     "end_time": "2024-08-27T08:48:39.941211",
     "exception": false,
     "start_time": "2024-08-27T08:48:38.795191",
     "status": "completed"
    },
    "tags": []
   },
   "outputs": [
    {
     "data": {
      "text/html": [
       "<div>\n",
       "<style scoped>\n",
       "    .dataframe tbody tr th:only-of-type {\n",
       "        vertical-align: middle;\n",
       "    }\n",
       "\n",
       "    .dataframe tbody tr th {\n",
       "        vertical-align: top;\n",
       "    }\n",
       "\n",
       "    .dataframe thead th {\n",
       "        text-align: right;\n",
       "    }\n",
       "</style>\n",
       "<table border=\"1\" class=\"dataframe\">\n",
       "  <thead>\n",
       "    <tr style=\"text-align: right;\">\n",
       "      <th></th>\n",
       "      <th>alx</th>\n",
       "      <th>aly</th>\n",
       "      <th>alz</th>\n",
       "      <th>glx</th>\n",
       "      <th>gly</th>\n",
       "      <th>glz</th>\n",
       "      <th>arx</th>\n",
       "      <th>ary</th>\n",
       "      <th>arz</th>\n",
       "      <th>grx</th>\n",
       "      <th>gry</th>\n",
       "      <th>grz</th>\n",
       "      <th>Activity</th>\n",
       "      <th>subject</th>\n",
       "    </tr>\n",
       "  </thead>\n",
       "  <tbody>\n",
       "    <tr>\n",
       "      <th>0</th>\n",
       "      <td>-0.68636</td>\n",
       "      <td>-5.2902</td>\n",
       "      <td>4.64530</td>\n",
       "      <td>0.13544</td>\n",
       "      <td>-0.83114</td>\n",
       "      <td>-0.13163</td>\n",
       "      <td>-8.4230</td>\n",
       "      <td>-6.6402</td>\n",
       "      <td>2.98050</td>\n",
       "      <td>-0.93922</td>\n",
       "      <td>0.090349</td>\n",
       "      <td>0.219830</td>\n",
       "      <td>0</td>\n",
       "      <td>subject1</td>\n",
       "    </tr>\n",
       "    <tr>\n",
       "      <th>1</th>\n",
       "      <td>1.00030</td>\n",
       "      <td>-7.7902</td>\n",
       "      <td>-6.74410</td>\n",
       "      <td>-0.26531</td>\n",
       "      <td>-0.14447</td>\n",
       "      <td>-1.09820</td>\n",
       "      <td>2.2046</td>\n",
       "      <td>-7.5497</td>\n",
       "      <td>4.02880</td>\n",
       "      <td>-0.21961</td>\n",
       "      <td>-1.080100</td>\n",
       "      <td>0.303880</td>\n",
       "      <td>0</td>\n",
       "      <td>subject8</td>\n",
       "    </tr>\n",
       "    <tr>\n",
       "      <th>2</th>\n",
       "      <td>1.53220</td>\n",
       "      <td>-9.5966</td>\n",
       "      <td>-0.25618</td>\n",
       "      <td>-0.27273</td>\n",
       "      <td>-0.75985</td>\n",
       "      <td>0.63654</td>\n",
       "      <td>-2.5898</td>\n",
       "      <td>-8.5217</td>\n",
       "      <td>3.83430</td>\n",
       "      <td>-0.88431</td>\n",
       "      <td>-0.848050</td>\n",
       "      <td>0.331900</td>\n",
       "      <td>0</td>\n",
       "      <td>subject2</td>\n",
       "    </tr>\n",
       "    <tr>\n",
       "      <th>3</th>\n",
       "      <td>1.78090</td>\n",
       "      <td>-8.5942</td>\n",
       "      <td>-3.97440</td>\n",
       "      <td>-0.41002</td>\n",
       "      <td>-0.55535</td>\n",
       "      <td>-0.78389</td>\n",
       "      <td>-1.0049</td>\n",
       "      <td>-6.8588</td>\n",
       "      <td>2.11540</td>\n",
       "      <td>-0.35686</td>\n",
       "      <td>-0.854210</td>\n",
       "      <td>-0.415950</td>\n",
       "      <td>0</td>\n",
       "      <td>subject4</td>\n",
       "    </tr>\n",
       "    <tr>\n",
       "      <th>4</th>\n",
       "      <td>-0.34940</td>\n",
       "      <td>-9.5201</td>\n",
       "      <td>1.45800</td>\n",
       "      <td>-0.68275</td>\n",
       "      <td>-0.77861</td>\n",
       "      <td>-0.24558</td>\n",
       "      <td>-1.4178</td>\n",
       "      <td>-9.5157</td>\n",
       "      <td>1.43050</td>\n",
       "      <td>-0.12353</td>\n",
       "      <td>-0.967150</td>\n",
       "      <td>-0.497840</td>\n",
       "      <td>0</td>\n",
       "      <td>subject3</td>\n",
       "    </tr>\n",
       "    <tr>\n",
       "      <th>...</th>\n",
       "      <td>...</td>\n",
       "      <td>...</td>\n",
       "      <td>...</td>\n",
       "      <td>...</td>\n",
       "      <td>...</td>\n",
       "      <td>...</td>\n",
       "      <td>...</td>\n",
       "      <td>...</td>\n",
       "      <td>...</td>\n",
       "      <td>...</td>\n",
       "      <td>...</td>\n",
       "      <td>...</td>\n",
       "      <td>...</td>\n",
       "      <td>...</td>\n",
       "    </tr>\n",
       "    <tr>\n",
       "      <th>373190</th>\n",
       "      <td>-2.48730</td>\n",
       "      <td>-19.2330</td>\n",
       "      <td>3.46140</td>\n",
       "      <td>0.61967</td>\n",
       "      <td>-0.33771</td>\n",
       "      <td>-0.82711</td>\n",
       "      <td>-8.2348</td>\n",
       "      <td>-4.9652</td>\n",
       "      <td>2.48090</td>\n",
       "      <td>-0.43725</td>\n",
       "      <td>-1.018500</td>\n",
       "      <td>0.079741</td>\n",
       "      <td>12</td>\n",
       "      <td>subject10</td>\n",
       "    </tr>\n",
       "    <tr>\n",
       "      <th>373191</th>\n",
       "      <td>-21.59100</td>\n",
       "      <td>-19.4370</td>\n",
       "      <td>-6.04190</td>\n",
       "      <td>0.61967</td>\n",
       "      <td>-0.33771</td>\n",
       "      <td>-0.82711</td>\n",
       "      <td>-21.3180</td>\n",
       "      <td>-10.2130</td>\n",
       "      <td>3.65600</td>\n",
       "      <td>-0.43725</td>\n",
       "      <td>-1.018500</td>\n",
       "      <td>0.079741</td>\n",
       "      <td>12</td>\n",
       "      <td>subject10</td>\n",
       "    </tr>\n",
       "    <tr>\n",
       "      <th>373192</th>\n",
       "      <td>7.54330</td>\n",
       "      <td>-19.2450</td>\n",
       "      <td>-2.66800</td>\n",
       "      <td>0.61967</td>\n",
       "      <td>-0.33771</td>\n",
       "      <td>-0.82711</td>\n",
       "      <td>-21.2970</td>\n",
       "      <td>-18.7050</td>\n",
       "      <td>4.46060</td>\n",
       "      <td>-0.43725</td>\n",
       "      <td>-1.018500</td>\n",
       "      <td>0.079741</td>\n",
       "      <td>12</td>\n",
       "      <td>subject10</td>\n",
       "    </tr>\n",
       "    <tr>\n",
       "      <th>373193</th>\n",
       "      <td>3.01420</td>\n",
       "      <td>-19.3340</td>\n",
       "      <td>-7.70740</td>\n",
       "      <td>0.71058</td>\n",
       "      <td>-0.27017</td>\n",
       "      <td>-0.75442</td>\n",
       "      <td>-21.1380</td>\n",
       "      <td>-18.6980</td>\n",
       "      <td>1.15880</td>\n",
       "      <td>-0.42549</td>\n",
       "      <td>-1.037000</td>\n",
       "      <td>0.084052</td>\n",
       "      <td>12</td>\n",
       "      <td>subject10</td>\n",
       "    </tr>\n",
       "    <tr>\n",
       "      <th>373194</th>\n",
       "      <td>-2.36980</td>\n",
       "      <td>-19.3000</td>\n",
       "      <td>-4.23870</td>\n",
       "      <td>0.71058</td>\n",
       "      <td>-0.27017</td>\n",
       "      <td>-0.75442</td>\n",
       "      <td>-21.1730</td>\n",
       "      <td>-14.2910</td>\n",
       "      <td>-0.13123</td>\n",
       "      <td>-0.42549</td>\n",
       "      <td>-1.037000</td>\n",
       "      <td>0.084052</td>\n",
       "      <td>12</td>\n",
       "      <td>subject10</td>\n",
       "    </tr>\n",
       "  </tbody>\n",
       "</table>\n",
       "<p>373195 rows × 14 columns</p>\n",
       "</div>"
      ],
      "text/plain": [
       "             alx      aly      alz      glx      gly      glz      arx  \\\n",
       "0       -0.68636  -5.2902  4.64530  0.13544 -0.83114 -0.13163  -8.4230   \n",
       "1        1.00030  -7.7902 -6.74410 -0.26531 -0.14447 -1.09820   2.2046   \n",
       "2        1.53220  -9.5966 -0.25618 -0.27273 -0.75985  0.63654  -2.5898   \n",
       "3        1.78090  -8.5942 -3.97440 -0.41002 -0.55535 -0.78389  -1.0049   \n",
       "4       -0.34940  -9.5201  1.45800 -0.68275 -0.77861 -0.24558  -1.4178   \n",
       "...          ...      ...      ...      ...      ...      ...      ...   \n",
       "373190  -2.48730 -19.2330  3.46140  0.61967 -0.33771 -0.82711  -8.2348   \n",
       "373191 -21.59100 -19.4370 -6.04190  0.61967 -0.33771 -0.82711 -21.3180   \n",
       "373192   7.54330 -19.2450 -2.66800  0.61967 -0.33771 -0.82711 -21.2970   \n",
       "373193   3.01420 -19.3340 -7.70740  0.71058 -0.27017 -0.75442 -21.1380   \n",
       "373194  -2.36980 -19.3000 -4.23870  0.71058 -0.27017 -0.75442 -21.1730   \n",
       "\n",
       "            ary      arz      grx       gry       grz  Activity    subject  \n",
       "0       -6.6402  2.98050 -0.93922  0.090349  0.219830         0   subject1  \n",
       "1       -7.5497  4.02880 -0.21961 -1.080100  0.303880         0   subject8  \n",
       "2       -8.5217  3.83430 -0.88431 -0.848050  0.331900         0   subject2  \n",
       "3       -6.8588  2.11540 -0.35686 -0.854210 -0.415950         0   subject4  \n",
       "4       -9.5157  1.43050 -0.12353 -0.967150 -0.497840         0   subject3  \n",
       "...         ...      ...      ...       ...       ...       ...        ...  \n",
       "373190  -4.9652  2.48090 -0.43725 -1.018500  0.079741        12  subject10  \n",
       "373191 -10.2130  3.65600 -0.43725 -1.018500  0.079741        12  subject10  \n",
       "373192 -18.7050  4.46060 -0.43725 -1.018500  0.079741        12  subject10  \n",
       "373193 -18.6980  1.15880 -0.42549 -1.037000  0.084052        12  subject10  \n",
       "373194 -14.2910 -0.13123 -0.42549 -1.037000  0.084052        12  subject10  \n",
       "\n",
       "[373195 rows x 14 columns]"
      ]
     },
     "execution_count": 2,
     "metadata": {},
     "output_type": "execute_result"
    }
   ],
   "source": [
    "df = pd.read_csv('/kaggle/input/mhealth-resampled/mhealth_resampled_data.csv')\n",
    "df"
   ]
  },
  {
   "cell_type": "code",
   "execution_count": 3,
   "id": "2f7441aa",
   "metadata": {
    "execution": {
     "iopub.execute_input": "2024-08-27T08:48:39.978558Z",
     "iopub.status.busy": "2024-08-27T08:48:39.978105Z",
     "iopub.status.idle": "2024-08-27T08:48:40.042028Z",
     "shell.execute_reply": "2024-08-27T08:48:40.040757Z"
    },
    "papermill": {
     "duration": 0.085357,
     "end_time": "2024-08-27T08:48:40.044816",
     "exception": false,
     "start_time": "2024-08-27T08:48:39.959459",
     "status": "completed"
    },
    "tags": []
   },
   "outputs": [
    {
     "name": "stdout",
     "output_type": "stream",
     "text": [
      "<class 'pandas.core.frame.DataFrame'>\n",
      "RangeIndex: 373195 entries, 0 to 373194\n",
      "Data columns (total 14 columns):\n",
      " #   Column    Non-Null Count   Dtype  \n",
      "---  ------    --------------   -----  \n",
      " 0   alx       373195 non-null  float64\n",
      " 1   aly       373195 non-null  float64\n",
      " 2   alz       373195 non-null  float64\n",
      " 3   glx       373195 non-null  float64\n",
      " 4   gly       373195 non-null  float64\n",
      " 5   glz       373195 non-null  float64\n",
      " 6   arx       373195 non-null  float64\n",
      " 7   ary       373195 non-null  float64\n",
      " 8   arz       373195 non-null  float64\n",
      " 9   grx       373195 non-null  float64\n",
      " 10  gry       373195 non-null  float64\n",
      " 11  grz       373195 non-null  float64\n",
      " 12  Activity  373195 non-null  int64  \n",
      " 13  subject   373195 non-null  object \n",
      "dtypes: float64(12), int64(1), object(1)\n",
      "memory usage: 39.9+ MB\n"
     ]
    }
   ],
   "source": [
    "df.info()"
   ]
  },
  {
   "cell_type": "code",
   "execution_count": 4,
   "id": "f8a1ed4d",
   "metadata": {
    "execution": {
     "iopub.execute_input": "2024-08-27T08:48:40.079320Z",
     "iopub.status.busy": "2024-08-27T08:48:40.078939Z",
     "iopub.status.idle": "2024-08-27T08:48:40.127615Z",
     "shell.execute_reply": "2024-08-27T08:48:40.126561Z"
    },
    "papermill": {
     "duration": 0.068829,
     "end_time": "2024-08-27T08:48:40.130105",
     "exception": false,
     "start_time": "2024-08-27T08:48:40.061276",
     "status": "completed"
    },
    "tags": []
   },
   "outputs": [
    {
     "data": {
      "text/plain": [
       "alx         0\n",
       "aly         0\n",
       "alz         0\n",
       "glx         0\n",
       "gly         0\n",
       "glz         0\n",
       "arx         0\n",
       "ary         0\n",
       "arz         0\n",
       "grx         0\n",
       "gry         0\n",
       "grz         0\n",
       "Activity    0\n",
       "subject     0\n",
       "dtype: int64"
      ]
     },
     "execution_count": 4,
     "metadata": {},
     "output_type": "execute_result"
    }
   ],
   "source": [
    "df.isnull().sum()"
   ]
  },
  {
   "cell_type": "code",
   "execution_count": 5,
   "id": "275b445a",
   "metadata": {
    "execution": {
     "iopub.execute_input": "2024-08-27T08:48:40.165238Z",
     "iopub.status.busy": "2024-08-27T08:48:40.164302Z",
     "iopub.status.idle": "2024-08-27T08:48:40.472775Z",
     "shell.execute_reply": "2024-08-27T08:48:40.471919Z"
    },
    "papermill": {
     "duration": 0.328459,
     "end_time": "2024-08-27T08:48:40.475172",
     "exception": false,
     "start_time": "2024-08-27T08:48:40.146713",
     "status": "completed"
    },
    "tags": []
   },
   "outputs": [],
   "source": [
    "df = df.drop(df[df.duplicated(keep = 'first')].index, axis=0)"
   ]
  },
  {
   "cell_type": "code",
   "execution_count": 6,
   "id": "5ae48b82",
   "metadata": {
    "execution": {
     "iopub.execute_input": "2024-08-27T08:48:40.510172Z",
     "iopub.status.busy": "2024-08-27T08:48:40.509436Z",
     "iopub.status.idle": "2024-08-27T08:48:40.521271Z",
     "shell.execute_reply": "2024-08-27T08:48:40.520215Z"
    },
    "papermill": {
     "duration": 0.031998,
     "end_time": "2024-08-27T08:48:40.524218",
     "exception": false,
     "start_time": "2024-08-27T08:48:40.492220",
     "status": "completed"
    },
    "tags": []
   },
   "outputs": [
    {
     "data": {
      "text/plain": [
       "Activity\n",
       "1     30720\n",
       "3     30720\n",
       "2     30720\n",
       "4     30720\n",
       "9     30720\n",
       "11    30720\n",
       "5     30720\n",
       "10    30720\n",
       "0     29540\n",
       "7     29441\n",
       "8     29337\n",
       "6     28315\n",
       "12    10342\n",
       "Name: count, dtype: int64"
      ]
     },
     "execution_count": 6,
     "metadata": {},
     "output_type": "execute_result"
    }
   ],
   "source": [
    "df.Activity.value_counts()"
   ]
  },
  {
   "cell_type": "code",
   "execution_count": 7,
   "id": "fdea0b14",
   "metadata": {
    "execution": {
     "iopub.execute_input": "2024-08-27T08:48:40.565750Z",
     "iopub.status.busy": "2024-08-27T08:48:40.564942Z",
     "iopub.status.idle": "2024-08-27T08:48:40.572658Z",
     "shell.execute_reply": "2024-08-27T08:48:40.570902Z"
    },
    "papermill": {
     "duration": 0.031123,
     "end_time": "2024-08-27T08:48:40.576267",
     "exception": false,
     "start_time": "2024-08-27T08:48:40.545144",
     "status": "completed"
    },
    "tags": []
   },
   "outputs": [],
   "source": [
    "label_map = {\n",
    "    0: 'Nothing',\n",
    "    1: 'Standing still',  \n",
    "    2: 'Sitting and relaxing', \n",
    "    3: 'Lying down',  \n",
    "    4: 'Walking',  \n",
    "    5: 'Climbing stairs',  \n",
    "    6: 'Waist bends forward',\n",
    "    7: 'Frontal elevation of arms', \n",
    "    8: 'Knees bending (crouching)', \n",
    "    9: 'Cycling', \n",
    "    10: 'Jogging', \n",
    "    11: 'Running', \n",
    "    12: 'Jump front & back' \n",
    "}"
   ]
  },
  {
   "cell_type": "code",
   "execution_count": 8,
   "id": "44bbb0f9",
   "metadata": {
    "execution": {
     "iopub.execute_input": "2024-08-27T08:48:40.625293Z",
     "iopub.status.busy": "2024-08-27T08:48:40.624669Z",
     "iopub.status.idle": "2024-08-27T08:48:40.838770Z",
     "shell.execute_reply": "2024-08-27T08:48:40.837383Z"
    },
    "papermill": {
     "duration": 0.241479,
     "end_time": "2024-08-27T08:48:40.841251",
     "exception": false,
     "start_time": "2024-08-27T08:48:40.599772",
     "status": "completed"
    },
    "tags": []
   },
   "outputs": [
    {
     "data": {
      "text/html": [
       "<div>\n",
       "<style scoped>\n",
       "    .dataframe tbody tr th:only-of-type {\n",
       "        vertical-align: middle;\n",
       "    }\n",
       "\n",
       "    .dataframe tbody tr th {\n",
       "        vertical-align: top;\n",
       "    }\n",
       "\n",
       "    .dataframe thead th {\n",
       "        text-align: right;\n",
       "    }\n",
       "</style>\n",
       "<table border=\"1\" class=\"dataframe\">\n",
       "  <thead>\n",
       "    <tr style=\"text-align: right;\">\n",
       "      <th></th>\n",
       "      <th>count</th>\n",
       "      <th>mean</th>\n",
       "      <th>std</th>\n",
       "      <th>min</th>\n",
       "      <th>25%</th>\n",
       "      <th>50%</th>\n",
       "      <th>75%</th>\n",
       "      <th>max</th>\n",
       "    </tr>\n",
       "  </thead>\n",
       "  <tbody>\n",
       "    <tr>\n",
       "      <th>alx</th>\n",
       "      <td>372735.0</td>\n",
       "      <td>1.770455</td>\n",
       "      <td>4.171677</td>\n",
       "      <td>-22.1460</td>\n",
       "      <td>0.158815</td>\n",
       "      <td>1.36550</td>\n",
       "      <td>2.883200</td>\n",
       "      <td>20.0440</td>\n",
       "    </tr>\n",
       "    <tr>\n",
       "      <th>aly</th>\n",
       "      <td>372735.0</td>\n",
       "      <td>-9.128515</td>\n",
       "      <td>5.100531</td>\n",
       "      <td>-19.6190</td>\n",
       "      <td>-10.078000</td>\n",
       "      <td>-9.60640</td>\n",
       "      <td>-7.726200</td>\n",
       "      <td>21.1610</td>\n",
       "    </tr>\n",
       "    <tr>\n",
       "      <th>alz</th>\n",
       "      <td>372735.0</td>\n",
       "      <td>-0.726296</td>\n",
       "      <td>6.354113</td>\n",
       "      <td>-19.3730</td>\n",
       "      <td>-3.368250</td>\n",
       "      <td>0.29895</td>\n",
       "      <td>1.759600</td>\n",
       "      <td>25.0150</td>\n",
       "    </tr>\n",
       "    <tr>\n",
       "      <th>glx</th>\n",
       "      <td>372735.0</td>\n",
       "      <td>0.090230</td>\n",
       "      <td>0.463354</td>\n",
       "      <td>-1.8942</td>\n",
       "      <td>-0.354360</td>\n",
       "      <td>0.18367</td>\n",
       "      <td>0.484230</td>\n",
       "      <td>1.7941</td>\n",
       "    </tr>\n",
       "    <tr>\n",
       "      <th>gly</th>\n",
       "      <td>372735.0</td>\n",
       "      <td>-0.557152</td>\n",
       "      <td>0.427417</td>\n",
       "      <td>-7.7899</td>\n",
       "      <td>-0.810510</td>\n",
       "      <td>-0.69043</td>\n",
       "      <td>-0.493430</td>\n",
       "      <td>2.0038</td>\n",
       "    </tr>\n",
       "    <tr>\n",
       "      <th>glz</th>\n",
       "      <td>372735.0</td>\n",
       "      <td>-0.125316</td>\n",
       "      <td>0.554999</td>\n",
       "      <td>-2.6267</td>\n",
       "      <td>-0.571710</td>\n",
       "      <td>-0.11002</td>\n",
       "      <td>0.349710</td>\n",
       "      <td>2.1022</td>\n",
       "    </tr>\n",
       "    <tr>\n",
       "      <th>arx</th>\n",
       "      <td>372735.0</td>\n",
       "      <td>-3.478782</td>\n",
       "      <td>5.778589</td>\n",
       "      <td>-22.3450</td>\n",
       "      <td>-5.166500</td>\n",
       "      <td>-2.53390</td>\n",
       "      <td>-0.602910</td>\n",
       "      <td>19.8010</td>\n",
       "    </tr>\n",
       "    <tr>\n",
       "      <th>ary</th>\n",
       "      <td>372735.0</td>\n",
       "      <td>-5.783884</td>\n",
       "      <td>6.492916</td>\n",
       "      <td>-18.9720</td>\n",
       "      <td>-9.542600</td>\n",
       "      <td>-7.71190</td>\n",
       "      <td>-2.373100</td>\n",
       "      <td>21.9650</td>\n",
       "    </tr>\n",
       "    <tr>\n",
       "      <th>arz</th>\n",
       "      <td>372735.0</td>\n",
       "      <td>2.383707</td>\n",
       "      <td>4.147354</td>\n",
       "      <td>-18.2390</td>\n",
       "      <td>0.138570</td>\n",
       "      <td>1.83100</td>\n",
       "      <td>5.287100</td>\n",
       "      <td>25.7410</td>\n",
       "    </tr>\n",
       "    <tr>\n",
       "      <th>grx</th>\n",
       "      <td>372735.0</td>\n",
       "      <td>-0.209434</td>\n",
       "      <td>0.547686</td>\n",
       "      <td>-2.2392</td>\n",
       "      <td>-0.686270</td>\n",
       "      <td>-0.30784</td>\n",
       "      <td>0.252940</td>\n",
       "      <td>3.2588</td>\n",
       "    </tr>\n",
       "    <tr>\n",
       "      <th>gry</th>\n",
       "      <td>372735.0</td>\n",
       "      <td>-0.416523</td>\n",
       "      <td>0.547813</td>\n",
       "      <td>-3.5113</td>\n",
       "      <td>-0.837780</td>\n",
       "      <td>-0.59959</td>\n",
       "      <td>-0.053388</td>\n",
       "      <td>1.5565</td>\n",
       "    </tr>\n",
       "    <tr>\n",
       "      <th>grz</th>\n",
       "      <td>372735.0</td>\n",
       "      <td>0.368450</td>\n",
       "      <td>0.522235</td>\n",
       "      <td>-2.3362</td>\n",
       "      <td>-0.056034</td>\n",
       "      <td>0.43534</td>\n",
       "      <td>0.834050</td>\n",
       "      <td>2.6207</td>\n",
       "    </tr>\n",
       "    <tr>\n",
       "      <th>Activity</th>\n",
       "      <td>372735.0</td>\n",
       "      <td>5.680113</td>\n",
       "      <td>3.577336</td>\n",
       "      <td>0.0000</td>\n",
       "      <td>3.000000</td>\n",
       "      <td>6.00000</td>\n",
       "      <td>9.000000</td>\n",
       "      <td>12.0000</td>\n",
       "    </tr>\n",
       "  </tbody>\n",
       "</table>\n",
       "</div>"
      ],
      "text/plain": [
       "             count      mean       std      min        25%      50%       75%  \\\n",
       "alx       372735.0  1.770455  4.171677 -22.1460   0.158815  1.36550  2.883200   \n",
       "aly       372735.0 -9.128515  5.100531 -19.6190 -10.078000 -9.60640 -7.726200   \n",
       "alz       372735.0 -0.726296  6.354113 -19.3730  -3.368250  0.29895  1.759600   \n",
       "glx       372735.0  0.090230  0.463354  -1.8942  -0.354360  0.18367  0.484230   \n",
       "gly       372735.0 -0.557152  0.427417  -7.7899  -0.810510 -0.69043 -0.493430   \n",
       "glz       372735.0 -0.125316  0.554999  -2.6267  -0.571710 -0.11002  0.349710   \n",
       "arx       372735.0 -3.478782  5.778589 -22.3450  -5.166500 -2.53390 -0.602910   \n",
       "ary       372735.0 -5.783884  6.492916 -18.9720  -9.542600 -7.71190 -2.373100   \n",
       "arz       372735.0  2.383707  4.147354 -18.2390   0.138570  1.83100  5.287100   \n",
       "grx       372735.0 -0.209434  0.547686  -2.2392  -0.686270 -0.30784  0.252940   \n",
       "gry       372735.0 -0.416523  0.547813  -3.5113  -0.837780 -0.59959 -0.053388   \n",
       "grz       372735.0  0.368450  0.522235  -2.3362  -0.056034  0.43534  0.834050   \n",
       "Activity  372735.0  5.680113  3.577336   0.0000   3.000000  6.00000  9.000000   \n",
       "\n",
       "              max  \n",
       "alx       20.0440  \n",
       "aly       21.1610  \n",
       "alz       25.0150  \n",
       "glx        1.7941  \n",
       "gly        2.0038  \n",
       "glz        2.1022  \n",
       "arx       19.8010  \n",
       "ary       21.9650  \n",
       "arz       25.7410  \n",
       "grx        3.2588  \n",
       "gry        1.5565  \n",
       "grz        2.6207  \n",
       "Activity  12.0000  "
      ]
     },
     "execution_count": 8,
     "metadata": {},
     "output_type": "execute_result"
    }
   ],
   "source": [
    "df.describe().T"
   ]
  },
  {
   "cell_type": "code",
   "execution_count": 9,
   "id": "509808e4",
   "metadata": {
    "execution": {
     "iopub.execute_input": "2024-08-27T08:48:40.882543Z",
     "iopub.status.busy": "2024-08-27T08:48:40.881487Z",
     "iopub.status.idle": "2024-08-27T08:48:40.905901Z",
     "shell.execute_reply": "2024-08-27T08:48:40.904790Z"
    },
    "papermill": {
     "duration": 0.047022,
     "end_time": "2024-08-27T08:48:40.908578",
     "exception": false,
     "start_time": "2024-08-27T08:48:40.861556",
     "status": "completed"
    },
    "tags": []
   },
   "outputs": [],
   "source": [
    "df1 = df.copy()"
   ]
  },
  {
   "cell_type": "code",
   "execution_count": 10,
   "id": "6c408d45",
   "metadata": {
    "execution": {
     "iopub.execute_input": "2024-08-27T08:48:40.945950Z",
     "iopub.status.busy": "2024-08-27T08:48:40.945553Z",
     "iopub.status.idle": "2024-08-27T08:48:40.966663Z",
     "shell.execute_reply": "2024-08-27T08:48:40.965567Z"
    },
    "papermill": {
     "duration": 0.043219,
     "end_time": "2024-08-27T08:48:40.969771",
     "exception": false,
     "start_time": "2024-08-27T08:48:40.926552",
     "status": "completed"
    },
    "tags": []
   },
   "outputs": [
    {
     "data": {
      "text/html": [
       "<div>\n",
       "<style scoped>\n",
       "    .dataframe tbody tr th:only-of-type {\n",
       "        vertical-align: middle;\n",
       "    }\n",
       "\n",
       "    .dataframe tbody tr th {\n",
       "        vertical-align: top;\n",
       "    }\n",
       "\n",
       "    .dataframe thead th {\n",
       "        text-align: right;\n",
       "    }\n",
       "</style>\n",
       "<table border=\"1\" class=\"dataframe\">\n",
       "  <thead>\n",
       "    <tr style=\"text-align: right;\">\n",
       "      <th></th>\n",
       "      <th>alx</th>\n",
       "      <th>aly</th>\n",
       "      <th>alz</th>\n",
       "      <th>glx</th>\n",
       "      <th>gly</th>\n",
       "      <th>glz</th>\n",
       "      <th>arx</th>\n",
       "      <th>ary</th>\n",
       "      <th>arz</th>\n",
       "      <th>grx</th>\n",
       "      <th>gry</th>\n",
       "      <th>grz</th>\n",
       "      <th>Activity</th>\n",
       "      <th>subject</th>\n",
       "    </tr>\n",
       "  </thead>\n",
       "  <tbody>\n",
       "    <tr>\n",
       "      <th>0</th>\n",
       "      <td>-0.68636</td>\n",
       "      <td>-5.2902</td>\n",
       "      <td>4.64530</td>\n",
       "      <td>0.13544</td>\n",
       "      <td>-0.83114</td>\n",
       "      <td>-0.13163</td>\n",
       "      <td>-8.4230</td>\n",
       "      <td>-6.6402</td>\n",
       "      <td>2.9805</td>\n",
       "      <td>-0.93922</td>\n",
       "      <td>0.090349</td>\n",
       "      <td>0.21983</td>\n",
       "      <td>0</td>\n",
       "      <td>subject1</td>\n",
       "    </tr>\n",
       "    <tr>\n",
       "      <th>1</th>\n",
       "      <td>1.00030</td>\n",
       "      <td>-7.7902</td>\n",
       "      <td>-6.74410</td>\n",
       "      <td>-0.26531</td>\n",
       "      <td>-0.14447</td>\n",
       "      <td>-1.09820</td>\n",
       "      <td>2.2046</td>\n",
       "      <td>-7.5497</td>\n",
       "      <td>4.0288</td>\n",
       "      <td>-0.21961</td>\n",
       "      <td>-1.080100</td>\n",
       "      <td>0.30388</td>\n",
       "      <td>0</td>\n",
       "      <td>subject8</td>\n",
       "    </tr>\n",
       "    <tr>\n",
       "      <th>2</th>\n",
       "      <td>1.53220</td>\n",
       "      <td>-9.5966</td>\n",
       "      <td>-0.25618</td>\n",
       "      <td>-0.27273</td>\n",
       "      <td>-0.75985</td>\n",
       "      <td>0.63654</td>\n",
       "      <td>-2.5898</td>\n",
       "      <td>-8.5217</td>\n",
       "      <td>3.8343</td>\n",
       "      <td>-0.88431</td>\n",
       "      <td>-0.848050</td>\n",
       "      <td>0.33190</td>\n",
       "      <td>0</td>\n",
       "      <td>subject2</td>\n",
       "    </tr>\n",
       "    <tr>\n",
       "      <th>3</th>\n",
       "      <td>1.78090</td>\n",
       "      <td>-8.5942</td>\n",
       "      <td>-3.97440</td>\n",
       "      <td>-0.41002</td>\n",
       "      <td>-0.55535</td>\n",
       "      <td>-0.78389</td>\n",
       "      <td>-1.0049</td>\n",
       "      <td>-6.8588</td>\n",
       "      <td>2.1154</td>\n",
       "      <td>-0.35686</td>\n",
       "      <td>-0.854210</td>\n",
       "      <td>-0.41595</td>\n",
       "      <td>0</td>\n",
       "      <td>subject4</td>\n",
       "    </tr>\n",
       "    <tr>\n",
       "      <th>4</th>\n",
       "      <td>-0.34940</td>\n",
       "      <td>-9.5201</td>\n",
       "      <td>1.45800</td>\n",
       "      <td>-0.68275</td>\n",
       "      <td>-0.77861</td>\n",
       "      <td>-0.24558</td>\n",
       "      <td>-1.4178</td>\n",
       "      <td>-9.5157</td>\n",
       "      <td>1.4305</td>\n",
       "      <td>-0.12353</td>\n",
       "      <td>-0.967150</td>\n",
       "      <td>-0.49784</td>\n",
       "      <td>0</td>\n",
       "      <td>subject3</td>\n",
       "    </tr>\n",
       "  </tbody>\n",
       "</table>\n",
       "</div>"
      ],
      "text/plain": [
       "       alx     aly      alz      glx      gly      glz     arx     ary  \\\n",
       "0 -0.68636 -5.2902  4.64530  0.13544 -0.83114 -0.13163 -8.4230 -6.6402   \n",
       "1  1.00030 -7.7902 -6.74410 -0.26531 -0.14447 -1.09820  2.2046 -7.5497   \n",
       "2  1.53220 -9.5966 -0.25618 -0.27273 -0.75985  0.63654 -2.5898 -8.5217   \n",
       "3  1.78090 -8.5942 -3.97440 -0.41002 -0.55535 -0.78389 -1.0049 -6.8588   \n",
       "4 -0.34940 -9.5201  1.45800 -0.68275 -0.77861 -0.24558 -1.4178 -9.5157   \n",
       "\n",
       "      arz      grx       gry      grz  Activity   subject  \n",
       "0  2.9805 -0.93922  0.090349  0.21983         0  subject1  \n",
       "1  4.0288 -0.21961 -1.080100  0.30388         0  subject8  \n",
       "2  3.8343 -0.88431 -0.848050  0.33190         0  subject2  \n",
       "3  2.1154 -0.35686 -0.854210 -0.41595         0  subject4  \n",
       "4  1.4305 -0.12353 -0.967150 -0.49784         0  subject3  "
      ]
     },
     "execution_count": 10,
     "metadata": {},
     "output_type": "execute_result"
    }
   ],
   "source": [
    "df1.head()"
   ]
  },
  {
   "cell_type": "code",
   "execution_count": 11,
   "id": "6a5f05d2",
   "metadata": {
    "execution": {
     "iopub.execute_input": "2024-08-27T08:48:41.009520Z",
     "iopub.status.busy": "2024-08-27T08:48:41.008585Z",
     "iopub.status.idle": "2024-08-27T08:48:41.016715Z",
     "shell.execute_reply": "2024-08-27T08:48:41.015590Z"
    },
    "papermill": {
     "duration": 0.029735,
     "end_time": "2024-08-27T08:48:41.019178",
     "exception": false,
     "start_time": "2024-08-27T08:48:40.989443",
     "status": "completed"
    },
    "tags": []
   },
   "outputs": [],
   "source": [
    "alx = df1[df1.columns[0]]\n",
    "aly = df1[df1.columns[1]]\n",
    "alz = df1[df1.columns[2]]\n",
    "\n",
    "glx = df1[df1.columns[3]]\n",
    "gly = df1[df1.columns[4]]\n",
    "glz = df1[df1.columns[5]]\n",
    "\n",
    "arx = df1[df1.columns[6]]\n",
    "ary = df1[df1.columns[7]]\n",
    "arz = df1[df1.columns[8]]\n",
    "\n",
    "grx = df1[df1.columns[9]]\n",
    "gry = df1[df1.columns[10]]\n",
    "grz = df1[df1.columns[11]]"
   ]
  },
  {
   "cell_type": "code",
   "execution_count": 12,
   "id": "94f45bcc",
   "metadata": {
    "execution": {
     "iopub.execute_input": "2024-08-27T08:48:41.057009Z",
     "iopub.status.busy": "2024-08-27T08:48:41.056564Z",
     "iopub.status.idle": "2024-08-27T08:48:41.064647Z",
     "shell.execute_reply": "2024-08-27T08:48:41.063566Z"
    },
    "papermill": {
     "duration": 0.029557,
     "end_time": "2024-08-27T08:48:41.066991",
     "exception": false,
     "start_time": "2024-08-27T08:48:41.037434",
     "status": "completed"
    },
    "tags": []
   },
   "outputs": [
    {
     "data": {
      "text/plain": [
       "0   -0.68636\n",
       "1    1.00030\n",
       "2    1.53220\n",
       "3    1.78090\n",
       "4   -0.34940\n",
       "Name: alx, dtype: float64"
      ]
     },
     "execution_count": 12,
     "metadata": {},
     "output_type": "execute_result"
    }
   ],
   "source": [
    "alx.head()"
   ]
  },
  {
   "cell_type": "code",
   "execution_count": 13,
   "id": "8d3e7765",
   "metadata": {
    "execution": {
     "iopub.execute_input": "2024-08-27T08:48:41.103575Z",
     "iopub.status.busy": "2024-08-27T08:48:41.102900Z",
     "iopub.status.idle": "2024-08-27T08:48:41.108003Z",
     "shell.execute_reply": "2024-08-27T08:48:41.106992Z"
    },
    "papermill": {
     "duration": 0.025931,
     "end_time": "2024-08-27T08:48:41.110044",
     "exception": false,
     "start_time": "2024-08-27T08:48:41.084113",
     "status": "completed"
    },
    "tags": []
   },
   "outputs": [],
   "source": [
    "label_y=df1[df1.columns[12]]"
   ]
  },
  {
   "cell_type": "code",
   "execution_count": 14,
   "id": "634057a4",
   "metadata": {
    "execution": {
     "iopub.execute_input": "2024-08-27T08:48:41.146291Z",
     "iopub.status.busy": "2024-08-27T08:48:41.145596Z",
     "iopub.status.idle": "2024-08-27T08:48:41.152732Z",
     "shell.execute_reply": "2024-08-27T08:48:41.151879Z"
    },
    "papermill": {
     "duration": 0.027613,
     "end_time": "2024-08-27T08:48:41.154792",
     "exception": false,
     "start_time": "2024-08-27T08:48:41.127179",
     "status": "completed"
    },
    "tags": []
   },
   "outputs": [
    {
     "data": {
      "text/plain": [
       "0    0\n",
       "1    0\n",
       "2    0\n",
       "3    0\n",
       "4    0\n",
       "Name: Activity, dtype: int64"
      ]
     },
     "execution_count": 14,
     "metadata": {},
     "output_type": "execute_result"
    }
   ],
   "source": [
    "label_y.head()"
   ]
  },
  {
   "cell_type": "code",
   "execution_count": 15,
   "id": "634adaa0",
   "metadata": {
    "execution": {
     "iopub.execute_input": "2024-08-27T08:48:41.192580Z",
     "iopub.status.busy": "2024-08-27T08:48:41.191703Z",
     "iopub.status.idle": "2024-08-27T08:48:41.198683Z",
     "shell.execute_reply": "2024-08-27T08:48:41.197730Z"
    },
    "papermill": {
     "duration": 0.028053,
     "end_time": "2024-08-27T08:48:41.200695",
     "exception": false,
     "start_time": "2024-08-27T08:48:41.172642",
     "status": "completed"
    },
    "tags": []
   },
   "outputs": [],
   "source": [
    "from scipy import stats\n",
    "def create_dataset(X, y, time_steps, step=1):\n",
    "    Xs, ys = [], []\n",
    "    for i in range(0, len(X) - time_steps, step):\n",
    "        x = X.iloc[i:(i + time_steps)].values\n",
    "        labels = y.iloc[i: i + time_steps]\n",
    "        Xs.append(x)\n",
    "        ys.append(stats.mode(labels)[0])\n",
    "    return np.array(Xs), np.array(ys).reshape(-1, 1)"
   ]
  },
  {
   "cell_type": "code",
   "execution_count": 16,
   "id": "e6530b86",
   "metadata": {
    "execution": {
     "iopub.execute_input": "2024-08-27T08:48:41.237283Z",
     "iopub.status.busy": "2024-08-27T08:48:41.236583Z",
     "iopub.status.idle": "2024-08-27T08:49:29.789487Z",
     "shell.execute_reply": "2024-08-27T08:49:29.788406Z"
    },
    "papermill": {
     "duration": 48.590513,
     "end_time": "2024-08-27T08:49:29.808652",
     "exception": false,
     "start_time": "2024-08-27T08:48:41.218139",
     "status": "completed"
    },
    "tags": []
   },
   "outputs": [
    {
     "data": {
      "text/plain": [
       "((7453, 100), (7453, 1))"
      ]
     },
     "execution_count": 16,
     "metadata": {},
     "output_type": "execute_result"
    }
   ],
   "source": [
    "X_alx,y_alx = create_dataset(alx, label_y, 100, step=50)\n",
    "X_alx.shape, y_alx.shape\n",
    "X_aly,y_aly = create_dataset(aly, label_y, 100, step=50)\n",
    "X_aly.shape, y_aly.shape\n",
    "X_alz,y_alz = create_dataset(alz, label_y, 100, step=50)\n",
    "X_alz.shape, y_alz.shape\n",
    "\n",
    "X_glx,y_glx = create_dataset(glx, label_y, 100, step=50)\n",
    "X_glx.shape, y_glx.shape\n",
    "X_gly,y_gly = create_dataset(gly, label_y, 100, step=50)\n",
    "X_gly.shape, y_gly.shape\n",
    "X_glz,y_glz = create_dataset(glz, label_y, 100, step=50)\n",
    "X_glz.shape, y_glz.shape\n",
    "\n",
    "X_arx,y_arx = create_dataset(arx, label_y, 100, step=50)\n",
    "X_arx.shape, y_arx.shape\n",
    "X_ary,y_ary = create_dataset(ary, label_y, 100, step=50)\n",
    "X_ary.shape, y_ary.shape\n",
    "X_arz,y_arz = create_dataset(arz, label_y, 100, step=50)\n",
    "X_arz.shape, y_arz.shape\n",
    "\n",
    "X_grx,y_grx = create_dataset(grx, label_y, 100, step=50)\n",
    "X_grx.shape, y_grx.shape\n",
    "X_gry,y_gry = create_dataset(gry, label_y, 100, step=50)\n",
    "X_gry.shape, y_gry.shape\n",
    "X_grz,y_grz = create_dataset(grz, label_y, 100, step=50)\n",
    "X_grz.shape, y_grz.shape"
   ]
  },
  {
   "cell_type": "code",
   "execution_count": 17,
   "id": "50b8d81a",
   "metadata": {
    "execution": {
     "iopub.execute_input": "2024-08-27T08:49:29.846215Z",
     "iopub.status.busy": "2024-08-27T08:49:29.845451Z",
     "iopub.status.idle": "2024-08-27T08:49:29.851986Z",
     "shell.execute_reply": "2024-08-27T08:49:29.850988Z"
    },
    "papermill": {
     "duration": 0.027961,
     "end_time": "2024-08-27T08:49:29.854064",
     "exception": false,
     "start_time": "2024-08-27T08:49:29.826103",
     "status": "completed"
    },
    "tags": []
   },
   "outputs": [
    {
     "data": {
      "text/plain": [
       "((7453, 100), (7453, 1))"
      ]
     },
     "execution_count": 17,
     "metadata": {},
     "output_type": "execute_result"
    }
   ],
   "source": [
    "X_grx.shape, y_grx.shape"
   ]
  },
  {
   "cell_type": "code",
   "execution_count": 18,
   "id": "00af5750",
   "metadata": {
    "execution": {
     "iopub.execute_input": "2024-08-27T08:49:29.892334Z",
     "iopub.status.busy": "2024-08-27T08:49:29.891339Z",
     "iopub.status.idle": "2024-08-27T08:49:29.898117Z",
     "shell.execute_reply": "2024-08-27T08:49:29.897213Z"
    },
    "papermill": {
     "duration": 0.028299,
     "end_time": "2024-08-27T08:49:29.900473",
     "exception": false,
     "start_time": "2024-08-27T08:49:29.872174",
     "status": "completed"
    },
    "tags": []
   },
   "outputs": [
    {
     "name": "stdout",
     "output_type": "stream",
     "text": [
      "(7453, 100)\n",
      "(7453, 100)\n",
      "(7453, 100)\n",
      "(7453, 100)\n",
      "(7453, 100)\n",
      "(7453, 100)\n",
      "(7453, 100)\n",
      "(7453, 100)\n",
      "(7453, 100)\n",
      "(7453, 100)\n",
      "(7453, 100)\n",
      "(7453, 100)\n"
     ]
    }
   ],
   "source": [
    "print(X_alx.shape)\n",
    "print(X_aly.shape)\n",
    "print(X_alz.shape)\n",
    "\n",
    "print(X_glx.shape)\n",
    "print(X_gly.shape)\n",
    "print(X_glz.shape)\n",
    "\n",
    "print(X_arx.shape)\n",
    "print(X_ary.shape)\n",
    "print(X_arz.shape)\n",
    "\n",
    "print(X_grx.shape)\n",
    "print(X_gry.shape)\n",
    "print(X_grz.shape)\n"
   ]
  },
  {
   "cell_type": "code",
   "execution_count": 19,
   "id": "b57bd899",
   "metadata": {
    "execution": {
     "iopub.execute_input": "2024-08-27T08:49:29.938572Z",
     "iopub.status.busy": "2024-08-27T08:49:29.937840Z",
     "iopub.status.idle": "2024-08-27T08:49:29.953938Z",
     "shell.execute_reply": "2024-08-27T08:49:29.953073Z"
    },
    "papermill": {
     "duration": 0.037471,
     "end_time": "2024-08-27T08:49:29.956229",
     "exception": false,
     "start_time": "2024-08-27T08:49:29.918758",
     "status": "completed"
    },
    "tags": []
   },
   "outputs": [],
   "source": [
    "X_alx_mean=np.mean(X_alx,axis=1)\n",
    "X_aly_mean=np.mean(X_aly,axis=1)\n",
    "X_alz_mean=np.mean(X_alz,axis=1)\n",
    "\n",
    "X_glx_mean=np.mean(X_glx,axis=1)\n",
    "X_gly_mean=np.mean(X_gly,axis=1)\n",
    "X_glz_mean=np.mean(X_glz,axis=1)\n",
    "\n",
    "X_arx_mean=np.mean(X_arx,axis=1)\n",
    "X_ary_mean=np.mean(X_ary,axis=1)\n",
    "X_arz_mean=np.mean(X_arz,axis=1)\n",
    "\n",
    "X_grx_mean=np.mean(X_grx,axis=1)\n",
    "X_gry_mean=np.mean(X_gry,axis=1)\n",
    "X_grz_mean=np.mean(X_grz,axis=1)"
   ]
  },
  {
   "cell_type": "code",
   "execution_count": 20,
   "id": "da97e91b",
   "metadata": {
    "execution": {
     "iopub.execute_input": "2024-08-27T08:49:29.994495Z",
     "iopub.status.busy": "2024-08-27T08:49:29.993756Z",
     "iopub.status.idle": "2024-08-27T08:49:29.999782Z",
     "shell.execute_reply": "2024-08-27T08:49:29.998885Z"
    },
    "papermill": {
     "duration": 0.027311,
     "end_time": "2024-08-27T08:49:30.002055",
     "exception": false,
     "start_time": "2024-08-27T08:49:29.974744",
     "status": "completed"
    },
    "tags": []
   },
   "outputs": [
    {
     "data": {
      "text/plain": [
       "(7453,)"
      ]
     },
     "execution_count": 20,
     "metadata": {},
     "output_type": "execute_result"
    }
   ],
   "source": [
    "X_alx_mean.shape"
   ]
  },
  {
   "cell_type": "code",
   "execution_count": 21,
   "id": "9f4545b3",
   "metadata": {
    "execution": {
     "iopub.execute_input": "2024-08-27T08:49:30.104964Z",
     "iopub.status.busy": "2024-08-27T08:49:30.104181Z",
     "iopub.status.idle": "2024-08-27T08:49:30.111399Z",
     "shell.execute_reply": "2024-08-27T08:49:30.110338Z"
    },
    "papermill": {
     "duration": 0.093763,
     "end_time": "2024-08-27T08:49:30.113525",
     "exception": false,
     "start_time": "2024-08-27T08:49:30.019762",
     "status": "completed"
    },
    "tags": []
   },
   "outputs": [],
   "source": [
    "X_alx_mean=X_alx_mean.reshape(7453,1)  #1\n",
    "X_aly_mean=X_aly_mean.reshape(7453,1)  #2\n",
    "X_alz_mean=X_alz_mean.reshape(7453,1)  #3\n",
    "\n",
    "X_glx_mean=X_glx_mean.reshape(7453,1)  #4\n",
    "X_gly_mean=X_gly_mean.reshape(7453,1)  #5\n",
    "X_glz_mean=X_glz_mean.reshape(7453,1)  #6\n",
    "\n",
    "X_arx_mean=X_arx_mean.reshape(7453,1)  #7\n",
    "X_ary_mean=X_ary_mean.reshape(7453,1)  #8\n",
    "X_arz_mean=X_arz_mean.reshape(7453,1)  #9\n",
    "\n",
    "X_grx_mean=X_grx_mean.reshape(7453,1)  #10\n",
    "X_gry_mean=X_gry_mean.reshape(7453,1)  #11\n",
    "X_grz_mean=X_grz_mean.reshape(7453,1)  #12"
   ]
  },
  {
   "cell_type": "code",
   "execution_count": 22,
   "id": "a9d02ce6",
   "metadata": {
    "execution": {
     "iopub.execute_input": "2024-08-27T08:49:30.150644Z",
     "iopub.status.busy": "2024-08-27T08:49:30.150242Z",
     "iopub.status.idle": "2024-08-27T08:49:30.192927Z",
     "shell.execute_reply": "2024-08-27T08:49:30.192129Z"
    },
    "papermill": {
     "duration": 0.064079,
     "end_time": "2024-08-27T08:49:30.195423",
     "exception": false,
     "start_time": "2024-08-27T08:49:30.131344",
     "status": "completed"
    },
    "tags": []
   },
   "outputs": [],
   "source": [
    "X_alx_std=np.std(X_alx,axis=1) \n",
    "X_aly_std=np.std(X_aly,axis=1) \n",
    "X_alz_std=np.std(X_alz,axis=1)\n",
    "\n",
    "X_glx_std=np.std(X_glx,axis=1) \n",
    "X_gly_std=np.std(X_gly,axis=1) \n",
    "X_glz_std=np.std(X_glz,axis=1)\n",
    "\n",
    "X_arx_std=np.std(X_arx,axis=1) \n",
    "X_ary_std=np.std(X_ary,axis=1) \n",
    "X_arz_std=np.std(X_arz,axis=1)\n",
    "\n",
    "X_grx_std=np.std(X_grx,axis=1) \n",
    "X_gry_std=np.std(X_gry,axis=1) \n",
    "X_grz_std=np.std(X_grz,axis=1)"
   ]
  },
  {
   "cell_type": "code",
   "execution_count": 23,
   "id": "8ffc26a1",
   "metadata": {
    "execution": {
     "iopub.execute_input": "2024-08-27T08:49:30.234121Z",
     "iopub.status.busy": "2024-08-27T08:49:30.233224Z",
     "iopub.status.idle": "2024-08-27T08:49:30.239416Z",
     "shell.execute_reply": "2024-08-27T08:49:30.238497Z"
    },
    "papermill": {
     "duration": 0.02784,
     "end_time": "2024-08-27T08:49:30.241543",
     "exception": false,
     "start_time": "2024-08-27T08:49:30.213703",
     "status": "completed"
    },
    "tags": []
   },
   "outputs": [
    {
     "data": {
      "text/plain": [
       "(7453,)"
      ]
     },
     "execution_count": 23,
     "metadata": {},
     "output_type": "execute_result"
    }
   ],
   "source": [
    "X_alx_std.shape"
   ]
  },
  {
   "cell_type": "code",
   "execution_count": 24,
   "id": "df675618",
   "metadata": {
    "execution": {
     "iopub.execute_input": "2024-08-27T08:49:30.280010Z",
     "iopub.status.busy": "2024-08-27T08:49:30.279322Z",
     "iopub.status.idle": "2024-08-27T08:49:30.286607Z",
     "shell.execute_reply": "2024-08-27T08:49:30.285643Z"
    },
    "papermill": {
     "duration": 0.029351,
     "end_time": "2024-08-27T08:49:30.288934",
     "exception": false,
     "start_time": "2024-08-27T08:49:30.259583",
     "status": "completed"
    },
    "tags": []
   },
   "outputs": [],
   "source": [
    "X_alx_std=X_alx_std.reshape(7453,1)  #13\n",
    "X_aly_std=X_aly_std.reshape(7453,1)  #14\n",
    "X_alz_std=X_alz_std.reshape(7453,1)  #15\n",
    "\n",
    "X_glx_std=X_glx_std.reshape(7453,1)  #16\n",
    "X_gly_std=X_gly_std.reshape(7453,1)  #17\n",
    "X_glz_std=X_glz_std.reshape(7453,1)  #18\n",
    "\n",
    "X_arx_std=X_arx_std.reshape(7453,1)  #19\n",
    "X_ary_std=X_ary_std.reshape(7453,1)  #20\n",
    "X_arz_std=X_arz_std.reshape(7453,1)  #21\n",
    "\n",
    "X_grx_std=X_grx_std.reshape(7453,1)  #22\n",
    "X_gry_std=X_gry_std.reshape(7453,1)  #23\n",
    "X_grz_std=X_grz_std.reshape(7453,1)  #24"
   ]
  },
  {
   "cell_type": "code",
   "execution_count": 25,
   "id": "526b7d43",
   "metadata": {
    "execution": {
     "iopub.execute_input": "2024-08-27T08:49:30.326804Z",
     "iopub.status.busy": "2024-08-27T08:49:30.326158Z",
     "iopub.status.idle": "2024-08-27T08:49:30.345624Z",
     "shell.execute_reply": "2024-08-27T08:49:30.344760Z"
    },
    "papermill": {
     "duration": 0.041287,
     "end_time": "2024-08-27T08:49:30.348108",
     "exception": false,
     "start_time": "2024-08-27T08:49:30.306821",
     "status": "completed"
    },
    "tags": []
   },
   "outputs": [],
   "source": [
    "acc_mag_al= np.sqrt(np.square(X_alx)+np.square(X_aly)+np.square(X_aly))\n",
    "acc_mag_ar= np.sqrt(np.square(X_arx)+np.square(X_ary)+np.square(X_ary))"
   ]
  },
  {
   "cell_type": "code",
   "execution_count": 26,
   "id": "30b0eb77",
   "metadata": {
    "execution": {
     "iopub.execute_input": "2024-08-27T08:49:30.386415Z",
     "iopub.status.busy": "2024-08-27T08:49:30.385657Z",
     "iopub.status.idle": "2024-08-27T08:49:30.393775Z",
     "shell.execute_reply": "2024-08-27T08:49:30.392472Z"
    },
    "papermill": {
     "duration": 0.030409,
     "end_time": "2024-08-27T08:49:30.396732",
     "exception": false,
     "start_time": "2024-08-27T08:49:30.366323",
     "status": "completed"
    },
    "tags": []
   },
   "outputs": [
    {
     "data": {
      "text/plain": [
       "((7453, 100), (7453, 100))"
      ]
     },
     "execution_count": 26,
     "metadata": {},
     "output_type": "execute_result"
    }
   ],
   "source": [
    "acc_mag_al.shape, acc_mag_ar.shape"
   ]
  },
  {
   "cell_type": "code",
   "execution_count": 27,
   "id": "fa3930ed",
   "metadata": {
    "execution": {
     "iopub.execute_input": "2024-08-27T08:49:30.444974Z",
     "iopub.status.busy": "2024-08-27T08:49:30.444156Z",
     "iopub.status.idle": "2024-08-27T08:49:30.457076Z",
     "shell.execute_reply": "2024-08-27T08:49:30.456289Z"
    },
    "papermill": {
     "duration": 0.03735,
     "end_time": "2024-08-27T08:49:30.459952",
     "exception": false,
     "start_time": "2024-08-27T08:49:30.422602",
     "status": "completed"
    },
    "tags": []
   },
   "outputs": [],
   "source": [
    "acc_mag_al_mean=np.mean(acc_mag_al,axis=1)  \n",
    "acc_mag_al_std=np.std(acc_mag_al,axis=1)\n",
    "\n",
    "acc_mag_ar_mean=np.mean(acc_mag_ar,axis=1)  \n",
    "acc_mag_ar_std=np.std(acc_mag_ar,axis=1)"
   ]
  },
  {
   "cell_type": "code",
   "execution_count": 28,
   "id": "8e3ea7e7",
   "metadata": {
    "execution": {
     "iopub.execute_input": "2024-08-27T08:49:30.499948Z",
     "iopub.status.busy": "2024-08-27T08:49:30.499106Z",
     "iopub.status.idle": "2024-08-27T08:49:30.504294Z",
     "shell.execute_reply": "2024-08-27T08:49:30.503399Z"
    },
    "papermill": {
     "duration": 0.026343,
     "end_time": "2024-08-27T08:49:30.506247",
     "exception": false,
     "start_time": "2024-08-27T08:49:30.479904",
     "status": "completed"
    },
    "tags": []
   },
   "outputs": [],
   "source": [
    "acc_mag_al_mean=acc_mag_al_mean.reshape(7453,1)   #25\n",
    "acc_mag_al_std=acc_mag_al_std.reshape(7453,1)      #26\n",
    "\n",
    "acc_mag_ar_mean=acc_mag_ar_mean.reshape(7453,1)    #27\n",
    "acc_mag_ar_std=acc_mag_ar_std.reshape(7453,1)      #28"
   ]
  },
  {
   "cell_type": "code",
   "execution_count": 29,
   "id": "f5676867",
   "metadata": {
    "execution": {
     "iopub.execute_input": "2024-08-27T08:49:30.545153Z",
     "iopub.status.busy": "2024-08-27T08:49:30.544290Z",
     "iopub.status.idle": "2024-08-27T08:49:30.550711Z",
     "shell.execute_reply": "2024-08-27T08:49:30.549747Z"
    },
    "papermill": {
     "duration": 0.028069,
     "end_time": "2024-08-27T08:49:30.552880",
     "exception": false,
     "start_time": "2024-08-27T08:49:30.524811",
     "status": "completed"
    },
    "tags": []
   },
   "outputs": [
    {
     "data": {
      "text/plain": [
       "((7453, 1), (7453, 1))"
      ]
     },
     "execution_count": 29,
     "metadata": {},
     "output_type": "execute_result"
    }
   ],
   "source": [
    "acc_mag_al_mean.shape, acc_mag_ar_mean.shape"
   ]
  },
  {
   "cell_type": "code",
   "execution_count": 30,
   "id": "13fe3c21",
   "metadata": {
    "execution": {
     "iopub.execute_input": "2024-08-27T08:49:30.598861Z",
     "iopub.status.busy": "2024-08-27T08:49:30.598089Z",
     "iopub.status.idle": "2024-08-27T08:49:30.668859Z",
     "shell.execute_reply": "2024-08-27T08:49:30.667712Z"
    },
    "papermill": {
     "duration": 0.098093,
     "end_time": "2024-08-27T08:49:30.671548",
     "exception": false,
     "start_time": "2024-08-27T08:49:30.573455",
     "status": "completed"
    },
    "tags": []
   },
   "outputs": [],
   "source": [
    "# Importing mean, absolute from numpy \n",
    "from numpy import mean, absolute \n",
    "#absolute mean deviation\n",
    "absmean_X_alx=absolute(X_alx - mean(X_alx))\n",
    "absmean_X_aly=absolute(X_aly - mean(X_aly))\n",
    "absmean_X_alz=absolute(X_alz - mean(X_alz))\n",
    "\n",
    "absmean_X_glx=absolute(X_glx - mean(X_glx))\n",
    "absmean_X_gly=absolute(X_gly - mean(X_gly))\n",
    "absmean_X_glz=absolute(X_glz - mean(X_glz))\n",
    "\n",
    "absmean_X_arx=absolute(X_arx - mean(X_arx))\n",
    "absmean_X_ary=absolute(X_ary - mean(X_ary))\n",
    "absmean_X_arz=absolute(X_arz - mean(X_arz))\n",
    "\n",
    "absmean_X_grx=absolute(X_grx - mean(X_grx))\n",
    "absmean_X_gry=absolute(X_gry - mean(X_gry))\n",
    "absmean_X_grz=absolute(X_grz - mean(X_grz))"
   ]
  },
  {
   "cell_type": "code",
   "execution_count": 31,
   "id": "9630a110",
   "metadata": {
    "execution": {
     "iopub.execute_input": "2024-08-27T08:49:30.711083Z",
     "iopub.status.busy": "2024-08-27T08:49:30.710687Z",
     "iopub.status.idle": "2024-08-27T08:49:30.767120Z",
     "shell.execute_reply": "2024-08-27T08:49:30.766277Z"
    },
    "papermill": {
     "duration": 0.079518,
     "end_time": "2024-08-27T08:49:30.769751",
     "exception": false,
     "start_time": "2024-08-27T08:49:30.690233",
     "status": "completed"
    },
    "tags": []
   },
   "outputs": [],
   "source": [
    "absmean_X_alx_mean=np.mean(absmean_X_alx,axis=1) \n",
    "absmean_X_aly_mean=np.mean(absmean_X_aly,axis=1) \n",
    "absmean_X_alz_mean=np.mean(absmean_X_alz,axis=1) \n",
    "\n",
    "absmean_X_glx_mean=np.mean(absmean_X_glx,axis=1) \n",
    "absmean_X_gly_mean=np.mean(absmean_X_gly,axis=1) \n",
    "absmean_X_glz_mean=np.mean(absmean_X_glz,axis=1) \n",
    "\n",
    "absmean_X_arx_mean=np.mean(absmean_X_arx,axis=1) \n",
    "absmean_X_ary_mean=np.mean(absmean_X_ary,axis=1) \n",
    "absmean_X_arz_mean=np.mean(absmean_X_arz,axis=1) \n",
    "\n",
    "absmean_X_grx_mean=np.mean(absmean_X_grx,axis=1) \n",
    "absmean_X_gry_mean=np.mean(absmean_X_gry,axis=1) \n",
    "absmean_X_grz_mean=np.mean(absmean_X_grz,axis=1) \n",
    "\n",
    "\n",
    "absmean_X_alx_std=np.std(absmean_X_alx,axis=1) \n",
    "absmean_X_aly_std=np.std(absmean_X_aly,axis=1) \n",
    "absmean_X_alz_std=np.std(absmean_X_alz,axis=1) \n",
    "\n",
    "absmean_X_glx_std=np.std(absmean_X_glx,axis=1) \n",
    "absmean_X_gly_std=np.std(absmean_X_gly,axis=1) \n",
    "absmean_X_glz_std=np.std(absmean_X_glz,axis=1) \n",
    "\n",
    "absmean_X_arx_std=np.std(absmean_X_arx,axis=1) \n",
    "absmean_X_ary_std=np.std(absmean_X_ary,axis=1) \n",
    "absmean_X_arz_std=np.std(absmean_X_arz,axis=1) \n",
    "\n",
    "absmean_X_grx_std=np.std(absmean_X_grx,axis=1) \n",
    "absmean_X_gry_std=np.std(absmean_X_gry,axis=1) \n",
    "absmean_X_grz_std=np.std(absmean_X_grz,axis=1) \n",
    "\n"
   ]
  },
  {
   "cell_type": "code",
   "execution_count": 32,
   "id": "227a6821",
   "metadata": {
    "execution": {
     "iopub.execute_input": "2024-08-27T08:49:30.809283Z",
     "iopub.status.busy": "2024-08-27T08:49:30.808560Z",
     "iopub.status.idle": "2024-08-27T08:49:30.814342Z",
     "shell.execute_reply": "2024-08-27T08:49:30.813488Z"
    },
    "papermill": {
     "duration": 0.028057,
     "end_time": "2024-08-27T08:49:30.816692",
     "exception": false,
     "start_time": "2024-08-27T08:49:30.788635",
     "status": "completed"
    },
    "tags": []
   },
   "outputs": [
    {
     "data": {
      "text/plain": [
       "(7453,)"
      ]
     },
     "execution_count": 32,
     "metadata": {},
     "output_type": "execute_result"
    }
   ],
   "source": [
    "absmean_X_grx_std.shape"
   ]
  },
  {
   "cell_type": "code",
   "execution_count": 33,
   "id": "01dbf15d",
   "metadata": {
    "execution": {
     "iopub.execute_input": "2024-08-27T08:49:30.858609Z",
     "iopub.status.busy": "2024-08-27T08:49:30.858119Z",
     "iopub.status.idle": "2024-08-27T08:49:30.868991Z",
     "shell.execute_reply": "2024-08-27T08:49:30.868008Z"
    },
    "papermill": {
     "duration": 0.035545,
     "end_time": "2024-08-27T08:49:30.871287",
     "exception": false,
     "start_time": "2024-08-27T08:49:30.835742",
     "status": "completed"
    },
    "tags": []
   },
   "outputs": [],
   "source": [
    "absmean_X_alx_mean=absmean_X_alx_mean.reshape(7453,1) #29\n",
    "absmean_X_aly_mean=absmean_X_aly_mean.reshape(7453,1) #30\n",
    "absmean_X_alz_mean=absmean_X_alz_mean.reshape(7453,1) #31 \n",
    "\n",
    "absmean_X_glx_mean=absmean_X_glx_mean.reshape(7453,1) #32\n",
    "absmean_X_gly_mean=absmean_X_gly_mean.reshape(7453,1) #33\n",
    "absmean_X_glz_mean=absmean_X_glz_mean.reshape(7453,1) #34\n",
    "\n",
    "absmean_X_arx_mean=absmean_X_arx_mean.reshape(7453,1) #35\n",
    "absmean_X_ary_mean=absmean_X_ary_mean.reshape(7453,1) #36\n",
    "absmean_X_arz_mean=absmean_X_arz_mean.reshape(7453,1) #37\n",
    "\n",
    "absmean_X_grx_mean=absmean_X_grx_mean.reshape(7453,1) #38\n",
    "absmean_X_gry_mean=absmean_X_gry_mean.reshape(7453,1) #39\n",
    "absmean_X_grz_mean=absmean_X_grz_mean.reshape(7453,1) #40\n",
    "\n",
    "\n",
    "absmean_X_alx_std=absmean_X_alx_std.reshape(7453,1) #41\n",
    "absmean_X_aly_std=absmean_X_aly_std.reshape(7453,1) #42\n",
    "absmean_X_alz_std=absmean_X_alz_std.reshape(7453,1) #43\n",
    "\n",
    "absmean_X_glx_std=absmean_X_glx_std.reshape(7453,1) #44\n",
    "absmean_X_gly_std=absmean_X_gly_std.reshape(7453,1) #45\n",
    "absmean_X_glz_std=absmean_X_glz_std.reshape(7453,1) #46\n",
    "\n",
    "absmean_X_arx_std=absmean_X_arx_std.reshape(7453,1) #47\n",
    "absmean_X_ary_std=absmean_X_ary_std.reshape(7453,1) #48\n",
    "absmean_X_arz_std=absmean_X_arz_std.reshape(7453,1) #49\n",
    "\n",
    "absmean_X_grx_std=absmean_X_grx_std.reshape(7453,1) #50\n",
    "absmean_X_gry_std=absmean_X_gry_std.reshape(7453,1) #51\n",
    "absmean_X_grz_std=absmean_X_grz_std.reshape(7453,1) #52"
   ]
  },
  {
   "cell_type": "code",
   "execution_count": 34,
   "id": "388f0a01",
   "metadata": {
    "execution": {
     "iopub.execute_input": "2024-08-27T08:49:30.914155Z",
     "iopub.status.busy": "2024-08-27T08:49:30.913243Z",
     "iopub.status.idle": "2024-08-27T08:49:30.976347Z",
     "shell.execute_reply": "2024-08-27T08:49:30.975418Z"
    },
    "papermill": {
     "duration": 0.087182,
     "end_time": "2024-08-27T08:49:30.978942",
     "exception": false,
     "start_time": "2024-08-27T08:49:30.891760",
     "status": "completed"
    },
    "tags": []
   },
   "outputs": [],
   "source": [
    "import matplotlib.pyplot as plt\n",
    "from scipy import signal\n",
    "\n",
    "spectra_X_alx=np.zeros((7453,51))\n",
    "spectra_X_aly=np.zeros((7453,51))\n",
    "spectra_X_alz=np.zeros((7453,51))\n",
    "\n",
    "spectra_X_arx=np.zeros((7453,51))\n",
    "spectra_X_ary=np.zeros((7453,51))\n",
    "spectra_X_arz=np.zeros((7453,51))\n",
    "\n",
    "freq_X_alx=np.zeros((7453,51))\n",
    "freq_X_aly=np.zeros((7453,51))\n",
    "freq_X_alz=np.zeros((7453,51))\n",
    "\n",
    "freq_X_arx=np.zeros((7453,51))\n",
    "freq_X_ary=np.zeros((7453,51))\n",
    "freq_X_arz=np.zeros((7453,51))"
   ]
  },
  {
   "cell_type": "code",
   "execution_count": 35,
   "id": "f8b86acd",
   "metadata": {
    "execution": {
     "iopub.execute_input": "2024-08-27T08:49:31.019563Z",
     "iopub.status.busy": "2024-08-27T08:49:31.018623Z",
     "iopub.status.idle": "2024-08-27T08:49:37.353467Z",
     "shell.execute_reply": "2024-08-27T08:49:37.352613Z"
    },
    "papermill": {
     "duration": 6.357889,
     "end_time": "2024-08-27T08:49:37.356163",
     "exception": false,
     "start_time": "2024-08-27T08:49:30.998274",
     "status": "completed"
    },
    "tags": []
   },
   "outputs": [],
   "source": [
    "for i in range(0,7453):\n",
    "    # The suitable value for fs would be 0.25 Hz as the time step is 4 s.\n",
    "    freq_X_alx[i], spectra_X_alx[i] = signal.periodogram(X_alx[i], fs=0.50)\n",
    "\n",
    "    # The suitable value for fs would be 0.25 Hz as the time step is 4 s.\n",
    "    freq_X_aly[i], spectra_X_aly[i] = signal.periodogram(X_aly[i], fs=0.50)\n",
    "\n",
    "    # The suitable value for fs would be 0.25 Hz as the time step is 4 s.\n",
    "    freq_X_alz[i], spectra_X_alz[i] = signal.periodogram(X_alz[i], fs=0.50)\n",
    "    \n",
    "    # The suitable value for fs would be 0.25 Hz as the time step is 4 s.\n",
    "    freq_X_arx[i], spectra_X_arx[i] = signal.periodogram(X_arx[i], fs=0.50)\n",
    "\n",
    "    # The suitable value for fs would be 0.25 Hz as the time step is 4 s.\n",
    "    freq_X_ary[i], spectra_X_ary[i] = signal.periodogram(X_ary[i], fs=0.50)\n",
    "\n",
    "    # The suitable value for fs would be 0.25 Hz as the time step is 4 s.\n",
    "    freq_X_arz[i], spectra_X_arz[i] = signal.periodogram(X_arz[i], fs=0.50)"
   ]
  },
  {
   "cell_type": "code",
   "execution_count": 36,
   "id": "7baefaf6",
   "metadata": {
    "execution": {
     "iopub.execute_input": "2024-08-27T08:49:37.396534Z",
     "iopub.status.busy": "2024-08-27T08:49:37.395787Z",
     "iopub.status.idle": "2024-08-27T08:49:37.407306Z",
     "shell.execute_reply": "2024-08-27T08:49:37.406485Z"
    },
    "papermill": {
     "duration": 0.034463,
     "end_time": "2024-08-27T08:49:37.409666",
     "exception": false,
     "start_time": "2024-08-27T08:49:37.375203",
     "status": "completed"
    },
    "tags": []
   },
   "outputs": [],
   "source": [
    "# peak height in the power spectrum is an estimate of the RMS amplitude.\n",
    "ph_RMS_amp_X_alx = np.sqrt(np.amax(spectra_X_alx,axis=1))\n",
    "ph_RMS_amp_X_aly = np.sqrt(np.amax(spectra_X_aly,axis=1))\n",
    "ph_RMS_amp_X_alz = np.sqrt(np.amax(spectra_X_alz,axis=1))\n",
    "\n",
    "ph_RMS_amp_X_arx = np.sqrt(np.amax(spectra_X_arx,axis=1))\n",
    "ph_RMS_amp_X_ary = np.sqrt(np.amax(spectra_X_ary,axis=1))\n",
    "ph_RMS_amp_X_arz = np.sqrt(np.amax(spectra_X_arz,axis=1))"
   ]
  },
  {
   "cell_type": "code",
   "execution_count": 37,
   "id": "253eb25c",
   "metadata": {
    "execution": {
     "iopub.execute_input": "2024-08-27T08:49:37.450586Z",
     "iopub.status.busy": "2024-08-27T08:49:37.450108Z",
     "iopub.status.idle": "2024-08-27T08:49:37.456436Z",
     "shell.execute_reply": "2024-08-27T08:49:37.455532Z"
    },
    "papermill": {
     "duration": 0.029258,
     "end_time": "2024-08-27T08:49:37.458523",
     "exception": false,
     "start_time": "2024-08-27T08:49:37.429265",
     "status": "completed"
    },
    "tags": []
   },
   "outputs": [
    {
     "data": {
      "text/plain": [
       "(7453,)"
      ]
     },
     "execution_count": 37,
     "metadata": {},
     "output_type": "execute_result"
    }
   ],
   "source": [
    "ph_RMS_amp_X_alx.shape"
   ]
  },
  {
   "cell_type": "code",
   "execution_count": 38,
   "id": "e14173bc",
   "metadata": {
    "execution": {
     "iopub.execute_input": "2024-08-27T08:49:37.499535Z",
     "iopub.status.busy": "2024-08-27T08:49:37.498858Z",
     "iopub.status.idle": "2024-08-27T08:49:37.504834Z",
     "shell.execute_reply": "2024-08-27T08:49:37.503902Z"
    },
    "papermill": {
     "duration": 0.028938,
     "end_time": "2024-08-27T08:49:37.506864",
     "exception": false,
     "start_time": "2024-08-27T08:49:37.477926",
     "status": "completed"
    },
    "tags": []
   },
   "outputs": [],
   "source": [
    "ph_RMS_amp_X_alx = ph_RMS_amp_X_alx.reshape(7453,1) #53\n",
    "ph_RMS_amp_X_aly = ph_RMS_amp_X_aly.reshape(7453,1) #54\n",
    "ph_RMS_amp_X_alz = ph_RMS_amp_X_alz.reshape(7453,1) #55\n",
    "\n",
    "ph_RMS_amp_X_arx = ph_RMS_amp_X_arx.reshape(7453,1) #56\n",
    "ph_RMS_amp_X_ary = ph_RMS_amp_X_ary.reshape(7453,1) #57\n",
    "ph_RMS_amp_X_arz = ph_RMS_amp_X_arz.reshape(7453,1) #58"
   ]
  },
  {
   "cell_type": "code",
   "execution_count": 39,
   "id": "2b441c40",
   "metadata": {
    "execution": {
     "iopub.execute_input": "2024-08-27T08:49:37.546525Z",
     "iopub.status.busy": "2024-08-27T08:49:37.545831Z",
     "iopub.status.idle": "2024-08-27T08:49:37.551716Z",
     "shell.execute_reply": "2024-08-27T08:49:37.550854Z"
    },
    "papermill": {
     "duration": 0.027846,
     "end_time": "2024-08-27T08:49:37.553763",
     "exception": false,
     "start_time": "2024-08-27T08:49:37.525917",
     "status": "completed"
    },
    "tags": []
   },
   "outputs": [
    {
     "data": {
      "text/plain": [
       "(7453, 1)"
      ]
     },
     "execution_count": 39,
     "metadata": {},
     "output_type": "execute_result"
    }
   ],
   "source": [
    "ph_RMS_amp_X_alx.shape"
   ]
  },
  {
   "cell_type": "code",
   "execution_count": 40,
   "id": "db38c0fd",
   "metadata": {
    "execution": {
     "iopub.execute_input": "2024-08-27T08:49:37.592700Z",
     "iopub.status.busy": "2024-08-27T08:49:37.592044Z",
     "iopub.status.idle": "2024-08-27T08:49:37.600324Z",
     "shell.execute_reply": "2024-08-27T08:49:37.599396Z"
    },
    "papermill": {
     "duration": 0.029955,
     "end_time": "2024-08-27T08:49:37.602406",
     "exception": false,
     "start_time": "2024-08-27T08:49:37.572451",
     "status": "completed"
    },
    "tags": []
   },
   "outputs": [],
   "source": [
    "spectra_X_glx=np.zeros((7453,51))\n",
    "spectra_X_gly=np.zeros((7453,51))\n",
    "spectra_X_glz=np.zeros((7453,51))\n",
    "\n",
    "spectra_X_grx=np.zeros((7453,51))\n",
    "spectra_X_gry=np.zeros((7453,51))\n",
    "spectra_X_grz=np.zeros((7453,51))\n",
    "\n",
    "freq_X_glx=np.zeros((7453,51))\n",
    "freq_X_gly=np.zeros((7453,51))\n",
    "freq_X_glz=np.zeros((7453,51))\n",
    "\n",
    "freq_X_grx=np.zeros((7453,51))\n",
    "freq_X_gry=np.zeros((7453,51))\n",
    "freq_X_grz=np.zeros((7453,51))"
   ]
  },
  {
   "cell_type": "code",
   "execution_count": 41,
   "id": "a6d04e50",
   "metadata": {
    "execution": {
     "iopub.execute_input": "2024-08-27T08:49:37.642051Z",
     "iopub.status.busy": "2024-08-27T08:49:37.640999Z",
     "iopub.status.idle": "2024-08-27T08:49:44.111067Z",
     "shell.execute_reply": "2024-08-27T08:49:44.110053Z"
    },
    "papermill": {
     "duration": 6.492881,
     "end_time": "2024-08-27T08:49:44.113786",
     "exception": false,
     "start_time": "2024-08-27T08:49:37.620905",
     "status": "completed"
    },
    "tags": []
   },
   "outputs": [],
   "source": [
    "for i in range(0,7453):\n",
    "    # The suitable value for fs would be 0.25 Hz as the time step is 4 s.\n",
    "    freq_X_glx[i], spectra_X_glx[i] = signal.periodogram(X_glx[i], fs=0.50)\n",
    "\n",
    "    # The suitable value for fs would be 0.25 Hz as the time step is 4 s.\n",
    "    freq_X_gly[i], spectra_X_gly[i] = signal.periodogram(X_gly[i], fs=0.50)\n",
    "\n",
    "    # The suitable value for fs would be 0.25 Hz as the time step is 4 s.\n",
    "    freq_X_glz[i], spectra_X_glz[i] = signal.periodogram(X_glz[i], fs=0.50)\n",
    "    \n",
    "    # The suitable value for fs would be 0.25 Hz as the time step is 4 s.\n",
    "    freq_X_grx[i], spectra_X_grx[i] = signal.periodogram(X_grx[i], fs=0.50)\n",
    "\n",
    "    # The suitable value for fs would be 0.25 Hz as the time step is 4 s.\n",
    "    freq_X_gry[i], spectra_X_gry[i] = signal.periodogram(X_gry[i], fs=0.50)\n",
    "\n",
    "    # The suitable value for fs would be 0.25 Hz as the time step is 4 s.\n",
    "    freq_X_grz[i], spectra_X_grz[i] = signal.periodogram(X_grz[i], fs=0.50)"
   ]
  },
  {
   "cell_type": "code",
   "execution_count": 42,
   "id": "eb92e12c",
   "metadata": {
    "execution": {
     "iopub.execute_input": "2024-08-27T08:49:44.154991Z",
     "iopub.status.busy": "2024-08-27T08:49:44.154606Z",
     "iopub.status.idle": "2024-08-27T08:49:44.166313Z",
     "shell.execute_reply": "2024-08-27T08:49:44.165412Z"
    },
    "papermill": {
     "duration": 0.035348,
     "end_time": "2024-08-27T08:49:44.168961",
     "exception": false,
     "start_time": "2024-08-27T08:49:44.133613",
     "status": "completed"
    },
    "tags": []
   },
   "outputs": [],
   "source": [
    "# peak height in the power spectrum is an estimate of the RMS amplitude.\n",
    "ph_RMS_amp_X_glx = np.sqrt(np.amax(spectra_X_glx,axis=1))\n",
    "ph_RMS_amp_X_gly = np.sqrt(np.amax(spectra_X_gly,axis=1))\n",
    "ph_RMS_amp_X_glz = np.sqrt(np.amax(spectra_X_glz,axis=1))\n",
    "\n",
    "ph_RMS_amp_X_grx = np.sqrt(np.amax(spectra_X_grx,axis=1))\n",
    "ph_RMS_amp_X_gry = np.sqrt(np.amax(spectra_X_gry,axis=1))\n",
    "ph_RMS_amp_X_grz = np.sqrt(np.amax(spectra_X_grz,axis=1))"
   ]
  },
  {
   "cell_type": "code",
   "execution_count": 43,
   "id": "298c6606",
   "metadata": {
    "execution": {
     "iopub.execute_input": "2024-08-27T08:49:44.210247Z",
     "iopub.status.busy": "2024-08-27T08:49:44.209845Z",
     "iopub.status.idle": "2024-08-27T08:49:44.216186Z",
     "shell.execute_reply": "2024-08-27T08:49:44.215171Z"
    },
    "papermill": {
     "duration": 0.029517,
     "end_time": "2024-08-27T08:49:44.218424",
     "exception": false,
     "start_time": "2024-08-27T08:49:44.188907",
     "status": "completed"
    },
    "tags": []
   },
   "outputs": [
    {
     "data": {
      "text/plain": [
       "(7453,)"
      ]
     },
     "execution_count": 43,
     "metadata": {},
     "output_type": "execute_result"
    }
   ],
   "source": [
    "ph_RMS_amp_X_glx.shape"
   ]
  },
  {
   "cell_type": "code",
   "execution_count": 44,
   "id": "a364edce",
   "metadata": {
    "execution": {
     "iopub.execute_input": "2024-08-27T08:49:44.259669Z",
     "iopub.status.busy": "2024-08-27T08:49:44.258890Z",
     "iopub.status.idle": "2024-08-27T08:49:44.264907Z",
     "shell.execute_reply": "2024-08-27T08:49:44.263717Z"
    },
    "papermill": {
     "duration": 0.028672,
     "end_time": "2024-08-27T08:49:44.266960",
     "exception": false,
     "start_time": "2024-08-27T08:49:44.238288",
     "status": "completed"
    },
    "tags": []
   },
   "outputs": [],
   "source": [
    "ph_RMS_amp_X_glx = ph_RMS_amp_X_glx.reshape(7453,1)  #59\n",
    "ph_RMS_amp_X_gly = ph_RMS_amp_X_gly.reshape(7453,1)  #60\n",
    "ph_RMS_amp_X_glz = ph_RMS_amp_X_glz.reshape(7453,1)  #61\n",
    "\n",
    "ph_RMS_amp_X_grx = ph_RMS_amp_X_grx.reshape(7453,1)  #62\n",
    "ph_RMS_amp_X_gry = ph_RMS_amp_X_gry.reshape(7453,1)  #63\n",
    "ph_RMS_amp_X_grz = ph_RMS_amp_X_grz.reshape(7453,1)  #64"
   ]
  },
  {
   "cell_type": "code",
   "execution_count": 45,
   "id": "aae85d22",
   "metadata": {
    "execution": {
     "iopub.execute_input": "2024-08-27T08:49:44.308221Z",
     "iopub.status.busy": "2024-08-27T08:49:44.307478Z",
     "iopub.status.idle": "2024-08-27T08:49:44.318236Z",
     "shell.execute_reply": "2024-08-27T08:49:44.317413Z"
    },
    "papermill": {
     "duration": 0.034483,
     "end_time": "2024-08-27T08:49:44.320333",
     "exception": false,
     "start_time": "2024-08-27T08:49:44.285850",
     "status": "completed"
    },
    "tags": []
   },
   "outputs": [],
   "source": [
    "q1_body_X_alx_train=np.zeros((7453,1))\n",
    "q3_body_X_alx_train=np.zeros((7453,1))\n",
    "\n",
    "q1_body_X_aly_train=np.zeros((7453,1))\n",
    "q3_body_X_aly_train=np.zeros((7453,1))\n",
    "\n",
    "q1_body_X_alz_train=np.zeros((7453,1))\n",
    "q3_body_X_alz_train=np.zeros((7453,1))\n",
    "\n",
    "q1_body_X_glx_train=np.zeros((7453,1))\n",
    "q3_body_X_glx_train=np.zeros((7453,1))\n",
    "\n",
    "q1_body_X_gly_train=np.zeros((7453,1))\n",
    "q3_body_X_gly_train=np.zeros((7453,1))\n",
    "\n",
    "q1_body_X_glz_train=np.zeros((7453,1))\n",
    "q3_body_X_glz_train=np.zeros((7453,1))\n",
    "\n",
    "\n",
    "q1_body_X_arx_train=np.zeros((7453,1))\n",
    "q3_body_X_arx_train=np.zeros((7453,1))\n",
    "\n",
    "q1_body_X_ary_train=np.zeros((7453,1))\n",
    "q3_body_X_ary_train=np.zeros((7453,1))\n",
    "\n",
    "q1_body_X_arz_train=np.zeros((7453,1))\n",
    "q3_body_X_arz_train=np.zeros((7453,1))\n",
    "\n",
    "q1_body_X_grx_train=np.zeros((7453,1))\n",
    "q3_body_X_grx_train=np.zeros((7453,1))\n",
    "\n",
    "q1_body_X_gry_train=np.zeros((7453,1))\n",
    "q3_body_X_gry_train=np.zeros((7453,1))\n",
    "\n",
    "q1_body_X_grz_train=np.zeros((7453,1))\n",
    "q3_body_X_grz_train=np.zeros((7453,1))"
   ]
  },
  {
   "cell_type": "code",
   "execution_count": 46,
   "id": "920a667b",
   "metadata": {
    "execution": {
     "iopub.execute_input": "2024-08-27T08:49:44.362670Z",
     "iopub.status.busy": "2024-08-27T08:49:44.362240Z",
     "iopub.status.idle": "2024-08-27T08:50:07.303250Z",
     "shell.execute_reply": "2024-08-27T08:50:07.302405Z"
    },
    "papermill": {
     "duration": 22.966245,
     "end_time": "2024-08-27T08:50:07.306029",
     "exception": false,
     "start_time": "2024-08-27T08:49:44.339784",
     "status": "completed"
    },
    "tags": []
   },
   "outputs": [],
   "source": [
    "for i in range(0,7453):\n",
    "    q1_body_X_alx_train[i] = np.percentile(X_alx[i], 25)\n",
    "    q3_body_X_alx_train[i] = np.percentile(X_alx[i], 75)\n",
    "\n",
    "    q1_body_X_aly_train[i] = np.percentile(X_aly[i], 25)\n",
    "    q3_body_X_aly_train[i] = np.percentile(X_aly[i], 75)\n",
    "\n",
    "    q1_body_X_alz_train[i] = np.percentile(X_alz[i], 25)\n",
    "    q3_body_X_alz_train[i] = np.percentile(X_alz[i], 75)\n",
    "\n",
    "    q1_body_X_glx_train[i] = np.percentile(X_glx[i], 25)\n",
    "    q3_body_X_glx_train[i] = np.percentile(X_glx[i], 75)\n",
    "\n",
    "    q1_body_X_gly_train[i] = np.percentile(X_gly[i], 25)\n",
    "    q3_body_X_gly_train[i] = np.percentile(X_gly[i], 75)\n",
    "\n",
    "    q1_body_X_glz_train[i] = np.percentile(X_glz[i], 25)\n",
    "    q3_body_X_glz_train[i] = np.percentile(X_glz[i], 75)\n",
    "    \n",
    "    \n",
    "    \n",
    "    q1_body_X_arx_train[i] = np.percentile(X_arx[i], 25)\n",
    "    q3_body_X_arx_train[i] = np.percentile(X_arx[i], 75)\n",
    "\n",
    "    q1_body_X_ary_train[i] = np.percentile(X_ary[i], 25)\n",
    "    q3_body_X_ary_train[i] = np.percentile(X_ary[i], 75)\n",
    "\n",
    "    q1_body_X_arz_train[i] = np.percentile(X_arz[i], 25)\n",
    "    q3_body_X_arz_train[i] = np.percentile(X_arz[i], 75)\n",
    "\n",
    "    q1_body_X_grx_train[i] = np.percentile(X_grx[i], 25)\n",
    "    q3_body_X_grx_train[i] = np.percentile(X_grx[i], 75)\n",
    "\n",
    "    q1_body_X_gry_train[i] = np.percentile(X_gry[i], 25)\n",
    "    q3_body_X_gry_train[i] = np.percentile(X_gry[i], 75)\n",
    "\n",
    "    q1_body_X_grz_train[i] = np.percentile(X_grz[i], 25)\n",
    "    q3_body_X_grz_train[i] = np.percentile(X_grz[i], 75)"
   ]
  },
  {
   "cell_type": "code",
   "execution_count": 47,
   "id": "8baa9e51",
   "metadata": {
    "execution": {
     "iopub.execute_input": "2024-08-27T08:50:07.347484Z",
     "iopub.status.busy": "2024-08-27T08:50:07.347107Z",
     "iopub.status.idle": "2024-08-27T08:50:07.355994Z",
     "shell.execute_reply": "2024-08-27T08:50:07.355130Z"
    },
    "papermill": {
     "duration": 0.031819,
     "end_time": "2024-08-27T08:50:07.358687",
     "exception": false,
     "start_time": "2024-08-27T08:50:07.326868",
     "status": "completed"
    },
    "tags": []
   },
   "outputs": [
    {
     "name": "stdout",
     "output_type": "stream",
     "text": [
      "(7453, 1)\n",
      "(7453, 1)\n",
      "(7453, 1)\n",
      "(7453, 1)\n",
      "(7453, 1)\n",
      "(7453, 1)\n",
      "(7453, 1)\n",
      "(7453, 1)\n",
      "(7453, 1)\n",
      "(7453, 1)\n",
      "(7453, 1)\n",
      "(7453, 1)\n",
      "(7453, 1)\n",
      "(7453, 1)\n",
      "(7453, 1)\n",
      "(7453, 1)\n",
      "(7453, 1)\n",
      "(7453, 1)\n",
      "(7453, 1)\n",
      "(7453, 1)\n",
      "(7453, 1)\n",
      "(7453, 1)\n",
      "(7453, 1)\n",
      "(7453, 1)\n"
     ]
    }
   ],
   "source": [
    "print(q1_body_X_alx_train.shape)  #65\n",
    "print(q3_body_X_alx_train.shape)  #66\n",
    "\n",
    "print(q1_body_X_aly_train.shape)  #67\n",
    "print(q3_body_X_aly_train.shape)  #68\n",
    "\n",
    "print(q1_body_X_alz_train.shape)  #69\n",
    "print(q3_body_X_alz_train.shape)  #70\n",
    "\n",
    "print(q1_body_X_glx_train.shape)  #71\n",
    "print(q3_body_X_glx_train.shape)  #72\n",
    "\n",
    "print(q1_body_X_gly_train.shape)  #73\n",
    "print(q3_body_X_gly_train.shape)  #74\n",
    "\n",
    "print(q1_body_X_glz_train.shape)  #75\n",
    "print(q3_body_X_glz_train.shape)  #76\n",
    "\n",
    "\n",
    "\n",
    "print(q1_body_X_arx_train.shape)  #77\n",
    "print(q3_body_X_arx_train.shape)  #78\n",
    "\n",
    "print(q1_body_X_ary_train.shape)  #79\n",
    "print(q3_body_X_ary_train.shape)  #80\n",
    "\n",
    "print(q1_body_X_arz_train.shape)  #81\n",
    "print(q3_body_X_arz_train.shape)  #82\n",
    "\n",
    "print(q1_body_X_grx_train.shape)  #83\n",
    "print(q3_body_X_grx_train.shape)  #84\n",
    "\n",
    "print(q1_body_X_gry_train.shape) #85\n",
    "print(q3_body_X_gry_train.shape) #86\n",
    "\n",
    "print(q1_body_X_grz_train.shape) #87\n",
    "print(q3_body_X_grz_train.shape) #88\n"
   ]
  },
  {
   "cell_type": "code",
   "execution_count": 48,
   "id": "6c0dcf39",
   "metadata": {
    "execution": {
     "iopub.execute_input": "2024-08-27T08:50:07.398273Z",
     "iopub.status.busy": "2024-08-27T08:50:07.397909Z",
     "iopub.status.idle": "2024-08-27T08:50:07.405123Z",
     "shell.execute_reply": "2024-08-27T08:50:07.404077Z"
    },
    "papermill": {
     "duration": 0.029586,
     "end_time": "2024-08-27T08:50:07.407245",
     "exception": false,
     "start_time": "2024-08-27T08:50:07.377659",
     "status": "completed"
    },
    "tags": []
   },
   "outputs": [],
   "source": [
    "iqr_X_alx = q3_body_X_alx_train-q1_body_X_alx_train #89\n",
    "iqr_X_aly = q3_body_X_aly_train-q1_body_X_aly_train #90\n",
    "iqr_X_alz = q3_body_X_alz_train-q1_body_X_alz_train #91\n",
    "\n",
    "iqr_X_glx = q3_body_X_glx_train-q1_body_X_glx_train #92\n",
    "iqr_X_gly = q3_body_X_gly_train-q1_body_X_gly_train #93\n",
    "iqr_X_glz = q3_body_X_glz_train-q1_body_X_glz_train #94\n",
    "\n",
    "iqr_X_arx = q3_body_X_arx_train-q1_body_X_arx_train #95\n",
    "iqr_X_ary = q3_body_X_ary_train-q1_body_X_ary_train #96\n",
    "iqr_X_arz = q3_body_X_arz_train-q1_body_X_arz_train #97\n",
    "\n",
    "iqr_X_grx = q3_body_X_grx_train-q1_body_X_grx_train #98\n",
    "iqr_X_gry = q3_body_X_gry_train-q1_body_X_gry_train #99\n",
    "iqr_X_grz = q3_body_X_grz_train-q1_body_X_grz_train #100"
   ]
  },
  {
   "cell_type": "code",
   "execution_count": 49,
   "id": "bdd53291",
   "metadata": {
    "execution": {
     "iopub.execute_input": "2024-08-27T08:50:07.448168Z",
     "iopub.status.busy": "2024-08-27T08:50:07.447774Z",
     "iopub.status.idle": "2024-08-27T08:50:07.455251Z",
     "shell.execute_reply": "2024-08-27T08:50:07.454413Z"
    },
    "papermill": {
     "duration": 0.03024,
     "end_time": "2024-08-27T08:50:07.457393",
     "exception": false,
     "start_time": "2024-08-27T08:50:07.427153",
     "status": "completed"
    },
    "tags": []
   },
   "outputs": [],
   "source": [
    "quartile_dev_X_alx = (iqr_X_alx) / 2 #101\n",
    "quartile_dev_X_aly = (iqr_X_aly) / 2 #102\n",
    "quartile_dev_X_alz = (iqr_X_alz) / 2 #103\n",
    "\n",
    "quartile_dev_X_glx = (iqr_X_glx) / 2 #104\n",
    "quartile_dev_X_gly = (iqr_X_gly) / 2 #105\n",
    "quartile_dev_X_glz = (iqr_X_glz) / 2 #106\n",
    "\n",
    "quartile_dev_X_arx = (iqr_X_arx) / 2 #107\n",
    "quartile_dev_X_ary = (iqr_X_ary) / 2 #108\n",
    "quartile_dev_X_arz = (iqr_X_arz) / 2 #109\n",
    "\n",
    "quartile_dev_X_grx = (iqr_X_grx) / 2 #110\n",
    "quartile_dev_X_gry = (iqr_X_gry) / 2 #111\n",
    "quartile_dev_X_grz = (iqr_X_grz) / 2 #112\n"
   ]
  },
  {
   "cell_type": "code",
   "execution_count": 50,
   "id": "34b5991d",
   "metadata": {
    "execution": {
     "iopub.execute_input": "2024-08-27T08:50:07.498976Z",
     "iopub.status.busy": "2024-08-27T08:50:07.498122Z",
     "iopub.status.idle": "2024-08-27T08:50:07.514346Z",
     "shell.execute_reply": "2024-08-27T08:50:07.513516Z"
    },
    "papermill": {
     "duration": 0.039802,
     "end_time": "2024-08-27T08:50:07.516777",
     "exception": false,
     "start_time": "2024-08-27T08:50:07.476975",
     "status": "completed"
    },
    "tags": []
   },
   "outputs": [],
   "source": [
    "feature_vector=np.concatenate([X_alx_mean,X_aly_mean,X_alz_mean,X_glx_mean,X_gly_mean,X_glz_mean,\n",
    "                               X_arx_mean,X_ary_mean,X_arz_mean,X_grx_mean,X_gry_mean,X_grz_mean,\n",
    "                               X_alx_std,X_aly_std,X_alz_std,X_glx_std,X_gly_std,X_glz_std,\n",
    "                               X_arx_std,X_ary_std,X_arz_std,X_grx_std,X_gry_std,X_grz_std,\n",
    "                               acc_mag_al_mean,acc_mag_al_std,acc_mag_ar_mean,acc_mag_ar_std,\n",
    "                               absmean_X_alx_mean,absmean_X_aly_mean,absmean_X_alz_mean,\n",
    "                               absmean_X_glx_mean,absmean_X_gly_mean,absmean_X_glz_mean,\n",
    "                               absmean_X_arx_mean,absmean_X_ary_mean,absmean_X_arz_mean,\n",
    "                               absmean_X_grx_mean,absmean_X_gry_mean,absmean_X_grz_mean,\n",
    "                               absmean_X_alx_std,absmean_X_aly_std,absmean_X_alz_std,\n",
    "                               absmean_X_glx_std,absmean_X_gly_std,absmean_X_glz_std,\n",
    "                               absmean_X_arx_std,absmean_X_ary_std,absmean_X_arz_std,\n",
    "                               absmean_X_grx_std,absmean_X_gry_std,absmean_X_grz_std,\n",
    "                               ph_RMS_amp_X_alx,ph_RMS_amp_X_aly,ph_RMS_amp_X_alz,\n",
    "                               ph_RMS_amp_X_glx,ph_RMS_amp_X_gly,ph_RMS_amp_X_glz,\n",
    "                               ph_RMS_amp_X_arx,ph_RMS_amp_X_ary,ph_RMS_amp_X_arz,\n",
    "                               ph_RMS_amp_X_grx,ph_RMS_amp_X_gry,ph_RMS_amp_X_grz,\n",
    "                               q1_body_X_alx_train,q1_body_X_aly_train,q1_body_X_alz_train,\n",
    "                               q1_body_X_glx_train,q1_body_X_gly_train,q1_body_X_glz_train,\n",
    "                               q1_body_X_arx_train,q1_body_X_ary_train,q1_body_X_arz_train,\n",
    "                               q1_body_X_grx_train,q1_body_X_gry_train,q1_body_X_grz_train,\n",
    "                               q3_body_X_alx_train,q3_body_X_aly_train,q3_body_X_alz_train,\n",
    "                               q3_body_X_glx_train,q3_body_X_gly_train,q3_body_X_glz_train,\n",
    "                               q3_body_X_arx_train,q3_body_X_ary_train,q3_body_X_arz_train,\n",
    "                               q3_body_X_grx_train,q3_body_X_gry_train,q3_body_X_grz_train,\n",
    "                               iqr_X_alx,iqr_X_aly,iqr_X_alz,iqr_X_glx,iqr_X_gly,iqr_X_glz,\n",
    "                               iqr_X_arx,iqr_X_ary,iqr_X_arz,iqr_X_grx,iqr_X_gry,iqr_X_grz,\n",
    "                               quartile_dev_X_alx,quartile_dev_X_aly,quartile_dev_X_alz,\n",
    "                               quartile_dev_X_glx,quartile_dev_X_gly,quartile_dev_X_glz,\n",
    "                               quartile_dev_X_arx,quartile_dev_X_ary,quartile_dev_X_arz,\n",
    "                               quartile_dev_X_grx,quartile_dev_X_gry,quartile_dev_X_grz\n",
    "    ],axis=1)"
   ]
  },
  {
   "cell_type": "code",
   "execution_count": 51,
   "id": "a0033168",
   "metadata": {
    "execution": {
     "iopub.execute_input": "2024-08-27T08:50:07.558874Z",
     "iopub.status.busy": "2024-08-27T08:50:07.558209Z",
     "iopub.status.idle": "2024-08-27T08:50:07.564730Z",
     "shell.execute_reply": "2024-08-27T08:50:07.563688Z"
    },
    "papermill": {
     "duration": 0.029965,
     "end_time": "2024-08-27T08:50:07.566857",
     "exception": false,
     "start_time": "2024-08-27T08:50:07.536892",
     "status": "completed"
    },
    "tags": []
   },
   "outputs": [
    {
     "data": {
      "text/plain": [
       "(7453, 112)"
      ]
     },
     "execution_count": 51,
     "metadata": {},
     "output_type": "execute_result"
    }
   ],
   "source": [
    "feature_vector.shape"
   ]
  },
  {
   "cell_type": "code",
   "execution_count": 52,
   "id": "fc58644a",
   "metadata": {
    "execution": {
     "iopub.execute_input": "2024-08-27T08:50:07.608982Z",
     "iopub.status.busy": "2024-08-27T08:50:07.608537Z",
     "iopub.status.idle": "2024-08-27T08:50:07.613550Z",
     "shell.execute_reply": "2024-08-27T08:50:07.612530Z"
    },
    "papermill": {
     "duration": 0.029055,
     "end_time": "2024-08-27T08:50:07.615800",
     "exception": false,
     "start_time": "2024-08-27T08:50:07.586745",
     "status": "completed"
    },
    "tags": []
   },
   "outputs": [],
   "source": [
    "train_X=np.zeros((7453, 112))"
   ]
  },
  {
   "cell_type": "code",
   "execution_count": 53,
   "id": "9a336a46",
   "metadata": {
    "execution": {
     "iopub.execute_input": "2024-08-27T08:50:07.656795Z",
     "iopub.status.busy": "2024-08-27T08:50:07.656129Z",
     "iopub.status.idle": "2024-08-27T08:50:07.937446Z",
     "shell.execute_reply": "2024-08-27T08:50:07.936519Z"
    },
    "papermill": {
     "duration": 0.305082,
     "end_time": "2024-08-27T08:50:07.940335",
     "exception": false,
     "start_time": "2024-08-27T08:50:07.635253",
     "status": "completed"
    },
    "tags": []
   },
   "outputs": [],
   "source": [
    "for i in range(0,7453):\n",
    "    train_X[i]= (feature_vector[i] - np.amax(feature_vector[i]) + (feature_vector[i] - np.amin(feature_vector[i])))/(np.amax(feature_vector[i])-np.amin(feature_vector[i]))"
   ]
  },
  {
   "cell_type": "code",
   "execution_count": 54,
   "id": "1d0d8cd5",
   "metadata": {
    "execution": {
     "iopub.execute_input": "2024-08-27T08:50:07.983622Z",
     "iopub.status.busy": "2024-08-27T08:50:07.983085Z",
     "iopub.status.idle": "2024-08-27T08:50:07.989461Z",
     "shell.execute_reply": "2024-08-27T08:50:07.988493Z"
    },
    "papermill": {
     "duration": 0.030002,
     "end_time": "2024-08-27T08:50:07.991989",
     "exception": false,
     "start_time": "2024-08-27T08:50:07.961987",
     "status": "completed"
    },
    "tags": []
   },
   "outputs": [
    {
     "data": {
      "text/plain": [
       "(7453, 112)"
      ]
     },
     "execution_count": 54,
     "metadata": {},
     "output_type": "execute_result"
    }
   ],
   "source": [
    "train_X.shape"
   ]
  },
  {
   "cell_type": "code",
   "execution_count": 55,
   "id": "544a41e5",
   "metadata": {
    "execution": {
     "iopub.execute_input": "2024-08-27T08:50:08.033977Z",
     "iopub.status.busy": "2024-08-27T08:50:08.033058Z",
     "iopub.status.idle": "2024-08-27T08:50:08.041388Z",
     "shell.execute_reply": "2024-08-27T08:50:08.040525Z"
    },
    "papermill": {
     "duration": 0.031745,
     "end_time": "2024-08-27T08:50:08.043748",
     "exception": false,
     "start_time": "2024-08-27T08:50:08.012003",
     "status": "completed"
    },
    "tags": []
   },
   "outputs": [],
   "source": [
    "phitrain_X=np.arccos(train_X)"
   ]
  },
  {
   "cell_type": "code",
   "execution_count": 56,
   "id": "ac878001",
   "metadata": {
    "execution": {
     "iopub.execute_input": "2024-08-27T08:50:08.086479Z",
     "iopub.status.busy": "2024-08-27T08:50:08.085562Z",
     "iopub.status.idle": "2024-08-27T08:50:08.091925Z",
     "shell.execute_reply": "2024-08-27T08:50:08.090936Z"
    },
    "papermill": {
     "duration": 0.030419,
     "end_time": "2024-08-27T08:50:08.094454",
     "exception": false,
     "start_time": "2024-08-27T08:50:08.064035",
     "status": "completed"
    },
    "tags": []
   },
   "outputs": [
    {
     "data": {
      "text/plain": [
       "(7453, 112)"
      ]
     },
     "execution_count": 56,
     "metadata": {},
     "output_type": "execute_result"
    }
   ],
   "source": [
    "phitrain_X.shape"
   ]
  },
  {
   "cell_type": "code",
   "execution_count": 57,
   "id": "1eb1497e",
   "metadata": {
    "execution": {
     "iopub.execute_input": "2024-08-27T08:50:08.136533Z",
     "iopub.status.busy": "2024-08-27T08:50:08.135697Z",
     "iopub.status.idle": "2024-08-27T08:50:08.141553Z",
     "shell.execute_reply": "2024-08-27T08:50:08.140554Z"
    },
    "papermill": {
     "duration": 0.02965,
     "end_time": "2024-08-27T08:50:08.143699",
     "exception": false,
     "start_time": "2024-08-27T08:50:08.114049",
     "status": "completed"
    },
    "tags": []
   },
   "outputs": [],
   "source": [
    "import math\n",
    "import matplotlib.pyplot as plot\n",
    "def cos_sum(phi_X):\n",
    "    gasf=np.zeros((112,112))\n",
    "    for i in range(0,112):\n",
    "        for j in range(0,112):\n",
    "            gasf[i][j]= math.cos(phi_X[i]+phi_X[j])\n",
    "    return gasf"
   ]
  },
  {
   "cell_type": "code",
   "execution_count": 58,
   "id": "c9dadfc0",
   "metadata": {
    "execution": {
     "iopub.execute_input": "2024-08-27T08:50:08.185216Z",
     "iopub.status.busy": "2024-08-27T08:50:08.184565Z",
     "iopub.status.idle": "2024-08-27T09:21:37.801177Z",
     "shell.execute_reply": "2024-08-27T09:21:37.800287Z"
    },
    "papermill": {
     "duration": 1889.658999,
     "end_time": "2024-08-27T09:21:37.822483",
     "exception": false,
     "start_time": "2024-08-27T08:50:08.163484",
     "status": "completed"
    },
    "tags": []
   },
   "outputs": [
    {
     "data": {
      "image/png": "[encoded data removed]",
      "text/plain": [
       "<Figure size 640x480 with 1 Axes>"
      ]
     },
     "metadata": {},
     "output_type": "display_data"
    }
   ],
   "source": [
    "for i in range(7000,7453):\n",
    "    gasf=cos_sum(phitrain_X[i])\n",
    "    plot.imshow(gasf)\n",
    "    plot.axis('off')\n",
    "    plot.savefig(str(i)+\".png\",bbox_inches='tight', pad_inches=0)\n",
    "    #plot.show()"
   ]
  },
  {
   "cell_type": "code",
   "execution_count": null,
   "id": "666311ea",
   "metadata": {
    "papermill": {
     "duration": 0.018714,
     "end_time": "2024-08-27T09:21:37.859724",
     "exception": false,
     "start_time": "2024-08-27T09:21:37.841010",
     "status": "completed"
    },
    "tags": []
   },
   "outputs": [],
   "source": []
  }
 ],
 "metadata": {
  "kaggle": {
   "accelerator": "none",
   "dataSources": [
    {
     "datasetId": 5571550,
     "sourceId": 9214101,
     "sourceType": "datasetVersion"
    }
   ],
   "dockerImageVersionId": 30746,
   "isGpuEnabled": false,
   "isInternetEnabled": true,
   "language": "python",
   "sourceType": "notebook"
  },
  "kernelspec": {
   "display_name": "Python 3",
   "language": "python",
   "name": "python3"
  },
  "language_info": {
   "codemirror_mode": {
    "name": "ipython",
    "version": 3
   },
   "file_extension": ".py",
   "mimetype": "text/x-python",
   "name": "python",
   "nbconvert_exporter": "python",
   "pygments_lexer": "ipython3",
   "version": "3.10.13"
  },
  "papermill": {
   "default_parameters": {},
   "duration": 1984.599603,
   "end_time": "2024-08-27T09:21:38.300129",
   "environment_variables": {},
   "exception": null,
   "input_path": "__notebook__.ipynb",
   "output_path": "__notebook__.ipynb",
   "parameters": {},
   "start_time": "2024-08-27T08:48:33.700526",
   "version": "2.5.0"
  }
 },
 "nbformat": 4,
 "nbformat_minor": 5
}
