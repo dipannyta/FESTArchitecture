{
 "cells": [
  {
   "cell_type": "code",
   "execution_count": 1,
   "id": "a56f7a95",
   "metadata": {
    "execution": {
     "iopub.execute_input": "2024-05-07T09:20:25.669764Z",
     "iopub.status.busy": "2024-05-07T09:20:25.668999Z",
     "iopub.status.idle": "2024-05-07T09:20:39.079299Z",
     "shell.execute_reply": "2024-05-07T09:20:39.078505Z"
    },
    "papermill": {
     "duration": 13.434915,
     "end_time": "2024-05-07T09:20:39.081555",
     "exception": false,
     "start_time": "2024-05-07T09:20:25.646640",
     "status": "completed"
    },
    "tags": []
   },
   "outputs": [
    {
     "name": "stderr",
     "output_type": "stream",
     "text": [
      "2024-05-07 09:20:27.517075: E external/local_xla/xla/stream_executor/cuda/cuda_dnn.cc:9261] Unable to register cuDNN factory: Attempting to register factory for plugin cuDNN when one has already been registered\n",
      "2024-05-07 09:20:27.517192: E external/local_xla/xla/stream_executor/cuda/cuda_fft.cc:607] Unable to register cuFFT factory: Attempting to register factory for plugin cuFFT when one has already been registered\n",
      "2024-05-07 09:20:27.656492: E external/local_xla/xla/stream_executor/cuda/cuda_blas.cc:1515] Unable to register cuBLAS factory: Attempting to register factory for plugin cuBLAS when one has already been registered\n"
     ]
    }
   ],
   "source": [
    "import os, sys\n",
    "import numpy as np\n",
    "import keras\n",
    "from keras.models import Sequential\n",
    "from keras.layers import Dense, Dropout, Flatten\n",
    "from keras.layers import Conv2D, MaxPooling2D\n",
    "from keras.utils import to_categorical\n",
    "from keras.preprocessing import image\n",
    "import pandas as pd\n",
    "import matplotlib.pyplot as plt\n",
    "from sklearn.model_selection import train_test_split\n",
    "from keras.utils import to_categorical\n",
    "from tqdm import tqdm"
   ]
  },
  {
   "cell_type": "code",
   "execution_count": 2,
   "id": "6e656fb9",
   "metadata": {
    "execution": {
     "iopub.execute_input": "2024-05-07T09:20:39.123763Z",
     "iopub.status.busy": "2024-05-07T09:20:39.123271Z",
     "iopub.status.idle": "2024-05-07T09:20:42.131960Z",
     "shell.execute_reply": "2024-05-07T09:20:42.131132Z"
    },
    "papermill": {
     "duration": 3.032494,
     "end_time": "2024-05-07T09:20:42.134192",
     "exception": false,
     "start_time": "2024-05-07T09:20:39.101698",
     "status": "completed"
    },
    "tags": []
   },
   "outputs": [],
   "source": [
    "body_acc_x_train= np.loadtxt('/kaggle/input/inertialsignalstrain/body_acc_x_train.txt',dtype=float)\n",
    "body_acc_y_train= np.loadtxt('/kaggle/input/inertialsignalstrain/body_acc_y_train.txt',dtype=float)\n",
    "body_acc_z_train= np.loadtxt('/kaggle/input/inertialsignalstrain/body_acc_z_train.txt',dtype=float)\n",
    "body_gyro_x_train= np.loadtxt('/kaggle/input/inertialsignalstrain/body_gyro_x_train.txt',dtype=float)\n",
    "body_gyro_y_train= np.loadtxt('/kaggle/input/inertialsignalstrain/body_gyro_y_train.txt',dtype=float)\n",
    "body_gyro_z_train= np.loadtxt('/kaggle/input/inertialsignalstrain/body_gyro_z_train.txt',dtype=float)\n",
    "total_acc_x_train= np.loadtxt('/kaggle/input/inertialsignalstrain/total_acc_x_train.txt',dtype=float)\n",
    "total_acc_y_train= np.loadtxt('/kaggle/input/inertialsignalstrain/total_acc_y_train.txt',dtype=float)\n",
    "total_acc_z_train= np.loadtxt('/kaggle/input/inertialsignalstrain/total_acc_z_train.txt',dtype=float)"
   ]
  },
  {
   "cell_type": "code",
   "execution_count": 3,
   "id": "3c470a7e",
   "metadata": {
    "execution": {
     "iopub.execute_input": "2024-05-07T09:20:42.176610Z",
     "iopub.status.busy": "2024-05-07T09:20:42.176185Z",
     "iopub.status.idle": "2024-05-07T09:20:42.181905Z",
     "shell.execute_reply": "2024-05-07T09:20:42.181113Z"
    },
    "papermill": {
     "duration": 0.029737,
     "end_time": "2024-05-07T09:20:42.184205",
     "exception": false,
     "start_time": "2024-05-07T09:20:42.154468",
     "status": "completed"
    },
    "tags": []
   },
   "outputs": [
    {
     "name": "stdout",
     "output_type": "stream",
     "text": [
      "(7352, 128)\n",
      "(7352, 128)\n",
      "(7352, 128)\n",
      "(7352, 128)\n",
      "(7352, 128)\n",
      "(7352, 128)\n",
      "(7352, 128)\n",
      "(7352, 128)\n",
      "(7352, 128)\n"
     ]
    }
   ],
   "source": [
    "print(body_acc_x_train.shape)\n",
    "print(body_acc_y_train.shape)\n",
    "print(body_acc_z_train.shape)\n",
    "print(body_gyro_x_train.shape)\n",
    "print(body_gyro_y_train.shape)\n",
    "print(body_gyro_z_train.shape)\n",
    "print(total_acc_x_train.shape)\n",
    "print(total_acc_y_train.shape)\n",
    "print(total_acc_z_train.shape)"
   ]
  },
  {
   "cell_type": "code",
   "execution_count": 4,
   "id": "2aa52eea",
   "metadata": {
    "execution": {
     "iopub.execute_input": "2024-05-07T09:20:42.224774Z",
     "iopub.status.busy": "2024-05-07T09:20:42.224484Z",
     "iopub.status.idle": "2024-05-07T09:20:42.242518Z",
     "shell.execute_reply": "2024-05-07T09:20:42.241822Z"
    },
    "papermill": {
     "duration": 0.0405,
     "end_time": "2024-05-07T09:20:42.244460",
     "exception": false,
     "start_time": "2024-05-07T09:20:42.203960",
     "status": "completed"
    },
    "tags": []
   },
   "outputs": [],
   "source": [
    "acc_mag= np.sqrt(np.square(body_acc_x_train)+np.square(body_acc_y_train)+np.square(body_acc_z_train))"
   ]
  },
  {
   "cell_type": "code",
   "execution_count": 5,
   "id": "34792900",
   "metadata": {
    "execution": {
     "iopub.execute_input": "2024-05-07T09:20:42.286325Z",
     "iopub.status.busy": "2024-05-07T09:20:42.285566Z",
     "iopub.status.idle": "2024-05-07T09:20:42.291930Z",
     "shell.execute_reply": "2024-05-07T09:20:42.291153Z"
    },
    "papermill": {
     "duration": 0.029163,
     "end_time": "2024-05-07T09:20:42.293884",
     "exception": false,
     "start_time": "2024-05-07T09:20:42.264721",
     "status": "completed"
    },
    "tags": []
   },
   "outputs": [
    {
     "data": {
      "text/plain": [
       "(7352, 128)"
      ]
     },
     "execution_count": 5,
     "metadata": {},
     "output_type": "execute_result"
    }
   ],
   "source": [
    "acc_mag.shape"
   ]
  },
  {
   "cell_type": "code",
   "execution_count": 6,
   "id": "ce391439",
   "metadata": {
    "execution": {
     "iopub.execute_input": "2024-05-07T09:20:42.334967Z",
     "iopub.status.busy": "2024-05-07T09:20:42.334611Z",
     "iopub.status.idle": "2024-05-07T09:20:42.339151Z",
     "shell.execute_reply": "2024-05-07T09:20:42.338422Z"
    },
    "papermill": {
     "duration": 0.027157,
     "end_time": "2024-05-07T09:20:42.341076",
     "exception": false,
     "start_time": "2024-05-07T09:20:42.313919",
     "status": "completed"
    },
    "tags": []
   },
   "outputs": [],
   "source": [
    "acc_mag_mean=np.mean(acc_mag,axis=1)  "
   ]
  },
  {
   "cell_type": "code",
   "execution_count": 7,
   "id": "b58dd8d1",
   "metadata": {
    "execution": {
     "iopub.execute_input": "2024-05-07T09:20:42.382555Z",
     "iopub.status.busy": "2024-05-07T09:20:42.382007Z",
     "iopub.status.idle": "2024-05-07T09:20:42.387256Z",
     "shell.execute_reply": "2024-05-07T09:20:42.386459Z"
    },
    "papermill": {
     "duration": 0.028139,
     "end_time": "2024-05-07T09:20:42.389169",
     "exception": false,
     "start_time": "2024-05-07T09:20:42.361030",
     "status": "completed"
    },
    "tags": []
   },
   "outputs": [
    {
     "data": {
      "text/plain": [
       "(7352,)"
      ]
     },
     "execution_count": 7,
     "metadata": {},
     "output_type": "execute_result"
    }
   ],
   "source": [
    "acc_mag_mean.shape"
   ]
  },
  {
   "cell_type": "code",
   "execution_count": 8,
   "id": "b46fca02",
   "metadata": {
    "execution": {
     "iopub.execute_input": "2024-05-07T09:20:42.431067Z",
     "iopub.status.busy": "2024-05-07T09:20:42.430463Z",
     "iopub.status.idle": "2024-05-07T09:20:42.434421Z",
     "shell.execute_reply": "2024-05-07T09:20:42.433594Z"
    },
    "papermill": {
     "duration": 0.026942,
     "end_time": "2024-05-07T09:20:42.436218",
     "exception": false,
     "start_time": "2024-05-07T09:20:42.409276",
     "status": "completed"
    },
    "tags": []
   },
   "outputs": [],
   "source": [
    "acc_mag_mean=acc_mag_mean.reshape(7352,1)"
   ]
  },
  {
   "cell_type": "code",
   "execution_count": 9,
   "id": "7cdd0334",
   "metadata": {
    "execution": {
     "iopub.execute_input": "2024-05-07T09:20:42.478048Z",
     "iopub.status.busy": "2024-05-07T09:20:42.477756Z",
     "iopub.status.idle": "2024-05-07T09:20:42.483287Z",
     "shell.execute_reply": "2024-05-07T09:20:42.482507Z"
    },
    "papermill": {
     "duration": 0.028909,
     "end_time": "2024-05-07T09:20:42.485240",
     "exception": false,
     "start_time": "2024-05-07T09:20:42.456331",
     "status": "completed"
    },
    "tags": []
   },
   "outputs": [
    {
     "data": {
      "text/plain": [
       "(7352, 1)"
      ]
     },
     "execution_count": 9,
     "metadata": {},
     "output_type": "execute_result"
    }
   ],
   "source": [
    "acc_mag_mean.shape   #f10"
   ]
  },
  {
   "cell_type": "code",
   "execution_count": 10,
   "id": "680c69dd",
   "metadata": {
    "execution": {
     "iopub.execute_input": "2024-05-07T09:20:42.526995Z",
     "iopub.status.busy": "2024-05-07T09:20:42.526428Z",
     "iopub.status.idle": "2024-05-07T09:20:42.535760Z",
     "shell.execute_reply": "2024-05-07T09:20:42.535075Z"
    },
    "papermill": {
     "duration": 0.032303,
     "end_time": "2024-05-07T09:20:42.537785",
     "exception": false,
     "start_time": "2024-05-07T09:20:42.505482",
     "status": "completed"
    },
    "tags": []
   },
   "outputs": [],
   "source": [
    "acc_mag_std=np.std(acc_mag,axis=1)"
   ]
  },
  {
   "cell_type": "code",
   "execution_count": 11,
   "id": "11e1ee20",
   "metadata": {
    "execution": {
     "iopub.execute_input": "2024-05-07T09:20:42.580239Z",
     "iopub.status.busy": "2024-05-07T09:20:42.579491Z",
     "iopub.status.idle": "2024-05-07T09:20:42.583944Z",
     "shell.execute_reply": "2024-05-07T09:20:42.583103Z"
    },
    "papermill": {
     "duration": 0.027851,
     "end_time": "2024-05-07T09:20:42.585901",
     "exception": false,
     "start_time": "2024-05-07T09:20:42.558050",
     "status": "completed"
    },
    "tags": []
   },
   "outputs": [],
   "source": [
    "acc_mag_std.shape  \n",
    "acc_mag_std=acc_mag_std.reshape(7352,1)"
   ]
  },
  {
   "cell_type": "code",
   "execution_count": 12,
   "id": "c240143a",
   "metadata": {
    "execution": {
     "iopub.execute_input": "2024-05-07T09:20:42.627655Z",
     "iopub.status.busy": "2024-05-07T09:20:42.627038Z",
     "iopub.status.idle": "2024-05-07T09:20:42.632315Z",
     "shell.execute_reply": "2024-05-07T09:20:42.631523Z"
    },
    "papermill": {
     "duration": 0.028074,
     "end_time": "2024-05-07T09:20:42.634137",
     "exception": false,
     "start_time": "2024-05-07T09:20:42.606063",
     "status": "completed"
    },
    "tags": []
   },
   "outputs": [
    {
     "data": {
      "text/plain": [
       "(7352, 1)"
      ]
     },
     "execution_count": 12,
     "metadata": {},
     "output_type": "execute_result"
    }
   ],
   "source": [
    "acc_mag_std.shape   #f11"
   ]
  },
  {
   "cell_type": "code",
   "execution_count": 13,
   "id": "a79b73c0",
   "metadata": {
    "execution": {
     "iopub.execute_input": "2024-05-07T09:20:42.675707Z",
     "iopub.status.busy": "2024-05-07T09:20:42.675453Z",
     "iopub.status.idle": "2024-05-07T09:20:42.680420Z",
     "shell.execute_reply": "2024-05-07T09:20:42.679476Z"
    },
    "papermill": {
     "duration": 0.028079,
     "end_time": "2024-05-07T09:20:42.682353",
     "exception": false,
     "start_time": "2024-05-07T09:20:42.654274",
     "status": "completed"
    },
    "tags": []
   },
   "outputs": [
    {
     "name": "stdout",
     "output_type": "stream",
     "text": [
      "[0.01095593]\n",
      "[0.01805843]\n"
     ]
    }
   ],
   "source": [
    "print(acc_mag_std[0])\n",
    "print(acc_mag_mean[0])"
   ]
  },
  {
   "cell_type": "code",
   "execution_count": 14,
   "id": "aaac8c47",
   "metadata": {
    "execution": {
     "iopub.execute_input": "2024-05-07T09:20:42.725077Z",
     "iopub.status.busy": "2024-05-07T09:20:42.724352Z",
     "iopub.status.idle": "2024-05-07T09:20:42.737520Z",
     "shell.execute_reply": "2024-05-07T09:20:42.736705Z"
    },
    "papermill": {
     "duration": 0.036612,
     "end_time": "2024-05-07T09:20:42.739533",
     "exception": false,
     "start_time": "2024-05-07T09:20:42.702921",
     "status": "completed"
    },
    "tags": []
   },
   "outputs": [],
   "source": [
    "body_acc_x_train_mean=np.mean(body_acc_x_train,axis=1)\n",
    "body_acc_y_train_mean=np.mean(body_acc_y_train,axis=1)\n",
    "body_acc_z_train_mean=np.mean(body_acc_z_train,axis=1)\n",
    "body_gyro_x_train_mean=np.mean(body_gyro_x_train,axis=1)\n",
    "body_gyro_y_train_mean=np.mean(body_gyro_y_train,axis=1)\n",
    "body_gyro_z_train_mean=np.mean(body_gyro_z_train,axis=1)\n",
    "total_acc_x_train_mean=np.mean(total_acc_x_train,axis=1)\n",
    "total_acc_y_train_mean=np.mean(total_acc_y_train,axis=1)\n",
    "total_acc_z_train_mean=np.mean(total_acc_z_train,axis=1)"
   ]
  },
  {
   "cell_type": "code",
   "execution_count": 15,
   "id": "24d7603f",
   "metadata": {
    "execution": {
     "iopub.execute_input": "2024-05-07T09:20:42.783678Z",
     "iopub.status.busy": "2024-05-07T09:20:42.783384Z",
     "iopub.status.idle": "2024-05-07T09:20:42.789125Z",
     "shell.execute_reply": "2024-05-07T09:20:42.788275Z"
    },
    "papermill": {
     "duration": 0.029048,
     "end_time": "2024-05-07T09:20:42.791039",
     "exception": false,
     "start_time": "2024-05-07T09:20:42.761991",
     "status": "completed"
    },
    "tags": []
   },
   "outputs": [],
   "source": [
    "body_acc_x_train_mean=body_acc_x_train_mean.reshape(7352,1)\n",
    "body_acc_y_train_mean=body_acc_y_train_mean.reshape(7352,1)\n",
    "body_acc_z_train_mean=body_acc_z_train_mean.reshape(7352,1)\n",
    "body_gyro_x_train_mean=body_gyro_x_train_mean.reshape(7352,1)\n",
    "body_gyro_y_train_mean=body_gyro_y_train_mean.reshape(7352,1)\n",
    "body_gyro_z_train_mean=body_gyro_z_train_mean.reshape(7352,1)\n",
    "total_acc_x_train_mean=total_acc_x_train_mean.reshape(7352,1)\n",
    "total_acc_y_train_mean=total_acc_y_train_mean.reshape(7352,1)\n",
    "total_acc_z_train_mean=total_acc_z_train_mean.reshape(7352,1)"
   ]
  },
  {
   "cell_type": "code",
   "execution_count": 16,
   "id": "a1b881a3",
   "metadata": {
    "execution": {
     "iopub.execute_input": "2024-05-07T09:20:42.832917Z",
     "iopub.status.busy": "2024-05-07T09:20:42.832287Z",
     "iopub.status.idle": "2024-05-07T09:20:42.838071Z",
     "shell.execute_reply": "2024-05-07T09:20:42.837215Z"
    },
    "papermill": {
     "duration": 0.028843,
     "end_time": "2024-05-07T09:20:42.840085",
     "exception": false,
     "start_time": "2024-05-07T09:20:42.811242",
     "status": "completed"
    },
    "tags": []
   },
   "outputs": [
    {
     "name": "stdout",
     "output_type": "stream",
     "text": [
      "(7352, 1)\n",
      "(7352, 1)\n",
      "(7352, 1)\n",
      "(7352, 1)\n",
      "(7352, 1)\n",
      "(7352, 1)\n",
      "(7352, 1)\n",
      "(7352, 1)\n",
      "(7352, 1)\n"
     ]
    }
   ],
   "source": [
    "print(body_acc_x_train_mean.shape)  #f1\n",
    "print(body_acc_y_train_mean.shape)   #f2\n",
    "print(body_acc_z_train_mean.shape)    #f3\n",
    "print(body_gyro_x_train_mean.shape)     #f4\n",
    "print(body_gyro_y_train_mean.shape)    #f5\n",
    "print(body_gyro_z_train_mean.shape)      #f6\n",
    "print(total_acc_x_train_mean.shape)       #f7\n",
    "print(total_acc_y_train_mean.shape)     #f8\n",
    "print(total_acc_z_train_mean.shape)     #f9"
   ]
  },
  {
   "cell_type": "code",
   "execution_count": 17,
   "id": "b36f5cec",
   "metadata": {
    "execution": {
     "iopub.execute_input": "2024-05-07T09:20:42.882456Z",
     "iopub.status.busy": "2024-05-07T09:20:42.881862Z",
     "iopub.status.idle": "2024-05-07T09:20:42.915169Z",
     "shell.execute_reply": "2024-05-07T09:20:42.914141Z"
    },
    "papermill": {
     "duration": 0.05719,
     "end_time": "2024-05-07T09:20:42.917592",
     "exception": false,
     "start_time": "2024-05-07T09:20:42.860402",
     "status": "completed"
    },
    "tags": []
   },
   "outputs": [],
   "source": [
    "gx=total_acc_x_train-body_acc_x_train\n",
    "thetax=np.arccos(gx/9.8)\n",
    "\n",
    "gy=total_acc_y_train-body_acc_y_train\n",
    "thetay=np.arccos(gy/9.8)\n",
    "\n",
    "gz=total_acc_z_train-body_acc_z_train\n",
    "thetaz=np.arccos(gz/9.8)"
   ]
  },
  {
   "cell_type": "code",
   "execution_count": 18,
   "id": "e14c42ae",
   "metadata": {
    "execution": {
     "iopub.execute_input": "2024-05-07T09:20:42.961185Z",
     "iopub.status.busy": "2024-05-07T09:20:42.960504Z",
     "iopub.status.idle": "2024-05-07T09:20:42.966217Z",
     "shell.execute_reply": "2024-05-07T09:20:42.965376Z"
    },
    "papermill": {
     "duration": 0.029798,
     "end_time": "2024-05-07T09:20:42.968220",
     "exception": false,
     "start_time": "2024-05-07T09:20:42.938422",
     "status": "completed"
    },
    "tags": []
   },
   "outputs": [
    {
     "data": {
      "text/plain": [
       "(7352, 128)"
      ]
     },
     "execution_count": 18,
     "metadata": {},
     "output_type": "execute_result"
    }
   ],
   "source": [
    "thetax.shape"
   ]
  },
  {
   "cell_type": "code",
   "execution_count": 19,
   "id": "04534eb8",
   "metadata": {
    "execution": {
     "iopub.execute_input": "2024-05-07T09:20:43.054075Z",
     "iopub.status.busy": "2024-05-07T09:20:43.053280Z",
     "iopub.status.idle": "2024-05-07T09:20:43.070614Z",
     "shell.execute_reply": "2024-05-07T09:20:43.069824Z"
    },
    "papermill": {
     "duration": 0.083814,
     "end_time": "2024-05-07T09:20:43.072847",
     "exception": false,
     "start_time": "2024-05-07T09:20:42.989033",
     "status": "completed"
    },
    "tags": []
   },
   "outputs": [],
   "source": [
    "thetax_mean=np.mean(thetax,axis=1)  \n",
    "thetax_std=np.std(thetax,axis=1)\n",
    "\n",
    "thetay_mean=np.mean(thetay,axis=1)  \n",
    "thetay_std=np.std(thetay,axis=1)\n",
    "\n",
    "thetaz_mean=np.mean(thetaz,axis=1)  \n",
    "thetaz_std=np.std(thetaz,axis=1)"
   ]
  },
  {
   "cell_type": "code",
   "execution_count": 20,
   "id": "b61aada4",
   "metadata": {
    "execution": {
     "iopub.execute_input": "2024-05-07T09:20:43.116577Z",
     "iopub.status.busy": "2024-05-07T09:20:43.115820Z",
     "iopub.status.idle": "2024-05-07T09:20:43.121863Z",
     "shell.execute_reply": "2024-05-07T09:20:43.121035Z"
    },
    "papermill": {
     "duration": 0.02969,
     "end_time": "2024-05-07T09:20:43.123818",
     "exception": false,
     "start_time": "2024-05-07T09:20:43.094128",
     "status": "completed"
    },
    "tags": []
   },
   "outputs": [
    {
     "data": {
      "text/plain": [
       "(7352,)"
      ]
     },
     "execution_count": 20,
     "metadata": {},
     "output_type": "execute_result"
    }
   ],
   "source": [
    "thetax_mean.shape\n",
    "thetax_std.shape\n",
    "\n",
    "thetay_mean.shape\n",
    "thetay_std.shape\n",
    "\n",
    "thetaz_mean.shape\n",
    "thetaz_std.shape"
   ]
  },
  {
   "cell_type": "code",
   "execution_count": 21,
   "id": "a265838d",
   "metadata": {
    "execution": {
     "iopub.execute_input": "2024-05-07T09:20:43.167298Z",
     "iopub.status.busy": "2024-05-07T09:20:43.166997Z",
     "iopub.status.idle": "2024-05-07T09:20:43.172098Z",
     "shell.execute_reply": "2024-05-07T09:20:43.171220Z"
    },
    "papermill": {
     "duration": 0.029179,
     "end_time": "2024-05-07T09:20:43.173942",
     "exception": false,
     "start_time": "2024-05-07T09:20:43.144763",
     "status": "completed"
    },
    "tags": []
   },
   "outputs": [],
   "source": [
    "thetax_mean=thetax_mean.reshape(7352,1)\n",
    "thetax_std=thetax_std.reshape(7352,1)\n",
    "thetay_mean=thetay_mean.reshape(7352,1)\n",
    "thetay_std=thetay_std.reshape(7352,1)\n",
    "thetaz_mean=thetaz_mean.reshape(7352,1)\n",
    "thetaz_std=thetaz_std.reshape(7352,1)"
   ]
  },
  {
   "cell_type": "code",
   "execution_count": 22,
   "id": "decac9fc",
   "metadata": {
    "execution": {
     "iopub.execute_input": "2024-05-07T09:20:43.218317Z",
     "iopub.status.busy": "2024-05-07T09:20:43.218045Z",
     "iopub.status.idle": "2024-05-07T09:20:43.224134Z",
     "shell.execute_reply": "2024-05-07T09:20:43.223340Z"
    },
    "papermill": {
     "duration": 0.029595,
     "end_time": "2024-05-07T09:20:43.226006",
     "exception": false,
     "start_time": "2024-05-07T09:20:43.196411",
     "status": "completed"
    },
    "tags": []
   },
   "outputs": [
    {
     "data": {
      "text/plain": [
       "(7352, 1)"
      ]
     },
     "execution_count": 22,
     "metadata": {},
     "output_type": "execute_result"
    }
   ],
   "source": [
    "thetax_mean.shape      #f12\n",
    "thetax_std.shape       #f13\n",
    "\n",
    "thetay_mean.shape       #f14\n",
    "thetay_std.shape        #f15\n",
    "\n",
    "thetaz_mean.shape       #f16\n",
    "thetaz_std.shape        #f17"
   ]
  },
  {
   "cell_type": "code",
   "execution_count": 23,
   "id": "687cb025",
   "metadata": {
    "execution": {
     "iopub.execute_input": "2024-05-07T09:20:43.269352Z",
     "iopub.status.busy": "2024-05-07T09:20:43.268819Z",
     "iopub.status.idle": "2024-05-07T09:20:43.288461Z",
     "shell.execute_reply": "2024-05-07T09:20:43.287714Z"
    },
    "papermill": {
     "duration": 0.043458,
     "end_time": "2024-05-07T09:20:43.290568",
     "exception": false,
     "start_time": "2024-05-07T09:20:43.247110",
     "status": "completed"
    },
    "tags": []
   },
   "outputs": [],
   "source": [
    "# Importing mean, absolute from numpy \n",
    "from numpy import mean, absolute \n",
    "#absolute mean deviation\n",
    "absmeanx=absolute(body_gyro_x_train - mean(body_gyro_x_train))\n",
    "absmeany=absolute(body_gyro_y_train - mean(body_gyro_y_train))\n",
    "absmeanz=absolute(body_gyro_z_train - mean(body_gyro_z_train))"
   ]
  },
  {
   "cell_type": "code",
   "execution_count": 24,
   "id": "aaed787a",
   "metadata": {
    "execution": {
     "iopub.execute_input": "2024-05-07T09:20:43.334629Z",
     "iopub.status.busy": "2024-05-07T09:20:43.333889Z",
     "iopub.status.idle": "2024-05-07T09:20:43.341132Z",
     "shell.execute_reply": "2024-05-07T09:20:43.340215Z"
    },
    "papermill": {
     "duration": 0.031713,
     "end_time": "2024-05-07T09:20:43.343787",
     "exception": false,
     "start_time": "2024-05-07T09:20:43.312074",
     "status": "completed"
    },
    "tags": []
   },
   "outputs": [
    {
     "name": "stdout",
     "output_type": "stream",
     "text": [
      "[[0.02968476 0.04320425 0.03518134 ... 0.03934531 0.03694286 0.02831135]\n",
      " [0.0166046  0.02367205 0.02972243 ... 0.03524724 0.03847951 0.03915619]\n",
      " [0.02568231 0.02114503 0.01404416 ... 0.02141629 0.02262015 0.02074183]\n",
      " ...\n",
      " [0.11784964 0.13738364 0.17691364 ... 0.76146096 0.67846946 0.62800766]\n",
      " [0.37937876 0.37439486 0.33063166 ... 0.42596716 0.47605356 0.41346536]\n",
      " [0.47728526 0.26841846 0.19107286 ... 1.00434854 1.01508254 1.04709254]]\n",
      "(7352, 128)\n",
      "[[6.68374008e-02 4.35227508e-02 7.56739608e-02 ... 2.73322583e-03\n",
      "  7.43956001e-04 7.86062831e-04]\n",
      " [6.94657783e-03 1.05341378e-02 1.11457008e-02 ... 7.87097317e-03\n",
      "  1.08287092e-02 8.61641617e-03]\n",
      " [5.85439831e-04 3.96182631e-04 1.58491583e-03 ... 9.23012917e-03\n",
      "  8.89350017e-03 8.00768117e-03]\n",
      " ...\n",
      " [4.27525681e-01 3.23143881e-01 2.33982381e-01 ... 6.84904181e-01\n",
      "  6.29987381e-01 4.82077981e-01]\n",
      " [1.65101881e-01 6.47604808e-02 9.34823392e-02 ... 6.51264681e-01\n",
      "  4.10557981e-01 2.00646781e-01]\n",
      " [2.89756681e-01 1.72023781e-01 1.43296081e-01 ... 1.15746878e+00\n",
      "  1.10157378e+00 1.01214778e+00]]\n",
      "(7352, 128)\n",
      "[[0.02274569 0.01020277 0.01313674 ... 0.00228307 0.00575558 0.00155895]\n",
      " [0.0121552  0.01603663 0.01578176 ... 0.00493178 0.00453728 0.00291077]\n",
      " [0.00204595 0.00038542 0.00251804 ... 0.00567923 0.00381457 0.00275769]\n",
      " ...\n",
      " [0.30073455 0.35106505 0.27223835 ... 0.25423145 0.28131785 0.25409325]\n",
      " [0.21739125 0.15838415 0.18676575 ... 0.17609875 0.16344795 0.18862105]\n",
      " [0.22768465 0.10336275 0.07576753 ... 0.36262505 0.38410245 0.33599695]]\n",
      "(7352, 128)\n"
     ]
    }
   ],
   "source": [
    "print(absmeanx)\n",
    "print(absmeanx.shape)\n",
    "print(absmeany)\n",
    "print(absmeany.shape)\n",
    "print(absmeanz)\n",
    "print(absmeanz.shape)"
   ]
  },
  {
   "cell_type": "code",
   "execution_count": 25,
   "id": "53438d7b",
   "metadata": {
    "execution": {
     "iopub.execute_input": "2024-05-07T09:20:43.399049Z",
     "iopub.status.busy": "2024-05-07T09:20:43.398728Z",
     "iopub.status.idle": "2024-05-07T09:20:43.418690Z",
     "shell.execute_reply": "2024-05-07T09:20:43.417648Z"
    },
    "papermill": {
     "duration": 0.048707,
     "end_time": "2024-05-07T09:20:43.421164",
     "exception": false,
     "start_time": "2024-05-07T09:20:43.372457",
     "status": "completed"
    },
    "tags": []
   },
   "outputs": [],
   "source": [
    "absmeanx_mean=np.mean(absmeanx,axis=1)  \n",
    "absmeanx_std=np.std(absmeanx,axis=1)\n",
    "\n",
    "absmeany_mean=np.mean(absmeany,axis=1)  \n",
    "absmeany_std=np.std(absmeany,axis=1)\n",
    "\n",
    "absmeanz_mean=np.mean(absmeanz,axis=1)  \n",
    "absmeanz_std=np.std(absmeanz,axis=1)"
   ]
  },
  {
   "cell_type": "code",
   "execution_count": 26,
   "id": "61527d01",
   "metadata": {
    "execution": {
     "iopub.execute_input": "2024-05-07T09:20:43.466048Z",
     "iopub.status.busy": "2024-05-07T09:20:43.465218Z",
     "iopub.status.idle": "2024-05-07T09:20:43.479277Z",
     "shell.execute_reply": "2024-05-07T09:20:43.472657Z"
    },
    "papermill": {
     "duration": 0.038694,
     "end_time": "2024-05-07T09:20:43.481460",
     "exception": false,
     "start_time": "2024-05-07T09:20:43.442766",
     "status": "completed"
    },
    "tags": []
   },
   "outputs": [
    {
     "data": {
      "text/plain": [
       "(7352,)"
      ]
     },
     "execution_count": 26,
     "metadata": {},
     "output_type": "execute_result"
    }
   ],
   "source": [
    "absmeanx_mean.shape  \n",
    "absmeanx_std.shape \n",
    "\n",
    "absmeany_mean.shape   \n",
    "absmeany_std.shape \n",
    "\n",
    "absmeanz_mean.shape   \n",
    "absmeanz_std.shape "
   ]
  },
  {
   "cell_type": "code",
   "execution_count": 27,
   "id": "21e80c43",
   "metadata": {
    "execution": {
     "iopub.execute_input": "2024-05-07T09:20:43.526636Z",
     "iopub.status.busy": "2024-05-07T09:20:43.525963Z",
     "iopub.status.idle": "2024-05-07T09:20:43.532355Z",
     "shell.execute_reply": "2024-05-07T09:20:43.531425Z"
    },
    "papermill": {
     "duration": 0.030355,
     "end_time": "2024-05-07T09:20:43.534253",
     "exception": false,
     "start_time": "2024-05-07T09:20:43.503898",
     "status": "completed"
    },
    "tags": []
   },
   "outputs": [],
   "source": [
    "absmeanx_mean=absmeanx_mean.reshape(7352,1)\n",
    "absmeanx_std=absmeanx_std.reshape(7352,1)\n",
    "absmeany_mean=absmeany_mean.reshape(7352,1)\n",
    "absmeany_std=absmeany_std.reshape(7352,1)\n",
    "absmeanz_mean=absmeanz_mean.reshape(7352,1)\n",
    "absmeanz_std=absmeanz_std.reshape(7352,1)"
   ]
  },
  {
   "cell_type": "code",
   "execution_count": 28,
   "id": "4a432fa7",
   "metadata": {
    "execution": {
     "iopub.execute_input": "2024-05-07T09:20:43.580094Z",
     "iopub.status.busy": "2024-05-07T09:20:43.579204Z",
     "iopub.status.idle": "2024-05-07T09:20:43.586672Z",
     "shell.execute_reply": "2024-05-07T09:20:43.585773Z"
    },
    "papermill": {
     "duration": 0.038814,
     "end_time": "2024-05-07T09:20:43.595495",
     "exception": false,
     "start_time": "2024-05-07T09:20:43.556681",
     "status": "completed"
    },
    "tags": []
   },
   "outputs": [
    {
     "data": {
      "text/plain": [
       "(7352, 1)"
      ]
     },
     "execution_count": 28,
     "metadata": {},
     "output_type": "execute_result"
    }
   ],
   "source": [
    "absmeanx_mean.shape  #f18\n",
    "absmeanx_std.shape   #f19\n",
    "\n",
    "absmeany_mean.shape   #f20\n",
    "absmeany_std.shape    #f21\n",
    "\n",
    "absmeanz_mean.shape   #f22\n",
    "absmeanz_std.shape    #f23"
   ]
  },
  {
   "cell_type": "code",
   "execution_count": 29,
   "id": "2cb75de2",
   "metadata": {
    "execution": {
     "iopub.execute_input": "2024-05-07T09:20:43.641850Z",
     "iopub.status.busy": "2024-05-07T09:20:43.641501Z",
     "iopub.status.idle": "2024-05-07T09:20:43.645752Z",
     "shell.execute_reply": "2024-05-07T09:20:43.644932Z"
    },
    "papermill": {
     "duration": 0.028844,
     "end_time": "2024-05-07T09:20:43.647820",
     "exception": false,
     "start_time": "2024-05-07T09:20:43.618976",
     "status": "completed"
    },
    "tags": []
   },
   "outputs": [],
   "source": [
    "import numpy as np\n",
    "from scipy import stats"
   ]
  },
  {
   "cell_type": "code",
   "execution_count": 30,
   "id": "d2f87b19",
   "metadata": {
    "execution": {
     "iopub.execute_input": "2024-05-07T09:20:43.693644Z",
     "iopub.status.busy": "2024-05-07T09:20:43.692659Z",
     "iopub.status.idle": "2024-05-07T09:20:43.957511Z",
     "shell.execute_reply": "2024-05-07T09:20:43.956274Z"
    },
    "papermill": {
     "duration": 0.290565,
     "end_time": "2024-05-07T09:20:43.960351",
     "exception": false,
     "start_time": "2024-05-07T09:20:43.669786",
     "status": "completed"
    },
    "tags": []
   },
   "outputs": [],
   "source": [
    "body_acc_x_train_mad=stats.median_abs_deviation(body_acc_x_train, axis=1)\n",
    "body_acc_y_train_mad=stats.median_abs_deviation(body_acc_y_train, axis=1)\n",
    "body_acc_z_train_mad=stats.median_abs_deviation(body_acc_z_train, axis=1)\n",
    "body_gyro_x_train_mad=stats.median_abs_deviation(body_gyro_x_train, axis=1)\n",
    "body_gyro_y_train_mad=stats.median_abs_deviation(body_gyro_y_train, axis=1)\n",
    "body_gyro_z_train_mad=stats.median_abs_deviation(body_gyro_z_train, axis=1)\n",
    "total_acc_x_train_mad=stats.median_abs_deviation(total_acc_x_train, axis=1)\n",
    "total_acc_y_train_mad=stats.median_abs_deviation(total_acc_y_train, axis=1)\n",
    "total_acc_z_train_mad=stats.median_abs_deviation(total_acc_z_train, axis=1)"
   ]
  },
  {
   "cell_type": "code",
   "execution_count": 31,
   "id": "c3f08e17",
   "metadata": {
    "execution": {
     "iopub.execute_input": "2024-05-07T09:20:44.006951Z",
     "iopub.status.busy": "2024-05-07T09:20:44.006149Z",
     "iopub.status.idle": "2024-05-07T09:20:44.013891Z",
     "shell.execute_reply": "2024-05-07T09:20:44.012836Z"
    },
    "papermill": {
     "duration": 0.03294,
     "end_time": "2024-05-07T09:20:44.016093",
     "exception": false,
     "start_time": "2024-05-07T09:20:43.983153",
     "status": "completed"
    },
    "tags": []
   },
   "outputs": [
    {
     "data": {
      "text/plain": [
       "(7352,)"
      ]
     },
     "execution_count": 31,
     "metadata": {},
     "output_type": "execute_result"
    }
   ],
   "source": [
    "body_acc_x_train_mad.shape\n",
    "body_acc_y_train_mad.shape\n",
    "body_acc_z_train_mad.shape\n",
    "body_gyro_x_train_mad.shape\n",
    "body_gyro_y_train_mad.shape\n",
    "body_gyro_z_train_mad.shape\n",
    "total_acc_x_train_mad.shape\n",
    "total_acc_y_train_mad.shape\n",
    "total_acc_z_train_mad.shape"
   ]
  },
  {
   "cell_type": "code",
   "execution_count": 32,
   "id": "c4c65425",
   "metadata": {
    "execution": {
     "iopub.execute_input": "2024-05-07T09:20:44.061603Z",
     "iopub.status.busy": "2024-05-07T09:20:44.061030Z",
     "iopub.status.idle": "2024-05-07T09:20:44.067276Z",
     "shell.execute_reply": "2024-05-07T09:20:44.066363Z"
    },
    "papermill": {
     "duration": 0.032237,
     "end_time": "2024-05-07T09:20:44.069736",
     "exception": false,
     "start_time": "2024-05-07T09:20:44.037499",
     "status": "completed"
    },
    "tags": []
   },
   "outputs": [],
   "source": [
    "body_acc_x_train_mad=body_acc_x_train_mad.reshape(7352,1)\n",
    "body_acc_y_train_mad=body_acc_y_train_mad.reshape(7352,1)\n",
    "body_acc_z_train_mad=body_acc_z_train_mad.reshape(7352,1)\n",
    "body_gyro_x_train_mad=body_gyro_x_train_mad.reshape(7352,1)\n",
    "body_gyro_y_train_mad=body_gyro_y_train_mad.reshape(7352,1)\n",
    "body_gyro_z_train_mad=body_gyro_z_train_mad.reshape(7352,1)\n",
    "total_acc_x_train_mad=total_acc_x_train_mad.reshape(7352,1)\n",
    "total_acc_y_train_mad=total_acc_y_train_mad.reshape(7352,1)\n",
    "total_acc_z_train_mad=total_acc_z_train_mad.reshape(7352,1)"
   ]
  },
  {
   "cell_type": "code",
   "execution_count": 33,
   "id": "19577b6a",
   "metadata": {
    "execution": {
     "iopub.execute_input": "2024-05-07T09:20:44.118290Z",
     "iopub.status.busy": "2024-05-07T09:20:44.117674Z",
     "iopub.status.idle": "2024-05-07T09:20:44.125513Z",
     "shell.execute_reply": "2024-05-07T09:20:44.124552Z"
    },
    "papermill": {
     "duration": 0.032654,
     "end_time": "2024-05-07T09:20:44.127501",
     "exception": false,
     "start_time": "2024-05-07T09:20:44.094847",
     "status": "completed"
    },
    "tags": []
   },
   "outputs": [
    {
     "data": {
      "text/plain": [
       "(7352, 1)"
      ]
     },
     "execution_count": 33,
     "metadata": {},
     "output_type": "execute_result"
    }
   ],
   "source": [
    "body_acc_x_train_mad.shape   #f24\n",
    "body_acc_y_train_mad.shape    #f25\n",
    "body_acc_z_train_mad.shape    #f26\n",
    "body_gyro_x_train_mad.shape   #f27\n",
    "body_gyro_y_train_mad.shape   #f28\n",
    "body_gyro_z_train_mad.shape   #f29\n",
    "total_acc_x_train_mad.shape   #f30\n",
    "total_acc_y_train_mad.shape   #f31\n",
    "total_acc_z_train_mad.shape   #f32"
   ]
  },
  {
   "cell_type": "code",
   "execution_count": 34,
   "id": "5b0765db",
   "metadata": {
    "execution": {
     "iopub.execute_input": "2024-05-07T09:20:44.173863Z",
     "iopub.status.busy": "2024-05-07T09:20:44.173317Z",
     "iopub.status.idle": "2024-05-07T09:20:44.213015Z",
     "shell.execute_reply": "2024-05-07T09:20:44.212055Z"
    },
    "papermill": {
     "duration": 0.065076,
     "end_time": "2024-05-07T09:20:44.215684",
     "exception": false,
     "start_time": "2024-05-07T09:20:44.150608",
     "status": "completed"
    },
    "tags": []
   },
   "outputs": [],
   "source": [
    "body_acc_x_train_std=np.std(body_acc_x_train,axis=1) #f33\n",
    "body_acc_y_train_std=np.std(body_acc_y_train,axis=1)  #f34\n",
    "body_acc_z_train_std=np.std(body_acc_z_train,axis=1)  #f35\n",
    "body_gyro_x_train_std=np.std(body_gyro_x_train,axis=1)   #f36\n",
    "body_gyro_y_train_std=np.std(body_gyro_y_train,axis=1)   #f37\n",
    "body_gyro_z_train_std=np.std(body_gyro_z_train,axis=1)   #f38\n",
    "total_acc_x_train_std=np.std(total_acc_x_train,axis=1)   #39\n",
    "total_acc_y_train_std=np.std(total_acc_y_train,axis=1)   #40\n",
    "total_acc_z_train_std=np.std(total_acc_z_train,axis=1)   #41"
   ]
  },
  {
   "cell_type": "code",
   "execution_count": 35,
   "id": "98aa522b",
   "metadata": {
    "execution": {
     "iopub.execute_input": "2024-05-07T09:20:44.264702Z",
     "iopub.status.busy": "2024-05-07T09:20:44.264020Z",
     "iopub.status.idle": "2024-05-07T09:20:44.271120Z",
     "shell.execute_reply": "2024-05-07T09:20:44.270256Z"
    },
    "papermill": {
     "duration": 0.032029,
     "end_time": "2024-05-07T09:20:44.273079",
     "exception": false,
     "start_time": "2024-05-07T09:20:44.241050",
     "status": "completed"
    },
    "tags": []
   },
   "outputs": [],
   "source": [
    "body_acc_x_train_std=body_acc_x_train_std.reshape(7352,1)\n",
    "body_acc_y_train_std=body_acc_y_train_std.reshape(7352,1)\n",
    "body_acc_z_train_std=body_acc_z_train_std.reshape(7352,1)\n",
    "\n",
    "body_gyro_x_train_std=body_gyro_x_train_std.reshape(7352,1)\n",
    "body_gyro_y_train_std=body_gyro_y_train_std.reshape(7352,1)\n",
    "body_gyro_z_train_std=body_gyro_z_train_std.reshape(7352,1)\n",
    "\n",
    "total_acc_x_train_std=total_acc_x_train_std.reshape(7352,1)\n",
    "total_acc_y_train_std=total_acc_y_train_std.reshape(7352,1)\n",
    "total_acc_z_train_std=total_acc_z_train_std.reshape(7352,1)"
   ]
  },
  {
   "cell_type": "code",
   "execution_count": null,
   "id": "2650ab64",
   "metadata": {
    "papermill": {
     "duration": 0.021236,
     "end_time": "2024-05-07T09:20:44.315607",
     "exception": false,
     "start_time": "2024-05-07T09:20:44.294371",
     "status": "completed"
    },
    "tags": []
   },
   "outputs": [],
   "source": []
  },
  {
   "cell_type": "code",
   "execution_count": 36,
   "id": "afad053b",
   "metadata": {
    "execution": {
     "iopub.execute_input": "2024-05-07T09:20:44.359567Z",
     "iopub.status.busy": "2024-05-07T09:20:44.359189Z",
     "iopub.status.idle": "2024-05-07T09:20:44.365843Z",
     "shell.execute_reply": "2024-05-07T09:20:44.364962Z"
    },
    "papermill": {
     "duration": 0.030975,
     "end_time": "2024-05-07T09:20:44.367718",
     "exception": false,
     "start_time": "2024-05-07T09:20:44.336743",
     "status": "completed"
    },
    "tags": []
   },
   "outputs": [],
   "source": [
    "costhetax=np.zeros((7352,128))\n",
    "costhetay=np.zeros((7352,128))\n",
    "costhetaz=np.zeros((7352,128))"
   ]
  },
  {
   "cell_type": "code",
   "execution_count": 37,
   "id": "ff56b989",
   "metadata": {
    "execution": {
     "iopub.execute_input": "2024-05-07T09:20:44.413774Z",
     "iopub.status.busy": "2024-05-07T09:20:44.413479Z",
     "iopub.status.idle": "2024-05-07T09:20:44.490467Z",
     "shell.execute_reply": "2024-05-07T09:20:44.489632Z"
    },
    "papermill": {
     "duration": 0.101812,
     "end_time": "2024-05-07T09:20:44.492764",
     "exception": false,
     "start_time": "2024-05-07T09:20:44.390952",
     "status": "completed"
    },
    "tags": []
   },
   "outputs": [],
   "source": [
    "for i in range(0,7352):\n",
    "    costhetax[i]=np.cos(thetax[i])\n",
    "    \n",
    "for i in range(0,7352):\n",
    "    costhetay[i]=np.cos(thetay[i])\n",
    "    \n",
    "for i in range(0,7352):\n",
    "    costhetaz[i]=np.cos(thetaz[i])"
   ]
  },
  {
   "cell_type": "code",
   "execution_count": 38,
   "id": "da48fd66",
   "metadata": {
    "execution": {
     "iopub.execute_input": "2024-05-07T09:20:44.537846Z",
     "iopub.status.busy": "2024-05-07T09:20:44.537494Z",
     "iopub.status.idle": "2024-05-07T09:20:44.543293Z",
     "shell.execute_reply": "2024-05-07T09:20:44.542512Z"
    },
    "papermill": {
     "duration": 0.030542,
     "end_time": "2024-05-07T09:20:44.545216",
     "exception": false,
     "start_time": "2024-05-07T09:20:44.514674",
     "status": "completed"
    },
    "tags": []
   },
   "outputs": [
    {
     "data": {
      "text/plain": [
       "(7352, 128)"
      ]
     },
     "execution_count": 38,
     "metadata": {},
     "output_type": "execute_result"
    }
   ],
   "source": [
    "costhetax.shape"
   ]
  },
  {
   "cell_type": "code",
   "execution_count": 39,
   "id": "41b295f3",
   "metadata": {
    "execution": {
     "iopub.execute_input": "2024-05-07T09:20:44.590414Z",
     "iopub.status.busy": "2024-05-07T09:20:44.589671Z",
     "iopub.status.idle": "2024-05-07T09:20:44.604662Z",
     "shell.execute_reply": "2024-05-07T09:20:44.603926Z"
    },
    "papermill": {
     "duration": 0.039657,
     "end_time": "2024-05-07T09:20:44.606713",
     "exception": false,
     "start_time": "2024-05-07T09:20:44.567056",
     "status": "completed"
    },
    "tags": []
   },
   "outputs": [],
   "source": [
    "Vertical_acc = np.multiply(body_acc_x_train,costhetax) + np.multiply(body_acc_y_train,costhetay) + np.multiply(body_acc_z_train,costhetaz)"
   ]
  },
  {
   "cell_type": "code",
   "execution_count": 40,
   "id": "daf1f983",
   "metadata": {
    "execution": {
     "iopub.execute_input": "2024-05-07T09:20:44.652194Z",
     "iopub.status.busy": "2024-05-07T09:20:44.651872Z",
     "iopub.status.idle": "2024-05-07T09:20:44.657516Z",
     "shell.execute_reply": "2024-05-07T09:20:44.656680Z"
    },
    "papermill": {
     "duration": 0.030366,
     "end_time": "2024-05-07T09:20:44.659480",
     "exception": false,
     "start_time": "2024-05-07T09:20:44.629114",
     "status": "completed"
    },
    "tags": []
   },
   "outputs": [
    {
     "data": {
      "text/plain": [
       "(7352, 128)"
      ]
     },
     "execution_count": 40,
     "metadata": {},
     "output_type": "execute_result"
    }
   ],
   "source": [
    "Vertical_acc.shape "
   ]
  },
  {
   "cell_type": "code",
   "execution_count": 41,
   "id": "26b5f1b0",
   "metadata": {
    "execution": {
     "iopub.execute_input": "2024-05-07T09:20:44.704623Z",
     "iopub.status.busy": "2024-05-07T09:20:44.704343Z",
     "iopub.status.idle": "2024-05-07T09:20:44.718725Z",
     "shell.execute_reply": "2024-05-07T09:20:44.717848Z"
    },
    "papermill": {
     "duration": 0.039236,
     "end_time": "2024-05-07T09:20:44.720826",
     "exception": false,
     "start_time": "2024-05-07T09:20:44.681590",
     "status": "completed"
    },
    "tags": []
   },
   "outputs": [],
   "source": [
    "Horizontal_acc= np.sqrt(np.square(body_acc_x_train) + np.square(body_acc_y_train) + np.square(body_acc_z_train) - np.square(Vertical_acc))"
   ]
  },
  {
   "cell_type": "code",
   "execution_count": 42,
   "id": "3f25780c",
   "metadata": {
    "execution": {
     "iopub.execute_input": "2024-05-07T09:20:44.766567Z",
     "iopub.status.busy": "2024-05-07T09:20:44.766272Z",
     "iopub.status.idle": "2024-05-07T09:20:44.771893Z",
     "shell.execute_reply": "2024-05-07T09:20:44.770991Z"
    },
    "papermill": {
     "duration": 0.030931,
     "end_time": "2024-05-07T09:20:44.773817",
     "exception": false,
     "start_time": "2024-05-07T09:20:44.742886",
     "status": "completed"
    },
    "tags": []
   },
   "outputs": [
    {
     "data": {
      "text/plain": [
       "(7352, 128)"
      ]
     },
     "execution_count": 42,
     "metadata": {},
     "output_type": "execute_result"
    }
   ],
   "source": [
    "Horizontal_acc.shape"
   ]
  },
  {
   "cell_type": "code",
   "execution_count": 43,
   "id": "25937b2a",
   "metadata": {
    "execution": {
     "iopub.execute_input": "2024-05-07T09:20:44.819215Z",
     "iopub.status.busy": "2024-05-07T09:20:44.818926Z",
     "iopub.status.idle": "2024-05-07T09:20:44.831339Z",
     "shell.execute_reply": "2024-05-07T09:20:44.830635Z"
    },
    "papermill": {
     "duration": 0.03737,
     "end_time": "2024-05-07T09:20:44.833466",
     "exception": false,
     "start_time": "2024-05-07T09:20:44.796096",
     "status": "completed"
    },
    "tags": []
   },
   "outputs": [],
   "source": [
    "Vertical_acc_mean=np.mean(Vertical_acc,axis=1)  \n",
    "Vertical_acc_std=np.std(Vertical_acc,axis=1)\n",
    "\n",
    "Horizontal_acc_mean=np.mean(Horizontal_acc,axis=1)  \n",
    "Horizontal_acc_std=np.std(Horizontal_acc,axis=1)"
   ]
  },
  {
   "cell_type": "code",
   "execution_count": 44,
   "id": "99d009e8",
   "metadata": {
    "execution": {
     "iopub.execute_input": "2024-05-07T09:20:44.878715Z",
     "iopub.status.busy": "2024-05-07T09:20:44.878412Z",
     "iopub.status.idle": "2024-05-07T09:20:44.883382Z",
     "shell.execute_reply": "2024-05-07T09:20:44.882558Z"
    },
    "papermill": {
     "duration": 0.029568,
     "end_time": "2024-05-07T09:20:44.885425",
     "exception": false,
     "start_time": "2024-05-07T09:20:44.855857",
     "status": "completed"
    },
    "tags": []
   },
   "outputs": [
    {
     "name": "stdout",
     "output_type": "stream",
     "text": [
      "(7352,)\n",
      "(7352,)\n",
      "(7352,)\n",
      "(7352,)\n"
     ]
    }
   ],
   "source": [
    "print(Vertical_acc_mean.shape)\n",
    "print(Vertical_acc_std.shape)\n",
    "\n",
    "print(Horizontal_acc_mean.shape)\n",
    "print(Horizontal_acc_std.shape)\n",
    "\n"
   ]
  },
  {
   "cell_type": "code",
   "execution_count": 45,
   "id": "752a488f",
   "metadata": {
    "execution": {
     "iopub.execute_input": "2024-05-07T09:20:44.929914Z",
     "iopub.status.busy": "2024-05-07T09:20:44.929621Z",
     "iopub.status.idle": "2024-05-07T09:20:44.934209Z",
     "shell.execute_reply": "2024-05-07T09:20:44.933401Z"
    },
    "papermill": {
     "duration": 0.028973,
     "end_time": "2024-05-07T09:20:44.936020",
     "exception": false,
     "start_time": "2024-05-07T09:20:44.907047",
     "status": "completed"
    },
    "tags": []
   },
   "outputs": [],
   "source": [
    "Vertical_acc_mean=Vertical_acc_mean.reshape(7352,1)  \n",
    "Vertical_acc_std=Vertical_acc_std.reshape(7352,1)\n",
    "\n",
    "Horizontal_acc_mean=Horizontal_acc_mean.reshape(7352,1)  \n",
    "Horizontal_acc_std=Horizontal_acc_std.reshape(7352,1)"
   ]
  },
  {
   "cell_type": "code",
   "execution_count": 46,
   "id": "d8d4fb76",
   "metadata": {
    "execution": {
     "iopub.execute_input": "2024-05-07T09:20:44.981916Z",
     "iopub.status.busy": "2024-05-07T09:20:44.981209Z",
     "iopub.status.idle": "2024-05-07T09:20:44.986393Z",
     "shell.execute_reply": "2024-05-07T09:20:44.985378Z"
    },
    "papermill": {
     "duration": 0.030738,
     "end_time": "2024-05-07T09:20:44.988290",
     "exception": false,
     "start_time": "2024-05-07T09:20:44.957552",
     "status": "completed"
    },
    "tags": []
   },
   "outputs": [
    {
     "name": "stdout",
     "output_type": "stream",
     "text": [
      "(7352, 1)\n",
      "(7352, 1)\n",
      "(7352, 1)\n",
      "(7352, 1)\n"
     ]
    }
   ],
   "source": [
    "print(Vertical_acc_mean.shape)  #42\n",
    "print(Vertical_acc_std.shape)   #43\n",
    "\n",
    "print(Horizontal_acc_mean.shape)  #44\n",
    "print(Horizontal_acc_std.shape)   #45\n"
   ]
  },
  {
   "cell_type": "code",
   "execution_count": 47,
   "id": "c68827fc",
   "metadata": {
    "execution": {
     "iopub.execute_input": "2024-05-07T09:20:45.033327Z",
     "iopub.status.busy": "2024-05-07T09:20:45.032679Z",
     "iopub.status.idle": "2024-05-07T09:20:45.082887Z",
     "shell.execute_reply": "2024-05-07T09:20:45.082010Z"
    },
    "papermill": {
     "duration": 0.074852,
     "end_time": "2024-05-07T09:20:45.085048",
     "exception": false,
     "start_time": "2024-05-07T09:20:45.010196",
     "status": "completed"
    },
    "tags": []
   },
   "outputs": [],
   "source": [
    "import matplotlib.pyplot as plt\n",
    "from scipy import signal"
   ]
  },
  {
   "cell_type": "code",
   "execution_count": 48,
   "id": "8beba5f2",
   "metadata": {
    "execution": {
     "iopub.execute_input": "2024-05-07T09:20:45.130622Z",
     "iopub.status.busy": "2024-05-07T09:20:45.130324Z",
     "iopub.status.idle": "2024-05-07T09:20:45.136531Z",
     "shell.execute_reply": "2024-05-07T09:20:45.135846Z"
    },
    "papermill": {
     "duration": 0.031121,
     "end_time": "2024-05-07T09:20:45.138454",
     "exception": false,
     "start_time": "2024-05-07T09:20:45.107333",
     "status": "completed"
    },
    "tags": []
   },
   "outputs": [],
   "source": [
    "spectra_bx=np.zeros((7352,65))\n",
    "spectra_by=np.zeros((7352,65))\n",
    "spectra_bz=np.zeros((7352,65))\n",
    "\n",
    "freq_bx=np.zeros((7352,65))\n",
    "freq_by=np.zeros((7352,65))\n",
    "freq_bz=np.zeros((7352,65))"
   ]
  },
  {
   "cell_type": "code",
   "execution_count": 49,
   "id": "5f379dff",
   "metadata": {
    "execution": {
     "iopub.execute_input": "2024-05-07T09:20:45.185434Z",
     "iopub.status.busy": "2024-05-07T09:20:45.184639Z",
     "iopub.status.idle": "2024-05-07T09:20:48.009581Z",
     "shell.execute_reply": "2024-05-07T09:20:48.008774Z"
    },
    "papermill": {
     "duration": 2.8512,
     "end_time": "2024-05-07T09:20:48.011990",
     "exception": false,
     "start_time": "2024-05-07T09:20:45.160790",
     "status": "completed"
    },
    "tags": []
   },
   "outputs": [],
   "source": [
    "for i in range(0,7352):\n",
    "    # The suitable value for fs would be 0.25 Hz as the time step is 4 s.\n",
    "    freq_bx[i], spectra_bx[i] = signal.periodogram(body_acc_x_train[i], fs=0.50)\n",
    "    \n",
    "for i in range(0,7352):\n",
    "    # The suitable value for fs would be 0.25 Hz as the time step is 4 s.\n",
    "    freq_by[i], spectra_by[i] = signal.periodogram(body_acc_y_train[i], fs=0.50)\n",
    "\n",
    "for i in range(0,7352):\n",
    "    # The suitable value for fs would be 0.25 Hz as the time step is 4 s.\n",
    "    freq_bz[i], spectra_bz[i] = signal.periodogram(body_acc_z_train[i], fs=0.50)\n"
   ]
  },
  {
   "cell_type": "code",
   "execution_count": 50,
   "id": "c6eef5fd",
   "metadata": {
    "execution": {
     "iopub.execute_input": "2024-05-07T09:20:48.058546Z",
     "iopub.status.busy": "2024-05-07T09:20:48.057815Z",
     "iopub.status.idle": "2024-05-07T09:20:48.064877Z",
     "shell.execute_reply": "2024-05-07T09:20:48.064043Z"
    },
    "papermill": {
     "duration": 0.03185,
     "end_time": "2024-05-07T09:20:48.066785",
     "exception": false,
     "start_time": "2024-05-07T09:20:48.034935",
     "status": "completed"
    },
    "tags": []
   },
   "outputs": [],
   "source": [
    "# peak height in the power spectrum is an estimate of the RMS amplitude.\n",
    "ph_RMS_amp_bx = np.sqrt(np.amax(spectra_bx,axis=1))\n",
    "ph_RMS_amp_by = np.sqrt(np.amax(spectra_by,axis=1))\n",
    "ph_RMS_amp_bz = np.sqrt(np.amax(spectra_bz,axis=1))"
   ]
  },
  {
   "cell_type": "code",
   "execution_count": 51,
   "id": "b0a5e93e",
   "metadata": {
    "execution": {
     "iopub.execute_input": "2024-05-07T09:20:48.111560Z",
     "iopub.status.busy": "2024-05-07T09:20:48.111067Z",
     "iopub.status.idle": "2024-05-07T09:20:48.116312Z",
     "shell.execute_reply": "2024-05-07T09:20:48.115528Z"
    },
    "papermill": {
     "duration": 0.029634,
     "end_time": "2024-05-07T09:20:48.118191",
     "exception": false,
     "start_time": "2024-05-07T09:20:48.088557",
     "status": "completed"
    },
    "tags": []
   },
   "outputs": [
    {
     "data": {
      "text/plain": [
       "(7352,)"
      ]
     },
     "execution_count": 51,
     "metadata": {},
     "output_type": "execute_result"
    }
   ],
   "source": [
    "ph_RMS_amp_bx.shape"
   ]
  },
  {
   "cell_type": "code",
   "execution_count": 52,
   "id": "b147d3ab",
   "metadata": {
    "execution": {
     "iopub.execute_input": "2024-05-07T09:20:48.163230Z",
     "iopub.status.busy": "2024-05-07T09:20:48.162946Z",
     "iopub.status.idle": "2024-05-07T09:20:48.168613Z",
     "shell.execute_reply": "2024-05-07T09:20:48.167925Z"
    },
    "papermill": {
     "duration": 0.030504,
     "end_time": "2024-05-07T09:20:48.170541",
     "exception": false,
     "start_time": "2024-05-07T09:20:48.140037",
     "status": "completed"
    },
    "tags": []
   },
   "outputs": [],
   "source": [
    "spectra_gx=np.zeros((7352,65))\n",
    "spectra_gy=np.zeros((7352,65))\n",
    "spectra_gz=np.zeros((7352,65))\n",
    "\n",
    "freq_gx=np.zeros((7352,65))\n",
    "freq_gy=np.zeros((7352,65))\n",
    "freq_gz=np.zeros((7352,65))"
   ]
  },
  {
   "cell_type": "code",
   "execution_count": 53,
   "id": "acdb2560",
   "metadata": {
    "execution": {
     "iopub.execute_input": "2024-05-07T09:20:48.217349Z",
     "iopub.status.busy": "2024-05-07T09:20:48.216669Z",
     "iopub.status.idle": "2024-05-07T09:20:51.079318Z",
     "shell.execute_reply": "2024-05-07T09:20:51.078539Z"
    },
    "papermill": {
     "duration": 2.889013,
     "end_time": "2024-05-07T09:20:51.081650",
     "exception": false,
     "start_time": "2024-05-07T09:20:48.192637",
     "status": "completed"
    },
    "tags": []
   },
   "outputs": [],
   "source": [
    "for i in range(0,7352):\n",
    "    # The suitable value for fs would be 0.25 Hz as the time step is 4 s.\n",
    "    freq_gx[i], spectra_gx[i] = signal.periodogram(body_gyro_x_train[i], fs=0.50)\n",
    "    \n",
    "for i in range(0,7352):\n",
    "    # The suitable value for fs would be 0.25 Hz as the time step is 4 s.\n",
    "    freq_gy[i], spectra_gy[i] = signal.periodogram(body_gyro_y_train[i], fs=0.50)\n",
    "\n",
    "for i in range(0,7352):\n",
    "    # The suitable value for fs would be 0.25 Hz as the time step is 4 s.\n",
    "    freq_gz[i], spectra_gz[i] = signal.periodogram(body_gyro_z_train[i], fs=0.50)\n"
   ]
  },
  {
   "cell_type": "code",
   "execution_count": 54,
   "id": "a8b66fe6",
   "metadata": {
    "execution": {
     "iopub.execute_input": "2024-05-07T09:20:51.127676Z",
     "iopub.status.busy": "2024-05-07T09:20:51.126946Z",
     "iopub.status.idle": "2024-05-07T09:20:51.134304Z",
     "shell.execute_reply": "2024-05-07T09:20:51.133444Z"
    },
    "papermill": {
     "duration": 0.032035,
     "end_time": "2024-05-07T09:20:51.136093",
     "exception": false,
     "start_time": "2024-05-07T09:20:51.104058",
     "status": "completed"
    },
    "tags": []
   },
   "outputs": [],
   "source": [
    "# peak height in the power spectrum is an estimate of the RMS amplitude.\n",
    "ph_RMS_amp_gx = np.sqrt(np.amax(spectra_gx,axis=1))\n",
    "ph_RMS_amp_gy = np.sqrt(np.amax(spectra_gy,axis=1))\n",
    "ph_RMS_amp_gz = np.sqrt(np.amax(spectra_gz,axis=1))"
   ]
  },
  {
   "cell_type": "code",
   "execution_count": 55,
   "id": "6437e42c",
   "metadata": {
    "execution": {
     "iopub.execute_input": "2024-05-07T09:20:51.181586Z",
     "iopub.status.busy": "2024-05-07T09:20:51.181313Z",
     "iopub.status.idle": "2024-05-07T09:20:51.186423Z",
     "shell.execute_reply": "2024-05-07T09:20:51.185620Z"
    },
    "papermill": {
     "duration": 0.029948,
     "end_time": "2024-05-07T09:20:51.188325",
     "exception": false,
     "start_time": "2024-05-07T09:20:51.158377",
     "status": "completed"
    },
    "tags": []
   },
   "outputs": [
    {
     "data": {
      "text/plain": [
       "(7352,)"
      ]
     },
     "execution_count": 55,
     "metadata": {},
     "output_type": "execute_result"
    }
   ],
   "source": [
    "ph_RMS_amp_gx.shape"
   ]
  },
  {
   "cell_type": "code",
   "execution_count": 56,
   "id": "f2f149bd",
   "metadata": {
    "execution": {
     "iopub.execute_input": "2024-05-07T09:20:51.234633Z",
     "iopub.status.busy": "2024-05-07T09:20:51.234376Z",
     "iopub.status.idle": "2024-05-07T09:20:51.240101Z",
     "shell.execute_reply": "2024-05-07T09:20:51.239426Z"
    },
    "papermill": {
     "duration": 0.030604,
     "end_time": "2024-05-07T09:20:51.242051",
     "exception": false,
     "start_time": "2024-05-07T09:20:51.211447",
     "status": "completed"
    },
    "tags": []
   },
   "outputs": [],
   "source": [
    "spectra_tx=np.zeros((7352,65))\n",
    "spectra_ty=np.zeros((7352,65))\n",
    "spectra_tz=np.zeros((7352,65))\n",
    "\n",
    "freq_tx=np.zeros((7352,65))\n",
    "freq_ty=np.zeros((7352,65))\n",
    "freq_tz=np.zeros((7352,65))"
   ]
  },
  {
   "cell_type": "code",
   "execution_count": 57,
   "id": "2c7a0b5c",
   "metadata": {
    "execution": {
     "iopub.execute_input": "2024-05-07T09:20:51.287369Z",
     "iopub.status.busy": "2024-05-07T09:20:51.286847Z",
     "iopub.status.idle": "2024-05-07T09:20:54.188989Z",
     "shell.execute_reply": "2024-05-07T09:20:54.187852Z"
    },
    "papermill": {
     "duration": 2.927405,
     "end_time": "2024-05-07T09:20:54.191447",
     "exception": false,
     "start_time": "2024-05-07T09:20:51.264042",
     "status": "completed"
    },
    "tags": []
   },
   "outputs": [],
   "source": [
    "for i in range(0,7352):\n",
    "    # The suitable value for fs would be 0.25 Hz as the time step is 4 s.\n",
    "    freq_tx[i], spectra_tx[i] = signal.periodogram(total_acc_x_train[i], fs=0.50)\n",
    "    \n",
    "for i in range(0,7352):\n",
    "    # The suitable value for fs would be 0.25 Hz as the time step is 4 s.\n",
    "    freq_ty[i], spectra_ty[i] = signal.periodogram(total_acc_y_train[i], fs=0.50)\n",
    "\n",
    "for i in range(0,7352):\n",
    "    # The suitable value for fs would be 0.25 Hz as the time step is 4 s.\n",
    "    freq_tz[i], spectra_tz[i] = signal.periodogram(total_acc_z_train[i], fs=0.50)\n"
   ]
  },
  {
   "cell_type": "code",
   "execution_count": 58,
   "id": "cc50b8e4",
   "metadata": {
    "execution": {
     "iopub.execute_input": "2024-05-07T09:20:54.239224Z",
     "iopub.status.busy": "2024-05-07T09:20:54.238920Z",
     "iopub.status.idle": "2024-05-07T09:20:54.245465Z",
     "shell.execute_reply": "2024-05-07T09:20:54.244762Z"
    },
    "papermill": {
     "duration": 0.032696,
     "end_time": "2024-05-07T09:20:54.247393",
     "exception": false,
     "start_time": "2024-05-07T09:20:54.214697",
     "status": "completed"
    },
    "tags": []
   },
   "outputs": [],
   "source": [
    "# peak height in the power spectrum is an estimate of the RMS amplitude.\n",
    "ph_RMS_amp_tx = np.sqrt(np.amax(spectra_tx,axis=1))\n",
    "ph_RMS_amp_ty = np.sqrt(np.amax(spectra_ty,axis=1))\n",
    "ph_RMS_amp_tz = np.sqrt(np.amax(spectra_tz,axis=1))"
   ]
  },
  {
   "cell_type": "code",
   "execution_count": 59,
   "id": "b2060b3a",
   "metadata": {
    "execution": {
     "iopub.execute_input": "2024-05-07T09:20:54.295172Z",
     "iopub.status.busy": "2024-05-07T09:20:54.294414Z",
     "iopub.status.idle": "2024-05-07T09:20:54.300543Z",
     "shell.execute_reply": "2024-05-07T09:20:54.299627Z"
    },
    "papermill": {
     "duration": 0.033237,
     "end_time": "2024-05-07T09:20:54.302619",
     "exception": false,
     "start_time": "2024-05-07T09:20:54.269382",
     "status": "completed"
    },
    "tags": []
   },
   "outputs": [
    {
     "data": {
      "text/plain": [
       "(7352,)"
      ]
     },
     "execution_count": 59,
     "metadata": {},
     "output_type": "execute_result"
    }
   ],
   "source": [
    "ph_RMS_amp_tx.shape"
   ]
  },
  {
   "cell_type": "code",
   "execution_count": 60,
   "id": "f22b0c76",
   "metadata": {
    "execution": {
     "iopub.execute_input": "2024-05-07T09:20:54.354519Z",
     "iopub.status.busy": "2024-05-07T09:20:54.354123Z",
     "iopub.status.idle": "2024-05-07T09:20:54.360640Z",
     "shell.execute_reply": "2024-05-07T09:20:54.359636Z"
    },
    "papermill": {
     "duration": 0.034808,
     "end_time": "2024-05-07T09:20:54.362775",
     "exception": false,
     "start_time": "2024-05-07T09:20:54.327967",
     "status": "completed"
    },
    "tags": []
   },
   "outputs": [],
   "source": [
    "ph_RMS_amp_bx = ph_RMS_amp_bx.reshape(7352,1)  #f46\n",
    "ph_RMS_amp_by = ph_RMS_amp_by.reshape(7352,1)  #f47\n",
    "ph_RMS_amp_bz = ph_RMS_amp_bz.reshape(7352,1)  #f48\n",
    "\n",
    "ph_RMS_amp_gx = ph_RMS_amp_gx.reshape(7352,1)  #f49\n",
    "ph_RMS_amp_gy = ph_RMS_amp_gy.reshape(7352,1)  #f50\n",
    "ph_RMS_amp_gz = ph_RMS_amp_gz.reshape(7352,1)  #f51\n",
    "\n",
    "ph_RMS_amp_tx = ph_RMS_amp_tx.reshape(7352,1)  #f52\n",
    "ph_RMS_amp_ty = ph_RMS_amp_ty.reshape(7352,1)  #f53\n",
    "ph_RMS_amp_tz = ph_RMS_amp_tz.reshape(7352,1)  #f54"
   ]
  },
  {
   "cell_type": "code",
   "execution_count": 61,
   "id": "019e2423",
   "metadata": {
    "execution": {
     "iopub.execute_input": "2024-05-07T09:20:54.413358Z",
     "iopub.status.busy": "2024-05-07T09:20:54.412991Z",
     "iopub.status.idle": "2024-05-07T09:20:54.419106Z",
     "shell.execute_reply": "2024-05-07T09:20:54.418150Z"
    },
    "papermill": {
     "duration": 0.033555,
     "end_time": "2024-05-07T09:20:54.421131",
     "exception": false,
     "start_time": "2024-05-07T09:20:54.387576",
     "status": "completed"
    },
    "tags": []
   },
   "outputs": [
    {
     "data": {
      "text/plain": [
       "(7352, 1)"
      ]
     },
     "execution_count": 61,
     "metadata": {},
     "output_type": "execute_result"
    }
   ],
   "source": [
    "ph_RMS_amp_tx.shape"
   ]
  },
  {
   "cell_type": "code",
   "execution_count": 62,
   "id": "af372f99",
   "metadata": {
    "execution": {
     "iopub.execute_input": "2024-05-07T09:20:54.470014Z",
     "iopub.status.busy": "2024-05-07T09:20:54.469346Z",
     "iopub.status.idle": "2024-05-07T09:20:54.478224Z",
     "shell.execute_reply": "2024-05-07T09:20:54.477474Z"
    },
    "papermill": {
     "duration": 0.034889,
     "end_time": "2024-05-07T09:20:54.480100",
     "exception": false,
     "start_time": "2024-05-07T09:20:54.445211",
     "status": "completed"
    },
    "tags": []
   },
   "outputs": [],
   "source": [
    "q1_body_acc_x_train=np.zeros((7352,1))\n",
    "q3_body_acc_x_train=np.zeros((7352,1))\n",
    "\n",
    "q1_body_acc_y_train=np.zeros((7352,1))\n",
    "q3_body_acc_y_train=np.zeros((7352,1))\n",
    "\n",
    "q1_body_acc_z_train=np.zeros((7352,1))\n",
    "q3_body_acc_z_train=np.zeros((7352,1))\n",
    "\n",
    "q1_body_gyro_x_train=np.zeros((7352,1))\n",
    "q3_body_gyro_x_train=np.zeros((7352,1))\n",
    "\n",
    "q1_body_gyro_y_train=np.zeros((7352,1))\n",
    "q3_body_gyro_y_train=np.zeros((7352,1))\n",
    "\n",
    "q1_body_gyro_z_train=np.zeros((7352,1))\n",
    "q3_body_gyro_z_train=np.zeros((7352,1))\n",
    "\n",
    "q1_total_acc_x_train=np.zeros((7352,1))\n",
    "q3_total_acc_x_train=np.zeros((7352,1))\n",
    "\n",
    "q1_total_acc_y_train=np.zeros((7352,1))\n",
    "q3_total_acc_y_train=np.zeros((7352,1))\n",
    "\n",
    "q1_total_acc_z_train=np.zeros((7352,1))\n",
    "q3_total_acc_z_train=np.zeros((7352,1))\n"
   ]
  },
  {
   "cell_type": "code",
   "execution_count": 63,
   "id": "6c091233",
   "metadata": {
    "execution": {
     "iopub.execute_input": "2024-05-07T09:20:54.527814Z",
     "iopub.status.busy": "2024-05-07T09:20:54.527180Z",
     "iopub.status.idle": "2024-05-07T09:21:09.806706Z",
     "shell.execute_reply": "2024-05-07T09:21:09.805915Z"
    },
    "papermill": {
     "duration": 15.305262,
     "end_time": "2024-05-07T09:21:09.808958",
     "exception": false,
     "start_time": "2024-05-07T09:20:54.503696",
     "status": "completed"
    },
    "tags": []
   },
   "outputs": [],
   "source": [
    "for i in range(0,7352):\n",
    "    q1_body_acc_x_train[i] = np.percentile(body_acc_x_train[i], 25)\n",
    "    q3_body_acc_x_train[i] = np.percentile(body_acc_x_train[i], 75)\n",
    "\n",
    "    q1_body_acc_y_train[i] = np.percentile(body_acc_y_train[i], 25)\n",
    "    q3_body_acc_y_train[i] = np.percentile(body_acc_y_train[i], 75)\n",
    "\n",
    "    q1_body_acc_z_train[i] = np.percentile(body_acc_z_train[i], 25)\n",
    "    q3_body_acc_z_train[i] = np.percentile(body_acc_z_train[i], 75)\n",
    "\n",
    "    q1_body_gyro_x_train[i] = np.percentile(body_gyro_x_train[i], 25)\n",
    "    q3_body_gyro_x_train[i] = np.percentile(body_gyro_x_train[i], 75)\n",
    "\n",
    "    q1_body_gyro_y_train[i] = np.percentile(body_gyro_y_train[i], 25)\n",
    "    q3_body_gyro_y_train[i] = np.percentile(body_gyro_y_train[i], 75)\n",
    "\n",
    "    q1_body_gyro_z_train[i] = np.percentile(body_gyro_z_train[i], 25)\n",
    "    q3_body_gyro_z_train[i] = np.percentile(body_gyro_z_train[i], 75)\n",
    "\n",
    "    q1_total_acc_x_train[i] = np.percentile(total_acc_x_train[i], 25)\n",
    "    q3_total_acc_x_train[i] = np.percentile(total_acc_x_train[i], 75)\n",
    "\n",
    "    q1_total_acc_y_train[i] = np.percentile(total_acc_y_train[i], 25)\n",
    "    q3_total_acc_y_train[i] = np.percentile(total_acc_y_train[i], 75)\n",
    "\n",
    "    q1_total_acc_z_train[i] = np.percentile(total_acc_z_train[i], 25)\n",
    "    q3_total_acc_z_train[i] = np.percentile(total_acc_z_train[i], 75)"
   ]
  },
  {
   "cell_type": "code",
   "execution_count": 64,
   "id": "72cb9db7",
   "metadata": {
    "execution": {
     "iopub.execute_input": "2024-05-07T09:21:09.857244Z",
     "iopub.status.busy": "2024-05-07T09:21:09.856496Z",
     "iopub.status.idle": "2024-05-07T09:21:09.864445Z",
     "shell.execute_reply": "2024-05-07T09:21:09.863604Z"
    },
    "papermill": {
     "duration": 0.034841,
     "end_time": "2024-05-07T09:21:09.866598",
     "exception": false,
     "start_time": "2024-05-07T09:21:09.831757",
     "status": "completed"
    },
    "tags": []
   },
   "outputs": [
    {
     "name": "stdout",
     "output_type": "stream",
     "text": [
      "(7352, 1)\n",
      "(7352, 1)\n",
      "(7352, 1)\n",
      "(7352, 1)\n",
      "(7352, 1)\n",
      "(7352, 1)\n",
      "(7352, 1)\n",
      "(7352, 1)\n",
      "(7352, 1)\n",
      "(7352, 1)\n",
      "(7352, 1)\n",
      "(7352, 1)\n",
      "(7352, 1)\n",
      "(7352, 1)\n",
      "(7352, 1)\n",
      "(7352, 1)\n",
      "(7352, 1)\n",
      "(7352, 1)\n"
     ]
    }
   ],
   "source": [
    "print(q1_body_acc_x_train.shape) #f55\n",
    "print(q3_body_acc_x_train.shape) #f56\n",
    "print(q1_body_acc_y_train.shape) #f57\n",
    "print(q3_body_acc_y_train.shape) #f58\n",
    "print(q1_body_acc_z_train.shape) #f59\n",
    "print(q3_body_acc_z_train.shape) #f60\n",
    "print(q1_body_gyro_x_train.shape) #f61\n",
    "print(q3_body_gyro_x_train.shape) #f62\n",
    "print(q1_body_gyro_y_train.shape) #f63\n",
    "print(q3_body_gyro_y_train.shape) #f64\n",
    "print(q1_body_gyro_z_train.shape) #f65\n",
    "print(q3_body_gyro_z_train.shape) #f66\n",
    "print(q1_total_acc_x_train.shape) #f67\n",
    "print(q3_total_acc_x_train.shape) #f68\n",
    "print(q1_total_acc_y_train.shape) #f69\n",
    "print(q3_total_acc_y_train.shape) #f70\n",
    "print(q1_total_acc_z_train.shape) #f71\n",
    "print(q3_total_acc_z_train.shape) #f72"
   ]
  },
  {
   "cell_type": "code",
   "execution_count": 65,
   "id": "9979ffbe",
   "metadata": {
    "execution": {
     "iopub.execute_input": "2024-05-07T09:21:09.912962Z",
     "iopub.status.busy": "2024-05-07T09:21:09.912631Z",
     "iopub.status.idle": "2024-05-07T09:21:09.918417Z",
     "shell.execute_reply": "2024-05-07T09:21:09.917683Z"
    },
    "papermill": {
     "duration": 0.03113,
     "end_time": "2024-05-07T09:21:09.920262",
     "exception": false,
     "start_time": "2024-05-07T09:21:09.889132",
     "status": "completed"
    },
    "tags": []
   },
   "outputs": [],
   "source": [
    "iqr_bx = q3_body_acc_x_train-q1_body_acc_x_train  #f73\n",
    "iqr_by = q3_body_acc_y_train-q1_body_acc_y_train  #f74\n",
    "iqr_bz = q3_body_acc_z_train-q1_body_acc_z_train  #f75\n",
    "\n",
    "iqr_gx = q3_body_gyro_x_train-q1_body_gyro_x_train #f76\n",
    "iqr_gy = q3_body_gyro_y_train-q1_body_gyro_y_train #f77\n",
    "iqr_gz = q3_body_gyro_z_train-q1_body_gyro_z_train #f78\n",
    "\n",
    "iqr_tx = q3_total_acc_x_train-q1_total_acc_x_train #f79\n",
    "iqr_ty = q3_total_acc_y_train-q1_total_acc_y_train #f80\n",
    "iqr_tz = q3_total_acc_z_train-q1_total_acc_z_train #f81"
   ]
  },
  {
   "cell_type": "code",
   "execution_count": 66,
   "id": "64bafb5d",
   "metadata": {
    "execution": {
     "iopub.execute_input": "2024-05-07T09:21:09.965966Z",
     "iopub.status.busy": "2024-05-07T09:21:09.965682Z",
     "iopub.status.idle": "2024-05-07T09:21:09.970990Z",
     "shell.execute_reply": "2024-05-07T09:21:09.970199Z"
    },
    "papermill": {
     "duration": 0.030317,
     "end_time": "2024-05-07T09:21:09.972871",
     "exception": false,
     "start_time": "2024-05-07T09:21:09.942554",
     "status": "completed"
    },
    "tags": []
   },
   "outputs": [
    {
     "data": {
      "text/plain": [
       "(7352, 1)"
      ]
     },
     "execution_count": 66,
     "metadata": {},
     "output_type": "execute_result"
    }
   ],
   "source": [
    "iqr_bx.shape"
   ]
  },
  {
   "cell_type": "code",
   "execution_count": 67,
   "id": "7974ce72",
   "metadata": {
    "execution": {
     "iopub.execute_input": "2024-05-07T09:21:10.018978Z",
     "iopub.status.busy": "2024-05-07T09:21:10.018631Z",
     "iopub.status.idle": "2024-05-07T09:21:10.024313Z",
     "shell.execute_reply": "2024-05-07T09:21:10.023568Z"
    },
    "papermill": {
     "duration": 0.031078,
     "end_time": "2024-05-07T09:21:10.026209",
     "exception": false,
     "start_time": "2024-05-07T09:21:09.995131",
     "status": "completed"
    },
    "tags": []
   },
   "outputs": [],
   "source": [
    "quartile_dev_bx = (iqr_bx) / 2  #f82\n",
    "quartile_dev_by = (iqr_by) / 2  #f83\n",
    "quartile_dev_bz = (iqr_bz) / 2  #f84\n",
    "\n",
    "quartile_dev_gx = (iqr_gx) / 2  #f85\n",
    "quartile_dev_gy = (iqr_gy) / 2  #f86\n",
    "quartile_dev_gz = (iqr_gz) / 2  #f87\n",
    "\n",
    "quartile_dev_tx = (iqr_tx) / 2  #f88\n",
    "quartile_dev_ty = (iqr_ty) / 2  #f89\n",
    "quartile_dev_tz = (iqr_tz) / 2  #f90"
   ]
  },
  {
   "cell_type": "code",
   "execution_count": 68,
   "id": "db4dd10a",
   "metadata": {
    "execution": {
     "iopub.execute_input": "2024-05-07T09:21:10.072461Z",
     "iopub.status.busy": "2024-05-07T09:21:10.072186Z",
     "iopub.status.idle": "2024-05-07T09:21:10.078498Z",
     "shell.execute_reply": "2024-05-07T09:21:10.077840Z"
    },
    "papermill": {
     "duration": 0.031588,
     "end_time": "2024-05-07T09:21:10.080332",
     "exception": false,
     "start_time": "2024-05-07T09:21:10.048744",
     "status": "completed"
    },
    "tags": []
   },
   "outputs": [
    {
     "data": {
      "text/plain": [
       "(7352, 1)"
      ]
     },
     "execution_count": 68,
     "metadata": {},
     "output_type": "execute_result"
    }
   ],
   "source": [
    "quartile_dev_tz.shape"
   ]
  },
  {
   "cell_type": "code",
   "execution_count": null,
   "id": "02385896",
   "metadata": {
    "papermill": {
     "duration": 0.022759,
     "end_time": "2024-05-07T09:21:10.129148",
     "exception": false,
     "start_time": "2024-05-07T09:21:10.106389",
     "status": "completed"
    },
    "tags": []
   },
   "outputs": [],
   "source": []
  },
  {
   "cell_type": "code",
   "execution_count": 69,
   "id": "9601886a",
   "metadata": {
    "execution": {
     "iopub.execute_input": "2024-05-07T09:21:10.176230Z",
     "iopub.status.busy": "2024-05-07T09:21:10.175878Z",
     "iopub.status.idle": "2024-05-07T09:21:10.187899Z",
     "shell.execute_reply": "2024-05-07T09:21:10.187215Z"
    },
    "papermill": {
     "duration": 0.037977,
     "end_time": "2024-05-07T09:21:10.189821",
     "exception": false,
     "start_time": "2024-05-07T09:21:10.151844",
     "status": "completed"
    },
    "tags": []
   },
   "outputs": [],
   "source": [
    "feature_vector=np.concatenate([body_acc_x_train_mean,body_acc_y_train_mean,body_acc_z_train_mean,\n",
    "                              body_gyro_x_train_mean,body_gyro_y_train_mean,body_gyro_z_train_mean,\n",
    "                              total_acc_x_train_mean,total_acc_y_train_mean,total_acc_z_train_mean,\n",
    "                              acc_mag_mean,acc_mag_std,\n",
    "                              thetax_mean,thetax_std,thetay_mean,thetay_std,thetaz_mean,thetaz_std,\n",
    "                              absmeanx_mean,absmeanx_std,absmeany_mean,absmeany_std,absmeanz_mean,absmeanz_std,\n",
    "                              body_acc_x_train_mad,body_acc_y_train_mad,body_acc_z_train_mad,\n",
    "                              body_gyro_x_train_mad,body_gyro_y_train_mad,body_gyro_z_train_mad,\n",
    "                              total_acc_x_train_mad,total_acc_y_train_mad,total_acc_z_train_mad,\n",
    "                              body_acc_x_train_std,body_acc_y_train_std,body_acc_z_train_std,\n",
    "                              body_gyro_x_train_std,body_gyro_y_train_std,body_gyro_z_train_std,\n",
    "                              total_acc_x_train_std,total_acc_y_train_std,total_acc_z_train_std,\n",
    "                              Vertical_acc_mean,Vertical_acc_std,Horizontal_acc_mean,Horizontal_acc_std,\n",
    "                              ph_RMS_amp_bx,ph_RMS_amp_by,ph_RMS_amp_bz,\n",
    "                              ph_RMS_amp_gx,ph_RMS_amp_gy,ph_RMS_amp_gz,\n",
    "                              ph_RMS_amp_tx,ph_RMS_amp_ty,ph_RMS_amp_tz,\n",
    "                              q1_body_acc_x_train,q1_body_acc_y_train,q1_body_acc_z_train,\n",
    "                              q1_body_gyro_x_train,q1_body_gyro_y_train,q1_body_gyro_z_train,\n",
    "                              q1_total_acc_x_train,q1_total_acc_y_train,q1_total_acc_z_train,\n",
    "                              q3_body_acc_x_train,q3_body_acc_y_train,q3_body_acc_z_train,\n",
    "                              q3_body_gyro_x_train,q3_body_gyro_y_train,q3_body_gyro_z_train,\n",
    "                              q3_total_acc_x_train,q3_total_acc_y_train,q3_total_acc_z_train,\n",
    "                              iqr_bx,iqr_by,iqr_bz,\n",
    "                              iqr_gx,iqr_gy,iqr_gz,\n",
    "                              iqr_tx,iqr_ty,iqr_tz,\n",
    "                              quartile_dev_bx,quartile_dev_by,quartile_dev_bz,\n",
    "                              quartile_dev_gx,quartile_dev_gy,quartile_dev_gz,\n",
    "                              quartile_dev_tx,quartile_dev_ty,quartile_dev_tz],axis=1)"
   ]
  },
  {
   "cell_type": "code",
   "execution_count": 70,
   "id": "f3187022",
   "metadata": {
    "execution": {
     "iopub.execute_input": "2024-05-07T09:21:10.236257Z",
     "iopub.status.busy": "2024-05-07T09:21:10.235970Z",
     "iopub.status.idle": "2024-05-07T09:21:10.241279Z",
     "shell.execute_reply": "2024-05-07T09:21:10.240497Z"
    },
    "papermill": {
     "duration": 0.030456,
     "end_time": "2024-05-07T09:21:10.243099",
     "exception": false,
     "start_time": "2024-05-07T09:21:10.212643",
     "status": "completed"
    },
    "tags": []
   },
   "outputs": [
    {
     "data": {
      "text/plain": [
       "(7352, 90)"
      ]
     },
     "execution_count": 70,
     "metadata": {},
     "output_type": "execute_result"
    }
   ],
   "source": [
    "feature_vector.shape"
   ]
  },
  {
   "cell_type": "code",
   "execution_count": 71,
   "id": "393a690e",
   "metadata": {
    "execution": {
     "iopub.execute_input": "2024-05-07T09:21:10.302426Z",
     "iopub.status.busy": "2024-05-07T09:21:10.302088Z",
     "iopub.status.idle": "2024-05-07T09:21:10.308909Z",
     "shell.execute_reply": "2024-05-07T09:21:10.307829Z"
    },
    "papermill": {
     "duration": 0.040353,
     "end_time": "2024-05-07T09:21:10.310922",
     "exception": false,
     "start_time": "2024-05-07T09:21:10.270569",
     "status": "completed"
    },
    "tags": []
   },
   "outputs": [],
   "source": [
    "train_X=np.zeros((7352,90))"
   ]
  },
  {
   "cell_type": "code",
   "execution_count": 72,
   "id": "c517d884",
   "metadata": {
    "execution": {
     "iopub.execute_input": "2024-05-07T09:21:10.357794Z",
     "iopub.status.busy": "2024-05-07T09:21:10.357509Z",
     "iopub.status.idle": "2024-05-07T09:21:10.604086Z",
     "shell.execute_reply": "2024-05-07T09:21:10.603064Z"
    },
    "papermill": {
     "duration": 0.272496,
     "end_time": "2024-05-07T09:21:10.606455",
     "exception": false,
     "start_time": "2024-05-07T09:21:10.333959",
     "status": "completed"
    },
    "tags": []
   },
   "outputs": [],
   "source": [
    "for i in range(0,7352):\n",
    "    train_X[i]= (feature_vector[i] - np.amax(feature_vector[i]) + (feature_vector[i] - np.amin(feature_vector[i])))/(np.amax(feature_vector[i])-np.amin(feature_vector[i]))"
   ]
  },
  {
   "cell_type": "code",
   "execution_count": 73,
   "id": "b854e756",
   "metadata": {
    "execution": {
     "iopub.execute_input": "2024-05-07T09:21:10.655776Z",
     "iopub.status.busy": "2024-05-07T09:21:10.655486Z",
     "iopub.status.idle": "2024-05-07T09:21:10.661131Z",
     "shell.execute_reply": "2024-05-07T09:21:10.660254Z"
    },
    "papermill": {
     "duration": 0.031619,
     "end_time": "2024-05-07T09:21:10.663067",
     "exception": false,
     "start_time": "2024-05-07T09:21:10.631448",
     "status": "completed"
    },
    "tags": []
   },
   "outputs": [
    {
     "data": {
      "text/plain": [
       "(7352, 90)"
      ]
     },
     "execution_count": 73,
     "metadata": {},
     "output_type": "execute_result"
    }
   ],
   "source": [
    "train_X.shape"
   ]
  },
  {
   "cell_type": "code",
   "execution_count": 74,
   "id": "7abf479b",
   "metadata": {
    "execution": {
     "iopub.execute_input": "2024-05-07T09:21:10.717410Z",
     "iopub.status.busy": "2024-05-07T09:21:10.717085Z",
     "iopub.status.idle": "2024-05-07T09:21:10.724971Z",
     "shell.execute_reply": "2024-05-07T09:21:10.724006Z"
    },
    "papermill": {
     "duration": 0.03406,
     "end_time": "2024-05-07T09:21:10.727122",
     "exception": false,
     "start_time": "2024-05-07T09:21:10.693062",
     "status": "completed"
    },
    "tags": []
   },
   "outputs": [],
   "source": [
    "phitrain_X=np.arccos(train_X)"
   ]
  },
  {
   "cell_type": "code",
   "execution_count": 75,
   "id": "8d2cee9e",
   "metadata": {
    "execution": {
     "iopub.execute_input": "2024-05-07T09:21:10.774669Z",
     "iopub.status.busy": "2024-05-07T09:21:10.774366Z",
     "iopub.status.idle": "2024-05-07T09:21:10.779834Z",
     "shell.execute_reply": "2024-05-07T09:21:10.778966Z"
    },
    "papermill": {
     "duration": 0.031733,
     "end_time": "2024-05-07T09:21:10.781704",
     "exception": false,
     "start_time": "2024-05-07T09:21:10.749971",
     "status": "completed"
    },
    "tags": []
   },
   "outputs": [
    {
     "data": {
      "text/plain": [
       "(7352, 90)"
      ]
     },
     "execution_count": 75,
     "metadata": {},
     "output_type": "execute_result"
    }
   ],
   "source": [
    "phitrain_X.shape"
   ]
  },
  {
   "cell_type": "code",
   "execution_count": 76,
   "id": "0598df09",
   "metadata": {
    "execution": {
     "iopub.execute_input": "2024-05-07T09:21:10.828492Z",
     "iopub.status.busy": "2024-05-07T09:21:10.828215Z",
     "iopub.status.idle": "2024-05-07T09:21:10.832034Z",
     "shell.execute_reply": "2024-05-07T09:21:10.831197Z"
    },
    "papermill": {
     "duration": 0.029396,
     "end_time": "2024-05-07T09:21:10.833899",
     "exception": false,
     "start_time": "2024-05-07T09:21:10.804503",
     "status": "completed"
    },
    "tags": []
   },
   "outputs": [],
   "source": [
    "import math\n",
    "import matplotlib.pyplot as plot"
   ]
  },
  {
   "cell_type": "code",
   "execution_count": 77,
   "id": "949a1a8f",
   "metadata": {
    "execution": {
     "iopub.execute_input": "2024-05-07T09:21:10.880765Z",
     "iopub.status.busy": "2024-05-07T09:21:10.880475Z",
     "iopub.status.idle": "2024-05-07T09:21:10.885785Z",
     "shell.execute_reply": "2024-05-07T09:21:10.884985Z"
    },
    "papermill": {
     "duration": 0.031069,
     "end_time": "2024-05-07T09:21:10.887710",
     "exception": false,
     "start_time": "2024-05-07T09:21:10.856641",
     "status": "completed"
    },
    "tags": []
   },
   "outputs": [],
   "source": [
    "def cos_sum(phi_X):\n",
    "    gasf=np.zeros((90,90))\n",
    "    for i in range(0,90):\n",
    "        for j in range(0,90):\n",
    "            gasf[i][j]= math.cos(phi_X[i]+phi_X[j])\n",
    "    return gasf"
   ]
  },
  {
   "cell_type": "code",
   "execution_count": 78,
   "id": "bd83a119",
   "metadata": {
    "execution": {
     "iopub.execute_input": "2024-05-07T09:21:10.936900Z",
     "iopub.status.busy": "2024-05-07T09:21:10.936576Z",
     "iopub.status.idle": "2024-05-07T11:08:51.892919Z",
     "shell.execute_reply": "2024-05-07T11:08:51.892053Z"
    },
    "papermill": {
     "duration": 6461.008948,
     "end_time": "2024-05-07T11:08:51.919970",
     "exception": false,
     "start_time": "2024-05-07T09:21:10.911022",
     "status": "completed"
    },
    "tags": []
   },
   "outputs": [
    {
     "data": {
      "image/png": "[encoded data removed]",
      "text/plain": [
       "<Figure size 640x480 with 1 Axes>"
      ]
     },
     "metadata": {},
     "output_type": "display_data"
    }
   ],
   "source": [
    "for i in range(6500,7352):\n",
    "    gasf=cos_sum(phitrain_X[i])\n",
    "    plot.imshow(gasf)\n",
    "    plot.axis('off')\n",
    "    plot.savefig(str(i)+\".png\",bbox_inches='tight', pad_inches=0)\n",
    "    #plot.show()"
   ]
  },
  {
   "cell_type": "code",
   "execution_count": null,
   "id": "4cb628ee",
   "metadata": {
    "papermill": {
     "duration": 0.025496,
     "end_time": "2024-05-07T11:08:51.969617",
     "exception": false,
     "start_time": "2024-05-07T11:08:51.944121",
     "status": "completed"
    },
    "tags": []
   },
   "outputs": [],
   "source": []
  }
 ],
 "metadata": {
  "kaggle": {
   "accelerator": "gpu",
   "dataSources": [
    {
     "datasetId": 4482426,
     "sourceId": 7682598,
     "sourceType": "datasetVersion"
    },
    {
     "datasetId": 4676509,
     "sourceId": 7951929,
     "sourceType": "datasetVersion"
    },
    {
     "datasetId": 4680827,
     "sourceId": 7957704,
     "sourceType": "datasetVersion"
    }
   ],
   "dockerImageVersionId": 30698,
   "isGpuEnabled": true,
   "isInternetEnabled": true,
   "language": "python",
   "sourceType": "notebook"
  },
  "kernelspec": {
   "display_name": "Python 3",
   "language": "python",
   "name": "python3"
  },
  "language_info": {
   "codemirror_mode": {
    "name": "ipython",
    "version": 3
   },
   "file_extension": ".py",
   "mimetype": "text/x-python",
   "name": "python",
   "nbconvert_exporter": "python",
   "pygments_lexer": "ipython3",
   "version": "3.10.13"
  },
  "papermill": {
   "default_parameters": {},
   "duration": 6510.994827,
   "end_time": "2024-05-07T11:08:53.830282",
   "environment_variables": {},
   "exception": null,
   "input_path": "__notebook__.ipynb",
   "output_path": "__notebook__.ipynb",
   "parameters": {},
   "start_time": "2024-05-07T09:20:22.835455",
   "version": "2.5.0"
  }
 },
 "nbformat": 4,
 "nbformat_minor": 5
}
