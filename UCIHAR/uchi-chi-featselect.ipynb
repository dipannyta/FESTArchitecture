{
  "metadata": {
    "kernelspec": {
      "language": "python",
      "display_name": "Python 3",
      "name": "python3"
    },
    "language_info": {
      "name": "python",
      "version": "3.10.14",
      "mimetype": "text/x-python",
      "codemirror_mode": {
        "name": "ipython",
        "version": 3
      },
      "pygments_lexer": "ipython3",
      "nbconvert_exporter": "python",
      "file_extension": ".py"
    },
    "kaggle": {
      "accelerator": "gpu",
      "dataSources": [
        {
          "sourceId": 8267470,
          "sourceType": "datasetVersion",
          "datasetId": 4908052
        },
        {
          "sourceId": 8373923,
          "sourceType": "datasetVersion",
          "datasetId": 4978662
        }
      ],
      "dockerImageVersionId": 30787,
      "isInternetEnabled": true,
      "language": "python",
      "sourceType": "notebook",
      "isGpuEnabled": true
    },
    "colab": {
      "provenance": []
    }
  },
  "nbformat_minor": 0,
  "nbformat": 4,
  "cells": [
    {
      "cell_type": "code",
      "source": [
        "# Load libraries\n",
        "import pandas as pd\n",
        "import numpy as np\n",
        "from sklearn.feature_selection import SelectKBest\n",
        "from sklearn.feature_selection import chi2\n",
        "from sklearn.svm import SVC\n",
        "from sklearn.model_selection import train_test_split\n",
        "from sklearn.metrics import confusion_matrix,classification_report\n",
        "import warnings\n",
        "warnings.filterwarnings(\"ignore\")\n",
        "\n",
        "# Load data\n",
        "df = pd.read_csv('/kaggle/input/merged-features-img90/merged_X_feature_img90.csv')\n",
        "test_df = pd.read_csv('/kaggle/input/merged-features-img90/merged_X_feature_img90_test.csv')\n",
        "y = pd.read_csv('/kaggle/input/y-classified-train-test/Y.csv')\n",
        "Y_test = pd.read_csv('/kaggle/input/y-classified-train-test/Y_test.csv')\n",
        "\n",
        "# Create features and target\n",
        "X = df\n",
        "#y = df['class']\n",
        "\n",
        "\n",
        "# Select K best features\n",
        "k_features = 1500\n",
        "k_best_features = SelectKBest(chi2, k = k_features).fit(X, y)\n",
        "best_features = df[X.columns[k_best_features.get_support()]]\n",
        "print('Selected top', k_features, 'features: \\n', best_features.columns, '\\n')\n",
        "\n",
        "\n",
        "\n",
        "\n",
        "best_features ['class'] = y\n",
        "best_features.to_csv(r'chi-filter.csv', index = False )"
      ],
      "metadata": {
        "id": "c-8PZwJRnrwE"
      },
      "execution_count": null,
      "outputs": []
    },
    {
      "cell_type": "code",
      "source": [
        "import pandas as pd\n",
        "path='/kaggle/input/merged-features-img90/merged_X_feature_img90.csv'\n",
        "df_total = pd.read_csv(path,nrows=7352)"
      ],
      "metadata": {
        "execution": {
          "iopub.status.busy": "2024-05-13T06:28:40.107179Z",
          "iopub.execute_input": "2024-05-13T06:28:40.108019Z",
          "iopub.status.idle": "2024-05-13T06:28:49.130620Z",
          "shell.execute_reply.started": "2024-05-13T06:28:40.107968Z",
          "shell.execute_reply": "2024-05-13T06:28:49.129828Z"
        },
        "trusted": true,
        "id": "TGrZfzleniII"
      },
      "outputs": [],
      "execution_count": null
    },
    {
      "cell_type": "code",
      "source": [
        "df_total.head()"
      ],
      "metadata": {
        "execution": {
          "iopub.status.busy": "2024-05-13T06:28:53.461436Z",
          "iopub.execute_input": "2024-05-13T06:28:53.461807Z",
          "iopub.status.idle": "2024-05-13T06:28:53.493041Z",
          "shell.execute_reply.started": "2024-05-13T06:28:53.461779Z",
          "shell.execute_reply": "2024-05-13T06:28:53.492190Z"
        },
        "trusted": true,
        "id": "2P49u0zhniIK",
        "outputId": "9ae6ae25-6ea3-43a0-b671-acebbb9bcc2e"
      },
      "outputs": [
        {
          "execution_count": 25,
          "output_type": "execute_result",
          "data": {
            "text/plain": "           0    1          2          3    4    5    6    7    8    9  ...  \\\n0  2686.5190  0.0  2159.4392  6715.6904  0.0  0.0  0.0  0.0  0.0  0.0  ...   \n1  1353.2506  0.0  1176.6947  3761.5742  0.0  0.0  0.0  0.0  0.0  0.0  ...   \n2  2124.5488  0.0  1701.7424  5732.0610  0.0  0.0  0.0  0.0  0.0  0.0  ...   \n3  1973.7145  0.0  1505.5026  5204.3520  0.0  0.0  0.0  0.0  0.0  0.0  ...   \n4  1280.7573  0.0  1048.9443  3601.7375  0.0  0.0  0.0  0.0  0.0  0.0  ...   \n\n         5622       5623       5624  5625        5626  5627       5628  \\\n0    0.000000   0.000000  64.853806   0.0    0.000000   0.0  482.81982   \n1    0.000000   0.000000   7.785688   0.0  114.156910   0.0  162.07323   \n2  674.266700  47.435616   0.000000   0.0    0.000000   0.0  416.52878   \n3   12.847692   0.000000   1.318918   0.0   33.620586   0.0  214.29590   \n4  117.508880   0.000000   0.000000   0.0  559.409060   0.0  235.16537   \n\n        5629       5630        5631  \n0  39.383410  202.53952  123.229645  \n1  12.868027  152.31345   67.769270  \n2   0.000000    0.00000    0.000000  \n3   0.000000   79.92504   30.132540  \n4   0.000000   12.40317  142.668660  \n\n[5 rows x 5632 columns]",
            "text/html": "<div>\n<style scoped>\n    .dataframe tbody tr th:only-of-type {\n        vertical-align: middle;\n    }\n\n    .dataframe tbody tr th {\n        vertical-align: top;\n    }\n\n    .dataframe thead th {\n        text-align: right;\n    }\n</style>\n<table border=\"1\" class=\"dataframe\">\n  <thead>\n    <tr style=\"text-align: right;\">\n      <th></th>\n      <th>0</th>\n      <th>1</th>\n      <th>2</th>\n      <th>3</th>\n      <th>4</th>\n      <th>5</th>\n      <th>6</th>\n      <th>7</th>\n      <th>8</th>\n      <th>9</th>\n      <th>...</th>\n      <th>5622</th>\n      <th>5623</th>\n      <th>5624</th>\n      <th>5625</th>\n      <th>5626</th>\n      <th>5627</th>\n      <th>5628</th>\n      <th>5629</th>\n      <th>5630</th>\n      <th>5631</th>\n    </tr>\n  </thead>\n  <tbody>\n    <tr>\n      <th>0</th>\n      <td>2686.5190</td>\n      <td>0.0</td>\n      <td>2159.4392</td>\n      <td>6715.6904</td>\n      <td>0.0</td>\n      <td>0.0</td>\n      <td>0.0</td>\n      <td>0.0</td>\n      <td>0.0</td>\n      <td>0.0</td>\n      <td>...</td>\n      <td>0.000000</td>\n      <td>0.000000</td>\n      <td>64.853806</td>\n      <td>0.0</td>\n      <td>0.000000</td>\n      <td>0.0</td>\n      <td>482.81982</td>\n      <td>39.383410</td>\n      <td>202.53952</td>\n      <td>123.229645</td>\n    </tr>\n    <tr>\n      <th>1</th>\n      <td>1353.2506</td>\n      <td>0.0</td>\n      <td>1176.6947</td>\n      <td>3761.5742</td>\n      <td>0.0</td>\n      <td>0.0</td>\n      <td>0.0</td>\n      <td>0.0</td>\n      <td>0.0</td>\n      <td>0.0</td>\n      <td>...</td>\n      <td>0.000000</td>\n      <td>0.000000</td>\n      <td>7.785688</td>\n      <td>0.0</td>\n      <td>114.156910</td>\n      <td>0.0</td>\n      <td>162.07323</td>\n      <td>12.868027</td>\n      <td>152.31345</td>\n      <td>67.769270</td>\n    </tr>\n    <tr>\n      <th>2</th>\n      <td>2124.5488</td>\n      <td>0.0</td>\n      <td>1701.7424</td>\n      <td>5732.0610</td>\n      <td>0.0</td>\n      <td>0.0</td>\n      <td>0.0</td>\n      <td>0.0</td>\n      <td>0.0</td>\n      <td>0.0</td>\n      <td>...</td>\n      <td>674.266700</td>\n      <td>47.435616</td>\n      <td>0.000000</td>\n      <td>0.0</td>\n      <td>0.000000</td>\n      <td>0.0</td>\n      <td>416.52878</td>\n      <td>0.000000</td>\n      <td>0.00000</td>\n      <td>0.000000</td>\n    </tr>\n    <tr>\n      <th>3</th>\n      <td>1973.7145</td>\n      <td>0.0</td>\n      <td>1505.5026</td>\n      <td>5204.3520</td>\n      <td>0.0</td>\n      <td>0.0</td>\n      <td>0.0</td>\n      <td>0.0</td>\n      <td>0.0</td>\n      <td>0.0</td>\n      <td>...</td>\n      <td>12.847692</td>\n      <td>0.000000</td>\n      <td>1.318918</td>\n      <td>0.0</td>\n      <td>33.620586</td>\n      <td>0.0</td>\n      <td>214.29590</td>\n      <td>0.000000</td>\n      <td>79.92504</td>\n      <td>30.132540</td>\n    </tr>\n    <tr>\n      <th>4</th>\n      <td>1280.7573</td>\n      <td>0.0</td>\n      <td>1048.9443</td>\n      <td>3601.7375</td>\n      <td>0.0</td>\n      <td>0.0</td>\n      <td>0.0</td>\n      <td>0.0</td>\n      <td>0.0</td>\n      <td>0.0</td>\n      <td>...</td>\n      <td>117.508880</td>\n      <td>0.000000</td>\n      <td>0.000000</td>\n      <td>0.0</td>\n      <td>559.409060</td>\n      <td>0.0</td>\n      <td>235.16537</td>\n      <td>0.000000</td>\n      <td>12.40317</td>\n      <td>142.668660</td>\n    </tr>\n  </tbody>\n</table>\n<p>5 rows × 5632 columns</p>\n</div>"
          },
          "metadata": {}
        }
      ],
      "execution_count": null
    },
    {
      "cell_type": "code",
      "source": [
        "for column in df_total.columns:\n",
        "    if df_total[column].dtype == \"float64\":\n",
        "        df_total[column]=pd.to_numeric(df_total[column], downcast=\"float\")\n",
        "    if df_total[column].dtype == \"int64\":\n",
        "        df_total[column]=pd.to_numeric(df_total[column], downcast=\"integer\")"
      ],
      "metadata": {
        "execution": {
          "iopub.status.busy": "2024-05-13T06:29:07.067208Z",
          "iopub.execute_input": "2024-05-13T06:29:07.068015Z",
          "iopub.status.idle": "2024-05-13T06:29:10.042413Z",
          "shell.execute_reply.started": "2024-05-13T06:29:07.067961Z",
          "shell.execute_reply": "2024-05-13T06:29:10.041564Z"
        },
        "trusted": true,
        "id": "nxbM0J_GniIM"
      },
      "outputs": [],
      "execution_count": null
    },
    {
      "cell_type": "code",
      "source": [
        "path='/kaggle/input/y-classified-train-test/Y.csv'\n",
        "df_y = pd.read_csv(path,nrows=7352)"
      ],
      "metadata": {
        "execution": {
          "iopub.status.busy": "2024-05-13T06:29:18.708456Z",
          "iopub.execute_input": "2024-05-13T06:29:18.708902Z",
          "iopub.status.idle": "2024-05-13T06:29:18.716872Z",
          "shell.execute_reply.started": "2024-05-13T06:29:18.708874Z",
          "shell.execute_reply": "2024-05-13T06:29:18.716183Z"
        },
        "trusted": true,
        "id": "H5UUawLfniIO"
      },
      "outputs": [],
      "execution_count": null
    },
    {
      "cell_type": "code",
      "source": [
        "df_y.head()"
      ],
      "metadata": {
        "execution": {
          "iopub.status.busy": "2024-05-13T06:29:29.315412Z",
          "iopub.execute_input": "2024-05-13T06:29:29.316118Z",
          "iopub.status.idle": "2024-05-13T06:29:29.324562Z",
          "shell.execute_reply.started": "2024-05-13T06:29:29.316090Z",
          "shell.execute_reply": "2024-05-13T06:29:29.323543Z"
        },
        "trusted": true,
        "id": "AEq3uSOKniIP",
        "outputId": "a14c829d-eb59-4e1a-e562-1ed465c64dab"
      },
      "outputs": [
        {
          "execution_count": 28,
          "output_type": "execute_result",
          "data": {
            "text/plain": "   0\n0  1\n1  1\n2  1\n3  1\n4  1",
            "text/html": "<div>\n<style scoped>\n    .dataframe tbody tr th:only-of-type {\n        vertical-align: middle;\n    }\n\n    .dataframe tbody tr th {\n        vertical-align: top;\n    }\n\n    .dataframe thead th {\n        text-align: right;\n    }\n</style>\n<table border=\"1\" class=\"dataframe\">\n  <thead>\n    <tr style=\"text-align: right;\">\n      <th></th>\n      <th>0</th>\n    </tr>\n  </thead>\n  <tbody>\n    <tr>\n      <th>0</th>\n      <td>1</td>\n    </tr>\n    <tr>\n      <th>1</th>\n      <td>1</td>\n    </tr>\n    <tr>\n      <th>2</th>\n      <td>1</td>\n    </tr>\n    <tr>\n      <th>3</th>\n      <td>1</td>\n    </tr>\n    <tr>\n      <th>4</th>\n      <td>1</td>\n    </tr>\n  </tbody>\n</table>\n</div>"
          },
          "metadata": {}
        }
      ],
      "execution_count": null
    },
    {
      "cell_type": "code",
      "source": [
        "for column in df_y.columns:\n",
        "    if df_y[column].dtype == \"float64\":\n",
        "        df_y[column]=pd.to_numeric(df_y[column], downcast=\"float\")\n",
        "    if df_y[column].dtype == \"int64\":\n",
        "        df_y[column]=pd.to_numeric(df_y[column], downcast=\"integer\")"
      ],
      "metadata": {
        "execution": {
          "iopub.status.busy": "2024-05-13T06:29:40.933765Z",
          "iopub.execute_input": "2024-05-13T06:29:40.934140Z",
          "iopub.status.idle": "2024-05-13T06:29:40.941444Z",
          "shell.execute_reply.started": "2024-05-13T06:29:40.934112Z",
          "shell.execute_reply": "2024-05-13T06:29:40.940547Z"
        },
        "trusted": true,
        "id": "LrD5DyKcniIR"
      },
      "outputs": [],
      "execution_count": null
    },
    {
      "cell_type": "code",
      "source": [],
      "metadata": {
        "id": "nh4td1GDniIV"
      },
      "outputs": [],
      "execution_count": null
    }
  ]
}