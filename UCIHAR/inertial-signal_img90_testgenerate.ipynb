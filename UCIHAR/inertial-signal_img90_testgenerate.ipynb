{
 "cells": [
  {
   "cell_type": "code",
   "execution_count": 1,
   "id": "8c4ea130",
   "metadata": {
    "execution": {
     "iopub.execute_input": "2024-05-07T17:28:50.334166Z",
     "iopub.status.busy": "2024-05-07T17:28:50.333803Z",
     "iopub.status.idle": "2024-05-07T17:29:02.937594Z",
     "shell.execute_reply": "2024-05-07T17:29:02.936726Z"
    },
    "papermill": {
     "duration": 12.628463,
     "end_time": "2024-05-07T17:29:02.940078",
     "exception": false,
     "start_time": "2024-05-07T17:28:50.311615",
     "status": "completed"
    },
    "tags": []
   },
   "outputs": [
    {
     "name": "stderr",
     "output_type": "stream",
     "text": [
      "2024-05-07 17:28:52.036043: E external/local_xla/xla/stream_executor/cuda/cuda_dnn.cc:9261] Unable to register cuDNN factory: Attempting to register factory for plugin cuDNN when one has already been registered\n",
      "2024-05-07 17:28:52.036158: E external/local_xla/xla/stream_executor/cuda/cuda_fft.cc:607] Unable to register cuFFT factory: Attempting to register factory for plugin cuFFT when one has already been registered\n",
      "2024-05-07 17:28:52.156931: E external/local_xla/xla/stream_executor/cuda/cuda_blas.cc:1515] Unable to register cuBLAS factory: Attempting to register factory for plugin cuBLAS when one has already been registered\n"
     ]
    }
   ],
   "source": [
    "import os, sys\n",
    "import numpy as np\n",
    "import keras\n",
    "from keras.models import Sequential\n",
    "from keras.layers import Dense, Dropout, Flatten\n",
    "from keras.layers import Conv2D, MaxPooling2D\n",
    "from keras.utils import to_categorical\n",
    "from keras.preprocessing import image\n",
    "import pandas as pd\n",
    "import matplotlib.pyplot as plt\n",
    "from sklearn.model_selection import train_test_split\n",
    "from keras.utils import to_categorical\n",
    "from tqdm import tqdm"
   ]
  },
  {
   "cell_type": "code",
   "execution_count": 2,
   "id": "a3b6a3e1",
   "metadata": {
    "execution": {
     "iopub.execute_input": "2024-05-07T17:29:02.983723Z",
     "iopub.status.busy": "2024-05-07T17:29:02.983151Z",
     "iopub.status.idle": "2024-05-07T17:29:03.978177Z",
     "shell.execute_reply": "2024-05-07T17:29:03.977362Z"
    },
    "papermill": {
     "duration": 1.020259,
     "end_time": "2024-05-07T17:29:03.980636",
     "exception": false,
     "start_time": "2024-05-07T17:29:02.960377",
     "status": "completed"
    },
    "tags": []
   },
   "outputs": [],
   "source": [
    "body_acc_x_train= np.loadtxt('/kaggle/input/inertialsignalstest/body_acc_x_test.txt',dtype=float)\n",
    "body_acc_y_train= np.loadtxt('/kaggle/input/inertialsignalstest/body_acc_y_test.txt',dtype=float)\n",
    "body_acc_z_train= np.loadtxt('/kaggle/input/inertialsignalstest/body_acc_z_test.txt',dtype=float)\n",
    "body_gyro_x_train= np.loadtxt('/kaggle/input/inertialsignalstest/body_gyro_x_test.txt',dtype=float)\n",
    "body_gyro_y_train= np.loadtxt('/kaggle/input/inertialsignalstest/body_gyro_y_test.txt',dtype=float)\n",
    "body_gyro_z_train= np.loadtxt('/kaggle/input/inertialsignalstest/body_gyro_z_test.txt',dtype=float)\n",
    "total_acc_x_train= np.loadtxt('/kaggle/input/inertialsignalstest/total_acc_x_test.txt',dtype=float)\n",
    "total_acc_y_train= np.loadtxt('/kaggle/input/inertialsignalstest/total_acc_y_test.txt',dtype=float)\n",
    "total_acc_z_train= np.loadtxt('/kaggle/input/inertialsignalstest/total_acc_z_test.txt',dtype=float)"
   ]
  },
  {
   "cell_type": "code",
   "execution_count": 3,
   "id": "58753ecf",
   "metadata": {
    "execution": {
     "iopub.execute_input": "2024-05-07T17:29:04.022650Z",
     "iopub.status.busy": "2024-05-07T17:29:04.022312Z",
     "iopub.status.idle": "2024-05-07T17:29:04.027907Z",
     "shell.execute_reply": "2024-05-07T17:29:04.027018Z"
    },
    "papermill": {
     "duration": 0.029152,
     "end_time": "2024-05-07T17:29:04.030375",
     "exception": false,
     "start_time": "2024-05-07T17:29:04.001223",
     "status": "completed"
    },
    "tags": []
   },
   "outputs": [
    {
     "name": "stdout",
     "output_type": "stream",
     "text": [
      "(2947, 128)\n",
      "(2947, 128)\n",
      "(2947, 128)\n",
      "(2947, 128)\n",
      "(2947, 128)\n",
      "(2947, 128)\n",
      "(2947, 128)\n",
      "(2947, 128)\n",
      "(2947, 128)\n"
     ]
    }
   ],
   "source": [
    "print(body_acc_x_train.shape)\n",
    "print(body_acc_y_train.shape)\n",
    "print(body_acc_z_train.shape)\n",
    "print(body_gyro_x_train.shape)\n",
    "print(body_gyro_y_train.shape)\n",
    "print(body_gyro_z_train.shape)\n",
    "print(total_acc_x_train.shape)\n",
    "print(total_acc_y_train.shape)\n",
    "print(total_acc_z_train.shape)"
   ]
  },
  {
   "cell_type": "code",
   "execution_count": 4,
   "id": "a938bc80",
   "metadata": {
    "execution": {
     "iopub.execute_input": "2024-05-07T17:29:04.072993Z",
     "iopub.status.busy": "2024-05-07T17:29:04.072704Z",
     "iopub.status.idle": "2024-05-07T17:29:04.084419Z",
     "shell.execute_reply": "2024-05-07T17:29:04.083749Z"
    },
    "papermill": {
     "duration": 0.034485,
     "end_time": "2024-05-07T17:29:04.086316",
     "exception": false,
     "start_time": "2024-05-07T17:29:04.051831",
     "status": "completed"
    },
    "tags": []
   },
   "outputs": [],
   "source": [
    "acc_mag= np.sqrt(np.square(body_acc_x_train)+np.square(body_acc_y_train)+np.square(body_acc_z_train))"
   ]
  },
  {
   "cell_type": "code",
   "execution_count": 5,
   "id": "dbad1e5b",
   "metadata": {
    "execution": {
     "iopub.execute_input": "2024-05-07T17:29:04.127428Z",
     "iopub.status.busy": "2024-05-07T17:29:04.127100Z",
     "iopub.status.idle": "2024-05-07T17:29:04.133786Z",
     "shell.execute_reply": "2024-05-07T17:29:04.132897Z"
    },
    "papermill": {
     "duration": 0.029377,
     "end_time": "2024-05-07T17:29:04.135688",
     "exception": false,
     "start_time": "2024-05-07T17:29:04.106311",
     "status": "completed"
    },
    "tags": []
   },
   "outputs": [
    {
     "data": {
      "text/plain": [
       "(2947, 128)"
      ]
     },
     "execution_count": 5,
     "metadata": {},
     "output_type": "execute_result"
    }
   ],
   "source": [
    "acc_mag.shape"
   ]
  },
  {
   "cell_type": "code",
   "execution_count": 6,
   "id": "2cbe80ca",
   "metadata": {
    "execution": {
     "iopub.execute_input": "2024-05-07T17:29:04.176813Z",
     "iopub.status.busy": "2024-05-07T17:29:04.176522Z",
     "iopub.status.idle": "2024-05-07T17:29:04.180892Z",
     "shell.execute_reply": "2024-05-07T17:29:04.180142Z"
    },
    "papermill": {
     "duration": 0.027221,
     "end_time": "2024-05-07T17:29:04.182843",
     "exception": false,
     "start_time": "2024-05-07T17:29:04.155622",
     "status": "completed"
    },
    "tags": []
   },
   "outputs": [],
   "source": [
    "acc_mag_mean=np.mean(acc_mag,axis=1)  "
   ]
  },
  {
   "cell_type": "code",
   "execution_count": 7,
   "id": "167bbe1d",
   "metadata": {
    "execution": {
     "iopub.execute_input": "2024-05-07T17:29:04.223527Z",
     "iopub.status.busy": "2024-05-07T17:29:04.223260Z",
     "iopub.status.idle": "2024-05-07T17:29:04.228537Z",
     "shell.execute_reply": "2024-05-07T17:29:04.227725Z"
    },
    "papermill": {
     "duration": 0.027688,
     "end_time": "2024-05-07T17:29:04.230476",
     "exception": false,
     "start_time": "2024-05-07T17:29:04.202788",
     "status": "completed"
    },
    "tags": []
   },
   "outputs": [
    {
     "data": {
      "text/plain": [
       "(2947,)"
      ]
     },
     "execution_count": 7,
     "metadata": {},
     "output_type": "execute_result"
    }
   ],
   "source": [
    "acc_mag_mean.shape"
   ]
  },
  {
   "cell_type": "code",
   "execution_count": 8,
   "id": "66339afa",
   "metadata": {
    "execution": {
     "iopub.execute_input": "2024-05-07T17:29:04.271342Z",
     "iopub.status.busy": "2024-05-07T17:29:04.271022Z",
     "iopub.status.idle": "2024-05-07T17:29:04.275098Z",
     "shell.execute_reply": "2024-05-07T17:29:04.274260Z"
    },
    "papermill": {
     "duration": 0.026547,
     "end_time": "2024-05-07T17:29:04.276932",
     "exception": false,
     "start_time": "2024-05-07T17:29:04.250385",
     "status": "completed"
    },
    "tags": []
   },
   "outputs": [],
   "source": [
    "acc_mag_mean=acc_mag_mean.reshape(2947,1)"
   ]
  },
  {
   "cell_type": "code",
   "execution_count": 9,
   "id": "d54c6bf6",
   "metadata": {
    "execution": {
     "iopub.execute_input": "2024-05-07T17:29:04.319628Z",
     "iopub.status.busy": "2024-05-07T17:29:04.319326Z",
     "iopub.status.idle": "2024-05-07T17:29:04.324694Z",
     "shell.execute_reply": "2024-05-07T17:29:04.323880Z"
    },
    "papermill": {
     "duration": 0.028269,
     "end_time": "2024-05-07T17:29:04.326596",
     "exception": false,
     "start_time": "2024-05-07T17:29:04.298327",
     "status": "completed"
    },
    "tags": []
   },
   "outputs": [
    {
     "data": {
      "text/plain": [
       "(2947, 1)"
      ]
     },
     "execution_count": 9,
     "metadata": {},
     "output_type": "execute_result"
    }
   ],
   "source": [
    "acc_mag_mean.shape   #f10"
   ]
  },
  {
   "cell_type": "code",
   "execution_count": 10,
   "id": "92b7dd7a",
   "metadata": {
    "execution": {
     "iopub.execute_input": "2024-05-07T17:29:04.369227Z",
     "iopub.status.busy": "2024-05-07T17:29:04.368515Z",
     "iopub.status.idle": "2024-05-07T17:29:04.375839Z",
     "shell.execute_reply": "2024-05-07T17:29:04.375143Z"
    },
    "papermill": {
     "duration": 0.030749,
     "end_time": "2024-05-07T17:29:04.377881",
     "exception": false,
     "start_time": "2024-05-07T17:29:04.347132",
     "status": "completed"
    },
    "tags": []
   },
   "outputs": [],
   "source": [
    "acc_mag_std=np.std(acc_mag,axis=1)"
   ]
  },
  {
   "cell_type": "code",
   "execution_count": 11,
   "id": "a97c498e",
   "metadata": {
    "execution": {
     "iopub.execute_input": "2024-05-07T17:29:04.419911Z",
     "iopub.status.busy": "2024-05-07T17:29:04.419569Z",
     "iopub.status.idle": "2024-05-07T17:29:04.423906Z",
     "shell.execute_reply": "2024-05-07T17:29:04.423064Z"
    },
    "papermill": {
     "duration": 0.027748,
     "end_time": "2024-05-07T17:29:04.425910",
     "exception": false,
     "start_time": "2024-05-07T17:29:04.398162",
     "status": "completed"
    },
    "tags": []
   },
   "outputs": [],
   "source": [
    "acc_mag_std.shape  \n",
    "acc_mag_std=acc_mag_std.reshape(2947,1)"
   ]
  },
  {
   "cell_type": "code",
   "execution_count": 12,
   "id": "e57d5e22",
   "metadata": {
    "execution": {
     "iopub.execute_input": "2024-05-07T17:29:04.468096Z",
     "iopub.status.busy": "2024-05-07T17:29:04.467094Z",
     "iopub.status.idle": "2024-05-07T17:29:04.472984Z",
     "shell.execute_reply": "2024-05-07T17:29:04.472167Z"
    },
    "papermill": {
     "duration": 0.029062,
     "end_time": "2024-05-07T17:29:04.474900",
     "exception": false,
     "start_time": "2024-05-07T17:29:04.445838",
     "status": "completed"
    },
    "tags": []
   },
   "outputs": [
    {
     "data": {
      "text/plain": [
       "(2947, 1)"
      ]
     },
     "execution_count": 12,
     "metadata": {},
     "output_type": "execute_result"
    }
   ],
   "source": [
    "acc_mag_std.shape   #f11"
   ]
  },
  {
   "cell_type": "code",
   "execution_count": 13,
   "id": "5bde14af",
   "metadata": {
    "execution": {
     "iopub.execute_input": "2024-05-07T17:29:04.516937Z",
     "iopub.status.busy": "2024-05-07T17:29:04.516632Z",
     "iopub.status.idle": "2024-05-07T17:29:04.521990Z",
     "shell.execute_reply": "2024-05-07T17:29:04.521127Z"
    },
    "papermill": {
     "duration": 0.029085,
     "end_time": "2024-05-07T17:29:04.524454",
     "exception": false,
     "start_time": "2024-05-07T17:29:04.495369",
     "status": "completed"
    },
    "tags": []
   },
   "outputs": [
    {
     "name": "stdout",
     "output_type": "stream",
     "text": [
      "[0.05594054]\n",
      "[0.04957856]\n"
     ]
    }
   ],
   "source": [
    "print(acc_mag_std[0])\n",
    "print(acc_mag_mean[0])"
   ]
  },
  {
   "cell_type": "code",
   "execution_count": 14,
   "id": "c4d2b548",
   "metadata": {
    "execution": {
     "iopub.execute_input": "2024-05-07T17:29:04.568998Z",
     "iopub.status.busy": "2024-05-07T17:29:04.568197Z",
     "iopub.status.idle": "2024-05-07T17:29:04.577929Z",
     "shell.execute_reply": "2024-05-07T17:29:04.577231Z"
    },
    "papermill": {
     "duration": 0.033468,
     "end_time": "2024-05-07T17:29:04.580015",
     "exception": false,
     "start_time": "2024-05-07T17:29:04.546547",
     "status": "completed"
    },
    "tags": []
   },
   "outputs": [],
   "source": [
    "body_acc_x_train_mean=np.mean(body_acc_x_train,axis=1)\n",
    "body_acc_y_train_mean=np.mean(body_acc_y_train,axis=1)\n",
    "body_acc_z_train_mean=np.mean(body_acc_z_train,axis=1)\n",
    "body_gyro_x_train_mean=np.mean(body_gyro_x_train,axis=1)\n",
    "body_gyro_y_train_mean=np.mean(body_gyro_y_train,axis=1)\n",
    "body_gyro_z_train_mean=np.mean(body_gyro_z_train,axis=1)\n",
    "total_acc_x_train_mean=np.mean(total_acc_x_train,axis=1)\n",
    "total_acc_y_train_mean=np.mean(total_acc_y_train,axis=1)\n",
    "total_acc_z_train_mean=np.mean(total_acc_z_train,axis=1)"
   ]
  },
  {
   "cell_type": "code",
   "execution_count": 15,
   "id": "3d6f3799",
   "metadata": {
    "execution": {
     "iopub.execute_input": "2024-05-07T17:29:04.623613Z",
     "iopub.status.busy": "2024-05-07T17:29:04.622942Z",
     "iopub.status.idle": "2024-05-07T17:29:04.628729Z",
     "shell.execute_reply": "2024-05-07T17:29:04.627851Z"
    },
    "papermill": {
     "duration": 0.029725,
     "end_time": "2024-05-07T17:29:04.630739",
     "exception": false,
     "start_time": "2024-05-07T17:29:04.601014",
     "status": "completed"
    },
    "tags": []
   },
   "outputs": [],
   "source": [
    "body_acc_x_train_mean=body_acc_x_train_mean.reshape(2947,1)\n",
    "body_acc_y_train_mean=body_acc_y_train_mean.reshape(2947,1)\n",
    "body_acc_z_train_mean=body_acc_z_train_mean.reshape(2947,1)\n",
    "body_gyro_x_train_mean=body_gyro_x_train_mean.reshape(2947,1)\n",
    "body_gyro_y_train_mean=body_gyro_y_train_mean.reshape(2947,1)\n",
    "body_gyro_z_train_mean=body_gyro_z_train_mean.reshape(2947,1)\n",
    "total_acc_x_train_mean=total_acc_x_train_mean.reshape(2947,1)\n",
    "total_acc_y_train_mean=total_acc_y_train_mean.reshape(2947,1)\n",
    "total_acc_z_train_mean=total_acc_z_train_mean.reshape(2947,1)"
   ]
  },
  {
   "cell_type": "code",
   "execution_count": 16,
   "id": "2747f5a5",
   "metadata": {
    "execution": {
     "iopub.execute_input": "2024-05-07T17:29:04.673643Z",
     "iopub.status.busy": "2024-05-07T17:29:04.672997Z",
     "iopub.status.idle": "2024-05-07T17:29:04.679086Z",
     "shell.execute_reply": "2024-05-07T17:29:04.678126Z"
    },
    "papermill": {
     "duration": 0.029988,
     "end_time": "2024-05-07T17:29:04.681371",
     "exception": false,
     "start_time": "2024-05-07T17:29:04.651383",
     "status": "completed"
    },
    "tags": []
   },
   "outputs": [
    {
     "name": "stdout",
     "output_type": "stream",
     "text": [
      "(2947, 1)\n",
      "(2947, 1)\n",
      "(2947, 1)\n",
      "(2947, 1)\n",
      "(2947, 1)\n",
      "(2947, 1)\n",
      "(2947, 1)\n",
      "(2947, 1)\n",
      "(2947, 1)\n"
     ]
    }
   ],
   "source": [
    "print(body_acc_x_train_mean.shape)  #f1\n",
    "print(body_acc_y_train_mean.shape)   #f2\n",
    "print(body_acc_z_train_mean.shape)    #f3\n",
    "print(body_gyro_x_train_mean.shape)     #f4\n",
    "print(body_gyro_y_train_mean.shape)    #f5\n",
    "print(body_gyro_z_train_mean.shape)      #f6\n",
    "print(total_acc_x_train_mean.shape)       #f7\n",
    "print(total_acc_y_train_mean.shape)     #f8\n",
    "print(total_acc_z_train_mean.shape)     #f9"
   ]
  },
  {
   "cell_type": "code",
   "execution_count": 17,
   "id": "4f4a6c24",
   "metadata": {
    "execution": {
     "iopub.execute_input": "2024-05-07T17:29:04.725025Z",
     "iopub.status.busy": "2024-05-07T17:29:04.724363Z",
     "iopub.status.idle": "2024-05-07T17:29:04.747177Z",
     "shell.execute_reply": "2024-05-07T17:29:04.746421Z"
    },
    "papermill": {
     "duration": 0.046598,
     "end_time": "2024-05-07T17:29:04.749379",
     "exception": false,
     "start_time": "2024-05-07T17:29:04.702781",
     "status": "completed"
    },
    "tags": []
   },
   "outputs": [],
   "source": [
    "gx=total_acc_x_train-body_acc_x_train\n",
    "thetax=np.arccos(gx/9.8)\n",
    "\n",
    "gy=total_acc_y_train-body_acc_y_train\n",
    "thetay=np.arccos(gy/9.8)\n",
    "\n",
    "gz=total_acc_z_train-body_acc_z_train\n",
    "thetaz=np.arccos(gz/9.8)"
   ]
  },
  {
   "cell_type": "code",
   "execution_count": 18,
   "id": "bf28e58d",
   "metadata": {
    "execution": {
     "iopub.execute_input": "2024-05-07T17:29:04.793783Z",
     "iopub.status.busy": "2024-05-07T17:29:04.793022Z",
     "iopub.status.idle": "2024-05-07T17:29:04.798813Z",
     "shell.execute_reply": "2024-05-07T17:29:04.797915Z"
    },
    "papermill": {
     "duration": 0.029246,
     "end_time": "2024-05-07T17:29:04.800765",
     "exception": false,
     "start_time": "2024-05-07T17:29:04.771519",
     "status": "completed"
    },
    "tags": []
   },
   "outputs": [
    {
     "data": {
      "text/plain": [
       "(2947, 128)"
      ]
     },
     "execution_count": 18,
     "metadata": {},
     "output_type": "execute_result"
    }
   ],
   "source": [
    "thetax.shape"
   ]
  },
  {
   "cell_type": "code",
   "execution_count": 19,
   "id": "a343235a",
   "metadata": {
    "execution": {
     "iopub.execute_input": "2024-05-07T17:29:04.886011Z",
     "iopub.status.busy": "2024-05-07T17:29:04.885062Z",
     "iopub.status.idle": "2024-05-07T17:29:04.896022Z",
     "shell.execute_reply": "2024-05-07T17:29:04.895147Z"
    },
    "papermill": {
     "duration": 0.076707,
     "end_time": "2024-05-07T17:29:04.898105",
     "exception": false,
     "start_time": "2024-05-07T17:29:04.821398",
     "status": "completed"
    },
    "tags": []
   },
   "outputs": [],
   "source": [
    "thetax_mean=np.mean(thetax,axis=1)  \n",
    "thetax_std=np.std(thetax,axis=1)\n",
    "\n",
    "thetay_mean=np.mean(thetay,axis=1)  \n",
    "thetay_std=np.std(thetay,axis=1)\n",
    "\n",
    "thetaz_mean=np.mean(thetaz,axis=1)  \n",
    "thetaz_std=np.std(thetaz,axis=1)"
   ]
  },
  {
   "cell_type": "code",
   "execution_count": 20,
   "id": "0019eb94",
   "metadata": {
    "execution": {
     "iopub.execute_input": "2024-05-07T17:29:04.941080Z",
     "iopub.status.busy": "2024-05-07T17:29:04.940786Z",
     "iopub.status.idle": "2024-05-07T17:29:04.946742Z",
     "shell.execute_reply": "2024-05-07T17:29:04.945889Z"
    },
    "papermill": {
     "duration": 0.029606,
     "end_time": "2024-05-07T17:29:04.948600",
     "exception": false,
     "start_time": "2024-05-07T17:29:04.918994",
     "status": "completed"
    },
    "tags": []
   },
   "outputs": [
    {
     "data": {
      "text/plain": [
       "(2947,)"
      ]
     },
     "execution_count": 20,
     "metadata": {},
     "output_type": "execute_result"
    }
   ],
   "source": [
    "thetax_mean.shape\n",
    "thetax_std.shape\n",
    "\n",
    "thetay_mean.shape\n",
    "thetay_std.shape\n",
    "\n",
    "thetaz_mean.shape\n",
    "thetaz_std.shape"
   ]
  },
  {
   "cell_type": "code",
   "execution_count": 21,
   "id": "42ca2ce8",
   "metadata": {
    "execution": {
     "iopub.execute_input": "2024-05-07T17:29:04.991556Z",
     "iopub.status.busy": "2024-05-07T17:29:04.991246Z",
     "iopub.status.idle": "2024-05-07T17:29:04.996190Z",
     "shell.execute_reply": "2024-05-07T17:29:04.995366Z"
    },
    "papermill": {
     "duration": 0.028864,
     "end_time": "2024-05-07T17:29:04.998192",
     "exception": false,
     "start_time": "2024-05-07T17:29:04.969328",
     "status": "completed"
    },
    "tags": []
   },
   "outputs": [],
   "source": [
    "thetax_mean=thetax_mean.reshape(2947,1)\n",
    "thetax_std=thetax_std.reshape(2947,1)\n",
    "thetay_mean=thetay_mean.reshape(2947,1)\n",
    "thetay_std=thetay_std.reshape(2947,1)\n",
    "thetaz_mean=thetaz_mean.reshape(2947,1)\n",
    "thetaz_std=thetaz_std.reshape(2947,1)"
   ]
  },
  {
   "cell_type": "code",
   "execution_count": 22,
   "id": "743754ed",
   "metadata": {
    "execution": {
     "iopub.execute_input": "2024-05-07T17:29:05.041020Z",
     "iopub.status.busy": "2024-05-07T17:29:05.040742Z",
     "iopub.status.idle": "2024-05-07T17:29:05.046765Z",
     "shell.execute_reply": "2024-05-07T17:29:05.045921Z"
    },
    "papermill": {
     "duration": 0.029745,
     "end_time": "2024-05-07T17:29:05.048676",
     "exception": false,
     "start_time": "2024-05-07T17:29:05.018931",
     "status": "completed"
    },
    "tags": []
   },
   "outputs": [
    {
     "data": {
      "text/plain": [
       "(2947, 1)"
      ]
     },
     "execution_count": 22,
     "metadata": {},
     "output_type": "execute_result"
    }
   ],
   "source": [
    "thetax_mean.shape      #f12\n",
    "thetax_std.shape       #f13\n",
    "\n",
    "thetay_mean.shape       #f14\n",
    "thetay_std.shape        #f15\n",
    "\n",
    "thetaz_mean.shape       #f16\n",
    "thetaz_std.shape        #f17"
   ]
  },
  {
   "cell_type": "code",
   "execution_count": 23,
   "id": "565d0710",
   "metadata": {
    "execution": {
     "iopub.execute_input": "2024-05-07T17:29:05.091862Z",
     "iopub.status.busy": "2024-05-07T17:29:05.091095Z",
     "iopub.status.idle": "2024-05-07T17:29:05.103680Z",
     "shell.execute_reply": "2024-05-07T17:29:05.102998Z"
    },
    "papermill": {
     "duration": 0.03616,
     "end_time": "2024-05-07T17:29:05.105564",
     "exception": false,
     "start_time": "2024-05-07T17:29:05.069404",
     "status": "completed"
    },
    "tags": []
   },
   "outputs": [],
   "source": [
    "# Importing mean, absolute from numpy \n",
    "from numpy import mean, absolute \n",
    "#absolute mean deviation\n",
    "absmeanx=absolute(body_gyro_x_train - mean(body_gyro_x_train))\n",
    "absmeany=absolute(body_gyro_y_train - mean(body_gyro_y_train))\n",
    "absmeanz=absolute(body_gyro_z_train - mean(body_gyro_z_train))"
   ]
  },
  {
   "cell_type": "code",
   "execution_count": 24,
   "id": "0d77dea2",
   "metadata": {
    "execution": {
     "iopub.execute_input": "2024-05-07T17:29:05.151752Z",
     "iopub.status.busy": "2024-05-07T17:29:05.151444Z",
     "iopub.status.idle": "2024-05-07T17:29:05.159278Z",
     "shell.execute_reply": "2024-05-07T17:29:05.158198Z"
    },
    "papermill": {
     "duration": 0.03469,
     "end_time": "2024-05-07T17:29:05.161147",
     "exception": false,
     "start_time": "2024-05-07T17:29:05.126457",
     "status": "completed"
    },
    "tags": []
   },
   "outputs": [
    {
     "name": "stdout",
     "output_type": "stream",
     "text": [
      "[[0.45064879 0.48144919 0.51144249 ... 0.00812923 0.00724685 0.01681232]\n",
      " [0.18347289 0.18840719 0.14404689 ... 0.0042842  0.00806106 0.00790178]\n",
      " [0.02554141 0.0340973  0.04072115 ... 0.01771436 0.02218768 0.02218477]\n",
      " ...\n",
      " [0.85897629 0.85178429 0.82640399 ... 0.98308261 0.99781691 0.67019491]\n",
      " [0.83122141 0.63063311 0.58258551 ... 0.46172671 0.53614081 0.60884571]\n",
      " [0.31929121 0.30336921 0.57058381 ... 0.10911574 0.10389264 0.06912823]]\n",
      "(2947, 128)\n",
      "[[0.5298938  0.7196131  0.518873   ... 0.07879752 0.0744284  0.07210415]\n",
      " [0.06282928 0.09681895 0.1479049  ... 0.04274301 0.03777722 0.02108595]\n",
      " [0.06170508 0.0532116  0.05188297 ... 0.03860441 0.03554611 0.0318619 ]\n",
      " ...\n",
      " [0.06527155 0.2501327  0.4502594  ... 0.9438262  0.4416584  0.46318   ]\n",
      " [0.3980127  0.2676399  0.250753   ... 0.0234109  0.1074823  0.2058239 ]\n",
      " [1.0953434  1.0674604  0.5710056  ... 0.0224792  0.04334841 0.1038573 ]]\n",
      "(2947, 128)\n",
      "[[0.13367829 0.09477278 0.08070617 ... 0.02940826 0.02415887 0.02769648]\n",
      " [0.05224663 0.040494   0.0495487  ... 0.05546145 0.04815057 0.03412975]\n",
      " [0.02643942 0.02251636 0.02197614 ... 0.01747857 0.01360453 0.01131727]\n",
      " ...\n",
      " [0.76883031 0.84298701 0.86005161 ... 0.12395631 0.21288931 0.13254061]\n",
      " [0.53714431 0.71226671 0.70536931 ... 0.23039929 0.29730289 0.42901769]\n",
      " [0.14267521 0.18841931 0.22500391 ... 0.05419193 0.08172671 0.04911783]]\n",
      "(2947, 128)\n"
     ]
    }
   ],
   "source": [
    "print(absmeanx)\n",
    "print(absmeanx.shape)\n",
    "print(absmeany)\n",
    "print(absmeany.shape)\n",
    "print(absmeanz)\n",
    "print(absmeanz.shape)"
   ]
  },
  {
   "cell_type": "code",
   "execution_count": 25,
   "id": "f6d7c654",
   "metadata": {
    "execution": {
     "iopub.execute_input": "2024-05-07T17:29:05.203929Z",
     "iopub.status.busy": "2024-05-07T17:29:05.203644Z",
     "iopub.status.idle": "2024-05-07T17:29:05.213557Z",
     "shell.execute_reply": "2024-05-07T17:29:05.212828Z"
    },
    "papermill": {
     "duration": 0.033428,
     "end_time": "2024-05-07T17:29:05.215390",
     "exception": false,
     "start_time": "2024-05-07T17:29:05.181962",
     "status": "completed"
    },
    "tags": []
   },
   "outputs": [],
   "source": [
    "absmeanx_mean=np.mean(absmeanx,axis=1)  \n",
    "absmeanx_std=np.std(absmeanx,axis=1)\n",
    "\n",
    "absmeany_mean=np.mean(absmeany,axis=1)  \n",
    "absmeany_std=np.std(absmeany,axis=1)\n",
    "\n",
    "absmeanz_mean=np.mean(absmeanz,axis=1)  \n",
    "absmeanz_std=np.std(absmeanz,axis=1)"
   ]
  },
  {
   "cell_type": "code",
   "execution_count": 26,
   "id": "4c2c091b",
   "metadata": {
    "execution": {
     "iopub.execute_input": "2024-05-07T17:29:05.258519Z",
     "iopub.status.busy": "2024-05-07T17:29:05.258252Z",
     "iopub.status.idle": "2024-05-07T17:29:05.264254Z",
     "shell.execute_reply": "2024-05-07T17:29:05.263416Z"
    },
    "papermill": {
     "duration": 0.02966,
     "end_time": "2024-05-07T17:29:05.266120",
     "exception": false,
     "start_time": "2024-05-07T17:29:05.236460",
     "status": "completed"
    },
    "tags": []
   },
   "outputs": [
    {
     "data": {
      "text/plain": [
       "(2947,)"
      ]
     },
     "execution_count": 26,
     "metadata": {},
     "output_type": "execute_result"
    }
   ],
   "source": [
    "absmeanx_mean.shape  \n",
    "absmeanx_std.shape \n",
    "\n",
    "absmeany_mean.shape   \n",
    "absmeany_std.shape \n",
    "\n",
    "absmeanz_mean.shape   \n",
    "absmeanz_std.shape "
   ]
  },
  {
   "cell_type": "code",
   "execution_count": 27,
   "id": "9ae7b140",
   "metadata": {
    "execution": {
     "iopub.execute_input": "2024-05-07T17:29:05.310497Z",
     "iopub.status.busy": "2024-05-07T17:29:05.309777Z",
     "iopub.status.idle": "2024-05-07T17:29:05.314903Z",
     "shell.execute_reply": "2024-05-07T17:29:05.314057Z"
    },
    "papermill": {
     "duration": 0.029882,
     "end_time": "2024-05-07T17:29:05.316870",
     "exception": false,
     "start_time": "2024-05-07T17:29:05.286988",
     "status": "completed"
    },
    "tags": []
   },
   "outputs": [],
   "source": [
    "absmeanx_mean=absmeanx_mean.reshape(2947,1)\n",
    "absmeanx_std=absmeanx_std.reshape(2947,1)\n",
    "absmeany_mean=absmeany_mean.reshape(2947,1)\n",
    "absmeany_std=absmeany_std.reshape(2947,1)\n",
    "absmeanz_mean=absmeanz_mean.reshape(2947,1)\n",
    "absmeanz_std=absmeanz_std.reshape(2947,1)"
   ]
  },
  {
   "cell_type": "code",
   "execution_count": 28,
   "id": "4bc3e268",
   "metadata": {
    "execution": {
     "iopub.execute_input": "2024-05-07T17:29:05.360762Z",
     "iopub.status.busy": "2024-05-07T17:29:05.360486Z",
     "iopub.status.idle": "2024-05-07T17:29:05.366585Z",
     "shell.execute_reply": "2024-05-07T17:29:05.365757Z"
    },
    "papermill": {
     "duration": 0.030256,
     "end_time": "2024-05-07T17:29:05.368434",
     "exception": false,
     "start_time": "2024-05-07T17:29:05.338178",
     "status": "completed"
    },
    "tags": []
   },
   "outputs": [
    {
     "data": {
      "text/plain": [
       "(2947, 1)"
      ]
     },
     "execution_count": 28,
     "metadata": {},
     "output_type": "execute_result"
    }
   ],
   "source": [
    "absmeanx_mean.shape  #f18\n",
    "absmeanx_std.shape   #f19\n",
    "\n",
    "absmeany_mean.shape   #f20\n",
    "absmeany_std.shape    #f21\n",
    "\n",
    "absmeanz_mean.shape   #f22\n",
    "absmeanz_std.shape    #f23"
   ]
  },
  {
   "cell_type": "code",
   "execution_count": 29,
   "id": "9f7fb9cc",
   "metadata": {
    "execution": {
     "iopub.execute_input": "2024-05-07T17:29:05.412110Z",
     "iopub.status.busy": "2024-05-07T17:29:05.411605Z",
     "iopub.status.idle": "2024-05-07T17:29:05.415714Z",
     "shell.execute_reply": "2024-05-07T17:29:05.414897Z"
    },
    "papermill": {
     "duration": 0.028009,
     "end_time": "2024-05-07T17:29:05.417589",
     "exception": false,
     "start_time": "2024-05-07T17:29:05.389580",
     "status": "completed"
    },
    "tags": []
   },
   "outputs": [],
   "source": [
    "import numpy as np\n",
    "from scipy import stats"
   ]
  },
  {
   "cell_type": "code",
   "execution_count": 30,
   "id": "3a819787",
   "metadata": {
    "execution": {
     "iopub.execute_input": "2024-05-07T17:29:05.461721Z",
     "iopub.status.busy": "2024-05-07T17:29:05.461450Z",
     "iopub.status.idle": "2024-05-07T17:29:05.566304Z",
     "shell.execute_reply": "2024-05-07T17:29:05.565258Z"
    },
    "papermill": {
     "duration": 0.12987,
     "end_time": "2024-05-07T17:29:05.568771",
     "exception": false,
     "start_time": "2024-05-07T17:29:05.438901",
     "status": "completed"
    },
    "tags": []
   },
   "outputs": [],
   "source": [
    "body_acc_x_train_mad=stats.median_abs_deviation(body_acc_x_train, axis=1)\n",
    "body_acc_y_train_mad=stats.median_abs_deviation(body_acc_y_train, axis=1)\n",
    "body_acc_z_train_mad=stats.median_abs_deviation(body_acc_z_train, axis=1)\n",
    "body_gyro_x_train_mad=stats.median_abs_deviation(body_gyro_x_train, axis=1)\n",
    "body_gyro_y_train_mad=stats.median_abs_deviation(body_gyro_y_train, axis=1)\n",
    "body_gyro_z_train_mad=stats.median_abs_deviation(body_gyro_z_train, axis=1)\n",
    "total_acc_x_train_mad=stats.median_abs_deviation(total_acc_x_train, axis=1)\n",
    "total_acc_y_train_mad=stats.median_abs_deviation(total_acc_y_train, axis=1)\n",
    "total_acc_z_train_mad=stats.median_abs_deviation(total_acc_z_train, axis=1)"
   ]
  },
  {
   "cell_type": "code",
   "execution_count": 31,
   "id": "92c0987b",
   "metadata": {
    "execution": {
     "iopub.execute_input": "2024-05-07T17:29:05.612955Z",
     "iopub.status.busy": "2024-05-07T17:29:05.612397Z",
     "iopub.status.idle": "2024-05-07T17:29:05.618676Z",
     "shell.execute_reply": "2024-05-07T17:29:05.617862Z"
    },
    "papermill": {
     "duration": 0.030382,
     "end_time": "2024-05-07T17:29:05.620708",
     "exception": false,
     "start_time": "2024-05-07T17:29:05.590326",
     "status": "completed"
    },
    "tags": []
   },
   "outputs": [
    {
     "data": {
      "text/plain": [
       "(2947,)"
      ]
     },
     "execution_count": 31,
     "metadata": {},
     "output_type": "execute_result"
    }
   ],
   "source": [
    "body_acc_x_train_mad.shape\n",
    "body_acc_y_train_mad.shape\n",
    "body_acc_z_train_mad.shape\n",
    "body_gyro_x_train_mad.shape\n",
    "body_gyro_y_train_mad.shape\n",
    "body_gyro_z_train_mad.shape\n",
    "total_acc_x_train_mad.shape\n",
    "total_acc_y_train_mad.shape\n",
    "total_acc_z_train_mad.shape"
   ]
  },
  {
   "cell_type": "code",
   "execution_count": 32,
   "id": "f50d6070",
   "metadata": {
    "execution": {
     "iopub.execute_input": "2024-05-07T17:29:05.664817Z",
     "iopub.status.busy": "2024-05-07T17:29:05.664084Z",
     "iopub.status.idle": "2024-05-07T17:29:05.670050Z",
     "shell.execute_reply": "2024-05-07T17:29:05.669224Z"
    },
    "papermill": {
     "duration": 0.030115,
     "end_time": "2024-05-07T17:29:05.672021",
     "exception": false,
     "start_time": "2024-05-07T17:29:05.641906",
     "status": "completed"
    },
    "tags": []
   },
   "outputs": [],
   "source": [
    "body_acc_x_train_mad=body_acc_x_train_mad.reshape(2947,1)\n",
    "body_acc_y_train_mad=body_acc_y_train_mad.reshape(2947,1)\n",
    "body_acc_z_train_mad=body_acc_z_train_mad.reshape(2947,1)\n",
    "body_gyro_x_train_mad=body_gyro_x_train_mad.reshape(2947,1)\n",
    "body_gyro_y_train_mad=body_gyro_y_train_mad.reshape(2947,1)\n",
    "body_gyro_z_train_mad=body_gyro_z_train_mad.reshape(2947,1)\n",
    "total_acc_x_train_mad=total_acc_x_train_mad.reshape(2947,1)\n",
    "total_acc_y_train_mad=total_acc_y_train_mad.reshape(2947,1)\n",
    "total_acc_z_train_mad=total_acc_z_train_mad.reshape(2947,1)"
   ]
  },
  {
   "cell_type": "code",
   "execution_count": 33,
   "id": "837d237c",
   "metadata": {
    "execution": {
     "iopub.execute_input": "2024-05-07T17:29:05.715701Z",
     "iopub.status.busy": "2024-05-07T17:29:05.715425Z",
     "iopub.status.idle": "2024-05-07T17:29:05.721890Z",
     "shell.execute_reply": "2024-05-07T17:29:05.721037Z"
    },
    "papermill": {
     "duration": 0.030696,
     "end_time": "2024-05-07T17:29:05.723858",
     "exception": false,
     "start_time": "2024-05-07T17:29:05.693162",
     "status": "completed"
    },
    "tags": []
   },
   "outputs": [
    {
     "data": {
      "text/plain": [
       "(2947, 1)"
      ]
     },
     "execution_count": 33,
     "metadata": {},
     "output_type": "execute_result"
    }
   ],
   "source": [
    "body_acc_x_train_mad.shape   #f24\n",
    "body_acc_y_train_mad.shape    #f25\n",
    "body_acc_z_train_mad.shape    #f26\n",
    "body_gyro_x_train_mad.shape   #f27\n",
    "body_gyro_y_train_mad.shape   #f28\n",
    "body_gyro_z_train_mad.shape   #f29\n",
    "total_acc_x_train_mad.shape   #f30\n",
    "total_acc_y_train_mad.shape   #f31\n",
    "total_acc_z_train_mad.shape   #f32"
   ]
  },
  {
   "cell_type": "code",
   "execution_count": 34,
   "id": "e19af917",
   "metadata": {
    "execution": {
     "iopub.execute_input": "2024-05-07T17:29:05.768187Z",
     "iopub.status.busy": "2024-05-07T17:29:05.767930Z",
     "iopub.status.idle": "2024-05-07T17:29:05.786737Z",
     "shell.execute_reply": "2024-05-07T17:29:05.785949Z"
    },
    "papermill": {
     "duration": 0.04344,
     "end_time": "2024-05-07T17:29:05.788744",
     "exception": false,
     "start_time": "2024-05-07T17:29:05.745304",
     "status": "completed"
    },
    "tags": []
   },
   "outputs": [],
   "source": [
    "body_acc_x_train_std=np.std(body_acc_x_train,axis=1) #f33\n",
    "body_acc_y_train_std=np.std(body_acc_y_train,axis=1)  #f34\n",
    "body_acc_z_train_std=np.std(body_acc_z_train,axis=1)  #f35\n",
    "body_gyro_x_train_std=np.std(body_gyro_x_train,axis=1)   #f36\n",
    "body_gyro_y_train_std=np.std(body_gyro_y_train,axis=1)   #f37\n",
    "body_gyro_z_train_std=np.std(body_gyro_z_train,axis=1)   #f38\n",
    "total_acc_x_train_std=np.std(total_acc_x_train,axis=1)   #39\n",
    "total_acc_y_train_std=np.std(total_acc_y_train,axis=1)   #40\n",
    "total_acc_z_train_std=np.std(total_acc_z_train,axis=1)   #41"
   ]
  },
  {
   "cell_type": "code",
   "execution_count": 35,
   "id": "353daeec",
   "metadata": {
    "execution": {
     "iopub.execute_input": "2024-05-07T17:29:05.833337Z",
     "iopub.status.busy": "2024-05-07T17:29:05.833000Z",
     "iopub.status.idle": "2024-05-07T17:29:05.838847Z",
     "shell.execute_reply": "2024-05-07T17:29:05.838061Z"
    },
    "papermill": {
     "duration": 0.030191,
     "end_time": "2024-05-07T17:29:05.840824",
     "exception": false,
     "start_time": "2024-05-07T17:29:05.810633",
     "status": "completed"
    },
    "tags": []
   },
   "outputs": [],
   "source": [
    "body_acc_x_train_std=body_acc_x_train_std.reshape(2947,1)\n",
    "body_acc_y_train_std=body_acc_y_train_std.reshape(2947,1)\n",
    "body_acc_z_train_std=body_acc_z_train_std.reshape(2947,1)\n",
    "\n",
    "body_gyro_x_train_std=body_gyro_x_train_std.reshape(2947,1)\n",
    "body_gyro_y_train_std=body_gyro_y_train_std.reshape(2947,1)\n",
    "body_gyro_z_train_std=body_gyro_z_train_std.reshape(2947,1)\n",
    "\n",
    "total_acc_x_train_std=total_acc_x_train_std.reshape(2947,1)\n",
    "total_acc_y_train_std=total_acc_y_train_std.reshape(2947,1)\n",
    "total_acc_z_train_std=total_acc_z_train_std.reshape(2947,1)"
   ]
  },
  {
   "cell_type": "code",
   "execution_count": null,
   "id": "7a33c9c9",
   "metadata": {
    "papermill": {
     "duration": 0.021191,
     "end_time": "2024-05-07T17:29:05.883323",
     "exception": false,
     "start_time": "2024-05-07T17:29:05.862132",
     "status": "completed"
    },
    "tags": []
   },
   "outputs": [],
   "source": []
  },
  {
   "cell_type": "code",
   "execution_count": 36,
   "id": "5be6ab72",
   "metadata": {
    "execution": {
     "iopub.execute_input": "2024-05-07T17:29:05.927670Z",
     "iopub.status.busy": "2024-05-07T17:29:05.926877Z",
     "iopub.status.idle": "2024-05-07T17:29:05.932491Z",
     "shell.execute_reply": "2024-05-07T17:29:05.931615Z"
    },
    "papermill": {
     "duration": 0.029887,
     "end_time": "2024-05-07T17:29:05.934455",
     "exception": false,
     "start_time": "2024-05-07T17:29:05.904568",
     "status": "completed"
    },
    "tags": []
   },
   "outputs": [],
   "source": [
    "costhetax=np.zeros((2947,128))\n",
    "costhetay=np.zeros((2947,128))\n",
    "costhetaz=np.zeros((2947,128))"
   ]
  },
  {
   "cell_type": "code",
   "execution_count": 37,
   "id": "68d873d9",
   "metadata": {
    "execution": {
     "iopub.execute_input": "2024-05-07T17:29:05.978160Z",
     "iopub.status.busy": "2024-05-07T17:29:05.977901Z",
     "iopub.status.idle": "2024-05-07T17:29:06.012047Z",
     "shell.execute_reply": "2024-05-07T17:29:06.011381Z"
    },
    "papermill": {
     "duration": 0.058363,
     "end_time": "2024-05-07T17:29:06.014118",
     "exception": false,
     "start_time": "2024-05-07T17:29:05.955755",
     "status": "completed"
    },
    "tags": []
   },
   "outputs": [],
   "source": [
    "for i in range(0,2947):\n",
    "    costhetax[i]=np.cos(thetax[i])\n",
    "    \n",
    "for i in range(0,2947):\n",
    "    costhetay[i]=np.cos(thetay[i])\n",
    "    \n",
    "for i in range(0,2947):\n",
    "    costhetaz[i]=np.cos(thetaz[i])"
   ]
  },
  {
   "cell_type": "code",
   "execution_count": 38,
   "id": "8ea6629b",
   "metadata": {
    "execution": {
     "iopub.execute_input": "2024-05-07T17:29:06.058337Z",
     "iopub.status.busy": "2024-05-07T17:29:06.057728Z",
     "iopub.status.idle": "2024-05-07T17:29:06.063098Z",
     "shell.execute_reply": "2024-05-07T17:29:06.062257Z"
    },
    "papermill": {
     "duration": 0.02952,
     "end_time": "2024-05-07T17:29:06.065071",
     "exception": false,
     "start_time": "2024-05-07T17:29:06.035551",
     "status": "completed"
    },
    "tags": []
   },
   "outputs": [
    {
     "data": {
      "text/plain": [
       "(2947, 128)"
      ]
     },
     "execution_count": 38,
     "metadata": {},
     "output_type": "execute_result"
    }
   ],
   "source": [
    "costhetax.shape"
   ]
  },
  {
   "cell_type": "code",
   "execution_count": 39,
   "id": "8e7d600e",
   "metadata": {
    "execution": {
     "iopub.execute_input": "2024-05-07T17:29:06.109117Z",
     "iopub.status.busy": "2024-05-07T17:29:06.108862Z",
     "iopub.status.idle": "2024-05-07T17:29:06.118108Z",
     "shell.execute_reply": "2024-05-07T17:29:06.117474Z"
    },
    "papermill": {
     "duration": 0.03342,
     "end_time": "2024-05-07T17:29:06.119910",
     "exception": false,
     "start_time": "2024-05-07T17:29:06.086490",
     "status": "completed"
    },
    "tags": []
   },
   "outputs": [],
   "source": [
    "Vertical_acc = np.multiply(body_acc_x_train,costhetax) + np.multiply(body_acc_y_train,costhetay) + np.multiply(body_acc_z_train,costhetaz)"
   ]
  },
  {
   "cell_type": "code",
   "execution_count": 40,
   "id": "79f606f4",
   "metadata": {
    "execution": {
     "iopub.execute_input": "2024-05-07T17:29:06.163902Z",
     "iopub.status.busy": "2024-05-07T17:29:06.163599Z",
     "iopub.status.idle": "2024-05-07T17:29:06.169118Z",
     "shell.execute_reply": "2024-05-07T17:29:06.168241Z"
    },
    "papermill": {
     "duration": 0.029807,
     "end_time": "2024-05-07T17:29:06.171123",
     "exception": false,
     "start_time": "2024-05-07T17:29:06.141316",
     "status": "completed"
    },
    "tags": []
   },
   "outputs": [
    {
     "data": {
      "text/plain": [
       "(2947, 128)"
      ]
     },
     "execution_count": 40,
     "metadata": {},
     "output_type": "execute_result"
    }
   ],
   "source": [
    "Vertical_acc.shape "
   ]
  },
  {
   "cell_type": "code",
   "execution_count": 41,
   "id": "54d8beed",
   "metadata": {
    "execution": {
     "iopub.execute_input": "2024-05-07T17:29:06.215979Z",
     "iopub.status.busy": "2024-05-07T17:29:06.215711Z",
     "iopub.status.idle": "2024-05-07T17:29:06.224398Z",
     "shell.execute_reply": "2024-05-07T17:29:06.223710Z"
    },
    "papermill": {
     "duration": 0.033258,
     "end_time": "2024-05-07T17:29:06.226228",
     "exception": false,
     "start_time": "2024-05-07T17:29:06.192970",
     "status": "completed"
    },
    "tags": []
   },
   "outputs": [],
   "source": [
    "Horizontal_acc= np.sqrt(np.square(body_acc_x_train) + np.square(body_acc_y_train) + np.square(body_acc_z_train) - np.square(Vertical_acc))"
   ]
  },
  {
   "cell_type": "code",
   "execution_count": 42,
   "id": "ad000300",
   "metadata": {
    "execution": {
     "iopub.execute_input": "2024-05-07T17:29:06.270524Z",
     "iopub.status.busy": "2024-05-07T17:29:06.270228Z",
     "iopub.status.idle": "2024-05-07T17:29:06.275802Z",
     "shell.execute_reply": "2024-05-07T17:29:06.274942Z"
    },
    "papermill": {
     "duration": 0.029919,
     "end_time": "2024-05-07T17:29:06.277689",
     "exception": false,
     "start_time": "2024-05-07T17:29:06.247770",
     "status": "completed"
    },
    "tags": []
   },
   "outputs": [
    {
     "data": {
      "text/plain": [
       "(2947, 128)"
      ]
     },
     "execution_count": 42,
     "metadata": {},
     "output_type": "execute_result"
    }
   ],
   "source": [
    "Horizontal_acc.shape"
   ]
  },
  {
   "cell_type": "code",
   "execution_count": 43,
   "id": "d718c6ec",
   "metadata": {
    "execution": {
     "iopub.execute_input": "2024-05-07T17:29:06.323463Z",
     "iopub.status.busy": "2024-05-07T17:29:06.323138Z",
     "iopub.status.idle": "2024-05-07T17:29:06.332896Z",
     "shell.execute_reply": "2024-05-07T17:29:06.332060Z"
    },
    "papermill": {
     "duration": 0.035439,
     "end_time": "2024-05-07T17:29:06.334792",
     "exception": false,
     "start_time": "2024-05-07T17:29:06.299353",
     "status": "completed"
    },
    "tags": []
   },
   "outputs": [],
   "source": [
    "Vertical_acc_mean=np.mean(Vertical_acc,axis=1)  \n",
    "Vertical_acc_std=np.std(Vertical_acc,axis=1)\n",
    "\n",
    "Horizontal_acc_mean=np.mean(Horizontal_acc,axis=1)  \n",
    "Horizontal_acc_std=np.std(Horizontal_acc,axis=1)"
   ]
  },
  {
   "cell_type": "code",
   "execution_count": 44,
   "id": "52f87bbb",
   "metadata": {
    "execution": {
     "iopub.execute_input": "2024-05-07T17:29:06.380651Z",
     "iopub.status.busy": "2024-05-07T17:29:06.380315Z",
     "iopub.status.idle": "2024-05-07T17:29:06.385261Z",
     "shell.execute_reply": "2024-05-07T17:29:06.384441Z"
    },
    "papermill": {
     "duration": 0.029864,
     "end_time": "2024-05-07T17:29:06.387243",
     "exception": false,
     "start_time": "2024-05-07T17:29:06.357379",
     "status": "completed"
    },
    "tags": []
   },
   "outputs": [
    {
     "name": "stdout",
     "output_type": "stream",
     "text": [
      "(2947,)\n",
      "(2947,)\n",
      "(2947,)\n",
      "(2947,)\n"
     ]
    }
   ],
   "source": [
    "print(Vertical_acc_mean.shape)\n",
    "print(Vertical_acc_std.shape)\n",
    "\n",
    "print(Horizontal_acc_mean.shape)\n",
    "print(Horizontal_acc_std.shape)\n",
    "\n"
   ]
  },
  {
   "cell_type": "code",
   "execution_count": 45,
   "id": "caee2260",
   "metadata": {
    "execution": {
     "iopub.execute_input": "2024-05-07T17:29:06.432633Z",
     "iopub.status.busy": "2024-05-07T17:29:06.432232Z",
     "iopub.status.idle": "2024-05-07T17:29:06.437124Z",
     "shell.execute_reply": "2024-05-07T17:29:06.436289Z"
    },
    "papermill": {
     "duration": 0.029632,
     "end_time": "2024-05-07T17:29:06.438949",
     "exception": false,
     "start_time": "2024-05-07T17:29:06.409317",
     "status": "completed"
    },
    "tags": []
   },
   "outputs": [],
   "source": [
    "Vertical_acc_mean=Vertical_acc_mean.reshape(2947,1)  \n",
    "Vertical_acc_std=Vertical_acc_std.reshape(2947,1)\n",
    "\n",
    "Horizontal_acc_mean=Horizontal_acc_mean.reshape(2947,1)  \n",
    "Horizontal_acc_std=Horizontal_acc_std.reshape(2947,1)"
   ]
  },
  {
   "cell_type": "code",
   "execution_count": 46,
   "id": "92aac602",
   "metadata": {
    "execution": {
     "iopub.execute_input": "2024-05-07T17:29:06.484341Z",
     "iopub.status.busy": "2024-05-07T17:29:06.483575Z",
     "iopub.status.idle": "2024-05-07T17:29:06.488580Z",
     "shell.execute_reply": "2024-05-07T17:29:06.487751Z"
    },
    "papermill": {
     "duration": 0.029653,
     "end_time": "2024-05-07T17:29:06.490492",
     "exception": false,
     "start_time": "2024-05-07T17:29:06.460839",
     "status": "completed"
    },
    "tags": []
   },
   "outputs": [
    {
     "name": "stdout",
     "output_type": "stream",
     "text": [
      "(2947, 1)\n",
      "(2947, 1)\n",
      "(2947, 1)\n",
      "(2947, 1)\n"
     ]
    }
   ],
   "source": [
    "print(Vertical_acc_mean.shape)  #42\n",
    "print(Vertical_acc_std.shape)   #43\n",
    "\n",
    "print(Horizontal_acc_mean.shape)  #44\n",
    "print(Horizontal_acc_std.shape)   #45\n"
   ]
  },
  {
   "cell_type": "code",
   "execution_count": 47,
   "id": "eeb5aacf",
   "metadata": {
    "execution": {
     "iopub.execute_input": "2024-05-07T17:29:06.535899Z",
     "iopub.status.busy": "2024-05-07T17:29:06.535626Z",
     "iopub.status.idle": "2024-05-07T17:29:06.583747Z",
     "shell.execute_reply": "2024-05-07T17:29:06.583008Z"
    },
    "papermill": {
     "duration": 0.073281,
     "end_time": "2024-05-07T17:29:06.585856",
     "exception": false,
     "start_time": "2024-05-07T17:29:06.512575",
     "status": "completed"
    },
    "tags": []
   },
   "outputs": [],
   "source": [
    "import matplotlib.pyplot as plt\n",
    "from scipy import signal"
   ]
  },
  {
   "cell_type": "code",
   "execution_count": 48,
   "id": "005c7b1d",
   "metadata": {
    "execution": {
     "iopub.execute_input": "2024-05-07T17:29:06.631255Z",
     "iopub.status.busy": "2024-05-07T17:29:06.630956Z",
     "iopub.status.idle": "2024-05-07T17:29:06.637405Z",
     "shell.execute_reply": "2024-05-07T17:29:06.636670Z"
    },
    "papermill": {
     "duration": 0.031093,
     "end_time": "2024-05-07T17:29:06.639224",
     "exception": false,
     "start_time": "2024-05-07T17:29:06.608131",
     "status": "completed"
    },
    "tags": []
   },
   "outputs": [],
   "source": [
    "spectra_bx=np.zeros((2947,65))\n",
    "spectra_by=np.zeros((2947,65))\n",
    "spectra_bz=np.zeros((2947,65))\n",
    "\n",
    "freq_bx=np.zeros((2947,65))\n",
    "freq_by=np.zeros((2947,65))\n",
    "freq_bz=np.zeros((2947,65))"
   ]
  },
  {
   "cell_type": "code",
   "execution_count": 49,
   "id": "92157fda",
   "metadata": {
    "execution": {
     "iopub.execute_input": "2024-05-07T17:29:06.684433Z",
     "iopub.status.busy": "2024-05-07T17:29:06.684114Z",
     "iopub.status.idle": "2024-05-07T17:29:07.943526Z",
     "shell.execute_reply": "2024-05-07T17:29:07.942568Z"
    },
    "papermill": {
     "duration": 1.284786,
     "end_time": "2024-05-07T17:29:07.945948",
     "exception": false,
     "start_time": "2024-05-07T17:29:06.661162",
     "status": "completed"
    },
    "tags": []
   },
   "outputs": [],
   "source": [
    "for i in range(0,2947):\n",
    "    # The suitable value for fs would be 0.25 Hz as the time step is 4 s.\n",
    "    freq_bx[i], spectra_bx[i] = signal.periodogram(body_acc_x_train[i], fs=0.50)\n",
    "    \n",
    "for i in range(0,2947):\n",
    "    # The suitable value for fs would be 0.25 Hz as the time step is 4 s.\n",
    "    freq_by[i], spectra_by[i] = signal.periodogram(body_acc_y_train[i], fs=0.50)\n",
    "\n",
    "for i in range(0,2947):\n",
    "    # The suitable value for fs would be 0.25 Hz as the time step is 4 s.\n",
    "    freq_bz[i], spectra_bz[i] = signal.periodogram(body_acc_z_train[i], fs=0.50)\n"
   ]
  },
  {
   "cell_type": "code",
   "execution_count": 50,
   "id": "12791a46",
   "metadata": {
    "execution": {
     "iopub.execute_input": "2024-05-07T17:29:07.992752Z",
     "iopub.status.busy": "2024-05-07T17:29:07.991985Z",
     "iopub.status.idle": "2024-05-07T17:29:07.998023Z",
     "shell.execute_reply": "2024-05-07T17:29:07.997167Z"
    },
    "papermill": {
     "duration": 0.031253,
     "end_time": "2024-05-07T17:29:07.999994",
     "exception": false,
     "start_time": "2024-05-07T17:29:07.968741",
     "status": "completed"
    },
    "tags": []
   },
   "outputs": [],
   "source": [
    "# peak height in the power spectrum is an estimate of the RMS amplitude.\n",
    "ph_RMS_amp_bx = np.sqrt(np.amax(spectra_bx,axis=1))\n",
    "ph_RMS_amp_by = np.sqrt(np.amax(spectra_by,axis=1))\n",
    "ph_RMS_amp_bz = np.sqrt(np.amax(spectra_bz,axis=1))"
   ]
  },
  {
   "cell_type": "code",
   "execution_count": 51,
   "id": "d46b1715",
   "metadata": {
    "execution": {
     "iopub.execute_input": "2024-05-07T17:29:08.045503Z",
     "iopub.status.busy": "2024-05-07T17:29:08.044743Z",
     "iopub.status.idle": "2024-05-07T17:29:08.050156Z",
     "shell.execute_reply": "2024-05-07T17:29:08.049255Z"
    },
    "papermill": {
     "duration": 0.030084,
     "end_time": "2024-05-07T17:29:08.052008",
     "exception": false,
     "start_time": "2024-05-07T17:29:08.021924",
     "status": "completed"
    },
    "tags": []
   },
   "outputs": [
    {
     "data": {
      "text/plain": [
       "(2947,)"
      ]
     },
     "execution_count": 51,
     "metadata": {},
     "output_type": "execute_result"
    }
   ],
   "source": [
    "ph_RMS_amp_bx.shape"
   ]
  },
  {
   "cell_type": "code",
   "execution_count": 52,
   "id": "b9160967",
   "metadata": {
    "execution": {
     "iopub.execute_input": "2024-05-07T17:29:08.097031Z",
     "iopub.status.busy": "2024-05-07T17:29:08.096779Z",
     "iopub.status.idle": "2024-05-07T17:29:08.102574Z",
     "shell.execute_reply": "2024-05-07T17:29:08.101742Z"
    },
    "papermill": {
     "duration": 0.030524,
     "end_time": "2024-05-07T17:29:08.104565",
     "exception": false,
     "start_time": "2024-05-07T17:29:08.074041",
     "status": "completed"
    },
    "tags": []
   },
   "outputs": [],
   "source": [
    "spectra_gx=np.zeros((2947,65))\n",
    "spectra_gy=np.zeros((2947,65))\n",
    "spectra_gz=np.zeros((2947,65))\n",
    "\n",
    "freq_gx=np.zeros((2947,65))\n",
    "freq_gy=np.zeros((2947,65))\n",
    "freq_gz=np.zeros((2947,65))"
   ]
  },
  {
   "cell_type": "code",
   "execution_count": 53,
   "id": "77f57328",
   "metadata": {
    "execution": {
     "iopub.execute_input": "2024-05-07T17:29:08.150307Z",
     "iopub.status.busy": "2024-05-07T17:29:08.150033Z",
     "iopub.status.idle": "2024-05-07T17:29:09.329615Z",
     "shell.execute_reply": "2024-05-07T17:29:09.328649Z"
    },
    "papermill": {
     "duration": 1.205351,
     "end_time": "2024-05-07T17:29:09.332030",
     "exception": false,
     "start_time": "2024-05-07T17:29:08.126679",
     "status": "completed"
    },
    "tags": []
   },
   "outputs": [],
   "source": [
    "for i in range(0,2947):\n",
    "    # The suitable value for fs would be 0.25 Hz as the time step is 4 s.\n",
    "    freq_gx[i], spectra_gx[i] = signal.periodogram(body_gyro_x_train[i], fs=0.50)\n",
    "    \n",
    "for i in range(0,2947):\n",
    "    # The suitable value for fs would be 0.25 Hz as the time step is 4 s.\n",
    "    freq_gy[i], spectra_gy[i] = signal.periodogram(body_gyro_y_train[i], fs=0.50)\n",
    "\n",
    "for i in range(0,2947):\n",
    "    # The suitable value for fs would be 0.25 Hz as the time step is 4 s.\n",
    "    freq_gz[i], spectra_gz[i] = signal.periodogram(body_gyro_z_train[i], fs=0.50)\n"
   ]
  },
  {
   "cell_type": "code",
   "execution_count": 54,
   "id": "b6b6ff2f",
   "metadata": {
    "execution": {
     "iopub.execute_input": "2024-05-07T17:29:09.379649Z",
     "iopub.status.busy": "2024-05-07T17:29:09.379334Z",
     "iopub.status.idle": "2024-05-07T17:29:09.385412Z",
     "shell.execute_reply": "2024-05-07T17:29:09.384542Z"
    },
    "papermill": {
     "duration": 0.032274,
     "end_time": "2024-05-07T17:29:09.387261",
     "exception": false,
     "start_time": "2024-05-07T17:29:09.354987",
     "status": "completed"
    },
    "tags": []
   },
   "outputs": [],
   "source": [
    "# peak height in the power spectrum is an estimate of the RMS amplitude.\n",
    "ph_RMS_amp_gx = np.sqrt(np.amax(spectra_gx,axis=1))\n",
    "ph_RMS_amp_gy = np.sqrt(np.amax(spectra_gy,axis=1))\n",
    "ph_RMS_amp_gz = np.sqrt(np.amax(spectra_gz,axis=1))"
   ]
  },
  {
   "cell_type": "code",
   "execution_count": 55,
   "id": "557cc26a",
   "metadata": {
    "execution": {
     "iopub.execute_input": "2024-05-07T17:29:09.432993Z",
     "iopub.status.busy": "2024-05-07T17:29:09.432193Z",
     "iopub.status.idle": "2024-05-07T17:29:09.437635Z",
     "shell.execute_reply": "2024-05-07T17:29:09.436797Z"
    },
    "papermill": {
     "duration": 0.030438,
     "end_time": "2024-05-07T17:29:09.439507",
     "exception": false,
     "start_time": "2024-05-07T17:29:09.409069",
     "status": "completed"
    },
    "tags": []
   },
   "outputs": [
    {
     "data": {
      "text/plain": [
       "(2947,)"
      ]
     },
     "execution_count": 55,
     "metadata": {},
     "output_type": "execute_result"
    }
   ],
   "source": [
    "ph_RMS_amp_gx.shape"
   ]
  },
  {
   "cell_type": "code",
   "execution_count": 56,
   "id": "294798a6",
   "metadata": {
    "execution": {
     "iopub.execute_input": "2024-05-07T17:29:09.484946Z",
     "iopub.status.busy": "2024-05-07T17:29:09.484644Z",
     "iopub.status.idle": "2024-05-07T17:29:09.490622Z",
     "shell.execute_reply": "2024-05-07T17:29:09.489943Z"
    },
    "papermill": {
     "duration": 0.030929,
     "end_time": "2024-05-07T17:29:09.492448",
     "exception": false,
     "start_time": "2024-05-07T17:29:09.461519",
     "status": "completed"
    },
    "tags": []
   },
   "outputs": [],
   "source": [
    "spectra_tx=np.zeros((2947,65))\n",
    "spectra_ty=np.zeros((2947,65))\n",
    "spectra_tz=np.zeros((2947,65))\n",
    "\n",
    "freq_tx=np.zeros((2947,65))\n",
    "freq_ty=np.zeros((2947,65))\n",
    "freq_tz=np.zeros((2947,65))"
   ]
  },
  {
   "cell_type": "code",
   "execution_count": 57,
   "id": "a9e21b9d",
   "metadata": {
    "execution": {
     "iopub.execute_input": "2024-05-07T17:29:09.537666Z",
     "iopub.status.busy": "2024-05-07T17:29:09.537396Z",
     "iopub.status.idle": "2024-05-07T17:29:10.746846Z",
     "shell.execute_reply": "2024-05-07T17:29:10.746077Z"
    },
    "papermill": {
     "duration": 1.23452,
     "end_time": "2024-05-07T17:29:10.749017",
     "exception": false,
     "start_time": "2024-05-07T17:29:09.514497",
     "status": "completed"
    },
    "tags": []
   },
   "outputs": [],
   "source": [
    "for i in range(0,2947):\n",
    "    # The suitable value for fs would be 0.25 Hz as the time step is 4 s.\n",
    "    freq_tx[i], spectra_tx[i] = signal.periodogram(total_acc_x_train[i], fs=0.50)\n",
    "    \n",
    "for i in range(0,2947):\n",
    "    # The suitable value for fs would be 0.25 Hz as the time step is 4 s.\n",
    "    freq_ty[i], spectra_ty[i] = signal.periodogram(total_acc_y_train[i], fs=0.50)\n",
    "\n",
    "for i in range(0,2947):\n",
    "    # The suitable value for fs would be 0.25 Hz as the time step is 4 s.\n",
    "    freq_tz[i], spectra_tz[i] = signal.periodogram(total_acc_z_train[i], fs=0.50)\n"
   ]
  },
  {
   "cell_type": "code",
   "execution_count": 58,
   "id": "e52e413a",
   "metadata": {
    "execution": {
     "iopub.execute_input": "2024-05-07T17:29:10.795843Z",
     "iopub.status.busy": "2024-05-07T17:29:10.795524Z",
     "iopub.status.idle": "2024-05-07T17:29:10.801308Z",
     "shell.execute_reply": "2024-05-07T17:29:10.800644Z"
    },
    "papermill": {
     "duration": 0.031512,
     "end_time": "2024-05-07T17:29:10.803064",
     "exception": false,
     "start_time": "2024-05-07T17:29:10.771552",
     "status": "completed"
    },
    "tags": []
   },
   "outputs": [],
   "source": [
    "# peak height in the power spectrum is an estimate of the RMS amplitude.\n",
    "ph_RMS_amp_tx = np.sqrt(np.amax(spectra_tx,axis=1))\n",
    "ph_RMS_amp_ty = np.sqrt(np.amax(spectra_ty,axis=1))\n",
    "ph_RMS_amp_tz = np.sqrt(np.amax(spectra_tz,axis=1))"
   ]
  },
  {
   "cell_type": "code",
   "execution_count": 59,
   "id": "73c3c6b6",
   "metadata": {
    "execution": {
     "iopub.execute_input": "2024-05-07T17:29:10.848745Z",
     "iopub.status.busy": "2024-05-07T17:29:10.848464Z",
     "iopub.status.idle": "2024-05-07T17:29:10.853764Z",
     "shell.execute_reply": "2024-05-07T17:29:10.852957Z"
    },
    "papermill": {
     "duration": 0.030325,
     "end_time": "2024-05-07T17:29:10.855690",
     "exception": false,
     "start_time": "2024-05-07T17:29:10.825365",
     "status": "completed"
    },
    "tags": []
   },
   "outputs": [
    {
     "data": {
      "text/plain": [
       "(2947,)"
      ]
     },
     "execution_count": 59,
     "metadata": {},
     "output_type": "execute_result"
    }
   ],
   "source": [
    "ph_RMS_amp_tx.shape"
   ]
  },
  {
   "cell_type": "code",
   "execution_count": 60,
   "id": "344af2fa",
   "metadata": {
    "execution": {
     "iopub.execute_input": "2024-05-07T17:29:10.901021Z",
     "iopub.status.busy": "2024-05-07T17:29:10.900728Z",
     "iopub.status.idle": "2024-05-07T17:29:10.906429Z",
     "shell.execute_reply": "2024-05-07T17:29:10.905670Z"
    },
    "papermill": {
     "duration": 0.030526,
     "end_time": "2024-05-07T17:29:10.908281",
     "exception": false,
     "start_time": "2024-05-07T17:29:10.877755",
     "status": "completed"
    },
    "tags": []
   },
   "outputs": [],
   "source": [
    "ph_RMS_amp_bx = ph_RMS_amp_bx.reshape(2947,1)  #f46\n",
    "ph_RMS_amp_by = ph_RMS_amp_by.reshape(2947,1)  #f47\n",
    "ph_RMS_amp_bz = ph_RMS_amp_bz.reshape(2947,1)  #f48\n",
    "\n",
    "ph_RMS_amp_gx = ph_RMS_amp_gx.reshape(2947,1)  #f49\n",
    "ph_RMS_amp_gy = ph_RMS_amp_gy.reshape(2947,1)  #f50\n",
    "ph_RMS_amp_gz = ph_RMS_amp_gz.reshape(2947,1)  #f51\n",
    "\n",
    "ph_RMS_amp_tx = ph_RMS_amp_tx.reshape(2947,1)  #f52\n",
    "ph_RMS_amp_ty = ph_RMS_amp_ty.reshape(2947,1)  #f53\n",
    "ph_RMS_amp_tz = ph_RMS_amp_tz.reshape(2947,1)  #f54"
   ]
  },
  {
   "cell_type": "code",
   "execution_count": 61,
   "id": "76e0cddc",
   "metadata": {
    "execution": {
     "iopub.execute_input": "2024-05-07T17:29:10.953549Z",
     "iopub.status.busy": "2024-05-07T17:29:10.953146Z",
     "iopub.status.idle": "2024-05-07T17:29:10.958723Z",
     "shell.execute_reply": "2024-05-07T17:29:10.957864Z"
    },
    "papermill": {
     "duration": 0.030551,
     "end_time": "2024-05-07T17:29:10.960806",
     "exception": false,
     "start_time": "2024-05-07T17:29:10.930255",
     "status": "completed"
    },
    "tags": []
   },
   "outputs": [
    {
     "data": {
      "text/plain": [
       "(2947, 1)"
      ]
     },
     "execution_count": 61,
     "metadata": {},
     "output_type": "execute_result"
    }
   ],
   "source": [
    "ph_RMS_amp_tx.shape"
   ]
  },
  {
   "cell_type": "code",
   "execution_count": 62,
   "id": "93885630",
   "metadata": {
    "execution": {
     "iopub.execute_input": "2024-05-07T17:29:11.006786Z",
     "iopub.status.busy": "2024-05-07T17:29:11.006522Z",
     "iopub.status.idle": "2024-05-07T17:29:11.015039Z",
     "shell.execute_reply": "2024-05-07T17:29:11.014378Z"
    },
    "papermill": {
     "duration": 0.033721,
     "end_time": "2024-05-07T17:29:11.016946",
     "exception": false,
     "start_time": "2024-05-07T17:29:10.983225",
     "status": "completed"
    },
    "tags": []
   },
   "outputs": [],
   "source": [
    "q1_body_acc_x_train=np.zeros((2947,1))\n",
    "q3_body_acc_x_train=np.zeros((2947,1))\n",
    "\n",
    "q1_body_acc_y_train=np.zeros((2947,1))\n",
    "q3_body_acc_y_train=np.zeros((2947,1))\n",
    "\n",
    "q1_body_acc_z_train=np.zeros((2947,1))\n",
    "q3_body_acc_z_train=np.zeros((2947,1))\n",
    "\n",
    "q1_body_gyro_x_train=np.zeros((2947,1))\n",
    "q3_body_gyro_x_train=np.zeros((2947,1))\n",
    "\n",
    "q1_body_gyro_y_train=np.zeros((2947,1))\n",
    "q3_body_gyro_y_train=np.zeros((2947,1))\n",
    "\n",
    "q1_body_gyro_z_train=np.zeros((2947,1))\n",
    "q3_body_gyro_z_train=np.zeros((2947,1))\n",
    "\n",
    "q1_total_acc_x_train=np.zeros((2947,1))\n",
    "q3_total_acc_x_train=np.zeros((2947,1))\n",
    "\n",
    "q1_total_acc_y_train=np.zeros((2947,1))\n",
    "q3_total_acc_y_train=np.zeros((2947,1))\n",
    "\n",
    "q1_total_acc_z_train=np.zeros((2947,1))\n",
    "q3_total_acc_z_train=np.zeros((2947,1))\n"
   ]
  },
  {
   "cell_type": "code",
   "execution_count": 63,
   "id": "f47d491d",
   "metadata": {
    "execution": {
     "iopub.execute_input": "2024-05-07T17:29:11.062606Z",
     "iopub.status.busy": "2024-05-07T17:29:11.062332Z",
     "iopub.status.idle": "2024-05-07T17:29:17.258439Z",
     "shell.execute_reply": "2024-05-07T17:29:17.257420Z"
    },
    "papermill": {
     "duration": 6.221537,
     "end_time": "2024-05-07T17:29:17.260802",
     "exception": false,
     "start_time": "2024-05-07T17:29:11.039265",
     "status": "completed"
    },
    "tags": []
   },
   "outputs": [],
   "source": [
    "for i in range(0,2947):\n",
    "    q1_body_acc_x_train[i] = np.percentile(body_acc_x_train[i], 25)\n",
    "    q3_body_acc_x_train[i] = np.percentile(body_acc_x_train[i], 75)\n",
    "\n",
    "    q1_body_acc_y_train[i] = np.percentile(body_acc_y_train[i], 25)\n",
    "    q3_body_acc_y_train[i] = np.percentile(body_acc_y_train[i], 75)\n",
    "\n",
    "    q1_body_acc_z_train[i] = np.percentile(body_acc_z_train[i], 25)\n",
    "    q3_body_acc_z_train[i] = np.percentile(body_acc_z_train[i], 75)\n",
    "\n",
    "    q1_body_gyro_x_train[i] = np.percentile(body_gyro_x_train[i], 25)\n",
    "    q3_body_gyro_x_train[i] = np.percentile(body_gyro_x_train[i], 75)\n",
    "\n",
    "    q1_body_gyro_y_train[i] = np.percentile(body_gyro_y_train[i], 25)\n",
    "    q3_body_gyro_y_train[i] = np.percentile(body_gyro_y_train[i], 75)\n",
    "\n",
    "    q1_body_gyro_z_train[i] = np.percentile(body_gyro_z_train[i], 25)\n",
    "    q3_body_gyro_z_train[i] = np.percentile(body_gyro_z_train[i], 75)\n",
    "\n",
    "    q1_total_acc_x_train[i] = np.percentile(total_acc_x_train[i], 25)\n",
    "    q3_total_acc_x_train[i] = np.percentile(total_acc_x_train[i], 75)\n",
    "\n",
    "    q1_total_acc_y_train[i] = np.percentile(total_acc_y_train[i], 25)\n",
    "    q3_total_acc_y_train[i] = np.percentile(total_acc_y_train[i], 75)\n",
    "\n",
    "    q1_total_acc_z_train[i] = np.percentile(total_acc_z_train[i], 25)\n",
    "    q3_total_acc_z_train[i] = np.percentile(total_acc_z_train[i], 75)"
   ]
  },
  {
   "cell_type": "code",
   "execution_count": 64,
   "id": "651bc425",
   "metadata": {
    "execution": {
     "iopub.execute_input": "2024-05-07T17:29:17.308841Z",
     "iopub.status.busy": "2024-05-07T17:29:17.307932Z",
     "iopub.status.idle": "2024-05-07T17:29:17.316607Z",
     "shell.execute_reply": "2024-05-07T17:29:17.315639Z"
    },
    "papermill": {
     "duration": 0.034713,
     "end_time": "2024-05-07T17:29:17.318705",
     "exception": false,
     "start_time": "2024-05-07T17:29:17.283992",
     "status": "completed"
    },
    "tags": []
   },
   "outputs": [
    {
     "name": "stdout",
     "output_type": "stream",
     "text": [
      "(2947, 1)\n",
      "(2947, 1)\n",
      "(2947, 1)\n",
      "(2947, 1)\n",
      "(2947, 1)\n",
      "(2947, 1)\n",
      "(2947, 1)\n",
      "(2947, 1)\n",
      "(2947, 1)\n",
      "(2947, 1)\n",
      "(2947, 1)\n",
      "(2947, 1)\n",
      "(2947, 1)\n",
      "(2947, 1)\n",
      "(2947, 1)\n",
      "(2947, 1)\n",
      "(2947, 1)\n",
      "(2947, 1)\n"
     ]
    }
   ],
   "source": [
    "print(q1_body_acc_x_train.shape) #f55\n",
    "print(q3_body_acc_x_train.shape) #f56\n",
    "print(q1_body_acc_y_train.shape) #f57\n",
    "print(q3_body_acc_y_train.shape) #f58\n",
    "print(q1_body_acc_z_train.shape) #f59\n",
    "print(q3_body_acc_z_train.shape) #f60\n",
    "print(q1_body_gyro_x_train.shape) #f61\n",
    "print(q3_body_gyro_x_train.shape) #f62\n",
    "print(q1_body_gyro_y_train.shape) #f63\n",
    "print(q3_body_gyro_y_train.shape) #f64\n",
    "print(q1_body_gyro_z_train.shape) #f65\n",
    "print(q3_body_gyro_z_train.shape) #f66\n",
    "print(q1_total_acc_x_train.shape) #f67\n",
    "print(q3_total_acc_x_train.shape) #f68\n",
    "print(q1_total_acc_y_train.shape) #f69\n",
    "print(q3_total_acc_y_train.shape) #f70\n",
    "print(q1_total_acc_z_train.shape) #f71\n",
    "print(q3_total_acc_z_train.shape) #f72"
   ]
  },
  {
   "cell_type": "code",
   "execution_count": 65,
   "id": "5d93654e",
   "metadata": {
    "execution": {
     "iopub.execute_input": "2024-05-07T17:29:17.374603Z",
     "iopub.status.busy": "2024-05-07T17:29:17.374138Z",
     "iopub.status.idle": "2024-05-07T17:29:17.382012Z",
     "shell.execute_reply": "2024-05-07T17:29:17.380906Z"
    },
    "papermill": {
     "duration": 0.041146,
     "end_time": "2024-05-07T17:29:17.384795",
     "exception": false,
     "start_time": "2024-05-07T17:29:17.343649",
     "status": "completed"
    },
    "tags": []
   },
   "outputs": [],
   "source": [
    "iqr_bx = q3_body_acc_x_train-q1_body_acc_x_train  #f73\n",
    "iqr_by = q3_body_acc_y_train-q1_body_acc_y_train  #f74\n",
    "iqr_bz = q3_body_acc_z_train-q1_body_acc_z_train  #f75\n",
    "\n",
    "iqr_gx = q3_body_gyro_x_train-q1_body_gyro_x_train #f76\n",
    "iqr_gy = q3_body_gyro_y_train-q1_body_gyro_y_train #f77\n",
    "iqr_gz = q3_body_gyro_z_train-q1_body_gyro_z_train #f78\n",
    "\n",
    "iqr_tx = q3_total_acc_x_train-q1_total_acc_x_train #f79\n",
    "iqr_ty = q3_total_acc_y_train-q1_total_acc_y_train #f80\n",
    "iqr_tz = q3_total_acc_z_train-q1_total_acc_z_train #f81"
   ]
  },
  {
   "cell_type": "code",
   "execution_count": 66,
   "id": "365a5fab",
   "metadata": {
    "execution": {
     "iopub.execute_input": "2024-05-07T17:29:17.437277Z",
     "iopub.status.busy": "2024-05-07T17:29:17.436525Z",
     "iopub.status.idle": "2024-05-07T17:29:17.442320Z",
     "shell.execute_reply": "2024-05-07T17:29:17.441529Z"
    },
    "papermill": {
     "duration": 0.031159,
     "end_time": "2024-05-07T17:29:17.444260",
     "exception": false,
     "start_time": "2024-05-07T17:29:17.413101",
     "status": "completed"
    },
    "tags": []
   },
   "outputs": [
    {
     "data": {
      "text/plain": [
       "(2947, 1)"
      ]
     },
     "execution_count": 66,
     "metadata": {},
     "output_type": "execute_result"
    }
   ],
   "source": [
    "iqr_bx.shape"
   ]
  },
  {
   "cell_type": "code",
   "execution_count": 67,
   "id": "f8c3f7cf",
   "metadata": {
    "execution": {
     "iopub.execute_input": "2024-05-07T17:29:17.491675Z",
     "iopub.status.busy": "2024-05-07T17:29:17.491000Z",
     "iopub.status.idle": "2024-05-07T17:29:17.496960Z",
     "shell.execute_reply": "2024-05-07T17:29:17.496212Z"
    },
    "papermill": {
     "duration": 0.031964,
     "end_time": "2024-05-07T17:29:17.498927",
     "exception": false,
     "start_time": "2024-05-07T17:29:17.466963",
     "status": "completed"
    },
    "tags": []
   },
   "outputs": [],
   "source": [
    "quartile_dev_bx = (iqr_bx) / 2  #f82\n",
    "quartile_dev_by = (iqr_by) / 2  #f83\n",
    "quartile_dev_bz = (iqr_bz) / 2  #f84\n",
    "\n",
    "quartile_dev_gx = (iqr_gx) / 2  #f85\n",
    "quartile_dev_gy = (iqr_gy) / 2  #f86\n",
    "quartile_dev_gz = (iqr_gz) / 2  #f87\n",
    "\n",
    "quartile_dev_tx = (iqr_tx) / 2  #f88\n",
    "quartile_dev_ty = (iqr_ty) / 2  #f89\n",
    "quartile_dev_tz = (iqr_tz) / 2  #f90"
   ]
  },
  {
   "cell_type": "code",
   "execution_count": 68,
   "id": "a6e1c00b",
   "metadata": {
    "execution": {
     "iopub.execute_input": "2024-05-07T17:29:17.546162Z",
     "iopub.status.busy": "2024-05-07T17:29:17.545895Z",
     "iopub.status.idle": "2024-05-07T17:29:17.552108Z",
     "shell.execute_reply": "2024-05-07T17:29:17.551266Z"
    },
    "papermill": {
     "duration": 0.031916,
     "end_time": "2024-05-07T17:29:17.553998",
     "exception": false,
     "start_time": "2024-05-07T17:29:17.522082",
     "status": "completed"
    },
    "tags": []
   },
   "outputs": [
    {
     "data": {
      "text/plain": [
       "(2947, 1)"
      ]
     },
     "execution_count": 68,
     "metadata": {},
     "output_type": "execute_result"
    }
   ],
   "source": [
    "quartile_dev_tz.shape"
   ]
  },
  {
   "cell_type": "code",
   "execution_count": null,
   "id": "97139c7c",
   "metadata": {
    "papermill": {
     "duration": 0.023532,
     "end_time": "2024-05-07T17:29:17.600557",
     "exception": false,
     "start_time": "2024-05-07T17:29:17.577025",
     "status": "completed"
    },
    "tags": []
   },
   "outputs": [],
   "source": []
  },
  {
   "cell_type": "code",
   "execution_count": 69,
   "id": "10ab148a",
   "metadata": {
    "execution": {
     "iopub.execute_input": "2024-05-07T17:29:17.648491Z",
     "iopub.status.busy": "2024-05-07T17:29:17.647855Z",
     "iopub.status.idle": "2024-05-07T17:29:17.658195Z",
     "shell.execute_reply": "2024-05-07T17:29:17.657469Z"
    },
    "papermill": {
     "duration": 0.036228,
     "end_time": "2024-05-07T17:29:17.660122",
     "exception": false,
     "start_time": "2024-05-07T17:29:17.623894",
     "status": "completed"
    },
    "tags": []
   },
   "outputs": [],
   "source": [
    "feature_vector=np.concatenate([body_acc_x_train_mean,body_acc_y_train_mean,body_acc_z_train_mean,\n",
    "                              body_gyro_x_train_mean,body_gyro_y_train_mean,body_gyro_z_train_mean,\n",
    "                              total_acc_x_train_mean,total_acc_y_train_mean,total_acc_z_train_mean,\n",
    "                              acc_mag_mean,acc_mag_std,\n",
    "                              thetax_mean,thetax_std,thetay_mean,thetay_std,thetaz_mean,thetaz_std,\n",
    "                              absmeanx_mean,absmeanx_std,absmeany_mean,absmeany_std,absmeanz_mean,absmeanz_std,\n",
    "                              body_acc_x_train_mad,body_acc_y_train_mad,body_acc_z_train_mad,\n",
    "                              body_gyro_x_train_mad,body_gyro_y_train_mad,body_gyro_z_train_mad,\n",
    "                              total_acc_x_train_mad,total_acc_y_train_mad,total_acc_z_train_mad,\n",
    "                              body_acc_x_train_std,body_acc_y_train_std,body_acc_z_train_std,\n",
    "                              body_gyro_x_train_std,body_gyro_y_train_std,body_gyro_z_train_std,\n",
    "                              total_acc_x_train_std,total_acc_y_train_std,total_acc_z_train_std,\n",
    "                              Vertical_acc_mean,Vertical_acc_std,Horizontal_acc_mean,Horizontal_acc_std,\n",
    "                              ph_RMS_amp_bx,ph_RMS_amp_by,ph_RMS_amp_bz,\n",
    "                              ph_RMS_amp_gx,ph_RMS_amp_gy,ph_RMS_amp_gz,\n",
    "                              ph_RMS_amp_tx,ph_RMS_amp_ty,ph_RMS_amp_tz,\n",
    "                              q1_body_acc_x_train,q1_body_acc_y_train,q1_body_acc_z_train,\n",
    "                              q1_body_gyro_x_train,q1_body_gyro_y_train,q1_body_gyro_z_train,\n",
    "                              q1_total_acc_x_train,q1_total_acc_y_train,q1_total_acc_z_train,\n",
    "                              q3_body_acc_x_train,q3_body_acc_y_train,q3_body_acc_z_train,\n",
    "                              q3_body_gyro_x_train,q3_body_gyro_y_train,q3_body_gyro_z_train,\n",
    "                              q3_total_acc_x_train,q3_total_acc_y_train,q3_total_acc_z_train,\n",
    "                              iqr_bx,iqr_by,iqr_bz,\n",
    "                              iqr_gx,iqr_gy,iqr_gz,\n",
    "                              iqr_tx,iqr_ty,iqr_tz,\n",
    "                              quartile_dev_bx,quartile_dev_by,quartile_dev_bz,\n",
    "                              quartile_dev_gx,quartile_dev_gy,quartile_dev_gz,\n",
    "                              quartile_dev_tx,quartile_dev_ty,quartile_dev_tz],axis=1)"
   ]
  },
  {
   "cell_type": "code",
   "execution_count": 70,
   "id": "caa384ea",
   "metadata": {
    "execution": {
     "iopub.execute_input": "2024-05-07T17:29:17.707314Z",
     "iopub.status.busy": "2024-05-07T17:29:17.706705Z",
     "iopub.status.idle": "2024-05-07T17:29:17.712033Z",
     "shell.execute_reply": "2024-05-07T17:29:17.711187Z"
    },
    "papermill": {
     "duration": 0.030834,
     "end_time": "2024-05-07T17:29:17.714017",
     "exception": false,
     "start_time": "2024-05-07T17:29:17.683183",
     "status": "completed"
    },
    "tags": []
   },
   "outputs": [
    {
     "data": {
      "text/plain": [
       "(2947, 90)"
      ]
     },
     "execution_count": 70,
     "metadata": {},
     "output_type": "execute_result"
    }
   ],
   "source": [
    "feature_vector.shape"
   ]
  },
  {
   "cell_type": "code",
   "execution_count": 71,
   "id": "dfa04bbc",
   "metadata": {
    "execution": {
     "iopub.execute_input": "2024-05-07T17:29:17.760928Z",
     "iopub.status.busy": "2024-05-07T17:29:17.760600Z",
     "iopub.status.idle": "2024-05-07T17:29:17.764888Z",
     "shell.execute_reply": "2024-05-07T17:29:17.764145Z"
    },
    "papermill": {
     "duration": 0.030097,
     "end_time": "2024-05-07T17:29:17.766795",
     "exception": false,
     "start_time": "2024-05-07T17:29:17.736698",
     "status": "completed"
    },
    "tags": []
   },
   "outputs": [],
   "source": [
    "train_X=np.zeros((2947,90))"
   ]
  },
  {
   "cell_type": "code",
   "execution_count": 72,
   "id": "20fc422f",
   "metadata": {
    "execution": {
     "iopub.execute_input": "2024-05-07T17:29:17.813821Z",
     "iopub.status.busy": "2024-05-07T17:29:17.813533Z",
     "iopub.status.idle": "2024-05-07T17:29:17.918135Z",
     "shell.execute_reply": "2024-05-07T17:29:17.917365Z"
    },
    "papermill": {
     "duration": 0.130615,
     "end_time": "2024-05-07T17:29:17.920291",
     "exception": false,
     "start_time": "2024-05-07T17:29:17.789676",
     "status": "completed"
    },
    "tags": []
   },
   "outputs": [],
   "source": [
    "for i in range(0,2947):\n",
    "    train_X[i]= (feature_vector[i] - np.amax(feature_vector[i]) + (feature_vector[i] - np.amin(feature_vector[i])))/(np.amax(feature_vector[i])-np.amin(feature_vector[i]))"
   ]
  },
  {
   "cell_type": "code",
   "execution_count": 73,
   "id": "50e1c9b9",
   "metadata": {
    "execution": {
     "iopub.execute_input": "2024-05-07T17:29:17.968035Z",
     "iopub.status.busy": "2024-05-07T17:29:17.967707Z",
     "iopub.status.idle": "2024-05-07T17:29:17.973342Z",
     "shell.execute_reply": "2024-05-07T17:29:17.972488Z"
    },
    "papermill": {
     "duration": 0.031817,
     "end_time": "2024-05-07T17:29:17.975391",
     "exception": false,
     "start_time": "2024-05-07T17:29:17.943574",
     "status": "completed"
    },
    "tags": []
   },
   "outputs": [
    {
     "data": {
      "text/plain": [
       "(2947, 90)"
      ]
     },
     "execution_count": 73,
     "metadata": {},
     "output_type": "execute_result"
    }
   ],
   "source": [
    "train_X.shape"
   ]
  },
  {
   "cell_type": "code",
   "execution_count": 74,
   "id": "b2ffe5e5",
   "metadata": {
    "execution": {
     "iopub.execute_input": "2024-05-07T17:29:18.022858Z",
     "iopub.status.busy": "2024-05-07T17:29:18.022134Z",
     "iopub.status.idle": "2024-05-07T17:29:18.028432Z",
     "shell.execute_reply": "2024-05-07T17:29:18.027773Z"
    },
    "papermill": {
     "duration": 0.031989,
     "end_time": "2024-05-07T17:29:18.030321",
     "exception": false,
     "start_time": "2024-05-07T17:29:17.998332",
     "status": "completed"
    },
    "tags": []
   },
   "outputs": [],
   "source": [
    "phitrain_X=np.arccos(train_X)"
   ]
  },
  {
   "cell_type": "code",
   "execution_count": 75,
   "id": "13d99616",
   "metadata": {
    "execution": {
     "iopub.execute_input": "2024-05-07T17:29:18.077548Z",
     "iopub.status.busy": "2024-05-07T17:29:18.076868Z",
     "iopub.status.idle": "2024-05-07T17:29:18.082266Z",
     "shell.execute_reply": "2024-05-07T17:29:18.081416Z"
    },
    "papermill": {
     "duration": 0.031095,
     "end_time": "2024-05-07T17:29:18.084091",
     "exception": false,
     "start_time": "2024-05-07T17:29:18.052996",
     "status": "completed"
    },
    "tags": []
   },
   "outputs": [
    {
     "data": {
      "text/plain": [
       "(2947, 90)"
      ]
     },
     "execution_count": 75,
     "metadata": {},
     "output_type": "execute_result"
    }
   ],
   "source": [
    "phitrain_X.shape"
   ]
  },
  {
   "cell_type": "code",
   "execution_count": 76,
   "id": "087334a1",
   "metadata": {
    "execution": {
     "iopub.execute_input": "2024-05-07T17:29:18.131043Z",
     "iopub.status.busy": "2024-05-07T17:29:18.130788Z",
     "iopub.status.idle": "2024-05-07T17:29:18.134664Z",
     "shell.execute_reply": "2024-05-07T17:29:18.133912Z"
    },
    "papermill": {
     "duration": 0.02953,
     "end_time": "2024-05-07T17:29:18.136505",
     "exception": false,
     "start_time": "2024-05-07T17:29:18.106975",
     "status": "completed"
    },
    "tags": []
   },
   "outputs": [],
   "source": [
    "import math\n",
    "import matplotlib.pyplot as plot"
   ]
  },
  {
   "cell_type": "code",
   "execution_count": 77,
   "id": "8f15094e",
   "metadata": {
    "execution": {
     "iopub.execute_input": "2024-05-07T17:29:18.184434Z",
     "iopub.status.busy": "2024-05-07T17:29:18.183561Z",
     "iopub.status.idle": "2024-05-07T17:29:18.189080Z",
     "shell.execute_reply": "2024-05-07T17:29:18.188244Z"
    },
    "papermill": {
     "duration": 0.031568,
     "end_time": "2024-05-07T17:29:18.190970",
     "exception": false,
     "start_time": "2024-05-07T17:29:18.159402",
     "status": "completed"
    },
    "tags": []
   },
   "outputs": [],
   "source": [
    "def cos_sum(phi_X):\n",
    "    gasf=np.zeros((90,90))\n",
    "    for i in range(0,90):\n",
    "        for j in range(0,90):\n",
    "            gasf[i][j]= math.cos(phi_X[i]+phi_X[j])\n",
    "    return gasf"
   ]
  },
  {
   "cell_type": "code",
   "execution_count": 78,
   "id": "c90b4b81",
   "metadata": {
    "execution": {
     "iopub.execute_input": "2024-05-07T17:29:18.238001Z",
     "iopub.status.busy": "2024-05-07T17:29:18.237721Z",
     "iopub.status.idle": "2024-05-07T19:40:53.647712Z",
     "shell.execute_reply": "2024-05-07T19:40:53.646719Z"
    },
    "papermill": {
     "duration": 7895.460256,
     "end_time": "2024-05-07T19:40:53.674052",
     "exception": false,
     "start_time": "2024-05-07T17:29:18.213796",
     "status": "completed"
    },
    "tags": []
   },
   "outputs": [
    {
     "data": {
      "image/png": "[encoded data removed]",
      "text/plain": [
       "<Figure size 640x480 with 1 Axes>"
      ]
     },
     "metadata": {},
     "output_type": "display_data"
    }
   ],
   "source": [
    "for i in range(2000,2947):\n",
    "    gasf=cos_sum(phitrain_X[i])\n",
    "    plot.imshow(gasf)\n",
    "    plot.axis('off')\n",
    "    plot.savefig(str(i)+\".png\",bbox_inches='tight', pad_inches=0)\n",
    "    #plot.show()"
   ]
  },
  {
   "cell_type": "code",
   "execution_count": null,
   "id": "c963c97d",
   "metadata": {
    "papermill": {
     "duration": 0.023763,
     "end_time": "2024-05-07T19:40:53.721283",
     "exception": false,
     "start_time": "2024-05-07T19:40:53.697520",
     "status": "completed"
    },
    "tags": []
   },
   "outputs": [],
   "source": []
  }
 ],
 "metadata": {
  "kaggle": {
   "accelerator": "gpu",
   "dataSources": [
    {
     "datasetId": 4482426,
     "sourceId": 7682598,
     "sourceType": "datasetVersion"
    },
    {
     "datasetId": 4676509,
     "sourceId": 7951929,
     "sourceType": "datasetVersion"
    },
    {
     "datasetId": 4680827,
     "sourceId": 7957704,
     "sourceType": "datasetVersion"
    }
   ],
   "dockerImageVersionId": 30699,
   "isGpuEnabled": true,
   "isInternetEnabled": true,
   "language": "python",
   "sourceType": "notebook"
  },
  "kernelspec": {
   "display_name": "Python 3",
   "language": "python",
   "name": "python3"
  },
  "language_info": {
   "codemirror_mode": {
    "name": "ipython",
    "version": 3
   },
   "file_extension": ".py",
   "mimetype": "text/x-python",
   "name": "python",
   "nbconvert_exporter": "python",
   "pygments_lexer": "ipython3",
   "version": "3.10.13"
  },
  "papermill": {
   "default_parameters": {},
   "duration": 7928.687357,
   "end_time": "2024-05-07T19:40:56.332586",
   "environment_variables": {},
   "exception": null,
   "input_path": "__notebook__.ipynb",
   "output_path": "__notebook__.ipynb",
   "parameters": {},
   "start_time": "2024-05-07T17:28:47.645229",
   "version": "2.5.0"
  }
 },
 "nbformat": 4,
 "nbformat_minor": 5
}
