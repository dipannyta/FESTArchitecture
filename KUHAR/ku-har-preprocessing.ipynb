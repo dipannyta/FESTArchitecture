{
 "cells": [
  {
   "cell_type": "code",
   "execution_count": 1,
   "id": "c714b0a5",
   "metadata": {
    "execution": {
     "iopub.execute_input": "2024-06-11T10:20:03.968808Z",
     "iopub.status.busy": "2024-06-11T10:20:03.967902Z",
     "iopub.status.idle": "2024-06-11T10:20:09.709221Z",
     "shell.execute_reply": "2024-06-11T10:20:09.708187Z"
    },
    "papermill": {
     "duration": 5.767471,
     "end_time": "2024-06-11T10:20:09.711741",
     "exception": false,
     "start_time": "2024-06-11T10:20:03.944270",
     "status": "completed"
    },
    "tags": []
   },
   "outputs": [],
   "source": [
    "import pandas as pd\n",
    "import numpy as np\n",
    "import pandas as pd\n",
    "import seaborn as sns\n",
    "from sklearn.model_selection import train_test_split \n",
    "from sklearn.ensemble import RandomForestClassifier, ExtraTreesClassifier\n",
    "import sklearn.metrics as mt\n",
    "import matplotlib.pyplot as plt\n",
    "from matplotlib.pyplot import figure\n",
    "from sklearn.linear_model import LogisticRegression,SGDClassifier\n",
    "from sklearn.neighbors import KNeighborsClassifier\n",
    "from sklearn.svm import LinearSVC\n",
    "from sklearn.tree import DecisionTreeClassifier\n",
    "\n",
    "from lightgbm import LGBMClassifier\n",
    "from xgboost import XGBClassifier\n",
    "from catboost import CatBoostClassifier"
   ]
  },
  {
   "cell_type": "code",
   "execution_count": 2,
   "id": "278f5ad0",
   "metadata": {
    "execution": {
     "iopub.execute_input": "2024-06-11T10:20:09.765535Z",
     "iopub.status.busy": "2024-06-11T10:20:09.764346Z",
     "iopub.status.idle": "2024-06-11T10:20:21.007264Z",
     "shell.execute_reply": "2024-06-11T10:20:21.006208Z"
    },
    "papermill": {
     "duration": 11.270887,
     "end_time": "2024-06-11T10:20:21.010247",
     "exception": false,
     "start_time": "2024-06-11T10:20:09.739360",
     "status": "completed"
    },
    "tags": []
   },
   "outputs": [
    {
     "name": "stdout",
     "output_type": "stream",
     "text": [
      "(20750, 1800)\n",
      "(20750,)\n"
     ]
    }
   ],
   "source": [
    "#Reading data:\n",
    "\n",
    "df = pd.read_csv(\"/kaggle/input/ku-har-raw/KU-HAR_time_domain_subsamples_20750x300.csv\",header=None)\n",
    "dff = df.values\n",
    "signals = dff[:, 0: 1800]                         #These are the time-domian subsamples (signals) \n",
    "signals = np.array(signals, dtype=np.float32)\n",
    "labels = dff[:, 1800]                             #These are their associated class labels (signals)\n",
    "\n",
    "print(signals.shape)\n",
    "print(labels.shape)"
   ]
  },
  {
   "cell_type": "code",
   "execution_count": 3,
   "id": "dc4431d2",
   "metadata": {
    "execution": {
     "iopub.execute_input": "2024-06-11T10:20:21.055960Z",
     "iopub.status.busy": "2024-06-11T10:20:21.055549Z",
     "iopub.status.idle": "2024-06-11T10:20:21.094245Z",
     "shell.execute_reply": "2024-06-11T10:20:21.093191Z"
    },
    "papermill": {
     "duration": 0.064159,
     "end_time": "2024-06-11T10:20:21.096704",
     "exception": false,
     "start_time": "2024-06-11T10:20:21.032545",
     "status": "completed"
    },
    "tags": []
   },
   "outputs": [],
   "source": [
    "# convert array into dataframe \n",
    "Y = pd.DataFrame(labels) \n",
    "  \n",
    "# save the dataframe as a csv file \n",
    "Y.to_csv(\"Y_kuhar.csv\")"
   ]
  },
  {
   "cell_type": "code",
   "execution_count": 4,
   "id": "a2515320",
   "metadata": {
    "execution": {
     "iopub.execute_input": "2024-06-11T10:20:21.142638Z",
     "iopub.status.busy": "2024-06-11T10:20:21.141719Z",
     "iopub.status.idle": "2024-06-11T10:20:21.244356Z",
     "shell.execute_reply": "2024-06-11T10:20:21.243528Z"
    },
    "papermill": {
     "duration": 0.127814,
     "end_time": "2024-06-11T10:20:21.246693",
     "exception": false,
     "start_time": "2024-06-11T10:20:21.118879",
     "status": "completed"
    },
    "tags": []
   },
   "outputs": [],
   "source": [
    "Acc_X = df[df.columns[ 0: 300]]\n",
    "Acc_Y = df[df.columns[ 300: 600]]\n",
    "Acc_Z = df[df.columns[ 600: 900]]\n",
    "Gyr_X = df[df.columns[ 900: 1200]]\n",
    "Gyr_Y = df[df.columns[ 1200: 1500]]\n",
    "Gyr_Z = df[df.columns[ 1500: 1800]]"
   ]
  },
  {
   "cell_type": "code",
   "execution_count": 5,
   "id": "6b137d23",
   "metadata": {
    "execution": {
     "iopub.execute_input": "2024-06-11T10:20:21.292414Z",
     "iopub.status.busy": "2024-06-11T10:20:21.291768Z",
     "iopub.status.idle": "2024-06-11T10:20:21.319901Z",
     "shell.execute_reply": "2024-06-11T10:20:21.318621Z"
    },
    "papermill": {
     "duration": 0.054201,
     "end_time": "2024-06-11T10:20:21.322910",
     "exception": false,
     "start_time": "2024-06-11T10:20:21.268709",
     "status": "completed"
    },
    "tags": []
   },
   "outputs": [
    {
     "data": {
      "text/html": [
       "<div>\n",
       "<style scoped>\n",
       "    .dataframe tbody tr th:only-of-type {\n",
       "        vertical-align: middle;\n",
       "    }\n",
       "\n",
       "    .dataframe tbody tr th {\n",
       "        vertical-align: top;\n",
       "    }\n",
       "\n",
       "    .dataframe thead th {\n",
       "        text-align: right;\n",
       "    }\n",
       "</style>\n",
       "<table border=\"1\" class=\"dataframe\">\n",
       "  <thead>\n",
       "    <tr style=\"text-align: right;\">\n",
       "      <th></th>\n",
       "      <th>0</th>\n",
       "      <th>1</th>\n",
       "      <th>2</th>\n",
       "      <th>3</th>\n",
       "      <th>4</th>\n",
       "      <th>5</th>\n",
       "      <th>6</th>\n",
       "      <th>7</th>\n",
       "      <th>8</th>\n",
       "      <th>9</th>\n",
       "      <th>...</th>\n",
       "      <th>290</th>\n",
       "      <th>291</th>\n",
       "      <th>292</th>\n",
       "      <th>293</th>\n",
       "      <th>294</th>\n",
       "      <th>295</th>\n",
       "      <th>296</th>\n",
       "      <th>297</th>\n",
       "      <th>298</th>\n",
       "      <th>299</th>\n",
       "    </tr>\n",
       "  </thead>\n",
       "  <tbody>\n",
       "    <tr>\n",
       "      <th>0</th>\n",
       "      <td>0.004230</td>\n",
       "      <td>-0.000280</td>\n",
       "      <td>-0.013906</td>\n",
       "      <td>-0.002544</td>\n",
       "      <td>0.027433</td>\n",
       "      <td>0.058300</td>\n",
       "      <td>0.051670</td>\n",
       "      <td>0.071857</td>\n",
       "      <td>0.080653</td>\n",
       "      <td>0.047917</td>\n",
       "      <td>...</td>\n",
       "      <td>0.112880</td>\n",
       "      <td>0.100820</td>\n",
       "      <td>0.075487</td>\n",
       "      <td>0.041669</td>\n",
       "      <td>-0.005319</td>\n",
       "      <td>-0.028872</td>\n",
       "      <td>-0.049143</td>\n",
       "      <td>-0.054671</td>\n",
       "      <td>-0.032428</td>\n",
       "      <td>-0.027888</td>\n",
       "    </tr>\n",
       "    <tr>\n",
       "      <th>1</th>\n",
       "      <td>0.012482</td>\n",
       "      <td>0.032496</td>\n",
       "      <td>0.067856</td>\n",
       "      <td>0.071552</td>\n",
       "      <td>0.078103</td>\n",
       "      <td>0.040353</td>\n",
       "      <td>-0.001059</td>\n",
       "      <td>-0.018580</td>\n",
       "      <td>-0.026813</td>\n",
       "      <td>-0.011280</td>\n",
       "      <td>...</td>\n",
       "      <td>0.026719</td>\n",
       "      <td>0.011815</td>\n",
       "      <td>0.009799</td>\n",
       "      <td>0.018585</td>\n",
       "      <td>0.020731</td>\n",
       "      <td>0.021815</td>\n",
       "      <td>0.015763</td>\n",
       "      <td>0.025449</td>\n",
       "      <td>0.015005</td>\n",
       "      <td>0.004488</td>\n",
       "    </tr>\n",
       "    <tr>\n",
       "      <th>2</th>\n",
       "      <td>0.012127</td>\n",
       "      <td>0.028458</td>\n",
       "      <td>0.062075</td>\n",
       "      <td>0.052611</td>\n",
       "      <td>0.022942</td>\n",
       "      <td>-0.010017</td>\n",
       "      <td>-0.023151</td>\n",
       "      <td>-0.028515</td>\n",
       "      <td>0.005036</td>\n",
       "      <td>0.008450</td>\n",
       "      <td>...</td>\n",
       "      <td>0.060631</td>\n",
       "      <td>0.077351</td>\n",
       "      <td>0.075973</td>\n",
       "      <td>0.064078</td>\n",
       "      <td>0.029611</td>\n",
       "      <td>0.017449</td>\n",
       "      <td>-0.061116</td>\n",
       "      <td>-0.056643</td>\n",
       "      <td>-0.029544</td>\n",
       "      <td>-0.009596</td>\n",
       "    </tr>\n",
       "    <tr>\n",
       "      <th>3</th>\n",
       "      <td>0.052964</td>\n",
       "      <td>0.074319</td>\n",
       "      <td>0.110670</td>\n",
       "      <td>0.108490</td>\n",
       "      <td>0.091825</td>\n",
       "      <td>0.056989</td>\n",
       "      <td>0.029337</td>\n",
       "      <td>-0.016724</td>\n",
       "      <td>-0.042265</td>\n",
       "      <td>-0.053983</td>\n",
       "      <td>...</td>\n",
       "      <td>-0.005576</td>\n",
       "      <td>0.011198</td>\n",
       "      <td>0.020559</td>\n",
       "      <td>0.041041</td>\n",
       "      <td>0.050427</td>\n",
       "      <td>0.073637</td>\n",
       "      <td>0.064447</td>\n",
       "      <td>0.017279</td>\n",
       "      <td>-0.000149</td>\n",
       "      <td>-0.022203</td>\n",
       "    </tr>\n",
       "    <tr>\n",
       "      <th>4</th>\n",
       "      <td>-0.020462</td>\n",
       "      <td>-0.030787</td>\n",
       "      <td>-0.008617</td>\n",
       "      <td>0.008906</td>\n",
       "      <td>0.045046</td>\n",
       "      <td>0.042136</td>\n",
       "      <td>0.045037</td>\n",
       "      <td>0.045182</td>\n",
       "      <td>0.025113</td>\n",
       "      <td>0.021730</td>\n",
       "      <td>...</td>\n",
       "      <td>0.037130</td>\n",
       "      <td>0.024847</td>\n",
       "      <td>0.015515</td>\n",
       "      <td>0.002660</td>\n",
       "      <td>0.015992</td>\n",
       "      <td>0.023423</td>\n",
       "      <td>0.014275</td>\n",
       "      <td>0.015910</td>\n",
       "      <td>0.014603</td>\n",
       "      <td>0.031885</td>\n",
       "    </tr>\n",
       "  </tbody>\n",
       "</table>\n",
       "<p>5 rows × 300 columns</p>\n",
       "</div>"
      ],
      "text/plain": [
       "        0         1         2         3         4         5         6    \\\n",
       "0  0.004230 -0.000280 -0.013906 -0.002544  0.027433  0.058300  0.051670   \n",
       "1  0.012482  0.032496  0.067856  0.071552  0.078103  0.040353 -0.001059   \n",
       "2  0.012127  0.028458  0.062075  0.052611  0.022942 -0.010017 -0.023151   \n",
       "3  0.052964  0.074319  0.110670  0.108490  0.091825  0.056989  0.029337   \n",
       "4 -0.020462 -0.030787 -0.008617  0.008906  0.045046  0.042136  0.045037   \n",
       "\n",
       "        7         8         9    ...       290       291       292       293  \\\n",
       "0  0.071857  0.080653  0.047917  ...  0.112880  0.100820  0.075487  0.041669   \n",
       "1 -0.018580 -0.026813 -0.011280  ...  0.026719  0.011815  0.009799  0.018585   \n",
       "2 -0.028515  0.005036  0.008450  ...  0.060631  0.077351  0.075973  0.064078   \n",
       "3 -0.016724 -0.042265 -0.053983  ... -0.005576  0.011198  0.020559  0.041041   \n",
       "4  0.045182  0.025113  0.021730  ...  0.037130  0.024847  0.015515  0.002660   \n",
       "\n",
       "        294       295       296       297       298       299  \n",
       "0 -0.005319 -0.028872 -0.049143 -0.054671 -0.032428 -0.027888  \n",
       "1  0.020731  0.021815  0.015763  0.025449  0.015005  0.004488  \n",
       "2  0.029611  0.017449 -0.061116 -0.056643 -0.029544 -0.009596  \n",
       "3  0.050427  0.073637  0.064447  0.017279 -0.000149 -0.022203  \n",
       "4  0.015992  0.023423  0.014275  0.015910  0.014603  0.031885  \n",
       "\n",
       "[5 rows x 300 columns]"
      ]
     },
     "execution_count": 5,
     "metadata": {},
     "output_type": "execute_result"
    }
   ],
   "source": [
    "Acc_X.head()"
   ]
  },
  {
   "cell_type": "code",
   "execution_count": 6,
   "id": "4f04fead",
   "metadata": {
    "execution": {
     "iopub.execute_input": "2024-06-11T10:20:21.370852Z",
     "iopub.status.busy": "2024-06-11T10:20:21.370104Z",
     "iopub.status.idle": "2024-06-11T10:20:22.690973Z",
     "shell.execute_reply": "2024-06-11T10:20:22.690033Z"
    },
    "papermill": {
     "duration": 1.348669,
     "end_time": "2024-06-11T10:20:22.695306",
     "exception": false,
     "start_time": "2024-06-11T10:20:21.346637",
     "status": "completed"
    },
    "tags": []
   },
   "outputs": [
    {
     "data": {
      "image/png": "[encoded data removed]",
      "text/plain": [
       "<Figure size 640x2400 with 6 Axes>"
      ]
     },
     "metadata": {},
     "output_type": "display_data"
    }
   ],
   "source": [
    "# Visualization of the 20001th (time-domain HAR) sample (channel data):\n",
    "# The correspondig activity is \"Jump\"\n",
    "\n",
    "Accelerometer_X_axis_data = signals[6000, 0: 300]\n",
    "Accelerometer_Y_axis_data = signals[6000, 300: 600]\n",
    "Accelerometer_Z_axis_data = signals[6000, 600: 900]\n",
    "Gyroscope_X_axis_data = signals[6000, 900: 1200]\n",
    "Gyroscope_Y_axis_data = signals[6000, 1200: 1500]\n",
    "Gyroscope_Z_axis_data = signals[6000, 1500: 1800]\n",
    "time = np.linspace(.01, 3, 300)\n",
    "\n",
    "figure(figsize=(8, 30), dpi=80)\n",
    "\n",
    "ax1 = plt.subplot(611)\n",
    "ax1.plot(time, Accelerometer_X_axis_data, 'b')\n",
    "ax1.title.set_text('Accelerometer X axis')\n",
    "ax1.set_xlabel('time (ms) ->')\n",
    "ax1.set_ylabel('Acceleration (m/s^2)')\n",
    "ax1.grid(True)\n",
    "\n",
    "ax2 = plt.subplot(612)\n",
    "ax2.plot(time, Accelerometer_Y_axis_data, 'g')\n",
    "ax2.title.set_text('Accelerometer Y axis')\n",
    "ax2.set_xlabel('time (ms) ->')\n",
    "ax2.set_ylabel('Acceleration (m/s^2)')\n",
    "ax2.grid(True)\n",
    "\n",
    "ax3 = plt.subplot(613)\n",
    "ax3.plot(time, Accelerometer_Z_axis_data, 'r')\n",
    "ax3.title.set_text('Accelerometer Z axis')\n",
    "ax3.set_xlabel('time (ms) ->')\n",
    "ax3.set_ylabel('Acceleration (m/s^2)')\n",
    "ax3.grid(True)\n",
    "\n",
    "ax4 = plt.subplot(614)\n",
    "ax4.plot(time, Gyroscope_X_axis_data, 'b')\n",
    "ax4.title.set_text('Gyroscope X axis')\n",
    "ax4.set_xlabel('time (ms) ->')\n",
    "ax4.set_ylabel('Angular rotation (rad/s)')\n",
    "ax4.grid(True)\n",
    "\n",
    "ax5 = plt.subplot(615)\n",
    "ax5.plot(time, Gyroscope_Y_axis_data, 'g')\n",
    "ax5.title.set_text('Gyroscope Y axis')\n",
    "ax5.set_xlabel('time (ms) ->')\n",
    "ax5.set_ylabel('Angular rotation (rad/s)')\n",
    "ax5.grid(True)\n",
    "\n",
    "ax6 = plt.subplot(616)\n",
    "ax6.plot(time, Gyroscope_Z_axis_data, 'r')\n",
    "ax6.title.set_text('Gyroscope Z axis')\n",
    "ax6.set_xlabel('time (ms) ->')\n",
    "ax6.set_ylabel('Angular rotation (rad/s)')\n",
    "ax6.grid(True)\n",
    "\n",
    "plt.show()"
   ]
  },
  {
   "cell_type": "code",
   "execution_count": 7,
   "id": "0c8463d8",
   "metadata": {
    "execution": {
     "iopub.execute_input": "2024-06-11T10:20:22.747072Z",
     "iopub.status.busy": "2024-06-11T10:20:22.746425Z",
     "iopub.status.idle": "2024-06-11T10:20:22.895608Z",
     "shell.execute_reply": "2024-06-11T10:20:22.894635Z"
    },
    "papermill": {
     "duration": 0.177941,
     "end_time": "2024-06-11T10:20:22.898088",
     "exception": false,
     "start_time": "2024-06-11T10:20:22.720147",
     "status": "completed"
    },
    "tags": []
   },
   "outputs": [],
   "source": [
    "Acc_X = Acc_X.fillna(0)\n",
    "Acc_Y = Acc_Y.fillna(0)\n",
    "Acc_Z = Acc_Z.fillna(0)\n",
    "Gyr_X = Gyr_X.fillna(0)\n",
    "Gyr_Y = Gyr_Y.fillna(0)\n",
    "Gyr_Z = Gyr_Z.fillna(0)"
   ]
  },
  {
   "cell_type": "code",
   "execution_count": 8,
   "id": "1195f8e1",
   "metadata": {
    "execution": {
     "iopub.execute_input": "2024-06-11T10:20:22.949285Z",
     "iopub.status.busy": "2024-06-11T10:20:22.948590Z",
     "iopub.status.idle": "2024-06-11T10:20:22.970671Z",
     "shell.execute_reply": "2024-06-11T10:20:22.969650Z"
    },
    "papermill": {
     "duration": 0.049666,
     "end_time": "2024-06-11T10:20:22.972691",
     "exception": false,
     "start_time": "2024-06-11T10:20:22.923025",
     "status": "completed"
    },
    "tags": []
   },
   "outputs": [
    {
     "data": {
      "text/html": [
       "<div>\n",
       "<style scoped>\n",
       "    .dataframe tbody tr th:only-of-type {\n",
       "        vertical-align: middle;\n",
       "    }\n",
       "\n",
       "    .dataframe tbody tr th {\n",
       "        vertical-align: top;\n",
       "    }\n",
       "\n",
       "    .dataframe thead th {\n",
       "        text-align: right;\n",
       "    }\n",
       "</style>\n",
       "<table border=\"1\" class=\"dataframe\">\n",
       "  <thead>\n",
       "    <tr style=\"text-align: right;\">\n",
       "      <th></th>\n",
       "      <th>0</th>\n",
       "      <th>1</th>\n",
       "      <th>2</th>\n",
       "      <th>3</th>\n",
       "      <th>4</th>\n",
       "      <th>5</th>\n",
       "      <th>6</th>\n",
       "      <th>7</th>\n",
       "      <th>8</th>\n",
       "      <th>9</th>\n",
       "      <th>...</th>\n",
       "      <th>290</th>\n",
       "      <th>291</th>\n",
       "      <th>292</th>\n",
       "      <th>293</th>\n",
       "      <th>294</th>\n",
       "      <th>295</th>\n",
       "      <th>296</th>\n",
       "      <th>297</th>\n",
       "      <th>298</th>\n",
       "      <th>299</th>\n",
       "    </tr>\n",
       "  </thead>\n",
       "  <tbody>\n",
       "    <tr>\n",
       "      <th>0</th>\n",
       "      <td>0.004230</td>\n",
       "      <td>-0.000280</td>\n",
       "      <td>-0.013906</td>\n",
       "      <td>-0.002544</td>\n",
       "      <td>0.027433</td>\n",
       "      <td>0.058300</td>\n",
       "      <td>0.051670</td>\n",
       "      <td>0.071857</td>\n",
       "      <td>0.080653</td>\n",
       "      <td>0.047917</td>\n",
       "      <td>...</td>\n",
       "      <td>0.112880</td>\n",
       "      <td>0.100820</td>\n",
       "      <td>0.075487</td>\n",
       "      <td>0.041669</td>\n",
       "      <td>-0.005319</td>\n",
       "      <td>-0.028872</td>\n",
       "      <td>-0.049143</td>\n",
       "      <td>-0.054671</td>\n",
       "      <td>-0.032428</td>\n",
       "      <td>-0.027888</td>\n",
       "    </tr>\n",
       "    <tr>\n",
       "      <th>1</th>\n",
       "      <td>0.012482</td>\n",
       "      <td>0.032496</td>\n",
       "      <td>0.067856</td>\n",
       "      <td>0.071552</td>\n",
       "      <td>0.078103</td>\n",
       "      <td>0.040353</td>\n",
       "      <td>-0.001059</td>\n",
       "      <td>-0.018580</td>\n",
       "      <td>-0.026813</td>\n",
       "      <td>-0.011280</td>\n",
       "      <td>...</td>\n",
       "      <td>0.026719</td>\n",
       "      <td>0.011815</td>\n",
       "      <td>0.009799</td>\n",
       "      <td>0.018585</td>\n",
       "      <td>0.020731</td>\n",
       "      <td>0.021815</td>\n",
       "      <td>0.015763</td>\n",
       "      <td>0.025449</td>\n",
       "      <td>0.015005</td>\n",
       "      <td>0.004488</td>\n",
       "    </tr>\n",
       "    <tr>\n",
       "      <th>2</th>\n",
       "      <td>0.012127</td>\n",
       "      <td>0.028458</td>\n",
       "      <td>0.062075</td>\n",
       "      <td>0.052611</td>\n",
       "      <td>0.022942</td>\n",
       "      <td>-0.010017</td>\n",
       "      <td>-0.023151</td>\n",
       "      <td>-0.028515</td>\n",
       "      <td>0.005036</td>\n",
       "      <td>0.008450</td>\n",
       "      <td>...</td>\n",
       "      <td>0.060631</td>\n",
       "      <td>0.077351</td>\n",
       "      <td>0.075973</td>\n",
       "      <td>0.064078</td>\n",
       "      <td>0.029611</td>\n",
       "      <td>0.017449</td>\n",
       "      <td>-0.061116</td>\n",
       "      <td>-0.056643</td>\n",
       "      <td>-0.029544</td>\n",
       "      <td>-0.009596</td>\n",
       "    </tr>\n",
       "    <tr>\n",
       "      <th>3</th>\n",
       "      <td>0.052964</td>\n",
       "      <td>0.074319</td>\n",
       "      <td>0.110670</td>\n",
       "      <td>0.108490</td>\n",
       "      <td>0.091825</td>\n",
       "      <td>0.056989</td>\n",
       "      <td>0.029337</td>\n",
       "      <td>-0.016724</td>\n",
       "      <td>-0.042265</td>\n",
       "      <td>-0.053983</td>\n",
       "      <td>...</td>\n",
       "      <td>-0.005576</td>\n",
       "      <td>0.011198</td>\n",
       "      <td>0.020559</td>\n",
       "      <td>0.041041</td>\n",
       "      <td>0.050427</td>\n",
       "      <td>0.073637</td>\n",
       "      <td>0.064447</td>\n",
       "      <td>0.017279</td>\n",
       "      <td>-0.000149</td>\n",
       "      <td>-0.022203</td>\n",
       "    </tr>\n",
       "    <tr>\n",
       "      <th>4</th>\n",
       "      <td>-0.020462</td>\n",
       "      <td>-0.030787</td>\n",
       "      <td>-0.008617</td>\n",
       "      <td>0.008906</td>\n",
       "      <td>0.045046</td>\n",
       "      <td>0.042136</td>\n",
       "      <td>0.045037</td>\n",
       "      <td>0.045182</td>\n",
       "      <td>0.025113</td>\n",
       "      <td>0.021730</td>\n",
       "      <td>...</td>\n",
       "      <td>0.037130</td>\n",
       "      <td>0.024847</td>\n",
       "      <td>0.015515</td>\n",
       "      <td>0.002660</td>\n",
       "      <td>0.015992</td>\n",
       "      <td>0.023423</td>\n",
       "      <td>0.014275</td>\n",
       "      <td>0.015910</td>\n",
       "      <td>0.014603</td>\n",
       "      <td>0.031885</td>\n",
       "    </tr>\n",
       "  </tbody>\n",
       "</table>\n",
       "<p>5 rows × 300 columns</p>\n",
       "</div>"
      ],
      "text/plain": [
       "        0         1         2         3         4         5         6    \\\n",
       "0  0.004230 -0.000280 -0.013906 -0.002544  0.027433  0.058300  0.051670   \n",
       "1  0.012482  0.032496  0.067856  0.071552  0.078103  0.040353 -0.001059   \n",
       "2  0.012127  0.028458  0.062075  0.052611  0.022942 -0.010017 -0.023151   \n",
       "3  0.052964  0.074319  0.110670  0.108490  0.091825  0.056989  0.029337   \n",
       "4 -0.020462 -0.030787 -0.008617  0.008906  0.045046  0.042136  0.045037   \n",
       "\n",
       "        7         8         9    ...       290       291       292       293  \\\n",
       "0  0.071857  0.080653  0.047917  ...  0.112880  0.100820  0.075487  0.041669   \n",
       "1 -0.018580 -0.026813 -0.011280  ...  0.026719  0.011815  0.009799  0.018585   \n",
       "2 -0.028515  0.005036  0.008450  ...  0.060631  0.077351  0.075973  0.064078   \n",
       "3 -0.016724 -0.042265 -0.053983  ... -0.005576  0.011198  0.020559  0.041041   \n",
       "4  0.045182  0.025113  0.021730  ...  0.037130  0.024847  0.015515  0.002660   \n",
       "\n",
       "        294       295       296       297       298       299  \n",
       "0 -0.005319 -0.028872 -0.049143 -0.054671 -0.032428 -0.027888  \n",
       "1  0.020731  0.021815  0.015763  0.025449  0.015005  0.004488  \n",
       "2  0.029611  0.017449 -0.061116 -0.056643 -0.029544 -0.009596  \n",
       "3  0.050427  0.073637  0.064447  0.017279 -0.000149 -0.022203  \n",
       "4  0.015992  0.023423  0.014275  0.015910  0.014603  0.031885  \n",
       "\n",
       "[5 rows x 300 columns]"
      ]
     },
     "execution_count": 8,
     "metadata": {},
     "output_type": "execute_result"
    }
   ],
   "source": [
    "Acc_X.head()"
   ]
  },
  {
   "cell_type": "code",
   "execution_count": 9,
   "id": "a9b92f61",
   "metadata": {
    "execution": {
     "iopub.execute_input": "2024-06-11T10:20:23.024959Z",
     "iopub.status.busy": "2024-06-11T10:20:23.024576Z",
     "iopub.status.idle": "2024-06-11T10:20:23.029755Z",
     "shell.execute_reply": "2024-06-11T10:20:23.028874Z"
    },
    "papermill": {
     "duration": 0.034045,
     "end_time": "2024-06-11T10:20:23.031851",
     "exception": false,
     "start_time": "2024-06-11T10:20:22.997806",
     "status": "completed"
    },
    "tags": []
   },
   "outputs": [],
   "source": [
    "acc_X = Acc_X.to_numpy()\n",
    "acc_Y = Acc_Y.to_numpy()\n",
    "acc_Z = Acc_Z.to_numpy()\n",
    "gyr_X = Gyr_X.to_numpy()\n",
    "gyr_Y = Gyr_Y.to_numpy()\n",
    "gyr_Z = Gyr_Z.to_numpy()"
   ]
  },
  {
   "cell_type": "code",
   "execution_count": 10,
   "id": "bc9b99cf",
   "metadata": {
    "execution": {
     "iopub.execute_input": "2024-06-11T10:20:23.084622Z",
     "iopub.status.busy": "2024-06-11T10:20:23.083731Z",
     "iopub.status.idle": "2024-06-11T10:20:23.089299Z",
     "shell.execute_reply": "2024-06-11T10:20:23.088342Z"
    },
    "papermill": {
     "duration": 0.034735,
     "end_time": "2024-06-11T10:20:23.091864",
     "exception": false,
     "start_time": "2024-06-11T10:20:23.057129",
     "status": "completed"
    },
    "tags": []
   },
   "outputs": [
    {
     "name": "stdout",
     "output_type": "stream",
     "text": [
      "(20750, 300)\n",
      "(20750, 300)\n",
      "(20750, 300)\n",
      "(20750, 300)\n",
      "(20750, 300)\n",
      "(20750, 300)\n"
     ]
    }
   ],
   "source": [
    "print(acc_X.shape)\n",
    "print(acc_Y.shape)\n",
    "print(acc_Z.shape)\n",
    "print(gyr_X.shape)\n",
    "print(gyr_Y.shape)\n",
    "print(gyr_Z.shape)\n"
   ]
  },
  {
   "cell_type": "code",
   "execution_count": 11,
   "id": "21b27d40",
   "metadata": {
    "execution": {
     "iopub.execute_input": "2024-06-11T10:20:23.188050Z",
     "iopub.status.busy": "2024-06-11T10:20:23.187356Z",
     "iopub.status.idle": "2024-06-11T10:20:23.266873Z",
     "shell.execute_reply": "2024-06-11T10:20:23.265857Z"
    },
    "papermill": {
     "duration": 0.15208,
     "end_time": "2024-06-11T10:20:23.269338",
     "exception": false,
     "start_time": "2024-06-11T10:20:23.117258",
     "status": "completed"
    },
    "tags": []
   },
   "outputs": [],
   "source": [
    "acc_mag= np.sqrt(np.square(acc_X)+np.square(acc_Y)+np.square(acc_Z))"
   ]
  },
  {
   "cell_type": "code",
   "execution_count": 12,
   "id": "035d741d",
   "metadata": {
    "execution": {
     "iopub.execute_input": "2024-06-11T10:20:23.324782Z",
     "iopub.status.busy": "2024-06-11T10:20:23.324036Z",
     "iopub.status.idle": "2024-06-11T10:20:23.330949Z",
     "shell.execute_reply": "2024-06-11T10:20:23.329981Z"
    },
    "papermill": {
     "duration": 0.038581,
     "end_time": "2024-06-11T10:20:23.333020",
     "exception": false,
     "start_time": "2024-06-11T10:20:23.294439",
     "status": "completed"
    },
    "tags": []
   },
   "outputs": [
    {
     "data": {
      "text/plain": [
       "(20750, 300)"
      ]
     },
     "execution_count": 12,
     "metadata": {},
     "output_type": "execute_result"
    }
   ],
   "source": [
    "acc_mag.shape"
   ]
  },
  {
   "cell_type": "code",
   "execution_count": 13,
   "id": "8a777d8f",
   "metadata": {
    "execution": {
     "iopub.execute_input": "2024-06-11T10:20:23.386503Z",
     "iopub.status.busy": "2024-06-11T10:20:23.385873Z",
     "iopub.status.idle": "2024-06-11T10:20:23.395474Z",
     "shell.execute_reply": "2024-06-11T10:20:23.394665Z"
    },
    "papermill": {
     "duration": 0.038659,
     "end_time": "2024-06-11T10:20:23.397639",
     "exception": false,
     "start_time": "2024-06-11T10:20:23.358980",
     "status": "completed"
    },
    "tags": []
   },
   "outputs": [],
   "source": [
    "acc_mag_mean=np.mean(acc_mag,axis=1)  "
   ]
  },
  {
   "cell_type": "code",
   "execution_count": 14,
   "id": "5c9a6623",
   "metadata": {
    "execution": {
     "iopub.execute_input": "2024-06-11T10:20:23.450860Z",
     "iopub.status.busy": "2024-06-11T10:20:23.450452Z",
     "iopub.status.idle": "2024-06-11T10:20:23.456502Z",
     "shell.execute_reply": "2024-06-11T10:20:23.455575Z"
    },
    "papermill": {
     "duration": 0.035245,
     "end_time": "2024-06-11T10:20:23.458599",
     "exception": false,
     "start_time": "2024-06-11T10:20:23.423354",
     "status": "completed"
    },
    "tags": []
   },
   "outputs": [
    {
     "data": {
      "text/plain": [
       "(20750,)"
      ]
     },
     "execution_count": 14,
     "metadata": {},
     "output_type": "execute_result"
    }
   ],
   "source": [
    "acc_mag_mean.shape"
   ]
  },
  {
   "cell_type": "code",
   "execution_count": 15,
   "id": "15b0aa3b",
   "metadata": {
    "execution": {
     "iopub.execute_input": "2024-06-11T10:20:23.510850Z",
     "iopub.status.busy": "2024-06-11T10:20:23.509964Z",
     "iopub.status.idle": "2024-06-11T10:20:23.514395Z",
     "shell.execute_reply": "2024-06-11T10:20:23.513527Z"
    },
    "papermill": {
     "duration": 0.032256,
     "end_time": "2024-06-11T10:20:23.516231",
     "exception": false,
     "start_time": "2024-06-11T10:20:23.483975",
     "status": "completed"
    },
    "tags": []
   },
   "outputs": [],
   "source": [
    "acc_mag_mean=acc_mag_mean.reshape(20750,1)"
   ]
  },
  {
   "cell_type": "code",
   "execution_count": 16,
   "id": "a4e8cfcd",
   "metadata": {
    "execution": {
     "iopub.execute_input": "2024-06-11T10:20:23.568516Z",
     "iopub.status.busy": "2024-06-11T10:20:23.568150Z",
     "iopub.status.idle": "2024-06-11T10:20:23.574017Z",
     "shell.execute_reply": "2024-06-11T10:20:23.573171Z"
    },
    "papermill": {
     "duration": 0.034186,
     "end_time": "2024-06-11T10:20:23.575969",
     "exception": false,
     "start_time": "2024-06-11T10:20:23.541783",
     "status": "completed"
    },
    "tags": []
   },
   "outputs": [
    {
     "data": {
      "text/plain": [
       "(20750, 1)"
      ]
     },
     "execution_count": 16,
     "metadata": {},
     "output_type": "execute_result"
    }
   ],
   "source": [
    "acc_mag_mean.shape   #f7"
   ]
  },
  {
   "cell_type": "code",
   "execution_count": 17,
   "id": "72796e00",
   "metadata": {
    "execution": {
     "iopub.execute_input": "2024-06-11T10:20:23.628178Z",
     "iopub.status.busy": "2024-06-11T10:20:23.627747Z",
     "iopub.status.idle": "2024-06-11T10:20:23.662951Z",
     "shell.execute_reply": "2024-06-11T10:20:23.662046Z"
    },
    "papermill": {
     "duration": 0.063882,
     "end_time": "2024-06-11T10:20:23.665329",
     "exception": false,
     "start_time": "2024-06-11T10:20:23.601447",
     "status": "completed"
    },
    "tags": []
   },
   "outputs": [],
   "source": [
    "acc_mag_std=np.std(acc_mag,axis=1)"
   ]
  },
  {
   "cell_type": "code",
   "execution_count": 18,
   "id": "aa2335a2",
   "metadata": {
    "execution": {
     "iopub.execute_input": "2024-06-11T10:20:23.718525Z",
     "iopub.status.busy": "2024-06-11T10:20:23.718190Z",
     "iopub.status.idle": "2024-06-11T10:20:23.722680Z",
     "shell.execute_reply": "2024-06-11T10:20:23.721733Z"
    },
    "papermill": {
     "duration": 0.033621,
     "end_time": "2024-06-11T10:20:23.724730",
     "exception": false,
     "start_time": "2024-06-11T10:20:23.691109",
     "status": "completed"
    },
    "tags": []
   },
   "outputs": [],
   "source": [
    "acc_mag_std.shape  \n",
    "acc_mag_std=acc_mag_std.reshape(20750,1)"
   ]
  },
  {
   "cell_type": "code",
   "execution_count": 19,
   "id": "b60371e8",
   "metadata": {
    "execution": {
     "iopub.execute_input": "2024-06-11T10:20:23.778431Z",
     "iopub.status.busy": "2024-06-11T10:20:23.777568Z",
     "iopub.status.idle": "2024-06-11T10:20:23.783524Z",
     "shell.execute_reply": "2024-06-11T10:20:23.782680Z"
    },
    "papermill": {
     "duration": 0.034953,
     "end_time": "2024-06-11T10:20:23.785606",
     "exception": false,
     "start_time": "2024-06-11T10:20:23.750653",
     "status": "completed"
    },
    "tags": []
   },
   "outputs": [
    {
     "data": {
      "text/plain": [
       "(20750, 1)"
      ]
     },
     "execution_count": 19,
     "metadata": {},
     "output_type": "execute_result"
    }
   ],
   "source": [
    "acc_mag_std.shape   #f8"
   ]
  },
  {
   "cell_type": "code",
   "execution_count": 20,
   "id": "83eea7ee",
   "metadata": {
    "execution": {
     "iopub.execute_input": "2024-06-11T10:20:23.838650Z",
     "iopub.status.busy": "2024-06-11T10:20:23.838009Z",
     "iopub.status.idle": "2024-06-11T10:20:23.843109Z",
     "shell.execute_reply": "2024-06-11T10:20:23.842221Z"
    },
    "papermill": {
     "duration": 0.033882,
     "end_time": "2024-06-11T10:20:23.845572",
     "exception": false,
     "start_time": "2024-06-11T10:20:23.811690",
     "status": "completed"
    },
    "tags": []
   },
   "outputs": [
    {
     "name": "stdout",
     "output_type": "stream",
     "text": [
      "[0.04618158]\n",
      "[0.09880097]\n"
     ]
    }
   ],
   "source": [
    "print(acc_mag_std[0])\n",
    "print(acc_mag_mean[0])"
   ]
  },
  {
   "cell_type": "code",
   "execution_count": 21,
   "id": "e602f8e3",
   "metadata": {
    "execution": {
     "iopub.execute_input": "2024-06-11T10:20:23.900246Z",
     "iopub.status.busy": "2024-06-11T10:20:23.899353Z",
     "iopub.status.idle": "2024-06-11T10:20:23.934890Z",
     "shell.execute_reply": "2024-06-11T10:20:23.933976Z"
    },
    "papermill": {
     "duration": 0.064616,
     "end_time": "2024-06-11T10:20:23.937090",
     "exception": false,
     "start_time": "2024-06-11T10:20:23.872474",
     "status": "completed"
    },
    "tags": []
   },
   "outputs": [],
   "source": [
    "body_acc_x_train_mean=np.mean(acc_X,axis=1)\n",
    "body_acc_y_train_mean=np.mean(acc_Y,axis=1)\n",
    "body_acc_z_train_mean=np.mean(acc_Z,axis=1)\n",
    "body_gyro_x_train_mean=np.mean(gyr_X,axis=1)\n",
    "body_gyro_y_train_mean=np.mean(gyr_Y,axis=1)\n",
    "body_gyro_z_train_mean=np.mean(gyr_Z,axis=1)\n"
   ]
  },
  {
   "cell_type": "code",
   "execution_count": 22,
   "id": "596b1339",
   "metadata": {
    "execution": {
     "iopub.execute_input": "2024-06-11T10:20:23.989946Z",
     "iopub.status.busy": "2024-06-11T10:20:23.989563Z",
     "iopub.status.idle": "2024-06-11T10:20:23.995138Z",
     "shell.execute_reply": "2024-06-11T10:20:23.994179Z"
    },
    "papermill": {
     "duration": 0.034497,
     "end_time": "2024-06-11T10:20:23.997130",
     "exception": false,
     "start_time": "2024-06-11T10:20:23.962633",
     "status": "completed"
    },
    "tags": []
   },
   "outputs": [],
   "source": [
    "body_acc_x_train_mean=body_acc_x_train_mean.reshape(20750,1)\n",
    "body_acc_y_train_mean=body_acc_y_train_mean.reshape(20750,1)\n",
    "body_acc_z_train_mean=body_acc_z_train_mean.reshape(20750,1)\n",
    "body_gyro_x_train_mean=body_gyro_x_train_mean.reshape(20750,1)\n",
    "body_gyro_y_train_mean=body_gyro_y_train_mean.reshape(20750,1)\n",
    "body_gyro_z_train_mean=body_gyro_z_train_mean.reshape(20750,1)"
   ]
  },
  {
   "cell_type": "code",
   "execution_count": 23,
   "id": "d8c97eef",
   "metadata": {
    "execution": {
     "iopub.execute_input": "2024-06-11T10:20:24.050972Z",
     "iopub.status.busy": "2024-06-11T10:20:24.050588Z",
     "iopub.status.idle": "2024-06-11T10:20:24.056358Z",
     "shell.execute_reply": "2024-06-11T10:20:24.055421Z"
    },
    "papermill": {
     "duration": 0.035809,
     "end_time": "2024-06-11T10:20:24.058963",
     "exception": false,
     "start_time": "2024-06-11T10:20:24.023154",
     "status": "completed"
    },
    "tags": []
   },
   "outputs": [
    {
     "name": "stdout",
     "output_type": "stream",
     "text": [
      "(20750, 1)\n",
      "(20750, 1)\n",
      "(20750, 1)\n",
      "(20750, 1)\n",
      "(20750, 1)\n",
      "(20750, 1)\n"
     ]
    }
   ],
   "source": [
    "print(body_acc_x_train_mean.shape)  #f1\n",
    "print(body_acc_y_train_mean.shape)   #f2\n",
    "print(body_acc_z_train_mean.shape)    #f3\n",
    "print(body_gyro_x_train_mean.shape)     #f4\n",
    "print(body_gyro_y_train_mean.shape)    #f5\n",
    "print(body_gyro_z_train_mean.shape)      #f6\n"
   ]
  },
  {
   "cell_type": "code",
   "execution_count": 24,
   "id": "01119658",
   "metadata": {
    "execution": {
     "iopub.execute_input": "2024-06-11T10:20:24.113283Z",
     "iopub.status.busy": "2024-06-11T10:20:24.112915Z",
     "iopub.status.idle": "2024-06-11T10:20:24.289404Z",
     "shell.execute_reply": "2024-06-11T10:20:24.288467Z"
    },
    "papermill": {
     "duration": 0.206492,
     "end_time": "2024-06-11T10:20:24.291798",
     "exception": false,
     "start_time": "2024-06-11T10:20:24.085306",
     "status": "completed"
    },
    "tags": []
   },
   "outputs": [
    {
     "name": "stderr",
     "output_type": "stream",
     "text": [
      "/tmp/ipykernel_24/1878607084.py:1: RuntimeWarning: invalid value encountered in arccos\n",
      "  thetax=np.arccos((acc_X)/9.8)\n",
      "/tmp/ipykernel_24/1878607084.py:4: RuntimeWarning: invalid value encountered in arccos\n",
      "  thetay=np.arccos((acc_Y)/9.8)\n",
      "/tmp/ipykernel_24/1878607084.py:7: RuntimeWarning: invalid value encountered in arccos\n",
      "  thetaz=np.arccos((acc_Z)/9.8)\n"
     ]
    }
   ],
   "source": [
    "\n",
    "thetax=np.arccos((acc_X)/9.8)\n",
    "thetax[np.isnan(thetax)] = 0\n",
    "\n",
    "thetay=np.arccos((acc_Y)/9.8)\n",
    "thetay[np.isnan(thetay)] = 0\n",
    "\n",
    "thetaz=np.arccos((acc_Z)/9.8)\n",
    "thetaz[np.isnan(thetaz)] = 0"
   ]
  },
  {
   "cell_type": "code",
   "execution_count": 25,
   "id": "f29816d6",
   "metadata": {
    "execution": {
     "iopub.execute_input": "2024-06-11T10:20:24.348620Z",
     "iopub.status.busy": "2024-06-11T10:20:24.347869Z",
     "iopub.status.idle": "2024-06-11T10:20:24.353860Z",
     "shell.execute_reply": "2024-06-11T10:20:24.352987Z"
    },
    "papermill": {
     "duration": 0.038151,
     "end_time": "2024-06-11T10:20:24.355916",
     "exception": false,
     "start_time": "2024-06-11T10:20:24.317765",
     "status": "completed"
    },
    "tags": []
   },
   "outputs": [
    {
     "data": {
      "text/plain": [
       "(20750, 300)"
      ]
     },
     "execution_count": 25,
     "metadata": {},
     "output_type": "execute_result"
    }
   ],
   "source": [
    "thetax.shape"
   ]
  },
  {
   "cell_type": "code",
   "execution_count": 26,
   "id": "c4e099e5",
   "metadata": {
    "execution": {
     "iopub.execute_input": "2024-06-11T10:20:24.410649Z",
     "iopub.status.busy": "2024-06-11T10:20:24.410315Z",
     "iopub.status.idle": "2024-06-11T10:20:24.520874Z",
     "shell.execute_reply": "2024-06-11T10:20:24.520059Z"
    },
    "papermill": {
     "duration": 0.140774,
     "end_time": "2024-06-11T10:20:24.523282",
     "exception": false,
     "start_time": "2024-06-11T10:20:24.382508",
     "status": "completed"
    },
    "tags": []
   },
   "outputs": [],
   "source": [
    "thetax_mean=np.mean(thetax,axis=1)  \n",
    "thetax_std=np.std(thetax,axis=1)\n",
    "\n",
    "thetay_mean=np.mean(thetay,axis=1)  \n",
    "thetay_std=np.std(thetay,axis=1)\n",
    "\n",
    "thetaz_mean=np.mean(thetaz,axis=1)  \n",
    "thetaz_std=np.std(thetaz,axis=1)"
   ]
  },
  {
   "cell_type": "code",
   "execution_count": 27,
   "id": "cd8e6057",
   "metadata": {
    "execution": {
     "iopub.execute_input": "2024-06-11T10:20:24.578044Z",
     "iopub.status.busy": "2024-06-11T10:20:24.577301Z",
     "iopub.status.idle": "2024-06-11T10:20:24.583518Z",
     "shell.execute_reply": "2024-06-11T10:20:24.582647Z"
    },
    "papermill": {
     "duration": 0.035695,
     "end_time": "2024-06-11T10:20:24.585571",
     "exception": false,
     "start_time": "2024-06-11T10:20:24.549876",
     "status": "completed"
    },
    "tags": []
   },
   "outputs": [
    {
     "data": {
      "text/plain": [
       "(20750,)"
      ]
     },
     "execution_count": 27,
     "metadata": {},
     "output_type": "execute_result"
    }
   ],
   "source": [
    "thetax_mean.shape\n",
    "thetax_std.shape\n",
    "\n",
    "thetay_mean.shape\n",
    "thetay_std.shape\n",
    "\n",
    "thetaz_mean.shape\n",
    "thetaz_std.shape"
   ]
  },
  {
   "cell_type": "code",
   "execution_count": 28,
   "id": "37de91e9",
   "metadata": {
    "execution": {
     "iopub.execute_input": "2024-06-11T10:20:24.638972Z",
     "iopub.status.busy": "2024-06-11T10:20:24.638257Z",
     "iopub.status.idle": "2024-06-11T10:20:24.643539Z",
     "shell.execute_reply": "2024-06-11T10:20:24.642603Z"
    },
    "papermill": {
     "duration": 0.034052,
     "end_time": "2024-06-11T10:20:24.645460",
     "exception": false,
     "start_time": "2024-06-11T10:20:24.611408",
     "status": "completed"
    },
    "tags": []
   },
   "outputs": [],
   "source": [
    "thetax_mean=thetax_mean.reshape(20750,1)\n",
    "thetax_std=thetax_std.reshape(20750,1)\n",
    "thetay_mean=thetay_mean.reshape(20750,1)\n",
    "thetay_std=thetay_std.reshape(20750,1)\n",
    "thetaz_mean=thetaz_mean.reshape(20750,1)\n",
    "thetaz_std=thetaz_std.reshape(20750,1)"
   ]
  },
  {
   "cell_type": "code",
   "execution_count": 29,
   "id": "04b74a2c",
   "metadata": {
    "execution": {
     "iopub.execute_input": "2024-06-11T10:20:24.700735Z",
     "iopub.status.busy": "2024-06-11T10:20:24.699916Z",
     "iopub.status.idle": "2024-06-11T10:20:24.706602Z",
     "shell.execute_reply": "2024-06-11T10:20:24.705758Z"
    },
    "papermill": {
     "duration": 0.036634,
     "end_time": "2024-06-11T10:20:24.708678",
     "exception": false,
     "start_time": "2024-06-11T10:20:24.672044",
     "status": "completed"
    },
    "tags": []
   },
   "outputs": [
    {
     "data": {
      "text/plain": [
       "(20750, 1)"
      ]
     },
     "execution_count": 29,
     "metadata": {},
     "output_type": "execute_result"
    }
   ],
   "source": [
    "thetax_mean.shape      #f9\n",
    "thetax_std.shape      #f10\n",
    "\n",
    "thetay_mean.shape       #f11\n",
    "thetay_std.shape        #f12\n",
    "\n",
    "thetaz_mean.shape       #f13\n",
    "thetaz_std.shape        #f14"
   ]
  },
  {
   "cell_type": "code",
   "execution_count": 30,
   "id": "e39f7cb8",
   "metadata": {
    "execution": {
     "iopub.execute_input": "2024-06-11T10:20:24.764319Z",
     "iopub.status.busy": "2024-06-11T10:20:24.763809Z",
     "iopub.status.idle": "2024-06-11T10:20:24.875549Z",
     "shell.execute_reply": "2024-06-11T10:20:24.874533Z"
    },
    "papermill": {
     "duration": 0.142436,
     "end_time": "2024-06-11T10:20:24.877964",
     "exception": false,
     "start_time": "2024-06-11T10:20:24.735528",
     "status": "completed"
    },
    "tags": []
   },
   "outputs": [],
   "source": [
    "# Importing mean, absolute from numpy \n",
    "from numpy import mean, absolute \n",
    "#absolute mean deviation\n",
    "absmeanx=absolute(gyr_X - mean(gyr_X))\n",
    "absmeany=absolute(gyr_Y - mean(gyr_Y))\n",
    "absmeanz=absolute(gyr_Z - mean(gyr_Z))"
   ]
  },
  {
   "cell_type": "code",
   "execution_count": 31,
   "id": "2612e0ad",
   "metadata": {
    "execution": {
     "iopub.execute_input": "2024-06-11T10:20:24.931997Z",
     "iopub.status.busy": "2024-06-11T10:20:24.931635Z",
     "iopub.status.idle": "2024-06-11T10:20:24.939275Z",
     "shell.execute_reply": "2024-06-11T10:20:24.938389Z"
    },
    "papermill": {
     "duration": 0.036984,
     "end_time": "2024-06-11T10:20:24.941515",
     "exception": false,
     "start_time": "2024-06-11T10:20:24.904531",
     "status": "completed"
    },
    "tags": []
   },
   "outputs": [
    {
     "name": "stdout",
     "output_type": "stream",
     "text": [
      "[[0.49276663 0.49354015 0.49567876 ... 0.52330286 0.52514286 0.52147686]\n",
      " [0.51704286 0.51789486 0.51665986 ... 0.52053786 0.51953086 0.52116386]\n",
      " [0.52392086 0.52274686 0.52093186 ... 0.49807146 0.49321126 0.49227251]\n",
      " ...\n",
      " [0.42905586 0.27055386 0.20251386 ... 0.52415986 0.63409386 0.77460386]\n",
      " [1.22633386 1.40133386 1.50272386 ... 0.47060786 0.47407086 0.45006386]\n",
      " [0.11119386 0.12961386 0.20515386 ... 0.20371386 0.20871386 0.33925386]]\n",
      "(20750, 300)\n",
      "[[75.53687595 75.53926195 75.54751965 ... 75.54678425 75.55437215\n",
      "  75.55703465]\n",
      " [75.55988895 75.55333505 75.54779065 ... 75.54166095 75.54582965\n",
      "  75.54466255]\n",
      " [75.54237385 75.53646695 75.53225195 ... 75.56227495 75.57161395\n",
      "  75.57431595]\n",
      " ...\n",
      " [76.43143995 76.51496995 76.48617995 ... 74.84152995 75.08437995\n",
      "  75.12398995]\n",
      " [75.18558995 75.21073995 75.24150995 ... 76.04056995 76.00639995\n",
      "  75.99431995]\n",
      " [76.38873995 76.41419995 76.48499995 ... 74.96237995 74.95827995\n",
      "  74.97311995]]\n",
      "(20750, 300)\n",
      "[[140.37990999 140.38063644 140.38101504 ... 140.39571034 140.39568034\n",
      "  140.39212734]\n",
      " [140.38696284 140.38579554 140.38237604 ... 140.38942434 140.38710014\n",
      "  140.38338454]\n",
      " [140.38296434 140.38174904 140.38432564 ... 140.38322054 140.37881569\n",
      "  140.37818054]\n",
      " ...\n",
      " [140.99045034 141.07268034 141.06313034 ... 140.20632034 140.38192404\n",
      "  140.35507534]\n",
      " [140.20877034 140.14713034 139.97046034 ... 140.51099034 140.52981034\n",
      "  140.56635034]\n",
      " [140.90509034 140.90205034 140.88217034 ... 140.36558234 140.35146434\n",
      "  140.23852034]]\n",
      "(20750, 300)\n"
     ]
    }
   ],
   "source": [
    "print(absmeanx)\n",
    "print(absmeanx.shape)\n",
    "print(absmeany)\n",
    "print(absmeany.shape)\n",
    "print(absmeanz)\n",
    "print(absmeanz.shape)"
   ]
  },
  {
   "cell_type": "code",
   "execution_count": 32,
   "id": "23766856",
   "metadata": {
    "execution": {
     "iopub.execute_input": "2024-06-11T10:20:24.996656Z",
     "iopub.status.busy": "2024-06-11T10:20:24.995788Z",
     "iopub.status.idle": "2024-06-11T10:20:25.109248Z",
     "shell.execute_reply": "2024-06-11T10:20:25.108398Z"
    },
    "papermill": {
     "duration": 0.143933,
     "end_time": "2024-06-11T10:20:25.111648",
     "exception": false,
     "start_time": "2024-06-11T10:20:24.967715",
     "status": "completed"
    },
    "tags": []
   },
   "outputs": [],
   "source": [
    "absmeanx_mean=np.mean(absmeanx,axis=1)  \n",
    "absmeanx_std=np.std(absmeanx,axis=1)\n",
    "\n",
    "absmeany_mean=np.mean(absmeany,axis=1)  \n",
    "absmeany_std=np.std(absmeany,axis=1)\n",
    "\n",
    "absmeanz_mean=np.mean(absmeanz,axis=1)  \n",
    "absmeanz_std=np.std(absmeanz,axis=1)"
   ]
  },
  {
   "cell_type": "code",
   "execution_count": 33,
   "id": "0e150668",
   "metadata": {
    "execution": {
     "iopub.execute_input": "2024-06-11T10:20:25.165793Z",
     "iopub.status.busy": "2024-06-11T10:20:25.165478Z",
     "iopub.status.idle": "2024-06-11T10:20:25.171828Z",
     "shell.execute_reply": "2024-06-11T10:20:25.170866Z"
    },
    "papermill": {
     "duration": 0.03564,
     "end_time": "2024-06-11T10:20:25.174061",
     "exception": false,
     "start_time": "2024-06-11T10:20:25.138421",
     "status": "completed"
    },
    "tags": []
   },
   "outputs": [
    {
     "data": {
      "text/plain": [
       "(20750,)"
      ]
     },
     "execution_count": 33,
     "metadata": {},
     "output_type": "execute_result"
    }
   ],
   "source": [
    "absmeanx_mean.shape  \n",
    "absmeanx_std.shape \n",
    "\n",
    "absmeany_mean.shape   \n",
    "absmeany_std.shape \n",
    "\n",
    "absmeanz_mean.shape   \n",
    "absmeanz_std.shape "
   ]
  },
  {
   "cell_type": "code",
   "execution_count": 34,
   "id": "b5cd7151",
   "metadata": {
    "execution": {
     "iopub.execute_input": "2024-06-11T10:20:25.229319Z",
     "iopub.status.busy": "2024-06-11T10:20:25.228567Z",
     "iopub.status.idle": "2024-06-11T10:20:25.234015Z",
     "shell.execute_reply": "2024-06-11T10:20:25.233060Z"
    },
    "papermill": {
     "duration": 0.035115,
     "end_time": "2024-06-11T10:20:25.235875",
     "exception": false,
     "start_time": "2024-06-11T10:20:25.200760",
     "status": "completed"
    },
    "tags": []
   },
   "outputs": [],
   "source": [
    "absmeanx_mean=absmeanx_mean.reshape(20750,1)\n",
    "absmeanx_std=absmeanx_std.reshape(20750,1)\n",
    "absmeany_mean=absmeany_mean.reshape(20750,1)\n",
    "absmeany_std=absmeany_std.reshape(20750,1)\n",
    "absmeanz_mean=absmeanz_mean.reshape(20750,1)\n",
    "absmeanz_std=absmeanz_std.reshape(20750,1)"
   ]
  },
  {
   "cell_type": "code",
   "execution_count": 35,
   "id": "34e0efe3",
   "metadata": {
    "execution": {
     "iopub.execute_input": "2024-06-11T10:20:25.289853Z",
     "iopub.status.busy": "2024-06-11T10:20:25.289167Z",
     "iopub.status.idle": "2024-06-11T10:20:25.295439Z",
     "shell.execute_reply": "2024-06-11T10:20:25.294639Z"
    },
    "papermill": {
     "duration": 0.035348,
     "end_time": "2024-06-11T10:20:25.297305",
     "exception": false,
     "start_time": "2024-06-11T10:20:25.261957",
     "status": "completed"
    },
    "tags": []
   },
   "outputs": [
    {
     "data": {
      "text/plain": [
       "(20750, 1)"
      ]
     },
     "execution_count": 35,
     "metadata": {},
     "output_type": "execute_result"
    }
   ],
   "source": [
    "absmeanx_mean.shape  #f15\n",
    "absmeanx_std.shape   #f16\n",
    "\n",
    "absmeany_mean.shape   #f17\n",
    "absmeany_std.shape    #f18\n",
    "\n",
    "absmeanz_mean.shape   #f19\n",
    "absmeanz_std.shape    #f20"
   ]
  },
  {
   "cell_type": "code",
   "execution_count": 36,
   "id": "2df08a31",
   "metadata": {
    "execution": {
     "iopub.execute_input": "2024-06-11T10:20:25.355191Z",
     "iopub.status.busy": "2024-06-11T10:20:25.354471Z",
     "iopub.status.idle": "2024-06-11T10:20:25.358870Z",
     "shell.execute_reply": "2024-06-11T10:20:25.357945Z"
    },
    "papermill": {
     "duration": 0.036653,
     "end_time": "2024-06-11T10:20:25.360957",
     "exception": false,
     "start_time": "2024-06-11T10:20:25.324304",
     "status": "completed"
    },
    "tags": []
   },
   "outputs": [],
   "source": [
    "import numpy as np\n",
    "from scipy import stats"
   ]
  },
  {
   "cell_type": "code",
   "execution_count": 37,
   "id": "4ef21055",
   "metadata": {
    "execution": {
     "iopub.execute_input": "2024-06-11T10:20:25.417237Z",
     "iopub.status.busy": "2024-06-11T10:20:25.416566Z",
     "iopub.status.idle": "2024-06-11T10:20:26.994202Z",
     "shell.execute_reply": "2024-06-11T10:20:26.993329Z"
    },
    "papermill": {
     "duration": 1.608582,
     "end_time": "2024-06-11T10:20:26.996647",
     "exception": false,
     "start_time": "2024-06-11T10:20:25.388065",
     "status": "completed"
    },
    "tags": []
   },
   "outputs": [],
   "source": [
    "body_acc_x_train_mad=stats.median_abs_deviation(acc_X, axis=1)\n",
    "body_acc_y_train_mad=stats.median_abs_deviation(acc_Y, axis=1)\n",
    "body_acc_z_train_mad=stats.median_abs_deviation(acc_Z, axis=1)\n",
    "body_gyro_x_train_mad=stats.median_abs_deviation(gyr_X, axis=1)\n",
    "body_gyro_y_train_mad=stats.median_abs_deviation(gyr_X, axis=1)\n",
    "body_gyro_z_train_mad=stats.median_abs_deviation(gyr_X, axis=1)"
   ]
  },
  {
   "cell_type": "code",
   "execution_count": 38,
   "id": "eb265f02",
   "metadata": {
    "execution": {
     "iopub.execute_input": "2024-06-11T10:20:27.053895Z",
     "iopub.status.busy": "2024-06-11T10:20:27.053121Z",
     "iopub.status.idle": "2024-06-11T10:20:27.059721Z",
     "shell.execute_reply": "2024-06-11T10:20:27.058767Z"
    },
    "papermill": {
     "duration": 0.036734,
     "end_time": "2024-06-11T10:20:27.061595",
     "exception": false,
     "start_time": "2024-06-11T10:20:27.024861",
     "status": "completed"
    },
    "tags": []
   },
   "outputs": [
    {
     "data": {
      "text/plain": [
       "(20750,)"
      ]
     },
     "execution_count": 38,
     "metadata": {},
     "output_type": "execute_result"
    }
   ],
   "source": [
    "body_acc_x_train_mad.shape\n",
    "body_acc_y_train_mad.shape\n",
    "body_acc_z_train_mad.shape\n",
    "body_gyro_x_train_mad.shape\n",
    "body_gyro_y_train_mad.shape\n",
    "body_gyro_z_train_mad.shape"
   ]
  },
  {
   "cell_type": "code",
   "execution_count": 39,
   "id": "476b9832",
   "metadata": {
    "execution": {
     "iopub.execute_input": "2024-06-11T10:20:27.118128Z",
     "iopub.status.busy": "2024-06-11T10:20:27.117173Z",
     "iopub.status.idle": "2024-06-11T10:20:27.122911Z",
     "shell.execute_reply": "2024-06-11T10:20:27.121943Z"
    },
    "papermill": {
     "duration": 0.036153,
     "end_time": "2024-06-11T10:20:27.125020",
     "exception": false,
     "start_time": "2024-06-11T10:20:27.088867",
     "status": "completed"
    },
    "tags": []
   },
   "outputs": [],
   "source": [
    "body_acc_x_train_mad=body_acc_x_train_mad.reshape(20750,1)\n",
    "body_acc_y_train_mad=body_acc_y_train_mad.reshape(20750,1)\n",
    "body_acc_z_train_mad=body_acc_z_train_mad.reshape(20750,1)\n",
    "body_gyro_x_train_mad=body_gyro_x_train_mad.reshape(20750,1)\n",
    "body_gyro_y_train_mad=body_gyro_y_train_mad.reshape(20750,1)\n",
    "body_gyro_z_train_mad=body_gyro_z_train_mad.reshape(20750,1)"
   ]
  },
  {
   "cell_type": "code",
   "execution_count": 40,
   "id": "2dc0eb8b",
   "metadata": {
    "execution": {
     "iopub.execute_input": "2024-06-11T10:20:27.180258Z",
     "iopub.status.busy": "2024-06-11T10:20:27.179881Z",
     "iopub.status.idle": "2024-06-11T10:20:27.186499Z",
     "shell.execute_reply": "2024-06-11T10:20:27.185588Z"
    },
    "papermill": {
     "duration": 0.0369,
     "end_time": "2024-06-11T10:20:27.188471",
     "exception": false,
     "start_time": "2024-06-11T10:20:27.151571",
     "status": "completed"
    },
    "tags": []
   },
   "outputs": [
    {
     "data": {
      "text/plain": [
       "(20750, 1)"
      ]
     },
     "execution_count": 40,
     "metadata": {},
     "output_type": "execute_result"
    }
   ],
   "source": [
    "body_acc_x_train_mad.shape   #f21\n",
    "body_acc_y_train_mad.shape    #f22\n",
    "body_acc_z_train_mad.shape    #f23\n",
    "body_gyro_x_train_mad.shape   #f24\n",
    "body_gyro_y_train_mad.shape  #f25\n",
    "body_gyro_z_train_mad.shape   #f26\n"
   ]
  },
  {
   "cell_type": "code",
   "execution_count": 41,
   "id": "aa7faa96",
   "metadata": {
    "execution": {
     "iopub.execute_input": "2024-06-11T10:20:27.243642Z",
     "iopub.status.busy": "2024-06-11T10:20:27.243302Z",
     "iopub.status.idle": "2024-06-11T10:20:27.434392Z",
     "shell.execute_reply": "2024-06-11T10:20:27.433367Z"
    },
    "papermill": {
     "duration": 0.221479,
     "end_time": "2024-06-11T10:20:27.436769",
     "exception": false,
     "start_time": "2024-06-11T10:20:27.215290",
     "status": "completed"
    },
    "tags": []
   },
   "outputs": [],
   "source": [
    "body_acc_x_train_std=np.std(acc_X,axis=1) #f27\n",
    "body_acc_y_train_std=np.std(acc_Y,axis=1)  #f28\n",
    "body_acc_z_train_std=np.std(acc_Z,axis=1)  #f29\n",
    "body_gyro_x_train_std=np.std(gyr_X,axis=1)   #f30\n",
    "body_gyro_y_train_std=np.std(gyr_Y,axis=1)   #f31\n",
    "body_gyro_z_train_std=np.std(gyr_Z,axis=1)   #f32"
   ]
  },
  {
   "cell_type": "code",
   "execution_count": 42,
   "id": "76a5ff27",
   "metadata": {
    "execution": {
     "iopub.execute_input": "2024-06-11T10:20:27.491976Z",
     "iopub.status.busy": "2024-06-11T10:20:27.491598Z",
     "iopub.status.idle": "2024-06-11T10:20:27.497011Z",
     "shell.execute_reply": "2024-06-11T10:20:27.496182Z"
    },
    "papermill": {
     "duration": 0.034971,
     "end_time": "2024-06-11T10:20:27.498975",
     "exception": false,
     "start_time": "2024-06-11T10:20:27.464004",
     "status": "completed"
    },
    "tags": []
   },
   "outputs": [],
   "source": [
    "body_acc_x_train_std=body_acc_x_train_std.reshape(20750,1)\n",
    "body_acc_y_train_std=body_acc_y_train_std.reshape(20750,1)\n",
    "body_acc_z_train_std=body_acc_z_train_std.reshape(20750,1)\n",
    "\n",
    "body_gyro_x_train_std=body_gyro_x_train_std.reshape(20750,1)\n",
    "body_gyro_y_train_std=body_gyro_y_train_std.reshape(20750,1)\n",
    "body_gyro_z_train_std=body_gyro_z_train_std.reshape(20750,1)"
   ]
  },
  {
   "cell_type": "code",
   "execution_count": 43,
   "id": "01319fe9",
   "metadata": {
    "execution": {
     "iopub.execute_input": "2024-06-11T10:20:27.554576Z",
     "iopub.status.busy": "2024-06-11T10:20:27.554215Z",
     "iopub.status.idle": "2024-06-11T10:20:27.559117Z",
     "shell.execute_reply": "2024-06-11T10:20:27.558346Z"
    },
    "papermill": {
     "duration": 0.035297,
     "end_time": "2024-06-11T10:20:27.561032",
     "exception": false,
     "start_time": "2024-06-11T10:20:27.525735",
     "status": "completed"
    },
    "tags": []
   },
   "outputs": [],
   "source": [
    "costhetax=np.zeros((20750,300))\n",
    "costhetay=np.zeros((20750,300))\n",
    "costhetaz=np.zeros((20750,300))"
   ]
  },
  {
   "cell_type": "code",
   "execution_count": 44,
   "id": "4f751a6c",
   "metadata": {
    "execution": {
     "iopub.execute_input": "2024-06-11T10:20:27.616173Z",
     "iopub.status.busy": "2024-06-11T10:20:27.615855Z",
     "iopub.status.idle": "2024-06-11T10:20:28.170837Z",
     "shell.execute_reply": "2024-06-11T10:20:28.169784Z"
    },
    "papermill": {
     "duration": 0.585348,
     "end_time": "2024-06-11T10:20:28.173388",
     "exception": false,
     "start_time": "2024-06-11T10:20:27.588040",
     "status": "completed"
    },
    "tags": []
   },
   "outputs": [],
   "source": [
    "for i in range(0,20750):\n",
    "    costhetax[i]=np.cos(thetax[i])\n",
    "    \n",
    "\n",
    "    costhetay[i]=np.cos(thetay[i])\n",
    "    \n",
    "\n",
    "    costhetaz[i]=np.cos(thetaz[i])"
   ]
  },
  {
   "cell_type": "code",
   "execution_count": 45,
   "id": "a4270dba",
   "metadata": {
    "execution": {
     "iopub.execute_input": "2024-06-11T10:20:28.229388Z",
     "iopub.status.busy": "2024-06-11T10:20:28.228496Z",
     "iopub.status.idle": "2024-06-11T10:20:28.234307Z",
     "shell.execute_reply": "2024-06-11T10:20:28.233467Z"
    },
    "papermill": {
     "duration": 0.035545,
     "end_time": "2024-06-11T10:20:28.236278",
     "exception": false,
     "start_time": "2024-06-11T10:20:28.200733",
     "status": "completed"
    },
    "tags": []
   },
   "outputs": [
    {
     "data": {
      "text/plain": [
       "(20750, 300)"
      ]
     },
     "execution_count": 45,
     "metadata": {},
     "output_type": "execute_result"
    }
   ],
   "source": [
    "costhetax.shape"
   ]
  },
  {
   "cell_type": "code",
   "execution_count": 46,
   "id": "88cdefe2",
   "metadata": {
    "execution": {
     "iopub.execute_input": "2024-06-11T10:20:28.291226Z",
     "iopub.status.busy": "2024-06-11T10:20:28.290456Z",
     "iopub.status.idle": "2024-06-11T10:20:28.413975Z",
     "shell.execute_reply": "2024-06-11T10:20:28.413156Z"
    },
    "papermill": {
     "duration": 0.153482,
     "end_time": "2024-06-11T10:20:28.416415",
     "exception": false,
     "start_time": "2024-06-11T10:20:28.262933",
     "status": "completed"
    },
    "tags": []
   },
   "outputs": [],
   "source": [
    "Vertical_acc = np.multiply(acc_X,costhetax) + np.multiply(acc_Y,costhetay) + np.multiply(acc_Z,costhetaz)"
   ]
  },
  {
   "cell_type": "code",
   "execution_count": 47,
   "id": "2403a517",
   "metadata": {
    "execution": {
     "iopub.execute_input": "2024-06-11T10:20:28.472855Z",
     "iopub.status.busy": "2024-06-11T10:20:28.472461Z",
     "iopub.status.idle": "2024-06-11T10:20:28.478469Z",
     "shell.execute_reply": "2024-06-11T10:20:28.477502Z"
    },
    "papermill": {
     "duration": 0.036119,
     "end_time": "2024-06-11T10:20:28.480420",
     "exception": false,
     "start_time": "2024-06-11T10:20:28.444301",
     "status": "completed"
    },
    "tags": []
   },
   "outputs": [
    {
     "data": {
      "text/plain": [
       "(20750, 300)"
      ]
     },
     "execution_count": 47,
     "metadata": {},
     "output_type": "execute_result"
    }
   ],
   "source": [
    "Vertical_acc.shape "
   ]
  },
  {
   "cell_type": "code",
   "execution_count": null,
   "id": "92ea7fb0",
   "metadata": {
    "papermill": {
     "duration": 0.027302,
     "end_time": "2024-06-11T10:20:28.534930",
     "exception": false,
     "start_time": "2024-06-11T10:20:28.507628",
     "status": "completed"
    },
    "tags": []
   },
   "outputs": [],
   "source": []
  },
  {
   "cell_type": "code",
   "execution_count": 48,
   "id": "362e0766",
   "metadata": {
    "execution": {
     "iopub.execute_input": "2024-06-11T10:20:28.590139Z",
     "iopub.status.busy": "2024-06-11T10:20:28.589440Z",
     "iopub.status.idle": "2024-06-11T10:20:28.711924Z",
     "shell.execute_reply": "2024-06-11T10:20:28.710933Z"
    },
    "papermill": {
     "duration": 0.152647,
     "end_time": "2024-06-11T10:20:28.714300",
     "exception": false,
     "start_time": "2024-06-11T10:20:28.561653",
     "status": "completed"
    },
    "tags": []
   },
   "outputs": [
    {
     "name": "stderr",
     "output_type": "stream",
     "text": [
      "/tmp/ipykernel_24/1459452111.py:1: RuntimeWarning: invalid value encountered in sqrt\n",
      "  Horizontal_acc= np.sqrt(np.square(acc_X) + np.square(acc_Y) + np.square(acc_Z) - np.square(Vertical_acc))\n"
     ]
    }
   ],
   "source": [
    "Horizontal_acc= np.sqrt(np.square(acc_X) + np.square(acc_Y) + np.square(acc_Z) - np.square(Vertical_acc))"
   ]
  },
  {
   "cell_type": "code",
   "execution_count": 49,
   "id": "fed5f4a2",
   "metadata": {
    "execution": {
     "iopub.execute_input": "2024-06-11T10:20:28.771722Z",
     "iopub.status.busy": "2024-06-11T10:20:28.771008Z",
     "iopub.status.idle": "2024-06-11T10:20:28.776675Z",
     "shell.execute_reply": "2024-06-11T10:20:28.775872Z"
    },
    "papermill": {
     "duration": 0.036909,
     "end_time": "2024-06-11T10:20:28.778969",
     "exception": false,
     "start_time": "2024-06-11T10:20:28.742060",
     "status": "completed"
    },
    "tags": []
   },
   "outputs": [
    {
     "data": {
      "text/plain": [
       "(20750, 300)"
      ]
     },
     "execution_count": 49,
     "metadata": {},
     "output_type": "execute_result"
    }
   ],
   "source": [
    "Horizontal_acc.shape"
   ]
  },
  {
   "cell_type": "code",
   "execution_count": 50,
   "id": "d00d5fe4",
   "metadata": {
    "execution": {
     "iopub.execute_input": "2024-06-11T10:20:28.835537Z",
     "iopub.status.busy": "2024-06-11T10:20:28.834755Z",
     "iopub.status.idle": "2024-06-11T10:20:28.856101Z",
     "shell.execute_reply": "2024-06-11T10:20:28.855294Z"
    },
    "papermill": {
     "duration": 0.052191,
     "end_time": "2024-06-11T10:20:28.858531",
     "exception": false,
     "start_time": "2024-06-11T10:20:28.806340",
     "status": "completed"
    },
    "tags": []
   },
   "outputs": [],
   "source": [
    "Horizontal_acc[np.isnan(Horizontal_acc)] = 0"
   ]
  },
  {
   "cell_type": "code",
   "execution_count": 51,
   "id": "8542f72b",
   "metadata": {
    "execution": {
     "iopub.execute_input": "2024-06-11T10:20:28.914339Z",
     "iopub.status.busy": "2024-06-11T10:20:28.913990Z",
     "iopub.status.idle": "2024-06-11T10:20:28.991194Z",
     "shell.execute_reply": "2024-06-11T10:20:28.990167Z"
    },
    "papermill": {
     "duration": 0.107516,
     "end_time": "2024-06-11T10:20:28.993659",
     "exception": false,
     "start_time": "2024-06-11T10:20:28.886143",
     "status": "completed"
    },
    "tags": []
   },
   "outputs": [],
   "source": [
    "Vertical_acc_mean=np.mean(Vertical_acc,axis=1)  \n",
    "Vertical_acc_std=np.std(Vertical_acc,axis=1)\n",
    "\n",
    "Horizontal_acc_mean=np.mean(Horizontal_acc,axis=1)  \n",
    "Horizontal_acc_std=np.std(Horizontal_acc,axis=1)"
   ]
  },
  {
   "cell_type": "code",
   "execution_count": 52,
   "id": "fdf26a24",
   "metadata": {
    "execution": {
     "iopub.execute_input": "2024-06-11T10:20:29.051474Z",
     "iopub.status.busy": "2024-06-11T10:20:29.050535Z",
     "iopub.status.idle": "2024-06-11T10:20:29.056274Z",
     "shell.execute_reply": "2024-06-11T10:20:29.055360Z"
    },
    "papermill": {
     "duration": 0.036763,
     "end_time": "2024-06-11T10:20:29.058320",
     "exception": false,
     "start_time": "2024-06-11T10:20:29.021557",
     "status": "completed"
    },
    "tags": []
   },
   "outputs": [
    {
     "name": "stdout",
     "output_type": "stream",
     "text": [
      "(20750,)\n",
      "(20750,)\n",
      "(20750,)\n",
      "(20750,)\n"
     ]
    }
   ],
   "source": [
    "print(Vertical_acc_mean.shape)\n",
    "print(Vertical_acc_std.shape)\n",
    "\n",
    "print(Horizontal_acc_mean.shape)\n",
    "print(Horizontal_acc_std.shape)\n"
   ]
  },
  {
   "cell_type": "code",
   "execution_count": 53,
   "id": "0c7a1602",
   "metadata": {
    "execution": {
     "iopub.execute_input": "2024-06-11T10:20:29.115506Z",
     "iopub.status.busy": "2024-06-11T10:20:29.114844Z",
     "iopub.status.idle": "2024-06-11T10:20:29.119941Z",
     "shell.execute_reply": "2024-06-11T10:20:29.119012Z"
    },
    "papermill": {
     "duration": 0.036176,
     "end_time": "2024-06-11T10:20:29.122350",
     "exception": false,
     "start_time": "2024-06-11T10:20:29.086174",
     "status": "completed"
    },
    "tags": []
   },
   "outputs": [],
   "source": [
    "Vertical_acc_mean=Vertical_acc_mean.reshape(20750,1)  \n",
    "Vertical_acc_std=Vertical_acc_std.reshape(20750,1)\n",
    "\n",
    "Horizontal_acc_mean=Horizontal_acc_mean.reshape(20750,1)  \n",
    "Horizontal_acc_std=Horizontal_acc_std.reshape(20750,1)"
   ]
  },
  {
   "cell_type": "code",
   "execution_count": 54,
   "id": "81359c12",
   "metadata": {
    "execution": {
     "iopub.execute_input": "2024-06-11T10:20:29.195094Z",
     "iopub.status.busy": "2024-06-11T10:20:29.194162Z",
     "iopub.status.idle": "2024-06-11T10:20:29.200680Z",
     "shell.execute_reply": "2024-06-11T10:20:29.199549Z"
    },
    "papermill": {
     "duration": 0.043739,
     "end_time": "2024-06-11T10:20:29.202763",
     "exception": false,
     "start_time": "2024-06-11T10:20:29.159024",
     "status": "completed"
    },
    "tags": []
   },
   "outputs": [
    {
     "name": "stdout",
     "output_type": "stream",
     "text": [
      "(20750, 1)\n",
      "(20750, 1)\n",
      "(20750, 1)\n",
      "(20750, 1)\n"
     ]
    }
   ],
   "source": [
    "print(Vertical_acc_mean.shape)  #f33\n",
    "print(Vertical_acc_std.shape)   #f34\n",
    "\n",
    "print(Horizontal_acc_mean.shape)  #f35\n",
    "print(Horizontal_acc_std.shape)   #f36"
   ]
  },
  {
   "cell_type": "code",
   "execution_count": 55,
   "id": "4441dc8e",
   "metadata": {
    "execution": {
     "iopub.execute_input": "2024-06-11T10:20:29.267003Z",
     "iopub.status.busy": "2024-06-11T10:20:29.266642Z",
     "iopub.status.idle": "2024-06-11T10:20:29.330247Z",
     "shell.execute_reply": "2024-06-11T10:20:29.329034Z"
    },
    "papermill": {
     "duration": 0.098899,
     "end_time": "2024-06-11T10:20:29.332788",
     "exception": false,
     "start_time": "2024-06-11T10:20:29.233889",
     "status": "completed"
    },
    "tags": []
   },
   "outputs": [],
   "source": [
    "import matplotlib.pyplot as plt\n",
    "from scipy import signal\n",
    "\n",
    "spectra_bx=np.zeros((20750,151))\n",
    "spectra_by=np.zeros((20750,151))\n",
    "spectra_bz=np.zeros((20750,151))\n",
    "\n",
    "freq_bx=np.zeros((20750,151))\n",
    "freq_by=np.zeros((20750,151))\n",
    "freq_bz=np.zeros((20750,151))"
   ]
  },
  {
   "cell_type": "code",
   "execution_count": 56,
   "id": "1ca519d0",
   "metadata": {
    "execution": {
     "iopub.execute_input": "2024-06-11T10:20:29.413054Z",
     "iopub.status.busy": "2024-06-11T10:20:29.412310Z",
     "iopub.status.idle": "2024-06-11T10:20:38.310568Z",
     "shell.execute_reply": "2024-06-11T10:20:38.309621Z"
    },
    "papermill": {
     "duration": 8.944749,
     "end_time": "2024-06-11T10:20:38.313146",
     "exception": false,
     "start_time": "2024-06-11T10:20:29.368397",
     "status": "completed"
    },
    "tags": []
   },
   "outputs": [],
   "source": [
    "for i in range(0,20750):\n",
    "    # The suitable value for fs would be 0.25 Hz as the time step is 4 s.\n",
    "    freq_bx[i], spectra_bx[i] = signal.periodogram(acc_X[i], fs=0.50)\n",
    "    \n",
    "\n",
    "    # The suitable value for fs would be 0.25 Hz as the time step is 4 s.\n",
    "    freq_by[i], spectra_by[i] = signal.periodogram(acc_Y[i], fs=0.50)\n",
    "\n",
    "\n",
    "    # The suitable value for fs would be 0.25 Hz as the time step is 4 s.\n",
    "    freq_bz[i], spectra_bz[i] = signal.periodogram(acc_Z[i], fs=0.50)\n"
   ]
  },
  {
   "cell_type": "code",
   "execution_count": 57,
   "id": "96cf6b10",
   "metadata": {
    "execution": {
     "iopub.execute_input": "2024-06-11T10:20:38.372143Z",
     "iopub.status.busy": "2024-06-11T10:20:38.371761Z",
     "iopub.status.idle": "2024-06-11T10:20:38.390560Z",
     "shell.execute_reply": "2024-06-11T10:20:38.389081Z"
    },
    "papermill": {
     "duration": 0.051617,
     "end_time": "2024-06-11T10:20:38.393716",
     "exception": false,
     "start_time": "2024-06-11T10:20:38.342099",
     "status": "completed"
    },
    "tags": []
   },
   "outputs": [],
   "source": [
    "# peak height in the power spectrum is an estimate of the RMS amplitude.\n",
    "ph_RMS_amp_bx = np.sqrt(np.amax(spectra_bx,axis=1))\n",
    "ph_RMS_amp_by = np.sqrt(np.amax(spectra_by,axis=1))\n",
    "ph_RMS_amp_bz = np.sqrt(np.amax(spectra_bz,axis=1))"
   ]
  },
  {
   "cell_type": "code",
   "execution_count": 58,
   "id": "e85f687e",
   "metadata": {
    "execution": {
     "iopub.execute_input": "2024-06-11T10:20:38.451933Z",
     "iopub.status.busy": "2024-06-11T10:20:38.451165Z",
     "iopub.status.idle": "2024-06-11T10:20:38.457154Z",
     "shell.execute_reply": "2024-06-11T10:20:38.456217Z"
    },
    "papermill": {
     "duration": 0.036835,
     "end_time": "2024-06-11T10:20:38.459251",
     "exception": false,
     "start_time": "2024-06-11T10:20:38.422416",
     "status": "completed"
    },
    "tags": []
   },
   "outputs": [
    {
     "data": {
      "text/plain": [
       "(20750,)"
      ]
     },
     "execution_count": 58,
     "metadata": {},
     "output_type": "execute_result"
    }
   ],
   "source": [
    "ph_RMS_amp_bx.shape"
   ]
  },
  {
   "cell_type": "code",
   "execution_count": 59,
   "id": "33f61ed6",
   "metadata": {
    "execution": {
     "iopub.execute_input": "2024-06-11T10:20:38.518853Z",
     "iopub.status.busy": "2024-06-11T10:20:38.518489Z",
     "iopub.status.idle": "2024-06-11T10:20:38.524457Z",
     "shell.execute_reply": "2024-06-11T10:20:38.523632Z"
    },
    "papermill": {
     "duration": 0.037451,
     "end_time": "2024-06-11T10:20:38.526378",
     "exception": false,
     "start_time": "2024-06-11T10:20:38.488927",
     "status": "completed"
    },
    "tags": []
   },
   "outputs": [],
   "source": [
    "spectra_gx=np.zeros((20750,151))\n",
    "spectra_gy=np.zeros((20750,151))\n",
    "spectra_gz=np.zeros((20750,151))\n",
    "\n",
    "freq_gx=np.zeros((20750,151))\n",
    "freq_gy=np.zeros((20750,151))\n",
    "freq_gz=np.zeros((20750,151))"
   ]
  },
  {
   "cell_type": "code",
   "execution_count": 60,
   "id": "26c3f341",
   "metadata": {
    "execution": {
     "iopub.execute_input": "2024-06-11T10:20:38.583848Z",
     "iopub.status.busy": "2024-06-11T10:20:38.583465Z",
     "iopub.status.idle": "2024-06-11T10:20:47.581578Z",
     "shell.execute_reply": "2024-06-11T10:20:47.580705Z"
    },
    "papermill": {
     "duration": 9.029497,
     "end_time": "2024-06-11T10:20:47.583851",
     "exception": false,
     "start_time": "2024-06-11T10:20:38.554354",
     "status": "completed"
    },
    "tags": []
   },
   "outputs": [],
   "source": [
    "for i in range(0,20750):\n",
    "    # The suitable value for fs would be 0.25 Hz as the time step is 4 s.\n",
    "    freq_gx[i], spectra_gx[i] = signal.periodogram(gyr_X[i], fs=0.50)\n",
    "    \n",
    "\n",
    "    # The suitable value for fs would be 0.25 Hz as the time step is 4 s.\n",
    "    freq_gy[i], spectra_gy[i] = signal.periodogram(gyr_Y[i], fs=0.50)\n",
    "\n",
    "\n",
    "    # The suitable value for fs would be 0.25 Hz as the time step is 4 s.\n",
    "    freq_gz[i], spectra_gz[i] = signal.periodogram(gyr_Z[i], fs=0.50)\n"
   ]
  },
  {
   "cell_type": "code",
   "execution_count": 61,
   "id": "a1e1ee17",
   "metadata": {
    "execution": {
     "iopub.execute_input": "2024-06-11T10:20:47.641793Z",
     "iopub.status.busy": "2024-06-11T10:20:47.641424Z",
     "iopub.status.idle": "2024-06-11T10:20:47.659865Z",
     "shell.execute_reply": "2024-06-11T10:20:47.658864Z"
    },
    "papermill": {
     "duration": 0.050369,
     "end_time": "2024-06-11T10:20:47.662240",
     "exception": false,
     "start_time": "2024-06-11T10:20:47.611871",
     "status": "completed"
    },
    "tags": []
   },
   "outputs": [],
   "source": [
    "# peak height in the power spectrum is an estimate of the RMS amplitude.\n",
    "ph_RMS_amp_gx = np.sqrt(np.amax(spectra_gx,axis=1))\n",
    "ph_RMS_amp_gy = np.sqrt(np.amax(spectra_gy,axis=1))\n",
    "ph_RMS_amp_gz = np.sqrt(np.amax(spectra_gz,axis=1))"
   ]
  },
  {
   "cell_type": "code",
   "execution_count": 62,
   "id": "d2945a2a",
   "metadata": {
    "execution": {
     "iopub.execute_input": "2024-06-11T10:20:47.719681Z",
     "iopub.status.busy": "2024-06-11T10:20:47.719320Z",
     "iopub.status.idle": "2024-06-11T10:20:47.725245Z",
     "shell.execute_reply": "2024-06-11T10:20:47.724303Z"
    },
    "papermill": {
     "duration": 0.037051,
     "end_time": "2024-06-11T10:20:47.727231",
     "exception": false,
     "start_time": "2024-06-11T10:20:47.690180",
     "status": "completed"
    },
    "tags": []
   },
   "outputs": [
    {
     "data": {
      "text/plain": [
       "(20750,)"
      ]
     },
     "execution_count": 62,
     "metadata": {},
     "output_type": "execute_result"
    }
   ],
   "source": [
    "ph_RMS_amp_gx.shape"
   ]
  },
  {
   "cell_type": "code",
   "execution_count": 63,
   "id": "cbde251c",
   "metadata": {
    "execution": {
     "iopub.execute_input": "2024-06-11T10:20:47.785658Z",
     "iopub.status.busy": "2024-06-11T10:20:47.784779Z",
     "iopub.status.idle": "2024-06-11T10:20:47.790668Z",
     "shell.execute_reply": "2024-06-11T10:20:47.789550Z"
    },
    "papermill": {
     "duration": 0.037014,
     "end_time": "2024-06-11T10:20:47.792759",
     "exception": false,
     "start_time": "2024-06-11T10:20:47.755745",
     "status": "completed"
    },
    "tags": []
   },
   "outputs": [],
   "source": [
    "ph_RMS_amp_bx = ph_RMS_amp_bx.reshape(20750,1)  #f37\n",
    "ph_RMS_amp_by = ph_RMS_amp_by.reshape(20750,1)  #f38\n",
    "ph_RMS_amp_bz = ph_RMS_amp_bz.reshape(20750,1)  #f39\n",
    "\n",
    "ph_RMS_amp_gx = ph_RMS_amp_gx.reshape(20750,1)  #f40\n",
    "ph_RMS_amp_gy = ph_RMS_amp_gy.reshape(20750,1)  #f41\n",
    "ph_RMS_amp_gz = ph_RMS_amp_gz.reshape(20750,1)  #f42"
   ]
  },
  {
   "cell_type": "code",
   "execution_count": 64,
   "id": "a699de27",
   "metadata": {
    "execution": {
     "iopub.execute_input": "2024-06-11T10:20:47.850408Z",
     "iopub.status.busy": "2024-06-11T10:20:47.849576Z",
     "iopub.status.idle": "2024-06-11T10:20:47.857170Z",
     "shell.execute_reply": "2024-06-11T10:20:47.856349Z"
    },
    "papermill": {
     "duration": 0.038628,
     "end_time": "2024-06-11T10:20:47.859232",
     "exception": false,
     "start_time": "2024-06-11T10:20:47.820604",
     "status": "completed"
    },
    "tags": []
   },
   "outputs": [],
   "source": [
    "q1_body_acc_x_train=np.zeros((20750,1))\n",
    "q3_body_acc_x_train=np.zeros((20750,1))\n",
    "\n",
    "q1_body_acc_y_train=np.zeros((20750,1))\n",
    "q3_body_acc_y_train=np.zeros((20750,1))\n",
    "\n",
    "q1_body_acc_z_train=np.zeros((20750,1))\n",
    "q3_body_acc_z_train=np.zeros((20750,1))\n",
    "\n",
    "q1_body_gyro_x_train=np.zeros((20750,1))\n",
    "q3_body_gyro_x_train=np.zeros((20750,1))\n",
    "\n",
    "q1_body_gyro_y_train=np.zeros((20750,1))\n",
    "q3_body_gyro_y_train=np.zeros((20750,1))\n",
    "\n",
    "q1_body_gyro_z_train=np.zeros((20750,1))\n",
    "q3_body_gyro_z_train=np.zeros((20750,1))"
   ]
  },
  {
   "cell_type": "code",
   "execution_count": 65,
   "id": "2f09b239",
   "metadata": {
    "execution": {
     "iopub.execute_input": "2024-06-11T10:20:47.915364Z",
     "iopub.status.busy": "2024-06-11T10:20:47.915064Z",
     "iopub.status.idle": "2024-06-11T10:21:18.200171Z",
     "shell.execute_reply": "2024-06-11T10:21:18.199316Z"
    },
    "papermill": {
     "duration": 30.315803,
     "end_time": "2024-06-11T10:21:18.202423",
     "exception": false,
     "start_time": "2024-06-11T10:20:47.886620",
     "status": "completed"
    },
    "tags": []
   },
   "outputs": [],
   "source": [
    "for i in range(0,20750):\n",
    "    q1_body_acc_x_train[i] = np.percentile(acc_X[i], 25)\n",
    "    q3_body_acc_x_train[i] = np.percentile(acc_X[i], 75)\n",
    "\n",
    "    q1_body_acc_y_train[i] = np.percentile(acc_Y[i], 25)\n",
    "    q3_body_acc_y_train[i] = np.percentile(acc_Y[i], 75)\n",
    "\n",
    "    q1_body_acc_z_train[i] = np.percentile(acc_Z[i], 25)\n",
    "    q3_body_acc_z_train[i] = np.percentile(acc_Z[i], 75)\n",
    "\n",
    "    q1_body_gyro_x_train[i] = np.percentile(gyr_X[i], 25)\n",
    "    q3_body_gyro_x_train[i] = np.percentile(gyr_X[i], 75)\n",
    "\n",
    "    q1_body_gyro_y_train[i] = np.percentile(gyr_Y[i], 25)\n",
    "    q3_body_gyro_y_train[i] = np.percentile(gyr_Y[i], 75)\n",
    "\n",
    "    q1_body_gyro_z_train[i] = np.percentile(gyr_Z[i], 25)\n",
    "    q3_body_gyro_z_train[i] = np.percentile(gyr_Z[i], 75)"
   ]
  },
  {
   "cell_type": "code",
   "execution_count": 66,
   "id": "fdd2fd67",
   "metadata": {
    "execution": {
     "iopub.execute_input": "2024-06-11T10:21:18.260156Z",
     "iopub.status.busy": "2024-06-11T10:21:18.259802Z",
     "iopub.status.idle": "2024-06-11T10:21:18.266750Z",
     "shell.execute_reply": "2024-06-11T10:21:18.265888Z"
    },
    "papermill": {
     "duration": 0.038676,
     "end_time": "2024-06-11T10:21:18.269446",
     "exception": false,
     "start_time": "2024-06-11T10:21:18.230770",
     "status": "completed"
    },
    "tags": []
   },
   "outputs": [
    {
     "name": "stdout",
     "output_type": "stream",
     "text": [
      "(20750, 1)\n",
      "(20750, 1)\n",
      "(20750, 1)\n",
      "(20750, 1)\n",
      "(20750, 1)\n",
      "(20750, 1)\n",
      "(20750, 1)\n",
      "(20750, 1)\n",
      "(20750, 1)\n",
      "(20750, 1)\n",
      "(20750, 1)\n",
      "(20750, 1)\n"
     ]
    }
   ],
   "source": [
    "print(q1_body_acc_x_train.shape) #f43\n",
    "print(q3_body_acc_x_train.shape) #f44\n",
    "print(q1_body_acc_y_train.shape) #f45\n",
    "print(q3_body_acc_y_train.shape) #f46\n",
    "print(q1_body_acc_z_train.shape) #f47\n",
    "print(q3_body_acc_z_train.shape) #f48\n",
    "print(q1_body_gyro_x_train.shape) #f49\n",
    "print(q3_body_gyro_x_train.shape) #f50\n",
    "print(q1_body_gyro_y_train.shape) #f51\n",
    "print(q3_body_gyro_y_train.shape) #f52\n",
    "print(q1_body_gyro_z_train.shape) #f53\n",
    "print(q3_body_gyro_z_train.shape) #f54"
   ]
  },
  {
   "cell_type": "code",
   "execution_count": 67,
   "id": "3f77c3a9",
   "metadata": {
    "execution": {
     "iopub.execute_input": "2024-06-11T10:21:18.326550Z",
     "iopub.status.busy": "2024-06-11T10:21:18.325918Z",
     "iopub.status.idle": "2024-06-11T10:21:18.331121Z",
     "shell.execute_reply": "2024-06-11T10:21:18.330323Z"
    },
    "papermill": {
     "duration": 0.035461,
     "end_time": "2024-06-11T10:21:18.332983",
     "exception": false,
     "start_time": "2024-06-11T10:21:18.297522",
     "status": "completed"
    },
    "tags": []
   },
   "outputs": [],
   "source": [
    "iqr_bx = q3_body_acc_x_train-q1_body_acc_x_train  #f55\n",
    "iqr_by = q3_body_acc_y_train-q1_body_acc_y_train  #f56\n",
    "iqr_bz = q3_body_acc_z_train-q1_body_acc_z_train  #f57\n",
    "\n",
    "iqr_gx = q3_body_gyro_x_train-q1_body_gyro_x_train #f58\n",
    "iqr_gy = q3_body_gyro_y_train-q1_body_gyro_y_train #f59\n",
    "iqr_gz = q3_body_gyro_z_train-q1_body_gyro_z_train #f60"
   ]
  },
  {
   "cell_type": "code",
   "execution_count": 68,
   "id": "d8c7a239",
   "metadata": {
    "execution": {
     "iopub.execute_input": "2024-06-11T10:21:18.391093Z",
     "iopub.status.busy": "2024-06-11T10:21:18.390399Z",
     "iopub.status.idle": "2024-06-11T10:21:18.396505Z",
     "shell.execute_reply": "2024-06-11T10:21:18.395546Z"
    },
    "papermill": {
     "duration": 0.037815,
     "end_time": "2024-06-11T10:21:18.398652",
     "exception": false,
     "start_time": "2024-06-11T10:21:18.360837",
     "status": "completed"
    },
    "tags": []
   },
   "outputs": [
    {
     "data": {
      "text/plain": [
       "(20750, 1)"
      ]
     },
     "execution_count": 68,
     "metadata": {},
     "output_type": "execute_result"
    }
   ],
   "source": [
    "iqr_bx.shape"
   ]
  },
  {
   "cell_type": "code",
   "execution_count": 69,
   "id": "56106339",
   "metadata": {
    "execution": {
     "iopub.execute_input": "2024-06-11T10:21:18.456786Z",
     "iopub.status.busy": "2024-06-11T10:21:18.456430Z",
     "iopub.status.idle": "2024-06-11T10:21:18.462322Z",
     "shell.execute_reply": "2024-06-11T10:21:18.461469Z"
    },
    "papermill": {
     "duration": 0.037324,
     "end_time": "2024-06-11T10:21:18.464193",
     "exception": false,
     "start_time": "2024-06-11T10:21:18.426869",
     "status": "completed"
    },
    "tags": []
   },
   "outputs": [],
   "source": [
    "quartile_dev_bx = (iqr_bx) / 2  #f61\n",
    "quartile_dev_by = (iqr_by) / 2  #f62\n",
    "quartile_dev_bz = (iqr_bz) / 2  #f63\n",
    "\n",
    "quartile_dev_gx = (iqr_gx) / 2  #f64\n",
    "quartile_dev_gy = (iqr_gy) / 2  #f65\n",
    "quartile_dev_gz = (iqr_gz) / 2  #f66\n"
   ]
  },
  {
   "cell_type": "code",
   "execution_count": 70,
   "id": "1ccb8d12",
   "metadata": {
    "execution": {
     "iopub.execute_input": "2024-06-11T10:21:18.521275Z",
     "iopub.status.busy": "2024-06-11T10:21:18.520929Z",
     "iopub.status.idle": "2024-06-11T10:22:34.447676Z",
     "shell.execute_reply": "2024-06-11T10:22:34.446730Z"
    },
    "papermill": {
     "duration": 75.958127,
     "end_time": "2024-06-11T10:22:34.450446",
     "exception": false,
     "start_time": "2024-06-11T10:21:18.492319",
     "status": "completed"
    },
    "tags": []
   },
   "outputs": [],
   "source": [
    "a_train_xs_skew=np.zeros((20750,1))\n",
    "a_train_ys_skew=np.zeros((20750,1))\n",
    "a_train_zs_skew=np.zeros((20750,1))\n",
    "g_train_xs_skew=np.zeros((20750,1))\n",
    "g_train_ys_skew=np.zeros((20750,1))\n",
    "g_train_zs_skew=np.zeros((20750,1))\n",
    "for i in range(0,20750):\n",
    "    a_train_xs_skew[i] = stats.skew(acc_X[i])\n",
    "    a_train_ys_skew[i] = stats.skew(acc_Y[i])\n",
    "    a_train_zs_skew[i] = stats.skew(acc_Z[i])\n",
    "    \n",
    "    g_train_xs_skew[i] = stats.skew(gyr_X[i])\n",
    "    g_train_ys_skew[i] = stats.skew(gyr_Y[i])\n",
    "    g_train_zs_skew[i] = stats.skew(gyr_Z[i])\n",
    "    "
   ]
  },
  {
   "cell_type": "code",
   "execution_count": 71,
   "id": "5aceb573",
   "metadata": {
    "execution": {
     "iopub.execute_input": "2024-06-11T10:22:34.509960Z",
     "iopub.status.busy": "2024-06-11T10:22:34.509580Z",
     "iopub.status.idle": "2024-06-11T10:22:34.515153Z",
     "shell.execute_reply": "2024-06-11T10:22:34.514271Z"
    },
    "papermill": {
     "duration": 0.036441,
     "end_time": "2024-06-11T10:22:34.517061",
     "exception": false,
     "start_time": "2024-06-11T10:22:34.480620",
     "status": "completed"
    },
    "tags": []
   },
   "outputs": [
    {
     "name": "stdout",
     "output_type": "stream",
     "text": [
      "(20750, 1)\n",
      "(20750, 1)\n",
      "(20750, 1)\n",
      "(20750, 1)\n",
      "(20750, 1)\n",
      "(20750, 1)\n"
     ]
    }
   ],
   "source": [
    "print(a_train_xs_skew.shape) #f67\n",
    "print(a_train_ys_skew.shape) #f68\n",
    "print(a_train_zs_skew.shape) #f69\n",
    "print(g_train_xs_skew.shape) #f70\n",
    "print(g_train_ys_skew.shape) #f71\n",
    "print(g_train_zs_skew.shape) #f72"
   ]
  },
  {
   "cell_type": "code",
   "execution_count": 72,
   "id": "8a5f8826",
   "metadata": {
    "execution": {
     "iopub.execute_input": "2024-06-11T10:22:34.574312Z",
     "iopub.status.busy": "2024-06-11T10:22:34.573977Z",
     "iopub.status.idle": "2024-06-11T10:23:49.937649Z",
     "shell.execute_reply": "2024-06-11T10:23:49.936834Z"
    },
    "papermill": {
     "duration": 75.395164,
     "end_time": "2024-06-11T10:23:49.940140",
     "exception": false,
     "start_time": "2024-06-11T10:22:34.544976",
     "status": "completed"
    },
    "tags": []
   },
   "outputs": [],
   "source": [
    "a_train_xs_kurtosis=np.zeros((20750,1))\n",
    "a_train_ys_kurtosis=np.zeros((20750,1))\n",
    "a_train_zs_kurtosis=np.zeros((20750,1))\n",
    "g_train_xs_kurtosis=np.zeros((20750,1))\n",
    "g_train_ys_kurtosis=np.zeros((20750,1))\n",
    "g_train_zs_kurtosis=np.zeros((20750,1))\n",
    "for i in range(0,20750):\n",
    "    a_train_xs_kurtosis[i] = stats.kurtosis(acc_X[i])\n",
    "    a_train_ys_kurtosis[i] = stats.kurtosis(acc_Y[i])\n",
    "    a_train_zs_kurtosis[i] = stats.kurtosis(acc_Z[i])\n",
    "    \n",
    "    g_train_xs_kurtosis[i] = stats.kurtosis(gyr_X[i])\n",
    "    g_train_ys_kurtosis[i] = stats.kurtosis(gyr_Y[i])\n",
    "    g_train_zs_kurtosis[i] = stats.kurtosis(gyr_Z[i])\n",
    "    "
   ]
  },
  {
   "cell_type": "code",
   "execution_count": 73,
   "id": "d1846613",
   "metadata": {
    "execution": {
     "iopub.execute_input": "2024-06-11T10:23:49.999759Z",
     "iopub.status.busy": "2024-06-11T10:23:49.998990Z",
     "iopub.status.idle": "2024-06-11T10:23:50.004965Z",
     "shell.execute_reply": "2024-06-11T10:23:50.003986Z"
    },
    "papermill": {
     "duration": 0.038295,
     "end_time": "2024-06-11T10:23:50.007526",
     "exception": false,
     "start_time": "2024-06-11T10:23:49.969231",
     "status": "completed"
    },
    "tags": []
   },
   "outputs": [
    {
     "name": "stdout",
     "output_type": "stream",
     "text": [
      "(20750, 1)\n",
      "(20750, 1)\n",
      "(20750, 1)\n",
      "(20750, 1)\n",
      "(20750, 1)\n",
      "(20750, 1)\n"
     ]
    }
   ],
   "source": [
    "print(a_train_xs_kurtosis.shape) #f73\n",
    "print(a_train_ys_kurtosis.shape) #f74\n",
    "print(a_train_zs_kurtosis.shape) #f75\n",
    "print(g_train_xs_kurtosis.shape) #f76\n",
    "print(g_train_ys_kurtosis.shape) #f77\n",
    "print(g_train_zs_kurtosis.shape) #f78"
   ]
  },
  {
   "cell_type": "code",
   "execution_count": 74,
   "id": "70791e98",
   "metadata": {
    "execution": {
     "iopub.execute_input": "2024-06-11T10:23:50.066961Z",
     "iopub.status.busy": "2024-06-11T10:23:50.066193Z",
     "iopub.status.idle": "2024-06-11T10:23:52.250192Z",
     "shell.execute_reply": "2024-06-11T10:23:52.249395Z"
    },
    "papermill": {
     "duration": 2.21622,
     "end_time": "2024-06-11T10:23:52.252418",
     "exception": false,
     "start_time": "2024-06-11T10:23:50.036198",
     "status": "completed"
    },
    "tags": []
   },
   "outputs": [],
   "source": [
    "a_train_xs_find_peaks=np.zeros((20750,1))\n",
    "a_train_ys_find_peaks=np.zeros((20750,1))\n",
    "a_train_zs_find_peaks=np.zeros((20750,1))\n",
    "g_train_xs_find_peaks=np.zeros((20750,1))\n",
    "g_train_ys_find_peaks=np.zeros((20750,1))\n",
    "g_train_zs_find_peaks=np.zeros((20750,1))\n",
    "for i in range(0,20750):\n",
    "    a_train_xs_find_peaks[i] = len(signal.find_peaks(acc_X[i]))\n",
    "    a_train_ys_find_peaks[i] = len(signal.find_peaks(acc_Y[i]))\n",
    "    a_train_zs_find_peaks[i] = len(signal.find_peaks(acc_Z[i]))\n",
    "    g_train_xs_find_peaks[i] = len(signal.find_peaks(gyr_X[i]))\n",
    "    g_train_ys_find_peaks[i] = len(signal.find_peaks(gyr_Y[i]))\n",
    "    g_train_zs_find_peaks[i] = len(signal.find_peaks(gyr_Z[i]))"
   ]
  },
  {
   "cell_type": "code",
   "execution_count": 75,
   "id": "943953f4",
   "metadata": {
    "execution": {
     "iopub.execute_input": "2024-06-11T10:23:52.311227Z",
     "iopub.status.busy": "2024-06-11T10:23:52.310399Z",
     "iopub.status.idle": "2024-06-11T10:23:52.316440Z",
     "shell.execute_reply": "2024-06-11T10:23:52.315575Z"
    },
    "papermill": {
     "duration": 0.037838,
     "end_time": "2024-06-11T10:23:52.318598",
     "exception": false,
     "start_time": "2024-06-11T10:23:52.280760",
     "status": "completed"
    },
    "tags": []
   },
   "outputs": [
    {
     "name": "stdout",
     "output_type": "stream",
     "text": [
      "(20750, 1)\n",
      "(20750, 1)\n",
      "(20750, 1)\n",
      "(20750, 1)\n",
      "(20750, 1)\n",
      "(20750, 1)\n"
     ]
    }
   ],
   "source": [
    "print(a_train_xs_find_peaks.shape) #f79\n",
    "print(a_train_xs_find_peaks.shape) #f80\n",
    "print(a_train_xs_find_peaks.shape) #f81\n",
    "print(g_train_xs_find_peaks.shape) #f82\n",
    "print(g_train_xs_find_peaks.shape) #f83\n",
    "print(g_train_xs_find_peaks.shape) #f84"
   ]
  },
  {
   "cell_type": "code",
   "execution_count": null,
   "id": "c058fde6",
   "metadata": {
    "papermill": {
     "duration": 0.028466,
     "end_time": "2024-06-11T10:23:52.375927",
     "exception": false,
     "start_time": "2024-06-11T10:23:52.347461",
     "status": "completed"
    },
    "tags": []
   },
   "outputs": [],
   "source": []
  },
  {
   "cell_type": "code",
   "execution_count": 76,
   "id": "1e68b2c8",
   "metadata": {
    "execution": {
     "iopub.execute_input": "2024-06-11T10:23:52.434097Z",
     "iopub.status.busy": "2024-06-11T10:23:52.433219Z",
     "iopub.status.idle": "2024-06-11T10:23:52.455035Z",
     "shell.execute_reply": "2024-06-11T10:23:52.454293Z"
    },
    "papermill": {
     "duration": 0.052888,
     "end_time": "2024-06-11T10:23:52.457220",
     "exception": false,
     "start_time": "2024-06-11T10:23:52.404332",
     "status": "completed"
    },
    "tags": []
   },
   "outputs": [],
   "source": [
    "feature_vector=np.concatenate([body_acc_x_train_mean,body_acc_y_train_mean,body_acc_z_train_mean,\n",
    "                              body_gyro_x_train_mean,body_gyro_y_train_mean,body_gyro_z_train_mean,\n",
    "                              \n",
    "                              acc_mag_mean,acc_mag_std,\n",
    "                              thetax_mean,thetax_std,thetay_mean,thetay_std,thetaz_mean,thetaz_std,\n",
    "                              absmeanx_mean,absmeanx_std,absmeany_mean,absmeany_std,absmeanz_mean,absmeanz_std,\n",
    "                              body_acc_x_train_mad,body_acc_y_train_mad,body_acc_z_train_mad,\n",
    "                              body_gyro_x_train_mad,body_gyro_y_train_mad,body_gyro_z_train_mad,\n",
    "                              \n",
    "                              body_acc_x_train_std,body_acc_y_train_std,body_acc_z_train_std,\n",
    "                              body_gyro_x_train_std,body_gyro_y_train_std,body_gyro_z_train_std,\n",
    "                              a_train_xs_skew,a_train_ys_skew,a_train_zs_skew,\n",
    "                              g_train_xs_skew,g_train_ys_skew,g_train_zs_skew,\n",
    "                               a_train_xs_kurtosis,a_train_ys_kurtosis,a_train_zs_kurtosis,\n",
    "                              g_train_xs_kurtosis,g_train_ys_kurtosis,g_train_zs_kurtosis,\n",
    "                               a_train_xs_find_peaks,a_train_ys_find_peaks,a_train_zs_find_peaks,\n",
    "                               g_train_xs_find_peaks,g_train_ys_find_peaks,g_train_zs_find_peaks,\n",
    "                               \n",
    "                              Vertical_acc_mean,Vertical_acc_std,Horizontal_acc_mean,Horizontal_acc_std,\n",
    "                              ph_RMS_amp_bx,ph_RMS_amp_by,ph_RMS_amp_bz,\n",
    "                              ph_RMS_amp_gx,ph_RMS_amp_gy,ph_RMS_amp_gz,\n",
    "                              \n",
    "                              q1_body_acc_x_train,q1_body_acc_y_train,q1_body_acc_z_train,\n",
    "                              q1_body_gyro_x_train,q1_body_gyro_y_train,q1_body_gyro_z_train,\n",
    "                              \n",
    "                              q3_body_acc_x_train,q3_body_acc_y_train,q3_body_acc_z_train,\n",
    "                              q3_body_gyro_x_train,q3_body_gyro_y_train,q3_body_gyro_z_train,\n",
    "                              \n",
    "                              iqr_bx,iqr_by,iqr_bz,\n",
    "                              iqr_gx,iqr_gy,iqr_gz,\n",
    "                              \n",
    "                              quartile_dev_bx,quartile_dev_by,quartile_dev_bz,\n",
    "                              quartile_dev_gx,quartile_dev_gy,quartile_dev_gz,\n",
    "                              ],axis=1)"
   ]
  },
  {
   "cell_type": "code",
   "execution_count": 77,
   "id": "dd1d71a6",
   "metadata": {
    "execution": {
     "iopub.execute_input": "2024-06-11T10:23:52.516393Z",
     "iopub.status.busy": "2024-06-11T10:23:52.515554Z",
     "iopub.status.idle": "2024-06-11T10:23:52.521473Z",
     "shell.execute_reply": "2024-06-11T10:23:52.520615Z"
    },
    "papermill": {
     "duration": 0.036644,
     "end_time": "2024-06-11T10:23:52.523354",
     "exception": false,
     "start_time": "2024-06-11T10:23:52.486710",
     "status": "completed"
    },
    "tags": []
   },
   "outputs": [
    {
     "data": {
      "text/plain": [
       "(20750, 84)"
      ]
     },
     "execution_count": 77,
     "metadata": {},
     "output_type": "execute_result"
    }
   ],
   "source": [
    "feature_vector.shape"
   ]
  },
  {
   "cell_type": "code",
   "execution_count": 78,
   "id": "0196c1d5",
   "metadata": {
    "execution": {
     "iopub.execute_input": "2024-06-11T10:23:52.580125Z",
     "iopub.status.busy": "2024-06-11T10:23:52.579562Z",
     "iopub.status.idle": "2024-06-11T10:23:52.585724Z",
     "shell.execute_reply": "2024-06-11T10:23:52.584699Z"
    },
    "papermill": {
     "duration": 0.036633,
     "end_time": "2024-06-11T10:23:52.587724",
     "exception": false,
     "start_time": "2024-06-11T10:23:52.551091",
     "status": "completed"
    },
    "tags": []
   },
   "outputs": [],
   "source": [
    "train_X=np.zeros((20750, 84))"
   ]
  },
  {
   "cell_type": "code",
   "execution_count": 79,
   "id": "58aed161",
   "metadata": {
    "execution": {
     "iopub.execute_input": "2024-06-11T10:23:52.646694Z",
     "iopub.status.busy": "2024-06-11T10:23:52.645814Z",
     "iopub.status.idle": "2024-06-11T10:23:53.367477Z",
     "shell.execute_reply": "2024-06-11T10:23:53.366643Z"
    },
    "papermill": {
     "duration": 0.753469,
     "end_time": "2024-06-11T10:23:53.369809",
     "exception": false,
     "start_time": "2024-06-11T10:23:52.616340",
     "status": "completed"
    },
    "tags": []
   },
   "outputs": [],
   "source": [
    "for i in range(0,20750):\n",
    "    train_X[i]= (feature_vector[i] - np.amax(feature_vector[i]) + (feature_vector[i] - np.amin(feature_vector[i])))/(np.amax(feature_vector[i])-np.amin(feature_vector[i]))"
   ]
  },
  {
   "cell_type": "code",
   "execution_count": 80,
   "id": "f2af3c5a",
   "metadata": {
    "execution": {
     "iopub.execute_input": "2024-06-11T10:23:53.428522Z",
     "iopub.status.busy": "2024-06-11T10:23:53.427717Z",
     "iopub.status.idle": "2024-06-11T10:23:53.433423Z",
     "shell.execute_reply": "2024-06-11T10:23:53.432575Z"
    },
    "papermill": {
     "duration": 0.036644,
     "end_time": "2024-06-11T10:23:53.435359",
     "exception": false,
     "start_time": "2024-06-11T10:23:53.398715",
     "status": "completed"
    },
    "tags": []
   },
   "outputs": [
    {
     "data": {
      "text/plain": [
       "(20750, 84)"
      ]
     },
     "execution_count": 80,
     "metadata": {},
     "output_type": "execute_result"
    }
   ],
   "source": [
    "train_X.shape"
   ]
  },
  {
   "cell_type": "code",
   "execution_count": 81,
   "id": "25b2e15a",
   "metadata": {
    "execution": {
     "iopub.execute_input": "2024-06-11T10:23:53.494106Z",
     "iopub.status.busy": "2024-06-11T10:23:53.493722Z",
     "iopub.status.idle": "2024-06-11T10:23:53.501497Z",
     "shell.execute_reply": "2024-06-11T10:23:53.500746Z"
    },
    "papermill": {
     "duration": 0.039639,
     "end_time": "2024-06-11T10:23:53.503440",
     "exception": false,
     "start_time": "2024-06-11T10:23:53.463801",
     "status": "completed"
    },
    "tags": []
   },
   "outputs": [],
   "source": [
    "phitrain_X=np.arccos(train_X)"
   ]
  },
  {
   "cell_type": "code",
   "execution_count": 82,
   "id": "b433ac53",
   "metadata": {
    "execution": {
     "iopub.execute_input": "2024-06-11T10:23:53.561280Z",
     "iopub.status.busy": "2024-06-11T10:23:53.560624Z",
     "iopub.status.idle": "2024-06-11T10:23:53.566377Z",
     "shell.execute_reply": "2024-06-11T10:23:53.565563Z"
    },
    "papermill": {
     "duration": 0.036256,
     "end_time": "2024-06-11T10:23:53.568221",
     "exception": false,
     "start_time": "2024-06-11T10:23:53.531965",
     "status": "completed"
    },
    "tags": []
   },
   "outputs": [
    {
     "data": {
      "text/plain": [
       "(20750, 84)"
      ]
     },
     "execution_count": 82,
     "metadata": {},
     "output_type": "execute_result"
    }
   ],
   "source": [
    "phitrain_X.shape"
   ]
  },
  {
   "cell_type": "code",
   "execution_count": 83,
   "id": "68076ac5",
   "metadata": {
    "execution": {
     "iopub.execute_input": "2024-06-11T10:23:53.627003Z",
     "iopub.status.busy": "2024-06-11T10:23:53.626241Z",
     "iopub.status.idle": "2024-06-11T10:23:53.632242Z",
     "shell.execute_reply": "2024-06-11T10:23:53.631210Z"
    },
    "papermill": {
     "duration": 0.037651,
     "end_time": "2024-06-11T10:23:53.634320",
     "exception": false,
     "start_time": "2024-06-11T10:23:53.596669",
     "status": "completed"
    },
    "tags": []
   },
   "outputs": [],
   "source": [
    "import math\n",
    "import matplotlib.pyplot as plot\n",
    "def cos_sum(phi_X):\n",
    "    gasf=np.zeros((84,84))\n",
    "    for i in range(0,84):\n",
    "        for j in range(0,84):\n",
    "            gasf[i][j]= math.cos(phi_X[i]+phi_X[j])\n",
    "    return gasf"
   ]
  },
  {
   "cell_type": "code",
   "execution_count": 84,
   "id": "0a754382",
   "metadata": {
    "execution": {
     "iopub.execute_input": "2024-06-11T10:23:53.694007Z",
     "iopub.status.busy": "2024-06-11T10:23:53.693625Z",
     "iopub.status.idle": "2024-06-11T11:47:12.223813Z",
     "shell.execute_reply": "2024-06-11T11:47:12.222889Z"
    },
    "papermill": {
     "duration": 4998.591851,
     "end_time": "2024-06-11T11:47:12.255315",
     "exception": false,
     "start_time": "2024-06-11T10:23:53.663464",
     "status": "completed"
    },
    "tags": []
   },
   "outputs": [
    {
     "data": {
      "image/png": "[encoded data removed]",
      "text/plain": [
       "<Figure size 640x480 with 1 Axes>"
      ]
     },
     "metadata": {},
     "output_type": "display_data"
    }
   ],
   "source": [
    "for i in range(20000,20750):\n",
    "    gasf=cos_sum(phitrain_X[i])\n",
    "    plot.imshow(gasf)\n",
    "    plot.axis('off')\n",
    "    plot.savefig(str(i)+\".png\",bbox_inches='tight', pad_inches=0)\n",
    "    #plot.show()"
   ]
  },
  {
   "cell_type": "code",
   "execution_count": null,
   "id": "6d6d7da3",
   "metadata": {
    "papermill": {
     "duration": 0.027644,
     "end_time": "2024-06-11T11:47:12.310795",
     "exception": false,
     "start_time": "2024-06-11T11:47:12.283151",
     "status": "completed"
    },
    "tags": []
   },
   "outputs": [],
   "source": []
  }
 ],
 "metadata": {
  "kaggle": {
   "accelerator": "gpu",
   "dataSources": [
    {
     "datasetId": 5171862,
     "sourceId": 8636688,
     "sourceType": "datasetVersion"
    }
   ],
   "dockerImageVersionId": 30732,
   "isGpuEnabled": true,
   "isInternetEnabled": true,
   "language": "python",
   "sourceType": "notebook"
  },
  "kernelspec": {
   "display_name": "Python 3",
   "language": "python",
   "name": "python3"
  },
  "language_info": {
   "codemirror_mode": {
    "name": "ipython",
    "version": 3
   },
   "file_extension": ".py",
   "mimetype": "text/x-python",
   "name": "python",
   "nbconvert_exporter": "python",
   "pygments_lexer": "ipython3",
   "version": "3.10.13"
  },
  "papermill": {
   "default_parameters": {},
   "duration": 5232.078195,
   "end_time": "2024-06-11T11:47:13.168848",
   "environment_variables": {},
   "exception": null,
   "input_path": "__notebook__.ipynb",
   "output_path": "__notebook__.ipynb",
   "parameters": {},
   "start_time": "2024-06-11T10:20:01.090653",
   "version": "2.5.0"
  }
 },
 "nbformat": 4,
 "nbformat_minor": 5
}
